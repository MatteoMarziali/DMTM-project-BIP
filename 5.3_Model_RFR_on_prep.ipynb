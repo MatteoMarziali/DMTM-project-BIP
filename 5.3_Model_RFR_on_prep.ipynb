{
 "cells": [
  {
   "cell_type": "markdown",
   "metadata": {},
   "source": [
    "# Random Forest Regression"
   ]
  },
  {
   "cell_type": "code",
   "execution_count": null,
   "metadata": {},
   "outputs": [],
   "source": [
    "# reoder variables to work on train or test dataset\n",
    "predict_for_submission = True\n",
    "predict_for_submission = False"
   ]
  },
  {
   "cell_type": "code",
   "execution_count": null,
   "metadata": {
    "_cell_guid": "b9000568-0a4d-8bbc-0f59-12b581bfb150"
   },
   "outputs": [],
   "source": [
    "import numpy as np \n",
    "import pandas as pd\n",
    "import matplotlib.pyplot as plt\n",
    "import seaborn as sns\n",
    "\n",
    "%matplotlib inline\n",
    "plt.style.use('ggplot')\n",
    "plt.rcParams['figure.figsize'] = (15, 6)\n",
    "plt.rcParams['figure.figsize'] = [20.0,8.0]\n",
    "plt.rcParams['figure.dpi']=80"
   ]
  },
  {
   "cell_type": "markdown",
   "metadata": {},
   "source": [
    "Loading dataset:"
   ]
  },
  {
   "cell_type": "code",
   "execution_count": 3,
   "metadata": {
    "_cell_guid": "da09e07b-fdfc-30b1-dfff-ad7dc625d15a"
   },
   "outputs": [
    {
     "name": "stdout",
     "output_type": "stream",
     "text": [
      "Dataset has been loaded correctly\n"
     ]
    }
   ],
   "source": [
    "df = pd.read_csv('dataset/preprocessed_train_PCA.csv')\n",
    "\n",
    "if predict_for_submission:\n",
    "    df_test = pd.read_csv('dataset/preprocessed_test_PCA.csv')\n",
    "\n",
    "print('Dataset has been loaded correctly')"
   ]
  },
  {
   "cell_type": "code",
   "execution_count": 4,
   "metadata": {},
   "outputs": [
    {
     "name": "stdout",
     "output_type": "stream",
     "text": [
      "(examples,columns)\n"
     ]
    },
    {
     "data": {
      "text/plain": [
       "(433958, 49)"
      ]
     },
     "execution_count": 4,
     "metadata": {},
     "output_type": "execute_result"
    }
   ],
   "source": [
    "print('(examples,columns)')\n",
    "df.shape"
   ]
  },
  {
   "cell_type": "markdown",
   "metadata": {},
   "source": [
    "selecting useful features:"
   ]
  },
  {
   "cell_type": "code",
   "execution_count": 5,
   "metadata": {},
   "outputs": [
    {
     "name": "stdout",
     "output_type": "stream",
     "text": [
      "Since we do not have NumberOfCustomers attribute in the test set, we drop it.\n"
     ]
    }
   ],
   "source": [
    "df = df.drop(['NumberOfCustomers'], axis=1)\n",
    "print('Since we do not have NumberOfCustomers attribute in the test set, we drop it.')"
   ]
  },
  {
   "cell_type": "code",
   "execution_count": 6,
   "metadata": {},
   "outputs": [
    {
     "name": "stdout",
     "output_type": "stream",
     "text": [
      "Categorical attributes are dropped because we consider for the analysis the \"One Hot Encoding\" version.\n"
     ]
    }
   ],
   "source": [
    "print('Categorical attributes are dropped because we consider for the analysis the \"One Hot Encoding\" version.')\n",
    "df = df.drop(['Unnamed: 0','StoreType','AssortmentType','Events'], axis=1)"
   ]
  },
  {
   "cell_type": "markdown",
   "metadata": {},
   "source": [
    "### Attributes kept:"
   ]
  },
  {
   "cell_type": "code",
   "execution_count": 7,
   "metadata": {
    "_cell_guid": "6872b7e5-8b37-6aa9-033c-a03dd5647974"
   },
   "outputs": [
    {
     "data": {
      "text/html": [
       "<div>\n",
       "<style scoped>\n",
       "    .dataframe tbody tr th:only-of-type {\n",
       "        vertical-align: middle;\n",
       "    }\n",
       "\n",
       "    .dataframe tbody tr th {\n",
       "        vertical-align: top;\n",
       "    }\n",
       "\n",
       "    .dataframe thead th {\n",
       "        text-align: right;\n",
       "    }\n",
       "</style>\n",
       "<table border=\"1\" class=\"dataframe\">\n",
       "  <thead>\n",
       "    <tr style=\"text-align: right;\">\n",
       "      <th></th>\n",
       "      <th>0</th>\n",
       "      <th>1</th>\n",
       "      <th>2</th>\n",
       "      <th>3</th>\n",
       "      <th>4</th>\n",
       "    </tr>\n",
       "  </thead>\n",
       "  <tbody>\n",
       "    <tr>\n",
       "      <th>StoreID</th>\n",
       "      <td>1000</td>\n",
       "      <td>1000</td>\n",
       "      <td>1000</td>\n",
       "      <td>1000</td>\n",
       "      <td>1000</td>\n",
       "    </tr>\n",
       "    <tr>\n",
       "      <th>Date</th>\n",
       "      <td>01/03/2016</td>\n",
       "      <td>02/03/2016</td>\n",
       "      <td>04/03/2016</td>\n",
       "      <td>05/03/2016</td>\n",
       "      <td>07/03/2016</td>\n",
       "    </tr>\n",
       "    <tr>\n",
       "      <th>IsHoliday</th>\n",
       "      <td>0</td>\n",
       "      <td>0</td>\n",
       "      <td>0</td>\n",
       "      <td>0</td>\n",
       "      <td>0</td>\n",
       "    </tr>\n",
       "    <tr>\n",
       "      <th>HasPromotions</th>\n",
       "      <td>0</td>\n",
       "      <td>0</td>\n",
       "      <td>0</td>\n",
       "      <td>0</td>\n",
       "      <td>1</td>\n",
       "    </tr>\n",
       "    <tr>\n",
       "      <th>NearestCompetitor</th>\n",
       "      <td>326</td>\n",
       "      <td>326</td>\n",
       "      <td>326</td>\n",
       "      <td>326</td>\n",
       "      <td>326</td>\n",
       "    </tr>\n",
       "    <tr>\n",
       "      <th>Region</th>\n",
       "      <td>7</td>\n",
       "      <td>7</td>\n",
       "      <td>7</td>\n",
       "      <td>7</td>\n",
       "      <td>7</td>\n",
       "    </tr>\n",
       "    <tr>\n",
       "      <th>NumberOfSales</th>\n",
       "      <td>5676</td>\n",
       "      <td>8111</td>\n",
       "      <td>8300</td>\n",
       "      <td>7154</td>\n",
       "      <td>10110</td>\n",
       "    </tr>\n",
       "    <tr>\n",
       "      <th>Region_AreaKM2</th>\n",
       "      <td>9643</td>\n",
       "      <td>9643</td>\n",
       "      <td>9643</td>\n",
       "      <td>9643</td>\n",
       "      <td>9643</td>\n",
       "    </tr>\n",
       "    <tr>\n",
       "      <th>Region_GDP</th>\n",
       "      <td>17130</td>\n",
       "      <td>17130</td>\n",
       "      <td>17130</td>\n",
       "      <td>17130</td>\n",
       "      <td>17130</td>\n",
       "    </tr>\n",
       "    <tr>\n",
       "      <th>Region_PopulationK</th>\n",
       "      <td>2770</td>\n",
       "      <td>2770</td>\n",
       "      <td>2770</td>\n",
       "      <td>2770</td>\n",
       "      <td>2770</td>\n",
       "    </tr>\n",
       "    <tr>\n",
       "      <th>CloudCover</th>\n",
       "      <td>8</td>\n",
       "      <td>8</td>\n",
       "      <td>8</td>\n",
       "      <td>6</td>\n",
       "      <td>0</td>\n",
       "    </tr>\n",
       "    <tr>\n",
       "      <th>Max_VisibilityKm</th>\n",
       "      <td>0</td>\n",
       "      <td>1</td>\n",
       "      <td>2</td>\n",
       "      <td>3</td>\n",
       "      <td>5</td>\n",
       "    </tr>\n",
       "    <tr>\n",
       "      <th>Min_VisibilitykM</th>\n",
       "      <td>0</td>\n",
       "      <td>1</td>\n",
       "      <td>2</td>\n",
       "      <td>3</td>\n",
       "      <td>5</td>\n",
       "    </tr>\n",
       "    <tr>\n",
       "      <th>WindDirDegrees</th>\n",
       "      <td>23</td>\n",
       "      <td>56</td>\n",
       "      <td>22</td>\n",
       "      <td>108</td>\n",
       "      <td>68</td>\n",
       "    </tr>\n",
       "    <tr>\n",
       "      <th>D_Day</th>\n",
       "      <td>1</td>\n",
       "      <td>2</td>\n",
       "      <td>4</td>\n",
       "      <td>5</td>\n",
       "      <td>7</td>\n",
       "    </tr>\n",
       "    <tr>\n",
       "      <th>D_DayOfYear</th>\n",
       "      <td>61</td>\n",
       "      <td>62</td>\n",
       "      <td>64</td>\n",
       "      <td>65</td>\n",
       "      <td>67</td>\n",
       "    </tr>\n",
       "    <tr>\n",
       "      <th>D_Month</th>\n",
       "      <td>3</td>\n",
       "      <td>3</td>\n",
       "      <td>3</td>\n",
       "      <td>3</td>\n",
       "      <td>3</td>\n",
       "    </tr>\n",
       "    <tr>\n",
       "      <th>D_Year</th>\n",
       "      <td>2016</td>\n",
       "      <td>2016</td>\n",
       "      <td>2016</td>\n",
       "      <td>2016</td>\n",
       "      <td>2016</td>\n",
       "    </tr>\n",
       "    <tr>\n",
       "      <th>D_DayOfweek</th>\n",
       "      <td>1</td>\n",
       "      <td>2</td>\n",
       "      <td>4</td>\n",
       "      <td>5</td>\n",
       "      <td>0</td>\n",
       "    </tr>\n",
       "    <tr>\n",
       "      <th>StoreType_SuperMarket</th>\n",
       "      <td>0</td>\n",
       "      <td>0</td>\n",
       "      <td>0</td>\n",
       "      <td>0</td>\n",
       "      <td>0</td>\n",
       "    </tr>\n",
       "    <tr>\n",
       "      <th>StoreType_HyperMarket</th>\n",
       "      <td>1</td>\n",
       "      <td>1</td>\n",
       "      <td>1</td>\n",
       "      <td>1</td>\n",
       "      <td>1</td>\n",
       "    </tr>\n",
       "    <tr>\n",
       "      <th>StoreType_StandardMarket</th>\n",
       "      <td>0</td>\n",
       "      <td>0</td>\n",
       "      <td>0</td>\n",
       "      <td>0</td>\n",
       "      <td>0</td>\n",
       "    </tr>\n",
       "    <tr>\n",
       "      <th>StoreType_ShoppingCenter</th>\n",
       "      <td>0</td>\n",
       "      <td>0</td>\n",
       "      <td>0</td>\n",
       "      <td>0</td>\n",
       "      <td>0</td>\n",
       "    </tr>\n",
       "    <tr>\n",
       "      <th>AssortmentType_General</th>\n",
       "      <td>1</td>\n",
       "      <td>1</td>\n",
       "      <td>1</td>\n",
       "      <td>1</td>\n",
       "      <td>1</td>\n",
       "    </tr>\n",
       "    <tr>\n",
       "      <th>AssortmentType_WithNFDept</th>\n",
       "      <td>0</td>\n",
       "      <td>0</td>\n",
       "      <td>0</td>\n",
       "      <td>0</td>\n",
       "      <td>0</td>\n",
       "    </tr>\n",
       "    <tr>\n",
       "      <th>AssortmentType_WithFishDept</th>\n",
       "      <td>0</td>\n",
       "      <td>0</td>\n",
       "      <td>0</td>\n",
       "      <td>0</td>\n",
       "      <td>0</td>\n",
       "    </tr>\n",
       "    <tr>\n",
       "      <th>MeanStoreSales</th>\n",
       "      <td>7675.45</td>\n",
       "      <td>7675.45</td>\n",
       "      <td>7675.45</td>\n",
       "      <td>7675.45</td>\n",
       "      <td>7675.45</td>\n",
       "    </tr>\n",
       "    <tr>\n",
       "      <th>MeanRegionSales</th>\n",
       "      <td>4702.75</td>\n",
       "      <td>4702.75</td>\n",
       "      <td>4702.75</td>\n",
       "      <td>4702.75</td>\n",
       "      <td>4702.75</td>\n",
       "    </tr>\n",
       "    <tr>\n",
       "      <th>MeanCustomers</th>\n",
       "      <td>622.769</td>\n",
       "      <td>622.769</td>\n",
       "      <td>622.769</td>\n",
       "      <td>622.769</td>\n",
       "      <td>622.769</td>\n",
       "    </tr>\n",
       "    <tr>\n",
       "      <th>MeanRegionCustomers</th>\n",
       "      <td>284.209</td>\n",
       "      <td>284.209</td>\n",
       "      <td>284.209</td>\n",
       "      <td>284.209</td>\n",
       "      <td>284.209</td>\n",
       "    </tr>\n",
       "    <tr>\n",
       "      <th>D_DayOfWeek_cos</th>\n",
       "      <td>0.62349</td>\n",
       "      <td>-0.222521</td>\n",
       "      <td>-0.900969</td>\n",
       "      <td>-0.222521</td>\n",
       "      <td>1</td>\n",
       "    </tr>\n",
       "    <tr>\n",
       "      <th>D_DayOfWeek_sin</th>\n",
       "      <td>0.781831</td>\n",
       "      <td>0.974928</td>\n",
       "      <td>-0.433884</td>\n",
       "      <td>-0.974928</td>\n",
       "      <td>0</td>\n",
       "    </tr>\n",
       "    <tr>\n",
       "      <th>p1</th>\n",
       "      <td>0.00425629</td>\n",
       "      <td>0.00422468</td>\n",
       "      <td>0.00237329</td>\n",
       "      <td>0.00320657</td>\n",
       "      <td>0.00285877</td>\n",
       "    </tr>\n",
       "    <tr>\n",
       "      <th>p2</th>\n",
       "      <td>0.00154936</td>\n",
       "      <td>0.000940836</td>\n",
       "      <td>-0.000136043</td>\n",
       "      <td>-0.000662229</td>\n",
       "      <td>-0.000641729</td>\n",
       "    </tr>\n",
       "    <tr>\n",
       "      <th>p3</th>\n",
       "      <td>-0.000927558</td>\n",
       "      <td>-0.000571551</td>\n",
       "      <td>-0.000509862</td>\n",
       "      <td>-0.00030174</td>\n",
       "      <td>-0.000269208</td>\n",
       "    </tr>\n",
       "    <tr>\n",
       "      <th>p4</th>\n",
       "      <td>-0.000821497</td>\n",
       "      <td>-0.000465082</td>\n",
       "      <td>-0.000580462</td>\n",
       "      <td>-0.000274646</td>\n",
       "      <td>-0.000334135</td>\n",
       "    </tr>\n",
       "    <tr>\n",
       "      <th>p5</th>\n",
       "      <td>-0.00214105</td>\n",
       "      <td>-0.00235451</td>\n",
       "      <td>0.00034894</td>\n",
       "      <td>0.000192978</td>\n",
       "      <td>0.000172421</td>\n",
       "    </tr>\n",
       "    <tr>\n",
       "      <th>p6</th>\n",
       "      <td>0.00283579</td>\n",
       "      <td>0.0030048</td>\n",
       "      <td>-0.0013321</td>\n",
       "      <td>-0.00162543</td>\n",
       "      <td>-0.00150475</td>\n",
       "    </tr>\n",
       "    <tr>\n",
       "      <th>p7</th>\n",
       "      <td>-0.000841282</td>\n",
       "      <td>0.0011314</td>\n",
       "      <td>-0.000546456</td>\n",
       "      <td>0.00156633</td>\n",
       "      <td>0.00145105</td>\n",
       "    </tr>\n",
       "    <tr>\n",
       "      <th>p8</th>\n",
       "      <td>-0.00126257</td>\n",
       "      <td>-0.0013011</td>\n",
       "      <td>-0.00142825</td>\n",
       "      <td>-0.00127609</td>\n",
       "      <td>-0.00121912</td>\n",
       "    </tr>\n",
       "    <tr>\n",
       "      <th>p9</th>\n",
       "      <td>0.000317707</td>\n",
       "      <td>0.000109359</td>\n",
       "      <td>-0.000133767</td>\n",
       "      <td>0.000276833</td>\n",
       "      <td>0.000466138</td>\n",
       "    </tr>\n",
       "    <tr>\n",
       "      <th>p10</th>\n",
       "      <td>-0.000180133</td>\n",
       "      <td>0.000119514</td>\n",
       "      <td>-0.000553912</td>\n",
       "      <td>-0.000603093</td>\n",
       "      <td>-0.00039263</td>\n",
       "    </tr>\n",
       "    <tr>\n",
       "      <th>p11</th>\n",
       "      <td>-0.000370796</td>\n",
       "      <td>-0.000311714</td>\n",
       "      <td>-0.000371522</td>\n",
       "      <td>-0.00036691</td>\n",
       "      <td>4.80187e-05</td>\n",
       "    </tr>\n",
       "    <tr>\n",
       "      <th>p12</th>\n",
       "      <td>-5.28508e-05</td>\n",
       "      <td>0.000173987</td>\n",
       "      <td>0.000442728</td>\n",
       "      <td>0.000272485</td>\n",
       "      <td>0.000329571</td>\n",
       "    </tr>\n",
       "  </tbody>\n",
       "</table>\n",
       "</div>"
      ],
      "text/plain": [
       "                                       0            1            2  \\\n",
       "StoreID                             1000         1000         1000   \n",
       "Date                          01/03/2016   02/03/2016   04/03/2016   \n",
       "IsHoliday                              0            0            0   \n",
       "HasPromotions                          0            0            0   \n",
       "NearestCompetitor                    326          326          326   \n",
       "Region                                 7            7            7   \n",
       "NumberOfSales                       5676         8111         8300   \n",
       "Region_AreaKM2                      9643         9643         9643   \n",
       "Region_GDP                         17130        17130        17130   \n",
       "Region_PopulationK                  2770         2770         2770   \n",
       "CloudCover                             8            8            8   \n",
       "Max_VisibilityKm                       0            1            2   \n",
       "Min_VisibilitykM                       0            1            2   \n",
       "WindDirDegrees                        23           56           22   \n",
       "D_Day                                  1            2            4   \n",
       "D_DayOfYear                           61           62           64   \n",
       "D_Month                                3            3            3   \n",
       "D_Year                              2016         2016         2016   \n",
       "D_DayOfweek                            1            2            4   \n",
       "StoreType_SuperMarket                  0            0            0   \n",
       "StoreType_HyperMarket                  1            1            1   \n",
       "StoreType_StandardMarket               0            0            0   \n",
       "StoreType_ShoppingCenter               0            0            0   \n",
       "AssortmentType_General                 1            1            1   \n",
       "AssortmentType_WithNFDept              0            0            0   \n",
       "AssortmentType_WithFishDept            0            0            0   \n",
       "MeanStoreSales                   7675.45      7675.45      7675.45   \n",
       "MeanRegionSales                  4702.75      4702.75      4702.75   \n",
       "MeanCustomers                    622.769      622.769      622.769   \n",
       "MeanRegionCustomers              284.209      284.209      284.209   \n",
       "D_DayOfWeek_cos                  0.62349    -0.222521    -0.900969   \n",
       "D_DayOfWeek_sin                 0.781831     0.974928    -0.433884   \n",
       "p1                            0.00425629   0.00422468   0.00237329   \n",
       "p2                            0.00154936  0.000940836 -0.000136043   \n",
       "p3                          -0.000927558 -0.000571551 -0.000509862   \n",
       "p4                          -0.000821497 -0.000465082 -0.000580462   \n",
       "p5                           -0.00214105  -0.00235451   0.00034894   \n",
       "p6                            0.00283579    0.0030048   -0.0013321   \n",
       "p7                          -0.000841282    0.0011314 -0.000546456   \n",
       "p8                           -0.00126257   -0.0013011  -0.00142825   \n",
       "p9                           0.000317707  0.000109359 -0.000133767   \n",
       "p10                         -0.000180133  0.000119514 -0.000553912   \n",
       "p11                         -0.000370796 -0.000311714 -0.000371522   \n",
       "p12                         -5.28508e-05  0.000173987  0.000442728   \n",
       "\n",
       "                                       3            4  \n",
       "StoreID                             1000         1000  \n",
       "Date                          05/03/2016   07/03/2016  \n",
       "IsHoliday                              0            0  \n",
       "HasPromotions                          0            1  \n",
       "NearestCompetitor                    326          326  \n",
       "Region                                 7            7  \n",
       "NumberOfSales                       7154        10110  \n",
       "Region_AreaKM2                      9643         9643  \n",
       "Region_GDP                         17130        17130  \n",
       "Region_PopulationK                  2770         2770  \n",
       "CloudCover                             6            0  \n",
       "Max_VisibilityKm                       3            5  \n",
       "Min_VisibilitykM                       3            5  \n",
       "WindDirDegrees                       108           68  \n",
       "D_Day                                  5            7  \n",
       "D_DayOfYear                           65           67  \n",
       "D_Month                                3            3  \n",
       "D_Year                              2016         2016  \n",
       "D_DayOfweek                            5            0  \n",
       "StoreType_SuperMarket                  0            0  \n",
       "StoreType_HyperMarket                  1            1  \n",
       "StoreType_StandardMarket               0            0  \n",
       "StoreType_ShoppingCenter               0            0  \n",
       "AssortmentType_General                 1            1  \n",
       "AssortmentType_WithNFDept              0            0  \n",
       "AssortmentType_WithFishDept            0            0  \n",
       "MeanStoreSales                   7675.45      7675.45  \n",
       "MeanRegionSales                  4702.75      4702.75  \n",
       "MeanCustomers                    622.769      622.769  \n",
       "MeanRegionCustomers              284.209      284.209  \n",
       "D_DayOfWeek_cos                -0.222521            1  \n",
       "D_DayOfWeek_sin                -0.974928            0  \n",
       "p1                            0.00320657   0.00285877  \n",
       "p2                          -0.000662229 -0.000641729  \n",
       "p3                           -0.00030174 -0.000269208  \n",
       "p4                          -0.000274646 -0.000334135  \n",
       "p5                           0.000192978  0.000172421  \n",
       "p6                           -0.00162543  -0.00150475  \n",
       "p7                            0.00156633   0.00145105  \n",
       "p8                           -0.00127609  -0.00121912  \n",
       "p9                           0.000276833  0.000466138  \n",
       "p10                         -0.000603093  -0.00039263  \n",
       "p11                          -0.00036691  4.80187e-05  \n",
       "p12                          0.000272485  0.000329571  "
      ]
     },
     "execution_count": 7,
     "metadata": {},
     "output_type": "execute_result"
    }
   ],
   "source": [
    "df.head().T"
   ]
  },
  {
   "cell_type": "markdown",
   "metadata": {},
   "source": [
    "The attributes identified by \"px\" where x goes from 1 to 12 are the components obtained performing PCA on several attributes. \n",
    "You can check the whole PCA notebook looking at \"3.4_Prepr_train_PCA\"."
   ]
  },
  {
   "cell_type": "code",
   "execution_count": 8,
   "metadata": {
    "_cell_guid": "c419d49f-961e-6b70-b7a9-2e1cf1298b9e"
   },
   "outputs": [],
   "source": [
    "from sklearn.model_selection import train_test_split\n",
    "from sklearn.model_selection import cross_val_score\n",
    "from sklearn.model_selection import GridSearchCV\n",
    "from sklearn.model_selection import validation_curve"
   ]
  },
  {
   "cell_type": "markdown",
   "metadata": {},
   "source": [
    "Loading train and test set:"
   ]
  },
  {
   "cell_type": "code",
   "execution_count": 9,
   "metadata": {},
   "outputs": [
    {
     "name": "stdout",
     "output_type": "stream",
     "text": [
      "df.shape     (433958, 44)\n",
      "train.shape  (397047, 44)\n",
      "test.shape   (36911, 44)\n"
     ]
    }
   ],
   "source": [
    "import modify_dataset as md\n",
    "\n",
    "if predict_for_submission:\n",
    "    train = df\n",
    "    test = df_test\n",
    "else:\n",
    "    test_months = (1, 2)\n",
    "    test_year = 2018\n",
    "\n",
    "    train = md.get_fake_train(df, test_months, test_year)\n",
    "    test = md.get_fake_test(df, test_months, test_year)\n",
    "\n",
    "print('df.shape    ', df.shape)\n",
    "print('train.shape ', train.shape)\n",
    "print('test.shape  ', test.shape)\n",
    "\n",
    "y_train = train['NumberOfSales']\n",
    "y_test = test['NumberOfSales']"
   ]
  },
  {
   "cell_type": "markdown",
   "metadata": {},
   "source": [
    "# Feature selection on the train set:"
   ]
  },
  {
   "cell_type": "code",
   "execution_count": 10,
   "metadata": {},
   "outputs": [
    {
     "name": "stdout",
     "output_type": "stream",
     "text": [
      "features\n",
      "['IsHoliday', 'HasPromotions', 'NearestCompetitor', 'Region', 'Region_AreaKM2', 'Region_GDP', 'Region_PopulationK', 'CloudCover', 'WindDirDegrees', 'D_Day', 'D_DayOfYear', 'D_Month', 'D_Year', 'StoreType_SuperMarket', 'StoreType_HyperMarket', 'StoreType_StandardMarket', 'StoreType_ShoppingCenter', 'AssortmentType_General', 'AssortmentType_WithNFDept', 'AssortmentType_WithFishDept', 'MeanStoreSales', 'MeanRegionSales', 'MeanCustomers', 'MeanRegionCustomers', 'D_DayOfWeek_cos', 'D_DayOfWeek_sin', 'p1', 'p2', 'p3', 'p4', 'p5', 'p6', 'p7', 'p8', 'p9', 'p10', 'p11', 'p12']\n"
     ]
    }
   ],
   "source": [
    "features = list(train.columns.values)\n",
    "features.remove('NumberOfSales')\n",
    "features.remove('StoreID')\n",
    "#features.remove('D_Year')\n",
    "features.remove('Date')\n",
    "features.remove('D_DayOfweek')\n",
    "features.remove('Min_VisibilitykM')\n",
    "features.remove('Max_VisibilityKm')\n",
    "#features.remove('AssortmentType_WithFishDept')\n",
    "#features.remove('StoreType_StandardMarket')\n",
    "#features.remove('AssortmentType_General')\n",
    "#features.remove('IsHoliday')\n",
    "#features.remove('CloudCover')\n",
    "#features.remove('AssortmentType_WithNFDept')\n",
    "#features.remove('StoreType_SuperMarket')\n",
    "print(\"features\")\n",
    "\n",
    "print(features)"
   ]
  },
  {
   "cell_type": "code",
   "execution_count": 11,
   "metadata": {},
   "outputs": [
    {
     "data": {
      "text/plain": [
       "(397047, 44)"
      ]
     },
     "execution_count": 11,
     "metadata": {},
     "output_type": "execute_result"
    }
   ],
   "source": [
    "train.shape"
   ]
  },
  {
   "cell_type": "code",
   "execution_count": 12,
   "metadata": {},
   "outputs": [
    {
     "data": {
      "text/html": [
       "<div>\n",
       "<style scoped>\n",
       "    .dataframe tbody tr th:only-of-type {\n",
       "        vertical-align: middle;\n",
       "    }\n",
       "\n",
       "    .dataframe tbody tr th {\n",
       "        vertical-align: top;\n",
       "    }\n",
       "\n",
       "    .dataframe thead th {\n",
       "        text-align: right;\n",
       "    }\n",
       "</style>\n",
       "<table border=\"1\" class=\"dataframe\">\n",
       "  <thead>\n",
       "    <tr style=\"text-align: right;\">\n",
       "      <th></th>\n",
       "      <th>0</th>\n",
       "      <th>1</th>\n",
       "      <th>2</th>\n",
       "      <th>3</th>\n",
       "      <th>4</th>\n",
       "    </tr>\n",
       "  </thead>\n",
       "  <tbody>\n",
       "    <tr>\n",
       "      <th>IsHoliday</th>\n",
       "      <td>0.000000</td>\n",
       "      <td>0.000000</td>\n",
       "      <td>0.000000</td>\n",
       "      <td>0.000000</td>\n",
       "      <td>0.000000</td>\n",
       "    </tr>\n",
       "    <tr>\n",
       "      <th>HasPromotions</th>\n",
       "      <td>0.000000</td>\n",
       "      <td>0.000000</td>\n",
       "      <td>0.000000</td>\n",
       "      <td>0.000000</td>\n",
       "      <td>1.000000</td>\n",
       "    </tr>\n",
       "    <tr>\n",
       "      <th>NearestCompetitor</th>\n",
       "      <td>326.000000</td>\n",
       "      <td>326.000000</td>\n",
       "      <td>326.000000</td>\n",
       "      <td>326.000000</td>\n",
       "      <td>326.000000</td>\n",
       "    </tr>\n",
       "    <tr>\n",
       "      <th>Region</th>\n",
       "      <td>7.000000</td>\n",
       "      <td>7.000000</td>\n",
       "      <td>7.000000</td>\n",
       "      <td>7.000000</td>\n",
       "      <td>7.000000</td>\n",
       "    </tr>\n",
       "    <tr>\n",
       "      <th>Region_AreaKM2</th>\n",
       "      <td>9643.000000</td>\n",
       "      <td>9643.000000</td>\n",
       "      <td>9643.000000</td>\n",
       "      <td>9643.000000</td>\n",
       "      <td>9643.000000</td>\n",
       "    </tr>\n",
       "    <tr>\n",
       "      <th>Region_GDP</th>\n",
       "      <td>17130.000000</td>\n",
       "      <td>17130.000000</td>\n",
       "      <td>17130.000000</td>\n",
       "      <td>17130.000000</td>\n",
       "      <td>17130.000000</td>\n",
       "    </tr>\n",
       "    <tr>\n",
       "      <th>Region_PopulationK</th>\n",
       "      <td>2770.000000</td>\n",
       "      <td>2770.000000</td>\n",
       "      <td>2770.000000</td>\n",
       "      <td>2770.000000</td>\n",
       "      <td>2770.000000</td>\n",
       "    </tr>\n",
       "    <tr>\n",
       "      <th>CloudCover</th>\n",
       "      <td>8.000000</td>\n",
       "      <td>8.000000</td>\n",
       "      <td>8.000000</td>\n",
       "      <td>6.000000</td>\n",
       "      <td>0.000000</td>\n",
       "    </tr>\n",
       "    <tr>\n",
       "      <th>WindDirDegrees</th>\n",
       "      <td>23.000000</td>\n",
       "      <td>56.000000</td>\n",
       "      <td>22.000000</td>\n",
       "      <td>108.000000</td>\n",
       "      <td>68.000000</td>\n",
       "    </tr>\n",
       "    <tr>\n",
       "      <th>D_Day</th>\n",
       "      <td>1.000000</td>\n",
       "      <td>2.000000</td>\n",
       "      <td>4.000000</td>\n",
       "      <td>5.000000</td>\n",
       "      <td>7.000000</td>\n",
       "    </tr>\n",
       "    <tr>\n",
       "      <th>D_DayOfYear</th>\n",
       "      <td>61.000000</td>\n",
       "      <td>62.000000</td>\n",
       "      <td>64.000000</td>\n",
       "      <td>65.000000</td>\n",
       "      <td>67.000000</td>\n",
       "    </tr>\n",
       "    <tr>\n",
       "      <th>D_Month</th>\n",
       "      <td>3.000000</td>\n",
       "      <td>3.000000</td>\n",
       "      <td>3.000000</td>\n",
       "      <td>3.000000</td>\n",
       "      <td>3.000000</td>\n",
       "    </tr>\n",
       "    <tr>\n",
       "      <th>D_Year</th>\n",
       "      <td>2016.000000</td>\n",
       "      <td>2016.000000</td>\n",
       "      <td>2016.000000</td>\n",
       "      <td>2016.000000</td>\n",
       "      <td>2016.000000</td>\n",
       "    </tr>\n",
       "    <tr>\n",
       "      <th>StoreType_SuperMarket</th>\n",
       "      <td>0.000000</td>\n",
       "      <td>0.000000</td>\n",
       "      <td>0.000000</td>\n",
       "      <td>0.000000</td>\n",
       "      <td>0.000000</td>\n",
       "    </tr>\n",
       "    <tr>\n",
       "      <th>StoreType_HyperMarket</th>\n",
       "      <td>1.000000</td>\n",
       "      <td>1.000000</td>\n",
       "      <td>1.000000</td>\n",
       "      <td>1.000000</td>\n",
       "      <td>1.000000</td>\n",
       "    </tr>\n",
       "    <tr>\n",
       "      <th>StoreType_StandardMarket</th>\n",
       "      <td>0.000000</td>\n",
       "      <td>0.000000</td>\n",
       "      <td>0.000000</td>\n",
       "      <td>0.000000</td>\n",
       "      <td>0.000000</td>\n",
       "    </tr>\n",
       "    <tr>\n",
       "      <th>StoreType_ShoppingCenter</th>\n",
       "      <td>0.000000</td>\n",
       "      <td>0.000000</td>\n",
       "      <td>0.000000</td>\n",
       "      <td>0.000000</td>\n",
       "      <td>0.000000</td>\n",
       "    </tr>\n",
       "    <tr>\n",
       "      <th>AssortmentType_General</th>\n",
       "      <td>1.000000</td>\n",
       "      <td>1.000000</td>\n",
       "      <td>1.000000</td>\n",
       "      <td>1.000000</td>\n",
       "      <td>1.000000</td>\n",
       "    </tr>\n",
       "    <tr>\n",
       "      <th>AssortmentType_WithNFDept</th>\n",
       "      <td>0.000000</td>\n",
       "      <td>0.000000</td>\n",
       "      <td>0.000000</td>\n",
       "      <td>0.000000</td>\n",
       "      <td>0.000000</td>\n",
       "    </tr>\n",
       "    <tr>\n",
       "      <th>AssortmentType_WithFishDept</th>\n",
       "      <td>0.000000</td>\n",
       "      <td>0.000000</td>\n",
       "      <td>0.000000</td>\n",
       "      <td>0.000000</td>\n",
       "      <td>0.000000</td>\n",
       "    </tr>\n",
       "    <tr>\n",
       "      <th>MeanStoreSales</th>\n",
       "      <td>7675.446488</td>\n",
       "      <td>7675.446488</td>\n",
       "      <td>7675.446488</td>\n",
       "      <td>7675.446488</td>\n",
       "      <td>7675.446488</td>\n",
       "    </tr>\n",
       "    <tr>\n",
       "      <th>MeanRegionSales</th>\n",
       "      <td>4702.749381</td>\n",
       "      <td>4702.749381</td>\n",
       "      <td>4702.749381</td>\n",
       "      <td>4702.749381</td>\n",
       "      <td>4702.749381</td>\n",
       "    </tr>\n",
       "    <tr>\n",
       "      <th>MeanCustomers</th>\n",
       "      <td>622.769231</td>\n",
       "      <td>622.769231</td>\n",
       "      <td>622.769231</td>\n",
       "      <td>622.769231</td>\n",
       "      <td>622.769231</td>\n",
       "    </tr>\n",
       "    <tr>\n",
       "      <th>MeanRegionCustomers</th>\n",
       "      <td>284.209173</td>\n",
       "      <td>284.209173</td>\n",
       "      <td>284.209173</td>\n",
       "      <td>284.209173</td>\n",
       "      <td>284.209173</td>\n",
       "    </tr>\n",
       "    <tr>\n",
       "      <th>D_DayOfWeek_cos</th>\n",
       "      <td>0.623490</td>\n",
       "      <td>-0.222521</td>\n",
       "      <td>-0.900969</td>\n",
       "      <td>-0.222521</td>\n",
       "      <td>1.000000</td>\n",
       "    </tr>\n",
       "    <tr>\n",
       "      <th>D_DayOfWeek_sin</th>\n",
       "      <td>0.781831</td>\n",
       "      <td>0.974928</td>\n",
       "      <td>-0.433884</td>\n",
       "      <td>-0.974928</td>\n",
       "      <td>0.000000</td>\n",
       "    </tr>\n",
       "    <tr>\n",
       "      <th>p1</th>\n",
       "      <td>0.004256</td>\n",
       "      <td>0.004225</td>\n",
       "      <td>0.002373</td>\n",
       "      <td>0.003207</td>\n",
       "      <td>0.002859</td>\n",
       "    </tr>\n",
       "    <tr>\n",
       "      <th>p2</th>\n",
       "      <td>0.001549</td>\n",
       "      <td>0.000941</td>\n",
       "      <td>-0.000136</td>\n",
       "      <td>-0.000662</td>\n",
       "      <td>-0.000642</td>\n",
       "    </tr>\n",
       "    <tr>\n",
       "      <th>p3</th>\n",
       "      <td>-0.000928</td>\n",
       "      <td>-0.000572</td>\n",
       "      <td>-0.000510</td>\n",
       "      <td>-0.000302</td>\n",
       "      <td>-0.000269</td>\n",
       "    </tr>\n",
       "    <tr>\n",
       "      <th>p4</th>\n",
       "      <td>-0.000821</td>\n",
       "      <td>-0.000465</td>\n",
       "      <td>-0.000580</td>\n",
       "      <td>-0.000275</td>\n",
       "      <td>-0.000334</td>\n",
       "    </tr>\n",
       "    <tr>\n",
       "      <th>p5</th>\n",
       "      <td>-0.002141</td>\n",
       "      <td>-0.002355</td>\n",
       "      <td>0.000349</td>\n",
       "      <td>0.000193</td>\n",
       "      <td>0.000172</td>\n",
       "    </tr>\n",
       "    <tr>\n",
       "      <th>p6</th>\n",
       "      <td>0.002836</td>\n",
       "      <td>0.003005</td>\n",
       "      <td>-0.001332</td>\n",
       "      <td>-0.001625</td>\n",
       "      <td>-0.001505</td>\n",
       "    </tr>\n",
       "    <tr>\n",
       "      <th>p7</th>\n",
       "      <td>-0.000841</td>\n",
       "      <td>0.001131</td>\n",
       "      <td>-0.000546</td>\n",
       "      <td>0.001566</td>\n",
       "      <td>0.001451</td>\n",
       "    </tr>\n",
       "    <tr>\n",
       "      <th>p8</th>\n",
       "      <td>-0.001263</td>\n",
       "      <td>-0.001301</td>\n",
       "      <td>-0.001428</td>\n",
       "      <td>-0.001276</td>\n",
       "      <td>-0.001219</td>\n",
       "    </tr>\n",
       "    <tr>\n",
       "      <th>p9</th>\n",
       "      <td>0.000318</td>\n",
       "      <td>0.000109</td>\n",
       "      <td>-0.000134</td>\n",
       "      <td>0.000277</td>\n",
       "      <td>0.000466</td>\n",
       "    </tr>\n",
       "    <tr>\n",
       "      <th>p10</th>\n",
       "      <td>-0.000180</td>\n",
       "      <td>0.000120</td>\n",
       "      <td>-0.000554</td>\n",
       "      <td>-0.000603</td>\n",
       "      <td>-0.000393</td>\n",
       "    </tr>\n",
       "    <tr>\n",
       "      <th>p11</th>\n",
       "      <td>-0.000371</td>\n",
       "      <td>-0.000312</td>\n",
       "      <td>-0.000372</td>\n",
       "      <td>-0.000367</td>\n",
       "      <td>0.000048</td>\n",
       "    </tr>\n",
       "    <tr>\n",
       "      <th>p12</th>\n",
       "      <td>-0.000053</td>\n",
       "      <td>0.000174</td>\n",
       "      <td>0.000443</td>\n",
       "      <td>0.000272</td>\n",
       "      <td>0.000330</td>\n",
       "    </tr>\n",
       "  </tbody>\n",
       "</table>\n",
       "</div>"
      ],
      "text/plain": [
       "                                        0             1             2  \\\n",
       "IsHoliday                        0.000000      0.000000      0.000000   \n",
       "HasPromotions                    0.000000      0.000000      0.000000   \n",
       "NearestCompetitor              326.000000    326.000000    326.000000   \n",
       "Region                           7.000000      7.000000      7.000000   \n",
       "Region_AreaKM2                9643.000000   9643.000000   9643.000000   \n",
       "Region_GDP                   17130.000000  17130.000000  17130.000000   \n",
       "Region_PopulationK            2770.000000   2770.000000   2770.000000   \n",
       "CloudCover                       8.000000      8.000000      8.000000   \n",
       "WindDirDegrees                  23.000000     56.000000     22.000000   \n",
       "D_Day                            1.000000      2.000000      4.000000   \n",
       "D_DayOfYear                     61.000000     62.000000     64.000000   \n",
       "D_Month                          3.000000      3.000000      3.000000   \n",
       "D_Year                        2016.000000   2016.000000   2016.000000   \n",
       "StoreType_SuperMarket            0.000000      0.000000      0.000000   \n",
       "StoreType_HyperMarket            1.000000      1.000000      1.000000   \n",
       "StoreType_StandardMarket         0.000000      0.000000      0.000000   \n",
       "StoreType_ShoppingCenter         0.000000      0.000000      0.000000   \n",
       "AssortmentType_General           1.000000      1.000000      1.000000   \n",
       "AssortmentType_WithNFDept        0.000000      0.000000      0.000000   \n",
       "AssortmentType_WithFishDept      0.000000      0.000000      0.000000   \n",
       "MeanStoreSales                7675.446488   7675.446488   7675.446488   \n",
       "MeanRegionSales               4702.749381   4702.749381   4702.749381   \n",
       "MeanCustomers                  622.769231    622.769231    622.769231   \n",
       "MeanRegionCustomers            284.209173    284.209173    284.209173   \n",
       "D_DayOfWeek_cos                  0.623490     -0.222521     -0.900969   \n",
       "D_DayOfWeek_sin                  0.781831      0.974928     -0.433884   \n",
       "p1                               0.004256      0.004225      0.002373   \n",
       "p2                               0.001549      0.000941     -0.000136   \n",
       "p3                              -0.000928     -0.000572     -0.000510   \n",
       "p4                              -0.000821     -0.000465     -0.000580   \n",
       "p5                              -0.002141     -0.002355      0.000349   \n",
       "p6                               0.002836      0.003005     -0.001332   \n",
       "p7                              -0.000841      0.001131     -0.000546   \n",
       "p8                              -0.001263     -0.001301     -0.001428   \n",
       "p9                               0.000318      0.000109     -0.000134   \n",
       "p10                             -0.000180      0.000120     -0.000554   \n",
       "p11                             -0.000371     -0.000312     -0.000372   \n",
       "p12                             -0.000053      0.000174      0.000443   \n",
       "\n",
       "                                        3             4  \n",
       "IsHoliday                        0.000000      0.000000  \n",
       "HasPromotions                    0.000000      1.000000  \n",
       "NearestCompetitor              326.000000    326.000000  \n",
       "Region                           7.000000      7.000000  \n",
       "Region_AreaKM2                9643.000000   9643.000000  \n",
       "Region_GDP                   17130.000000  17130.000000  \n",
       "Region_PopulationK            2770.000000   2770.000000  \n",
       "CloudCover                       6.000000      0.000000  \n",
       "WindDirDegrees                 108.000000     68.000000  \n",
       "D_Day                            5.000000      7.000000  \n",
       "D_DayOfYear                     65.000000     67.000000  \n",
       "D_Month                          3.000000      3.000000  \n",
       "D_Year                        2016.000000   2016.000000  \n",
       "StoreType_SuperMarket            0.000000      0.000000  \n",
       "StoreType_HyperMarket            1.000000      1.000000  \n",
       "StoreType_StandardMarket         0.000000      0.000000  \n",
       "StoreType_ShoppingCenter         0.000000      0.000000  \n",
       "AssortmentType_General           1.000000      1.000000  \n",
       "AssortmentType_WithNFDept        0.000000      0.000000  \n",
       "AssortmentType_WithFishDept      0.000000      0.000000  \n",
       "MeanStoreSales                7675.446488   7675.446488  \n",
       "MeanRegionSales               4702.749381   4702.749381  \n",
       "MeanCustomers                  622.769231    622.769231  \n",
       "MeanRegionCustomers            284.209173    284.209173  \n",
       "D_DayOfWeek_cos                 -0.222521      1.000000  \n",
       "D_DayOfWeek_sin                 -0.974928      0.000000  \n",
       "p1                               0.003207      0.002859  \n",
       "p2                              -0.000662     -0.000642  \n",
       "p3                              -0.000302     -0.000269  \n",
       "p4                              -0.000275     -0.000334  \n",
       "p5                               0.000193      0.000172  \n",
       "p6                              -0.001625     -0.001505  \n",
       "p7                               0.001566      0.001451  \n",
       "p8                              -0.001276     -0.001219  \n",
       "p9                               0.000277      0.000466  \n",
       "p10                             -0.000603     -0.000393  \n",
       "p11                             -0.000367      0.000048  \n",
       "p12                              0.000272      0.000330  "
      ]
     },
     "execution_count": 12,
     "metadata": {},
     "output_type": "execute_result"
    }
   ],
   "source": [
    "train[features].head().T"
   ]
  },
  {
   "cell_type": "markdown",
   "metadata": {},
   "source": [
    "# Random Forest parameters tuning"
   ]
  },
  {
   "cell_type": "markdown",
   "metadata": {},
   "source": [
    "n_estimators analysis: "
   ]
  },
  {
   "cell_type": "code",
   "execution_count": null,
   "metadata": {},
   "outputs": [],
   "source": [
    "params = range(1, 101, 10)  #50,201,50"
   ]
  },
  {
   "cell_type": "code",
   "execution_count": null,
   "metadata": {},
   "outputs": [],
   "source": [
    "from sklearn.ensemble import RandomForestRegressor\n",
    "scores, tst_scr = validation_curve(RandomForestRegressor(), train[features][:20000],\\\n",
    "                                   y_train[:20000], 'n_estimators', params, \\\n",
    "                                   cv=5, scoring='r2',n_jobs=-1, verbose=2)"
   ]
  },
  {
   "cell_type": "code",
   "execution_count": null,
   "metadata": {},
   "outputs": [],
   "source": [
    "scores_mean = scores.mean(axis=1)\n",
    "scores_std = scores.std(axis=1)\n",
    "tst_scr_mean = tst_scr.mean(axis=1)\n",
    "tst_scr_std = tst_scr.std(axis=1)\n",
    "plt.plot(params, tst_scr_mean)\n",
    "plt.fill_between(params, tst_scr_mean + tst_scr_std, tst_scr_mean - tst_scr_std, alpha=0.3)\n",
    "plt.plot(params, scores_mean)\n",
    "plt.fill_between(params, scores_mean + scores_std, scores_mean - scores_std, alpha=0.3)"
   ]
  },
  {
   "cell_type": "markdown",
   "metadata": {},
   "source": [
    "As we can see in the graph, from 40 estimators on the performance curve is stable, so we set n_estimators = 40. "
   ]
  },
  {
   "cell_type": "markdown",
   "metadata": {},
   "source": [
    "##### "
   ]
  },
  {
   "cell_type": "markdown",
   "metadata": {},
   "source": []
  },
  {
   "cell_type": "markdown",
   "metadata": {},
   "source": [
    "max_features analysis:"
   ]
  },
  {
   "cell_type": "code",
   "execution_count": null,
   "metadata": {},
   "outputs": [],
   "source": [
    "params = range(1, 35,2)"
   ]
  },
  {
   "cell_type": "code",
   "execution_count": null,
   "metadata": {},
   "outputs": [],
   "source": [
    "from sklearn.ensemble import RandomForestRegressor\n",
    "scores, tst_scr = validation_curve(RandomForestRegressor(n_estimators=10), train[features][:20000], \\\n",
    "                                   y_train[:20000], 'max_features', params, \\\n",
    "                                   cv=3, scoring='r2',n_jobs=-1, verbose=2)"
   ]
  },
  {
   "cell_type": "code",
   "execution_count": null,
   "metadata": {},
   "outputs": [],
   "source": [
    "scores_mean = scores.mean(axis=1)\n",
    "scores_std = scores.std(axis=1)\n",
    "tst_scr_mean = tst_scr.mean(axis=1)\n",
    "tst_scr_std = tst_scr.std(axis=1)\n",
    "plt.plot(params, tst_scr_mean)\n",
    "plt.fill_between(params, tst_scr_mean + tst_scr_std, tst_scr_mean - tst_scr_std, alpha=0.3)\n",
    "plt.plot(params, scores_mean)\n",
    "plt.fill_between(params, scores_mean + scores_std, scores_mean - scores_std, alpha=0.3)"
   ]
  },
  {
   "cell_type": "markdown",
   "metadata": {},
   "source": [
    "As we can see in the chart above, it seems that more than 20 features can ensure the best performances."
   ]
  },
  {
   "cell_type": "markdown",
   "metadata": {},
   "source": []
  },
  {
   "cell_type": "markdown",
   "metadata": {},
   "source": []
  },
  {
   "cell_type": "markdown",
   "metadata": {},
   "source": [
    "max_depth analysis:"
   ]
  },
  {
   "cell_type": "code",
   "execution_count": null,
   "metadata": {},
   "outputs": [],
   "source": [
    "params = range(5, 101, 5)"
   ]
  },
  {
   "cell_type": "code",
   "execution_count": null,
   "metadata": {},
   "outputs": [],
   "source": [
    "from sklearn.ensemble import RandomForestRegressor\n",
    "scores, tst_scr = validation_curve(RandomForestRegressor(n_estimators=100), train[features][:20000], \\\n",
    "                                   y_train[:20000], 'max_depth', params, \\\n",
    "                                   cv=3, scoring='r2',n_jobs=-1, verbose=2)"
   ]
  },
  {
   "cell_type": "code",
   "execution_count": null,
   "metadata": {},
   "outputs": [],
   "source": [
    "scores_mean = scores.mean(axis=1)\n",
    "scores_std = scores.std(axis=1)\n",
    "tst_scr_mean = tst_scr.mean(axis=1)\n",
    "tst_scr_std = tst_scr.std(axis=1)\n",
    "plt.plot(params, tst_scr_mean)\n",
    "plt.fill_between(params, tst_scr_mean + tst_scr_std, tst_scr_mean - tst_scr_std, alpha=0.3)\n",
    "plt.plot(params, scores_mean)\n",
    "plt.fill_between(params, scores_mean + scores_std, scores_mean - scores_std, alpha=0.3)"
   ]
  },
  {
   "cell_type": "markdown",
   "metadata": {},
   "source": [
    "The graph above show how a suitable value for max_depth is 20, indeed even increasing it, the performance are stable."
   ]
  },
  {
   "cell_type": "markdown",
   "metadata": {},
   "source": [
    "# Model Building "
   ]
  },
  {
   "cell_type": "code",
   "execution_count": 13,
   "metadata": {
    "_cell_guid": "018cf318-6e90-ff0a-5df8-af606ae38f21"
   },
   "outputs": [],
   "source": [
    "from sklearn.ensemble import RandomForestRegressor"
   ]
  },
  {
   "cell_type": "code",
   "execution_count": 14,
   "metadata": {
    "_cell_guid": "b3e3ba0d-11e8-fcc9-e570-c115bcfd95af"
   },
   "outputs": [],
   "source": [
    "model1 = RandomForestRegressor(n_estimators=30, max_depth=20, n_jobs=-1, verbose=2)"
   ]
  },
  {
   "cell_type": "code",
   "execution_count": 15,
   "metadata": {
    "_cell_guid": "4ca7054e-92a6-6ab3-c758-8503d9b53c29"
   },
   "outputs": [
    {
     "name": "stdout",
     "output_type": "stream",
     "text": [
      "building tree 1 of 30\n",
      "building tree 2 of 30\n",
      "building tree 3 of 30\n",
      "building tree 4 of 30\n",
      "building tree 5 of 30\n",
      "building tree 6 of 30\n",
      "building tree 7 of 30\n",
      "building tree 8 of 30\n",
      "building tree 9 of 30\n",
      "building tree 10 of 30\n",
      "building tree 11 of 30\n",
      "building tree 12 of 30\n",
      "building tree 13 of 30\n",
      "building tree 14 of 30\n",
      "building tree 15 of 30\n",
      "building tree 16 of 30\n",
      "building tree 17 of 30\n",
      "building tree 18 of 30\n",
      "building tree 19 of 30\n",
      "building tree 20 of 30\n",
      "building tree 21 of 30\n",
      "building tree 22 of 30\n",
      "building tree 23 of 30\n",
      "building tree 24 of 30\n",
      "building tree 25 of 30\n",
      "building tree 26 of 30\n",
      "building tree 27 of 30\n",
      "building tree 28 of 30\n",
      "building tree 29 of 30\n",
      "building tree 30 of 30\n"
     ]
    },
    {
     "name": "stderr",
     "output_type": "stream",
     "text": [
      "[Parallel(n_jobs=-1)]: Done  30 out of  30 | elapsed:  1.5min finished\n"
     ]
    },
    {
     "data": {
      "text/plain": [
       "RandomForestRegressor(bootstrap=True, criterion='mse', max_depth=20,\n",
       "           max_features='auto', max_leaf_nodes=None,\n",
       "           min_impurity_decrease=0.0, min_impurity_split=None,\n",
       "           min_samples_leaf=1, min_samples_split=2,\n",
       "           min_weight_fraction_leaf=0.0, n_estimators=30, n_jobs=-1,\n",
       "           oob_score=False, random_state=None, verbose=2, warm_start=False)"
      ]
     },
     "execution_count": 15,
     "metadata": {},
     "output_type": "execute_result"
    }
   ],
   "source": [
    "\n",
    "model1.fit(train[features], train['NumberOfSales'])"
   ]
  },
  {
   "cell_type": "markdown",
   "metadata": {},
   "source": [
    "Which are the most relevant features?"
   ]
  },
  {
   "cell_type": "code",
   "execution_count": 16,
   "metadata": {
    "_cell_guid": "b237139b-3eaa-a348-2717-1f2536b84ede"
   },
   "outputs": [],
   "source": [
    "idx = model1.feature_importances_.argsort()[::-1]"
   ]
  },
  {
   "cell_type": "code",
   "execution_count": 17,
   "metadata": {
    "_cell_guid": "0b7a9919-c9d3-adb9-4fb4-e4cd94b72c99"
   },
   "outputs": [
    {
     "data": {
      "image/png": "[encoded data removed]",
      "text/plain": [
       "<Figure size 432x288 with 1 Axes>"
      ]
     },
     "metadata": {},
     "output_type": "display_data"
    }
   ],
   "source": [
    "ax = sns.barplot(x=df[features].columns[idx], y=model1.feature_importances_[idx])\n",
    "_ = plt.setp(ax.get_xticklabels(), rotation=-90)"
   ]
  },
  {
   "cell_type": "markdown",
   "metadata": {},
   "source": [
    "# Predict"
   ]
  },
  {
   "cell_type": "code",
   "execution_count": 18,
   "metadata": {},
   "outputs": [
    {
     "name": "stderr",
     "output_type": "stream",
     "text": [
      "[Parallel(n_jobs=8)]: Done  30 out of  30 | elapsed:    0.1s finished\n",
      "/home/nyxgear/anaconda3/lib/python3.6/site-packages/ipykernel_launcher.py:1: SettingWithCopyWarning: \n",
      "A value is trying to be set on a copy of a slice from a DataFrame.\n",
      "Try using .loc[row_indexer,col_indexer] = value instead\n",
      "\n",
      "See the caveats in the documentation: http://pandas.pydata.org/pandas-docs/stable/indexing.html#indexing-view-versus-copy\n",
      "  \"\"\"Entry point for launching an IPython kernel.\n"
     ]
    }
   ],
   "source": [
    "test['_NumberOfSales'] = model1.predict(test[features])"
   ]
  },
  {
   "cell_type": "markdown",
   "metadata": {},
   "source": [
    "# Estimating error through BIP function"
   ]
  },
  {
   "cell_type": "code",
   "execution_count": 19,
   "metadata": {},
   "outputs": [
    {
     "name": "stdout",
     "output_type": "stream",
     "text": [
      "BIP total error: 0.06874329879333567\n"
     ]
    }
   ],
   "source": [
    "if predict_for_submission:\n",
    "    test.to_csv('./dataset/test_m34_53_RFR_on_prep.csv', index=False)\n",
    "else:\n",
    "    from BIP import get_BIP_error\n",
    "    error1 = get_BIP_error(test)\n",
    "    test.to_csv('./dataset/test_m12_53_RFR_on_prep.csv', index=False)"
   ]
  },
  {
   "cell_type": "markdown",
   "metadata": {},
   "source": [
    "# Estimating error through R2 function"
   ]
  },
  {
   "cell_type": "code",
   "execution_count": 20,
   "metadata": {},
   "outputs": [
    {
     "name": "stdout",
     "output_type": "stream",
     "text": [
      "(36911, 45)\n",
      "RSS: 27747304380.986317\n"
     ]
    },
    {
     "name": "stderr",
     "output_type": "stream",
     "text": [
      "/home/nyxgear/anaconda3/lib/python3.6/site-packages/ipykernel_launcher.py:7: SettingWithCopyWarning: \n",
      "A value is trying to be set on a copy of a slice from a DataFrame.\n",
      "Try using .loc[row_indexer,col_indexer] = value instead\n",
      "\n",
      "See the caveats in the documentation: http://pandas.pydata.org/pandas-docs/stable/indexing.html#indexing-view-versus-copy\n",
      "  import sys\n"
     ]
    },
    {
     "data": {
      "text/html": [
       "<div>\n",
       "<style scoped>\n",
       "    .dataframe tbody tr th:only-of-type {\n",
       "        vertical-align: middle;\n",
       "    }\n",
       "\n",
       "    .dataframe tbody tr th {\n",
       "        vertical-align: top;\n",
       "    }\n",
       "\n",
       "    .dataframe thead th {\n",
       "        text-align: right;\n",
       "    }\n",
       "</style>\n",
       "<table border=\"1\" class=\"dataframe\">\n",
       "  <thead>\n",
       "    <tr style=\"text-align: right;\">\n",
       "      <th></th>\n",
       "      <th>StoreID</th>\n",
       "      <th>Date</th>\n",
       "      <th>IsHoliday</th>\n",
       "      <th>HasPromotions</th>\n",
       "      <th>NearestCompetitor</th>\n",
       "      <th>Region</th>\n",
       "      <th>NumberOfSales</th>\n",
       "      <th>Region_AreaKM2</th>\n",
       "      <th>Region_GDP</th>\n",
       "      <th>Region_PopulationK</th>\n",
       "      <th>...</th>\n",
       "      <th>p5</th>\n",
       "      <th>p6</th>\n",
       "      <th>p7</th>\n",
       "      <th>p8</th>\n",
       "      <th>p9</th>\n",
       "      <th>p10</th>\n",
       "      <th>p11</th>\n",
       "      <th>p12</th>\n",
       "      <th>_NumberOfSales</th>\n",
       "      <th>sqrd_diff</th>\n",
       "    </tr>\n",
       "  </thead>\n",
       "  <tbody>\n",
       "    <tr>\n",
       "      <th>548</th>\n",
       "      <td>1000</td>\n",
       "      <td>01/01/2018</td>\n",
       "      <td>0</td>\n",
       "      <td>0</td>\n",
       "      <td>326</td>\n",
       "      <td>7</td>\n",
       "      <td>8540</td>\n",
       "      <td>9643</td>\n",
       "      <td>17130</td>\n",
       "      <td>2770</td>\n",
       "      <td>...</td>\n",
       "      <td>-0.002012</td>\n",
       "      <td>0.002307</td>\n",
       "      <td>0.001049</td>\n",
       "      <td>-0.001226</td>\n",
       "      <td>0.000372</td>\n",
       "      <td>0.000095</td>\n",
       "      <td>0.000836</td>\n",
       "      <td>-0.000170</td>\n",
       "      <td>10222.056481</td>\n",
       "      <td>2.829314e+06</td>\n",
       "    </tr>\n",
       "    <tr>\n",
       "      <th>549</th>\n",
       "      <td>1000</td>\n",
       "      <td>02/01/2018</td>\n",
       "      <td>0</td>\n",
       "      <td>0</td>\n",
       "      <td>326</td>\n",
       "      <td>7</td>\n",
       "      <td>10364</td>\n",
       "      <td>9643</td>\n",
       "      <td>17130</td>\n",
       "      <td>2770</td>\n",
       "      <td>...</td>\n",
       "      <td>-0.002070</td>\n",
       "      <td>0.002708</td>\n",
       "      <td>-0.000669</td>\n",
       "      <td>-0.001426</td>\n",
       "      <td>-0.000215</td>\n",
       "      <td>-0.000540</td>\n",
       "      <td>0.000367</td>\n",
       "      <td>-0.000163</td>\n",
       "      <td>5180.133333</td>\n",
       "      <td>2.687247e+07</td>\n",
       "    </tr>\n",
       "    <tr>\n",
       "      <th>550</th>\n",
       "      <td>1000</td>\n",
       "      <td>03/01/2018</td>\n",
       "      <td>0</td>\n",
       "      <td>0</td>\n",
       "      <td>326</td>\n",
       "      <td>7</td>\n",
       "      <td>4676</td>\n",
       "      <td>9643</td>\n",
       "      <td>17130</td>\n",
       "      <td>2770</td>\n",
       "      <td>...</td>\n",
       "      <td>-0.002125</td>\n",
       "      <td>0.003129</td>\n",
       "      <td>-0.000895</td>\n",
       "      <td>-0.001529</td>\n",
       "      <td>-0.000557</td>\n",
       "      <td>0.000031</td>\n",
       "      <td>-0.000107</td>\n",
       "      <td>-0.000037</td>\n",
       "      <td>3836.800000</td>\n",
       "      <td>7.042566e+05</td>\n",
       "    </tr>\n",
       "    <tr>\n",
       "      <th>551</th>\n",
       "      <td>1000</td>\n",
       "      <td>05/01/2018</td>\n",
       "      <td>0</td>\n",
       "      <td>0</td>\n",
       "      <td>326</td>\n",
       "      <td>7</td>\n",
       "      <td>6267</td>\n",
       "      <td>9643</td>\n",
       "      <td>17130</td>\n",
       "      <td>2770</td>\n",
       "      <td>...</td>\n",
       "      <td>0.002572</td>\n",
       "      <td>-0.000628</td>\n",
       "      <td>-0.000278</td>\n",
       "      <td>-0.001221</td>\n",
       "      <td>0.000540</td>\n",
       "      <td>0.000499</td>\n",
       "      <td>-0.000087</td>\n",
       "      <td>-0.000236</td>\n",
       "      <td>7345.234837</td>\n",
       "      <td>1.162590e+06</td>\n",
       "    </tr>\n",
       "    <tr>\n",
       "      <th>552</th>\n",
       "      <td>1000</td>\n",
       "      <td>06/01/2018</td>\n",
       "      <td>0</td>\n",
       "      <td>0</td>\n",
       "      <td>326</td>\n",
       "      <td>7</td>\n",
       "      <td>5953</td>\n",
       "      <td>9643</td>\n",
       "      <td>17130</td>\n",
       "      <td>2770</td>\n",
       "      <td>...</td>\n",
       "      <td>0.000616</td>\n",
       "      <td>0.003896</td>\n",
       "      <td>0.000200</td>\n",
       "      <td>-0.001384</td>\n",
       "      <td>-0.000087</td>\n",
       "      <td>-0.000091</td>\n",
       "      <td>0.000085</td>\n",
       "      <td>0.000273</td>\n",
       "      <td>7469.238927</td>\n",
       "      <td>2.298980e+06</td>\n",
       "    </tr>\n",
       "  </tbody>\n",
       "</table>\n",
       "<p>5 rows × 46 columns</p>\n",
       "</div>"
      ],
      "text/plain": [
       "     StoreID        Date  IsHoliday  HasPromotions  NearestCompetitor  Region  \\\n",
       "548     1000  01/01/2018          0              0                326       7   \n",
       "549     1000  02/01/2018          0              0                326       7   \n",
       "550     1000  03/01/2018          0              0                326       7   \n",
       "551     1000  05/01/2018          0              0                326       7   \n",
       "552     1000  06/01/2018          0              0                326       7   \n",
       "\n",
       "     NumberOfSales  Region_AreaKM2  Region_GDP  Region_PopulationK  \\\n",
       "548           8540            9643       17130                2770   \n",
       "549          10364            9643       17130                2770   \n",
       "550           4676            9643       17130                2770   \n",
       "551           6267            9643       17130                2770   \n",
       "552           5953            9643       17130                2770   \n",
       "\n",
       "         ...             p5        p6        p7        p8        p9       p10  \\\n",
       "548      ...      -0.002012  0.002307  0.001049 -0.001226  0.000372  0.000095   \n",
       "549      ...      -0.002070  0.002708 -0.000669 -0.001426 -0.000215 -0.000540   \n",
       "550      ...      -0.002125  0.003129 -0.000895 -0.001529 -0.000557  0.000031   \n",
       "551      ...       0.002572 -0.000628 -0.000278 -0.001221  0.000540  0.000499   \n",
       "552      ...       0.000616  0.003896  0.000200 -0.001384 -0.000087 -0.000091   \n",
       "\n",
       "          p11       p12  _NumberOfSales     sqrd_diff  \n",
       "548  0.000836 -0.000170    10222.056481  2.829314e+06  \n",
       "549  0.000367 -0.000163     5180.133333  2.687247e+07  \n",
       "550 -0.000107 -0.000037     3836.800000  7.042566e+05  \n",
       "551 -0.000087 -0.000236     7345.234837  1.162590e+06  \n",
       "552  0.000085  0.000273     7469.238927  2.298980e+06  \n",
       "\n",
       "[5 rows x 46 columns]"
      ]
     },
     "execution_count": 20,
     "metadata": {},
     "output_type": "execute_result"
    }
   ],
   "source": [
    "# calculationg R2\n",
    "\n",
    "# calculate RSS\n",
    "df_RSS = test\n",
    "print(df_RSS.shape)\n",
    "\n",
    "df_RSS['sqrd_diff'] = df_RSS.apply(lambda x: (x['NumberOfSales'] - x['_NumberOfSales'])**2, axis=1)\n",
    "\n",
    "RSS = df_RSS['sqrd_diff'].sum()\n",
    "print('RSS:', RSS)\n",
    "df_RSS.head()"
   ]
  },
  {
   "cell_type": "code",
   "execution_count": 21,
   "metadata": {},
   "outputs": [
    {
     "name": "stdout",
     "output_type": "stream",
     "text": [
      "NS_mean 4761.829833924846\n",
      "TSS: 166328256195.32724\n"
     ]
    },
    {
     "name": "stderr",
     "output_type": "stream",
     "text": [
      "/home/nyxgear/anaconda3/lib/python3.6/site-packages/ipykernel_launcher.py:7: SettingWithCopyWarning: \n",
      "A value is trying to be set on a copy of a slice from a DataFrame.\n",
      "Try using .loc[row_indexer,col_indexer] = value instead\n",
      "\n",
      "See the caveats in the documentation: http://pandas.pydata.org/pandas-docs/stable/indexing.html#indexing-view-versus-copy\n",
      "  import sys\n"
     ]
    },
    {
     "data": {
      "text/html": [
       "<div>\n",
       "<style scoped>\n",
       "    .dataframe tbody tr th:only-of-type {\n",
       "        vertical-align: middle;\n",
       "    }\n",
       "\n",
       "    .dataframe tbody tr th {\n",
       "        vertical-align: top;\n",
       "    }\n",
       "\n",
       "    .dataframe thead th {\n",
       "        text-align: right;\n",
       "    }\n",
       "</style>\n",
       "<table border=\"1\" class=\"dataframe\">\n",
       "  <thead>\n",
       "    <tr style=\"text-align: right;\">\n",
       "      <th></th>\n",
       "      <th>StoreID</th>\n",
       "      <th>Date</th>\n",
       "      <th>IsHoliday</th>\n",
       "      <th>HasPromotions</th>\n",
       "      <th>NearestCompetitor</th>\n",
       "      <th>Region</th>\n",
       "      <th>NumberOfSales</th>\n",
       "      <th>Region_AreaKM2</th>\n",
       "      <th>Region_GDP</th>\n",
       "      <th>Region_PopulationK</th>\n",
       "      <th>...</th>\n",
       "      <th>p5</th>\n",
       "      <th>p6</th>\n",
       "      <th>p7</th>\n",
       "      <th>p8</th>\n",
       "      <th>p9</th>\n",
       "      <th>p10</th>\n",
       "      <th>p11</th>\n",
       "      <th>p12</th>\n",
       "      <th>_NumberOfSales</th>\n",
       "      <th>sqrd_diff</th>\n",
       "    </tr>\n",
       "  </thead>\n",
       "  <tbody>\n",
       "    <tr>\n",
       "      <th>548</th>\n",
       "      <td>1000</td>\n",
       "      <td>01/01/2018</td>\n",
       "      <td>0</td>\n",
       "      <td>0</td>\n",
       "      <td>326</td>\n",
       "      <td>7</td>\n",
       "      <td>8540</td>\n",
       "      <td>9643</td>\n",
       "      <td>17130</td>\n",
       "      <td>2770</td>\n",
       "      <td>...</td>\n",
       "      <td>-0.002012</td>\n",
       "      <td>0.002307</td>\n",
       "      <td>0.001049</td>\n",
       "      <td>-0.001226</td>\n",
       "      <td>0.000372</td>\n",
       "      <td>0.000095</td>\n",
       "      <td>0.000836</td>\n",
       "      <td>-0.000170</td>\n",
       "      <td>10222.056481</td>\n",
       "      <td>2.981408e+07</td>\n",
       "    </tr>\n",
       "    <tr>\n",
       "      <th>549</th>\n",
       "      <td>1000</td>\n",
       "      <td>02/01/2018</td>\n",
       "      <td>0</td>\n",
       "      <td>0</td>\n",
       "      <td>326</td>\n",
       "      <td>7</td>\n",
       "      <td>10364</td>\n",
       "      <td>9643</td>\n",
       "      <td>17130</td>\n",
       "      <td>2770</td>\n",
       "      <td>...</td>\n",
       "      <td>-0.002070</td>\n",
       "      <td>0.002708</td>\n",
       "      <td>-0.000669</td>\n",
       "      <td>-0.001426</td>\n",
       "      <td>-0.000215</td>\n",
       "      <td>-0.000540</td>\n",
       "      <td>0.000367</td>\n",
       "      <td>-0.000163</td>\n",
       "      <td>5180.133333</td>\n",
       "      <td>1.749778e+05</td>\n",
       "    </tr>\n",
       "    <tr>\n",
       "      <th>550</th>\n",
       "      <td>1000</td>\n",
       "      <td>03/01/2018</td>\n",
       "      <td>0</td>\n",
       "      <td>0</td>\n",
       "      <td>326</td>\n",
       "      <td>7</td>\n",
       "      <td>4676</td>\n",
       "      <td>9643</td>\n",
       "      <td>17130</td>\n",
       "      <td>2770</td>\n",
       "      <td>...</td>\n",
       "      <td>-0.002125</td>\n",
       "      <td>0.003129</td>\n",
       "      <td>-0.000895</td>\n",
       "      <td>-0.001529</td>\n",
       "      <td>-0.000557</td>\n",
       "      <td>0.000031</td>\n",
       "      <td>-0.000107</td>\n",
       "      <td>-0.000037</td>\n",
       "      <td>3836.800000</td>\n",
       "      <td>8.556802e+05</td>\n",
       "    </tr>\n",
       "    <tr>\n",
       "      <th>551</th>\n",
       "      <td>1000</td>\n",
       "      <td>05/01/2018</td>\n",
       "      <td>0</td>\n",
       "      <td>0</td>\n",
       "      <td>326</td>\n",
       "      <td>7</td>\n",
       "      <td>6267</td>\n",
       "      <td>9643</td>\n",
       "      <td>17130</td>\n",
       "      <td>2770</td>\n",
       "      <td>...</td>\n",
       "      <td>0.002572</td>\n",
       "      <td>-0.000628</td>\n",
       "      <td>-0.000278</td>\n",
       "      <td>-0.001221</td>\n",
       "      <td>0.000540</td>\n",
       "      <td>0.000499</td>\n",
       "      <td>-0.000087</td>\n",
       "      <td>-0.000236</td>\n",
       "      <td>7345.234837</td>\n",
       "      <td>6.673981e+06</td>\n",
       "    </tr>\n",
       "    <tr>\n",
       "      <th>552</th>\n",
       "      <td>1000</td>\n",
       "      <td>06/01/2018</td>\n",
       "      <td>0</td>\n",
       "      <td>0</td>\n",
       "      <td>326</td>\n",
       "      <td>7</td>\n",
       "      <td>5953</td>\n",
       "      <td>9643</td>\n",
       "      <td>17130</td>\n",
       "      <td>2770</td>\n",
       "      <td>...</td>\n",
       "      <td>0.000616</td>\n",
       "      <td>0.003896</td>\n",
       "      <td>0.000200</td>\n",
       "      <td>-0.001384</td>\n",
       "      <td>-0.000087</td>\n",
       "      <td>-0.000091</td>\n",
       "      <td>0.000085</td>\n",
       "      <td>0.000273</td>\n",
       "      <td>7469.238927</td>\n",
       "      <td>7.330064e+06</td>\n",
       "    </tr>\n",
       "  </tbody>\n",
       "</table>\n",
       "<p>5 rows × 46 columns</p>\n",
       "</div>"
      ],
      "text/plain": [
       "     StoreID        Date  IsHoliday  HasPromotions  NearestCompetitor  Region  \\\n",
       "548     1000  01/01/2018          0              0                326       7   \n",
       "549     1000  02/01/2018          0              0                326       7   \n",
       "550     1000  03/01/2018          0              0                326       7   \n",
       "551     1000  05/01/2018          0              0                326       7   \n",
       "552     1000  06/01/2018          0              0                326       7   \n",
       "\n",
       "     NumberOfSales  Region_AreaKM2  Region_GDP  Region_PopulationK  \\\n",
       "548           8540            9643       17130                2770   \n",
       "549          10364            9643       17130                2770   \n",
       "550           4676            9643       17130                2770   \n",
       "551           6267            9643       17130                2770   \n",
       "552           5953            9643       17130                2770   \n",
       "\n",
       "         ...             p5        p6        p7        p8        p9       p10  \\\n",
       "548      ...      -0.002012  0.002307  0.001049 -0.001226  0.000372  0.000095   \n",
       "549      ...      -0.002070  0.002708 -0.000669 -0.001426 -0.000215 -0.000540   \n",
       "550      ...      -0.002125  0.003129 -0.000895 -0.001529 -0.000557  0.000031   \n",
       "551      ...       0.002572 -0.000628 -0.000278 -0.001221  0.000540  0.000499   \n",
       "552      ...       0.000616  0.003896  0.000200 -0.001384 -0.000087 -0.000091   \n",
       "\n",
       "          p11       p12  _NumberOfSales     sqrd_diff  \n",
       "548  0.000836 -0.000170    10222.056481  2.981408e+07  \n",
       "549  0.000367 -0.000163     5180.133333  1.749778e+05  \n",
       "550 -0.000107 -0.000037     3836.800000  8.556802e+05  \n",
       "551 -0.000087 -0.000236     7345.234837  6.673981e+06  \n",
       "552  0.000085  0.000273     7469.238927  7.330064e+06  \n",
       "\n",
       "[5 rows x 46 columns]"
      ]
     },
     "execution_count": 21,
     "metadata": {},
     "output_type": "execute_result"
    }
   ],
   "source": [
    "# calculate TSS\n",
    "\n",
    "df_TSS = test\n",
    "NS_mean = df_TSS['NumberOfSales'].mean()\n",
    "print('NS_mean', NS_mean)\n",
    "\n",
    "df_TSS['sqrd_diff'] = df_TSS.apply(lambda x:  (x['_NumberOfSales'] - NS_mean)**2, axis=1)\n",
    "TSS = df_TSS['sqrd_diff'].sum()\n",
    "print('TSS:', TSS)\n",
    "df_TSS.head()"
   ]
  },
  {
   "cell_type": "code",
   "execution_count": 22,
   "metadata": {},
   "outputs": [
    {
     "name": "stdout",
     "output_type": "stream",
     "text": [
      "RSS: 27747304380.986317    TSS: 166328256195.32724\n",
      "R_2: 0.8331774467207704\n"
     ]
    }
   ],
   "source": [
    "# calculate R2\n",
    "print(\"RSS:\", RSS, \"   TSS:\", TSS)\n",
    "\n",
    "R2 = 1 - (RSS / TSS)\n",
    "print('R_2:', R2)\n"
   ]
  },
  {
   "cell_type": "markdown",
   "metadata": {},
   "source": [
    "# Da qua in poi non sapevo cosa eliminare e cosa tenere "
   ]
  },
  {
   "cell_type": "markdown",
   "metadata": {},
   "source": [
    "### Saving TEST"
   ]
  },
  {
   "cell_type": "code",
   "execution_count": null,
   "metadata": {},
   "outputs": [],
   "source": [
    "#test.to_csv('./dataset/RFR5_fake_test.csv', index=False)"
   ]
  },
  {
   "cell_type": "code",
   "execution_count": null,
   "metadata": {},
   "outputs": [],
   "source": [
    "estim = model1.estimators_ "
   ]
  },
  {
   "cell_type": "code",
   "execution_count": null,
   "metadata": {
    "_cell_guid": "d57a9738-6c92-94bc-ee7f-8c61c8621a5e"
   },
   "outputs": [],
   "source": [
    "from sklearn.metrics import mean_absolute_error\n",
    "from sklearn.metrics import r2_score"
   ]
  },
  {
   "cell_type": "code",
   "execution_count": null,
   "metadata": {
    "_cell_guid": "ce96d86c-504a-6f79-daa9-6c41619afc65"
   },
   "outputs": [],
   "source": [
    "mean_absolute_error(test['NumberOfSales'], test['_NumberOfSales'])\n"
   ]
  },
  {
   "cell_type": "code",
   "execution_count": null,
   "metadata": {
    "_cell_guid": "e14263ca-4a3b-562a-0a1e-59eafafccb84"
   },
   "outputs": [],
   "source": [
    "r2_score(test['NumberOfSales'], test['_NumberOfSales'])"
   ]
  },
  {
   "cell_type": "code",
   "execution_count": null,
   "metadata": {},
   "outputs": [],
   "source": [
    "#defining mape\n",
    "from sklearn.utils import check_array\n",
    "def mean_absolute_percentage_error(y_true, y_pred): \n",
    "    y_true = y_true.reshape(1, -1)\n",
    "    y_pred = y_pred.reshape(1, -1)\n",
    "    #y_true, y_pred = check_array(y_true, y_pred)\n",
    "\n",
    "    ## Note: does not handle mix 1d representation\n",
    "    #if _is_1d(y_true): \n",
    "    #    y_true, y_pred = _check_1d_array(y_true, y_pred)\n",
    "\n",
    "    return np.mean(np.abs((y_true - y_pred) / y_true)) * 100"
   ]
  },
  {
   "cell_type": "code",
   "execution_count": null,
   "metadata": {},
   "outputs": [],
   "source": [
    "mean_absolute_percentage_error(test['NumberOfSales'], test['_NumberOfSales'])"
   ]
  },
  {
   "cell_type": "code",
   "execution_count": null,
   "metadata": {},
   "outputs": [],
   "source": [
    "X_train"
   ]
  },
  {
   "cell_type": "code",
   "execution_count": null,
   "metadata": {},
   "outputs": [],
   "source": [
    "X_test[:, [3]].shape"
   ]
  },
  {
   "cell_type": "code",
   "execution_count": null,
   "metadata": {},
   "outputs": [],
   "source": [
    "print(\"Residual sum of squares: %.2f\"\n",
    "  % ((y_pred - y_test) ** 2).sum())\n",
    "\n",
    "#why memory error??"
   ]
  },
  {
   "cell_type": "code",
   "execution_count": null,
   "metadata": {},
   "outputs": [],
   "source": [
    "def ToWeight(y):\n",
    "    w = np.zeros(y.shape, dtype=float)\n",
    "    ind = y != 0\n",
    "    w[ind] = 1./(y[ind]**2)\n",
    "    return w\n",
    "\n",
    "\n",
    "def rmspe(yhat, y):\n",
    "    w = ToWeight(y)\n",
    "    rmspe = np.sqrt(np.mean( w * (y - yhat)**2 ))\n",
    "    return rmspe\n",
    "\n",
    "\n",
    "def rmspe_xg(yhat, y):\n",
    "   # y = y.values\n",
    "   # y = y.get_label()\n",
    "    y = np.exp(y) - 1\n",
    "    yhat = np.exp(yhat) - 1\n",
    "    w = ToWeight(y)\n",
    "    rmspe = np.sqrt(np.mean(w * (y - yhat)**2))\n",
    "    return \"rmspe\", rmspe"
   ]
  },
  {
   "cell_type": "code",
   "execution_count": null,
   "metadata": {},
   "outputs": [],
   "source": [
    "rmspe_xg(y_pred,y_test)"
   ]
  },
  {
   "cell_type": "markdown",
   "metadata": {},
   "source": [
    "## Sample of predicted results"
   ]
  },
  {
   "cell_type": "code",
   "execution_count": null,
   "metadata": {},
   "outputs": [],
   "source": [
    "import matplotlib.pyplot as plt\n",
    "\n",
    "y_pred_subset = test['_NumberOfSales'][500:600]\n",
    "x_coordinate = [ 1 * i for i in range(len(y_pred_subset)) ]\n",
    "plt.plot(x_coordinate,y_pred_subset)\n",
    "plt.show()"
   ]
  },
  {
   "cell_type": "markdown",
   "metadata": {},
   "source": [
    "## Sample of real results"
   ]
  },
  {
   "cell_type": "code",
   "execution_count": null,
   "metadata": {},
   "outputs": [],
   "source": [
    "#REAL\n",
    "import matplotlib.pyplot as plt\n",
    "\n",
    "y_train_subset = test['NumberOfSales'][500:600]\n",
    "x_coordinate = [ 1 * i for i in range(len(y_train_subset)) ]\n",
    "plt.plot(x_coordinate,y_train_subset)\n",
    "plt.show()"
   ]
  },
  {
   "cell_type": "markdown",
   "metadata": {},
   "source": [
    "## Real-Predicted"
   ]
  },
  {
   "cell_type": "code",
   "execution_count": null,
   "metadata": {},
   "outputs": [],
   "source": [
    "plt.plot(x_coordinate,y_train_subset)\n",
    "plt.plot(x_coordinate,y_pred_subset)\n",
    "\n",
    "plt.legend(['Predicted', 'Real'], loc='upper left')\n",
    "plt.show()"
   ]
  },
  {
   "cell_type": "markdown",
   "metadata": {},
   "source": [
    "### Saving model"
   ]
  },
  {
   "cell_type": "code",
   "execution_count": null,
   "metadata": {},
   "outputs": [],
   "source": [
    "#import pickle\n",
    "#RFR_1 = pickle.dumps(model1)\n",
    "#clf2 = pickle.loads(s)\n",
    "#clf2.predict(X[0:1])\n",
    "#pickle.dump(model1, open(\"models\\RFR_1\",\"wb\"))\n",
    "#model1 = pickle.load(file=open(\"models\\RFR_1\",\"rb\"))"
   ]
  },
  {
   "cell_type": "code",
   "execution_count": null,
   "metadata": {},
   "outputs": [],
   "source": []
  }
 ],
 "metadata": {
  "_change_revision": 0,
  "_is_fork": false,
  "kernelspec": {
   "display_name": "Python 3",
   "language": "python",
   "name": "python3"
  },
  "language_info": {
   "codemirror_mode": {
    "name": "ipython",
    "version": 3
   },
   "file_extension": ".py",
   "mimetype": "text/x-python",
   "name": "python",
   "nbconvert_exporter": "python",
   "pygments_lexer": "ipython3",
   "version": "3.6.5"
  }
 },
 "nbformat": 4,
 "nbformat_minor": 2
}
