{
 "cells": [
  {
   "cell_type": "markdown",
   "metadata": {},
   "source": [
    "# Random Forest Regression"
   ]
  },
  {
   "cell_type": "code",
   "execution_count": 36,
   "metadata": {},
   "outputs": [],
   "source": [
    "# reoder variables to work on train or test dataset\n",
    "#predict_for_submission = True\n",
    "predict_for_submission = False\n",
    "\n",
    "tune_parameters = True"
   ]
  },
  {
   "cell_type": "code",
   "execution_count": 37,
   "metadata": {
    "_cell_guid": "b9000568-0a4d-8bbc-0f59-12b581bfb150"
   },
   "outputs": [],
   "source": [
    "from import_man import *\n",
    "\n",
    "\n",
    "%matplotlib inline\n",
    "plt.style.use('ggplot')\n",
    "plt.rcParams['figure.figsize'] = (15, 6)\n",
    "plt.rcParams['figure.figsize'] = [20.0,8.0]\n",
    "plt.rcParams['figure.dpi']=80"
   ]
  },
  {
   "cell_type": "markdown",
   "metadata": {},
   "source": [
    "Loading dataset:"
   ]
  },
  {
   "cell_type": "code",
   "execution_count": 38,
   "metadata": {
    "_cell_guid": "da09e07b-fdfc-30b1-dfff-ad7dc625d15a"
   },
   "outputs": [],
   "source": [
    "df = pd.read_csv('dataset/preprocessed_train_PCA.csv')\n",
    "\n",
    "if predict_for_submission:\n",
    "    df_test = pd.read_csv('dataset/preprocessed_test_PCA.csv')"
   ]
  },
  {
   "cell_type": "code",
   "execution_count": 39,
   "metadata": {},
   "outputs": [
    {
     "name": "stdout",
     "output_type": "stream",
     "text": [
      "(examples,columns)\n"
     ]
    },
    {
     "data": {
      "text/plain": [
       "(433958, 45)"
      ]
     },
     "execution_count": 39,
     "metadata": {},
     "output_type": "execute_result"
    }
   ],
   "source": [
    "print('(examples,columns)')\n",
    "df.shape"
   ]
  },
  {
   "cell_type": "markdown",
   "metadata": {},
   "source": [
    "selecting useful features:"
   ]
  },
  {
   "cell_type": "code",
   "execution_count": 40,
   "metadata": {},
   "outputs": [
    {
     "name": "stdout",
     "output_type": "stream",
     "text": [
      "Since we do not have NumberOfCustomers attribute in the test set, we drop it.\n"
     ]
    }
   ],
   "source": [
    "df = df.drop(['NumberOfCustomers'], axis=1)\n",
    "print('Since we do not have NumberOfCustomers attribute in the test set, we drop it.')"
   ]
  },
  {
   "cell_type": "code",
   "execution_count": 41,
   "metadata": {},
   "outputs": [
    {
     "name": "stdout",
     "output_type": "stream",
     "text": [
      "Categorical attributes are dropped because we consider for the analysis the \"One Hot Encoding\" version.\n"
     ]
    }
   ],
   "source": [
    "print('Categorical attributes are dropped because we consider for the analysis the \"One Hot Encoding\" version.')\n",
    "df = df.drop(['Unnamed: 0','StoreType','AssortmentType','D_DayOfweek'], axis=1)\n",
    "if predict_for_submission:\n",
    "    df_test = df_test.drop(['Unnamed: 0','StoreType','AssortmentType','D_DayOfweek'], axis=1)"
   ]
  },
  {
   "cell_type": "markdown",
   "metadata": {},
   "source": [
    "### Attributes kept:"
   ]
  },
  {
   "cell_type": "code",
   "execution_count": 42,
   "metadata": {
    "_cell_guid": "6872b7e5-8b37-6aa9-033c-a03dd5647974"
   },
   "outputs": [
    {
     "data": {
      "text/html": [
       "<div>\n",
       "<style scoped>\n",
       "    .dataframe tbody tr th:only-of-type {\n",
       "        vertical-align: middle;\n",
       "    }\n",
       "\n",
       "    .dataframe tbody tr th {\n",
       "        vertical-align: top;\n",
       "    }\n",
       "\n",
       "    .dataframe thead th {\n",
       "        text-align: right;\n",
       "    }\n",
       "</style>\n",
       "<table border=\"1\" class=\"dataframe\">\n",
       "  <thead>\n",
       "    <tr style=\"text-align: right;\">\n",
       "      <th></th>\n",
       "      <th>0</th>\n",
       "      <th>1</th>\n",
       "      <th>2</th>\n",
       "      <th>3</th>\n",
       "      <th>4</th>\n",
       "    </tr>\n",
       "  </thead>\n",
       "  <tbody>\n",
       "    <tr>\n",
       "      <th>StoreID</th>\n",
       "      <td>1000</td>\n",
       "      <td>1000</td>\n",
       "      <td>1000</td>\n",
       "      <td>1000</td>\n",
       "      <td>1000</td>\n",
       "    </tr>\n",
       "    <tr>\n",
       "      <th>Date</th>\n",
       "      <td>01/03/2016</td>\n",
       "      <td>02/03/2016</td>\n",
       "      <td>04/03/2016</td>\n",
       "      <td>05/03/2016</td>\n",
       "      <td>07/03/2016</td>\n",
       "    </tr>\n",
       "    <tr>\n",
       "      <th>IsHoliday</th>\n",
       "      <td>0</td>\n",
       "      <td>0</td>\n",
       "      <td>0</td>\n",
       "      <td>0</td>\n",
       "      <td>0</td>\n",
       "    </tr>\n",
       "    <tr>\n",
       "      <th>HasPromotions</th>\n",
       "      <td>0</td>\n",
       "      <td>0</td>\n",
       "      <td>0</td>\n",
       "      <td>0</td>\n",
       "      <td>1</td>\n",
       "    </tr>\n",
       "    <tr>\n",
       "      <th>NearestCompetitor</th>\n",
       "      <td>326</td>\n",
       "      <td>326</td>\n",
       "      <td>326</td>\n",
       "      <td>326</td>\n",
       "      <td>326</td>\n",
       "    </tr>\n",
       "    <tr>\n",
       "      <th>Region</th>\n",
       "      <td>7</td>\n",
       "      <td>7</td>\n",
       "      <td>7</td>\n",
       "      <td>7</td>\n",
       "      <td>7</td>\n",
       "    </tr>\n",
       "    <tr>\n",
       "      <th>NumberOfSales</th>\n",
       "      <td>5676</td>\n",
       "      <td>8111</td>\n",
       "      <td>8300</td>\n",
       "      <td>7154</td>\n",
       "      <td>10110</td>\n",
       "    </tr>\n",
       "    <tr>\n",
       "      <th>Region_AreaKM2</th>\n",
       "      <td>9643</td>\n",
       "      <td>9643</td>\n",
       "      <td>9643</td>\n",
       "      <td>9643</td>\n",
       "      <td>9643</td>\n",
       "    </tr>\n",
       "    <tr>\n",
       "      <th>Region_GDP</th>\n",
       "      <td>17130</td>\n",
       "      <td>17130</td>\n",
       "      <td>17130</td>\n",
       "      <td>17130</td>\n",
       "      <td>17130</td>\n",
       "    </tr>\n",
       "    <tr>\n",
       "      <th>Region_PopulationK</th>\n",
       "      <td>2770</td>\n",
       "      <td>2770</td>\n",
       "      <td>2770</td>\n",
       "      <td>2770</td>\n",
       "      <td>2770</td>\n",
       "    </tr>\n",
       "    <tr>\n",
       "      <th>CloudCover</th>\n",
       "      <td>8</td>\n",
       "      <td>8</td>\n",
       "      <td>8</td>\n",
       "      <td>6</td>\n",
       "      <td>0</td>\n",
       "    </tr>\n",
       "    <tr>\n",
       "      <th>D_Day</th>\n",
       "      <td>1</td>\n",
       "      <td>2</td>\n",
       "      <td>4</td>\n",
       "      <td>5</td>\n",
       "      <td>7</td>\n",
       "    </tr>\n",
       "    <tr>\n",
       "      <th>D_DayOfYear</th>\n",
       "      <td>61</td>\n",
       "      <td>62</td>\n",
       "      <td>64</td>\n",
       "      <td>65</td>\n",
       "      <td>67</td>\n",
       "    </tr>\n",
       "    <tr>\n",
       "      <th>D_Month</th>\n",
       "      <td>3</td>\n",
       "      <td>3</td>\n",
       "      <td>3</td>\n",
       "      <td>3</td>\n",
       "      <td>3</td>\n",
       "    </tr>\n",
       "    <tr>\n",
       "      <th>D_Year</th>\n",
       "      <td>2016</td>\n",
       "      <td>2016</td>\n",
       "      <td>2016</td>\n",
       "      <td>2016</td>\n",
       "      <td>2016</td>\n",
       "    </tr>\n",
       "    <tr>\n",
       "      <th>StoreType_SuperMarket</th>\n",
       "      <td>0</td>\n",
       "      <td>0</td>\n",
       "      <td>0</td>\n",
       "      <td>0</td>\n",
       "      <td>0</td>\n",
       "    </tr>\n",
       "    <tr>\n",
       "      <th>StoreType_HyperMarket</th>\n",
       "      <td>1</td>\n",
       "      <td>1</td>\n",
       "      <td>1</td>\n",
       "      <td>1</td>\n",
       "      <td>1</td>\n",
       "    </tr>\n",
       "    <tr>\n",
       "      <th>StoreType_StandardMarket</th>\n",
       "      <td>0</td>\n",
       "      <td>0</td>\n",
       "      <td>0</td>\n",
       "      <td>0</td>\n",
       "      <td>0</td>\n",
       "    </tr>\n",
       "    <tr>\n",
       "      <th>StoreType_ShoppingCenter</th>\n",
       "      <td>0</td>\n",
       "      <td>0</td>\n",
       "      <td>0</td>\n",
       "      <td>0</td>\n",
       "      <td>0</td>\n",
       "    </tr>\n",
       "    <tr>\n",
       "      <th>AssortmentType_General</th>\n",
       "      <td>1</td>\n",
       "      <td>1</td>\n",
       "      <td>1</td>\n",
       "      <td>1</td>\n",
       "      <td>1</td>\n",
       "    </tr>\n",
       "    <tr>\n",
       "      <th>AssortmentType_WithNFDept</th>\n",
       "      <td>0</td>\n",
       "      <td>0</td>\n",
       "      <td>0</td>\n",
       "      <td>0</td>\n",
       "      <td>0</td>\n",
       "    </tr>\n",
       "    <tr>\n",
       "      <th>AssortmentType_WithFishDept</th>\n",
       "      <td>0</td>\n",
       "      <td>0</td>\n",
       "      <td>0</td>\n",
       "      <td>0</td>\n",
       "      <td>0</td>\n",
       "    </tr>\n",
       "    <tr>\n",
       "      <th>MeanStoreSales</th>\n",
       "      <td>7675.45</td>\n",
       "      <td>7675.45</td>\n",
       "      <td>7675.45</td>\n",
       "      <td>7675.45</td>\n",
       "      <td>7675.45</td>\n",
       "    </tr>\n",
       "    <tr>\n",
       "      <th>MeanRegionSales</th>\n",
       "      <td>4702.75</td>\n",
       "      <td>4702.75</td>\n",
       "      <td>4702.75</td>\n",
       "      <td>4702.75</td>\n",
       "      <td>4702.75</td>\n",
       "    </tr>\n",
       "    <tr>\n",
       "      <th>MeanCustomers</th>\n",
       "      <td>622.769</td>\n",
       "      <td>622.769</td>\n",
       "      <td>622.769</td>\n",
       "      <td>622.769</td>\n",
       "      <td>622.769</td>\n",
       "    </tr>\n",
       "    <tr>\n",
       "      <th>MeanRegionCustomers</th>\n",
       "      <td>284.209</td>\n",
       "      <td>284.209</td>\n",
       "      <td>284.209</td>\n",
       "      <td>284.209</td>\n",
       "      <td>284.209</td>\n",
       "    </tr>\n",
       "    <tr>\n",
       "      <th>D_DayOfWeek_cos</th>\n",
       "      <td>0.62349</td>\n",
       "      <td>-0.222521</td>\n",
       "      <td>-0.900969</td>\n",
       "      <td>-0.222521</td>\n",
       "      <td>1</td>\n",
       "    </tr>\n",
       "    <tr>\n",
       "      <th>D_DayOfWeek_sin</th>\n",
       "      <td>0.781831</td>\n",
       "      <td>0.974928</td>\n",
       "      <td>-0.433884</td>\n",
       "      <td>-0.974928</td>\n",
       "      <td>0</td>\n",
       "    </tr>\n",
       "    <tr>\n",
       "      <th>p1</th>\n",
       "      <td>0.00426063</td>\n",
       "      <td>0.00422903</td>\n",
       "      <td>0.00237764</td>\n",
       "      <td>0.00321092</td>\n",
       "      <td>0.00286312</td>\n",
       "    </tr>\n",
       "    <tr>\n",
       "      <th>p2</th>\n",
       "      <td>0.00151355</td>\n",
       "      <td>0.000905007</td>\n",
       "      <td>-0.000171148</td>\n",
       "      <td>-0.00069715</td>\n",
       "      <td>-0.000676638</td>\n",
       "    </tr>\n",
       "    <tr>\n",
       "      <th>p3</th>\n",
       "      <td>-0.000960333</td>\n",
       "      <td>-0.000604326</td>\n",
       "      <td>-0.000541095</td>\n",
       "      <td>-0.000332687</td>\n",
       "      <td>-0.000300156</td>\n",
       "    </tr>\n",
       "    <tr>\n",
       "      <th>p4</th>\n",
       "      <td>-0.000857565</td>\n",
       "      <td>-0.000501516</td>\n",
       "      <td>-0.000614453</td>\n",
       "      <td>-0.000308525</td>\n",
       "      <td>-0.000368009</td>\n",
       "    </tr>\n",
       "    <tr>\n",
       "      <th>p5</th>\n",
       "      <td>0.00244229</td>\n",
       "      <td>0.00247817</td>\n",
       "      <td>0.00219296</td>\n",
       "      <td>0.00218858</td>\n",
       "      <td>0.00218882</td>\n",
       "    </tr>\n",
       "    <tr>\n",
       "      <th>p6</th>\n",
       "      <td>-0.00205074</td>\n",
       "      <td>-0.0022629</td>\n",
       "      <td>0.000429021</td>\n",
       "      <td>0.000272584</td>\n",
       "      <td>0.000252092</td>\n",
       "    </tr>\n",
       "    <tr>\n",
       "      <th>p7</th>\n",
       "      <td>0.00273931</td>\n",
       "      <td>0.00290717</td>\n",
       "      <td>-0.00142761</td>\n",
       "      <td>-0.00172081</td>\n",
       "      <td>-0.00159991</td>\n",
       "    </tr>\n",
       "    <tr>\n",
       "      <th>p8</th>\n",
       "      <td>-0.000873054</td>\n",
       "      <td>0.00109954</td>\n",
       "      <td>-0.00057994</td>\n",
       "      <td>0.00153341</td>\n",
       "      <td>0.00141836</td>\n",
       "    </tr>\n",
       "    <tr>\n",
       "      <th>p9</th>\n",
       "      <td>-7.96898e-06</td>\n",
       "      <td>-0.000220314</td>\n",
       "      <td>-0.000486586</td>\n",
       "      <td>-5.15295e-05</td>\n",
       "      <td>0.000146189</td>\n",
       "    </tr>\n",
       "    <tr>\n",
       "      <th>p10</th>\n",
       "      <td>-0.000181395</td>\n",
       "      <td>0.000118288</td>\n",
       "      <td>-0.000555146</td>\n",
       "      <td>-0.000604355</td>\n",
       "      <td>-0.000393914</td>\n",
       "    </tr>\n",
       "    <tr>\n",
       "      <th>p11</th>\n",
       "      <td>-0.000370343</td>\n",
       "      <td>-0.000311268</td>\n",
       "      <td>-0.000371069</td>\n",
       "      <td>-0.000366457</td>\n",
       "      <td>4.84744e-05</td>\n",
       "    </tr>\n",
       "    <tr>\n",
       "      <th>p12</th>\n",
       "      <td>-5.28311e-05</td>\n",
       "      <td>0.000174007</td>\n",
       "      <td>0.000442748</td>\n",
       "      <td>0.000272504</td>\n",
       "      <td>0.00032959</td>\n",
       "    </tr>\n",
       "  </tbody>\n",
       "</table>\n",
       "</div>"
      ],
      "text/plain": [
       "                                       0            1            2  \\\n",
       "StoreID                             1000         1000         1000   \n",
       "Date                          01/03/2016   02/03/2016   04/03/2016   \n",
       "IsHoliday                              0            0            0   \n",
       "HasPromotions                          0            0            0   \n",
       "NearestCompetitor                    326          326          326   \n",
       "Region                                 7            7            7   \n",
       "NumberOfSales                       5676         8111         8300   \n",
       "Region_AreaKM2                      9643         9643         9643   \n",
       "Region_GDP                         17130        17130        17130   \n",
       "Region_PopulationK                  2770         2770         2770   \n",
       "CloudCover                             8            8            8   \n",
       "D_Day                                  1            2            4   \n",
       "D_DayOfYear                           61           62           64   \n",
       "D_Month                                3            3            3   \n",
       "D_Year                              2016         2016         2016   \n",
       "StoreType_SuperMarket                  0            0            0   \n",
       "StoreType_HyperMarket                  1            1            1   \n",
       "StoreType_StandardMarket               0            0            0   \n",
       "StoreType_ShoppingCenter               0            0            0   \n",
       "AssortmentType_General                 1            1            1   \n",
       "AssortmentType_WithNFDept              0            0            0   \n",
       "AssortmentType_WithFishDept            0            0            0   \n",
       "MeanStoreSales                   7675.45      7675.45      7675.45   \n",
       "MeanRegionSales                  4702.75      4702.75      4702.75   \n",
       "MeanCustomers                    622.769      622.769      622.769   \n",
       "MeanRegionCustomers              284.209      284.209      284.209   \n",
       "D_DayOfWeek_cos                  0.62349    -0.222521    -0.900969   \n",
       "D_DayOfWeek_sin                 0.781831     0.974928    -0.433884   \n",
       "p1                            0.00426063   0.00422903   0.00237764   \n",
       "p2                            0.00151355  0.000905007 -0.000171148   \n",
       "p3                          -0.000960333 -0.000604326 -0.000541095   \n",
       "p4                          -0.000857565 -0.000501516 -0.000614453   \n",
       "p5                            0.00244229   0.00247817   0.00219296   \n",
       "p6                           -0.00205074   -0.0022629  0.000429021   \n",
       "p7                            0.00273931   0.00290717  -0.00142761   \n",
       "p8                          -0.000873054   0.00109954  -0.00057994   \n",
       "p9                          -7.96898e-06 -0.000220314 -0.000486586   \n",
       "p10                         -0.000181395  0.000118288 -0.000555146   \n",
       "p11                         -0.000370343 -0.000311268 -0.000371069   \n",
       "p12                         -5.28311e-05  0.000174007  0.000442748   \n",
       "\n",
       "                                       3            4  \n",
       "StoreID                             1000         1000  \n",
       "Date                          05/03/2016   07/03/2016  \n",
       "IsHoliday                              0            0  \n",
       "HasPromotions                          0            1  \n",
       "NearestCompetitor                    326          326  \n",
       "Region                                 7            7  \n",
       "NumberOfSales                       7154        10110  \n",
       "Region_AreaKM2                      9643         9643  \n",
       "Region_GDP                         17130        17130  \n",
       "Region_PopulationK                  2770         2770  \n",
       "CloudCover                             6            0  \n",
       "D_Day                                  5            7  \n",
       "D_DayOfYear                           65           67  \n",
       "D_Month                                3            3  \n",
       "D_Year                              2016         2016  \n",
       "StoreType_SuperMarket                  0            0  \n",
       "StoreType_HyperMarket                  1            1  \n",
       "StoreType_StandardMarket               0            0  \n",
       "StoreType_ShoppingCenter               0            0  \n",
       "AssortmentType_General                 1            1  \n",
       "AssortmentType_WithNFDept              0            0  \n",
       "AssortmentType_WithFishDept            0            0  \n",
       "MeanStoreSales                   7675.45      7675.45  \n",
       "MeanRegionSales                  4702.75      4702.75  \n",
       "MeanCustomers                    622.769      622.769  \n",
       "MeanRegionCustomers              284.209      284.209  \n",
       "D_DayOfWeek_cos                -0.222521            1  \n",
       "D_DayOfWeek_sin                -0.974928            0  \n",
       "p1                            0.00321092   0.00286312  \n",
       "p2                           -0.00069715 -0.000676638  \n",
       "p3                          -0.000332687 -0.000300156  \n",
       "p4                          -0.000308525 -0.000368009  \n",
       "p5                            0.00218858   0.00218882  \n",
       "p6                           0.000272584  0.000252092  \n",
       "p7                           -0.00172081  -0.00159991  \n",
       "p8                            0.00153341   0.00141836  \n",
       "p9                          -5.15295e-05  0.000146189  \n",
       "p10                         -0.000604355 -0.000393914  \n",
       "p11                         -0.000366457  4.84744e-05  \n",
       "p12                          0.000272504   0.00032959  "
      ]
     },
     "execution_count": 42,
     "metadata": {},
     "output_type": "execute_result"
    }
   ],
   "source": [
    "df.head().T"
   ]
  },
  {
   "cell_type": "code",
   "execution_count": 43,
   "metadata": {},
   "outputs": [
    {
     "data": {
      "text/plain": [
       "(433958, 40)"
      ]
     },
     "execution_count": 43,
     "metadata": {},
     "output_type": "execute_result"
    }
   ],
   "source": [
    "df.shape"
   ]
  },
  {
   "cell_type": "code",
   "execution_count": 44,
   "metadata": {},
   "outputs": [
    {
     "data": {
      "text/plain": [
       "(37586, 40)"
      ]
     },
     "execution_count": 44,
     "metadata": {},
     "output_type": "execute_result"
    }
   ],
   "source": [
    "df_test.shape"
   ]
  },
  {
   "cell_type": "code",
   "execution_count": 45,
   "metadata": {},
   "outputs": [],
   "source": [
    "if predict_for_submission:\n",
    "    print(set(df.columns)-set(df_test.columns))"
   ]
  },
  {
   "cell_type": "markdown",
   "metadata": {},
   "source": [
    "The attributes identified by \"px\" where x goes from 1 to 12 are the components obtained performing PCA on several attributes. \n",
    "You can check the whole PCA notebook looking at \"3.4_Prepr_train_PCA\"."
   ]
  },
  {
   "cell_type": "code",
   "execution_count": 46,
   "metadata": {
    "_cell_guid": "c419d49f-961e-6b70-b7a9-2e1cf1298b9e"
   },
   "outputs": [],
   "source": [
    "from sklearn.model_selection import train_test_split\n",
    "from sklearn.model_selection import cross_val_score\n",
    "from sklearn.model_selection import GridSearchCV\n",
    "from sklearn.model_selection import validation_curve"
   ]
  },
  {
   "cell_type": "markdown",
   "metadata": {},
   "source": [
    "Loading train and test set:"
   ]
  },
  {
   "cell_type": "code",
   "execution_count": 47,
   "metadata": {},
   "outputs": [
    {
     "name": "stdout",
     "output_type": "stream",
     "text": [
      "df.shape     (433958, 40)\n",
      "train.shape  (396420, 40)\n",
      "test.shape   (37538, 40)\n"
     ]
    }
   ],
   "source": [
    "import modify_dataset as md\n",
    "\n",
    "if predict_for_submission:\n",
    "    train = df\n",
    "    test = df_test\n",
    "else:\n",
    "    test_months = (3, 4)\n",
    "    test_year = 2017\n",
    "\n",
    "    train = md.get_fake_train(df, test_months, test_year)\n",
    "    test = md.get_fake_test(df, test_months, test_year)\n",
    "\n",
    "print('df.shape    ', df.shape)\n",
    "print('train.shape ', train.shape)\n",
    "print('test.shape  ', test.shape)\n",
    "\n",
    "y_train = train['NumberOfSales']"
   ]
  },
  {
   "cell_type": "markdown",
   "metadata": {},
   "source": [
    "# Feature selection on the train set:"
   ]
  },
  {
   "cell_type": "code",
   "execution_count": 48,
   "metadata": {},
   "outputs": [
    {
     "name": "stdout",
     "output_type": "stream",
     "text": [
      "features\n",
      "['D_Day',\n",
      " 'D_DayOfWeek_cos',\n",
      " 'D_DayOfWeek_sin',\n",
      " 'D_DayOfYear',\n",
      " 'D_Month',\n",
      " 'D_Year',\n",
      " 'HasPromotions',\n",
      " 'MeanCustomers',\n",
      " 'MeanStoreSales',\n",
      " 'NearestCompetitor',\n",
      " 'Region',\n",
      " 'Region_AreaKM2',\n",
      " 'Region_GDP',\n",
      " 'Region_PopulationK',\n",
      " 'StoreType_HyperMarket',\n",
      " 'p1',\n",
      " 'p10',\n",
      " 'p11',\n",
      " 'p12',\n",
      " 'p2',\n",
      " 'p3',\n",
      " 'p4',\n",
      " 'p5',\n",
      " 'p6',\n",
      " 'p7',\n",
      " 'p8',\n",
      " 'p9']\n",
      "27\n"
     ]
    }
   ],
   "source": [
    "features = list(train.columns.values)\n",
    "features.remove('NumberOfSales')\n",
    "features.remove('StoreID')\n",
    "features.remove('Date')\n",
    "\n",
    "features.remove('AssortmentType_WithFishDept')\n",
    "features.remove('StoreType_ShoppingCenter')\n",
    "features.remove('StoreType_StandardMarket')\n",
    "features.remove('AssortmentType_General')\n",
    "features.remove('CloudCover')\n",
    "features.remove('MeanRegionSales')\n",
    "features.remove('AssortmentType_WithNFDept')\n",
    "features.remove('IsHoliday')\n",
    "features.remove('StoreType_SuperMarket')\n",
    "features.remove('MeanRegionCustomers')\n",
    "\n",
    "\n",
    "print(\"features\")\n",
    "\n",
    "pprint(sorted(features))\n",
    "print(len(features))"
   ]
  },
  {
   "cell_type": "code",
   "execution_count": 49,
   "metadata": {},
   "outputs": [
    {
     "data": {
      "text/plain": [
       "(396420, 40)"
      ]
     },
     "execution_count": 49,
     "metadata": {},
     "output_type": "execute_result"
    }
   ],
   "source": [
    "train.shape"
   ]
  },
  {
   "cell_type": "code",
   "execution_count": 50,
   "metadata": {},
   "outputs": [
    {
     "data": {
      "text/html": [
       "<div>\n",
       "<style scoped>\n",
       "    .dataframe tbody tr th:only-of-type {\n",
       "        vertical-align: middle;\n",
       "    }\n",
       "\n",
       "    .dataframe tbody tr th {\n",
       "        vertical-align: top;\n",
       "    }\n",
       "\n",
       "    .dataframe thead th {\n",
       "        text-align: right;\n",
       "    }\n",
       "</style>\n",
       "<table border=\"1\" class=\"dataframe\">\n",
       "  <thead>\n",
       "    <tr style=\"text-align: right;\">\n",
       "      <th></th>\n",
       "      <th>0</th>\n",
       "      <th>1</th>\n",
       "      <th>2</th>\n",
       "      <th>3</th>\n",
       "      <th>4</th>\n",
       "    </tr>\n",
       "  </thead>\n",
       "  <tbody>\n",
       "    <tr>\n",
       "      <th>HasPromotions</th>\n",
       "      <td>0.000000</td>\n",
       "      <td>0.000000</td>\n",
       "      <td>0.000000</td>\n",
       "      <td>0.000000</td>\n",
       "      <td>1.000000</td>\n",
       "    </tr>\n",
       "    <tr>\n",
       "      <th>NearestCompetitor</th>\n",
       "      <td>326.000000</td>\n",
       "      <td>326.000000</td>\n",
       "      <td>326.000000</td>\n",
       "      <td>326.000000</td>\n",
       "      <td>326.000000</td>\n",
       "    </tr>\n",
       "    <tr>\n",
       "      <th>Region</th>\n",
       "      <td>7.000000</td>\n",
       "      <td>7.000000</td>\n",
       "      <td>7.000000</td>\n",
       "      <td>7.000000</td>\n",
       "      <td>7.000000</td>\n",
       "    </tr>\n",
       "    <tr>\n",
       "      <th>Region_AreaKM2</th>\n",
       "      <td>9643.000000</td>\n",
       "      <td>9643.000000</td>\n",
       "      <td>9643.000000</td>\n",
       "      <td>9643.000000</td>\n",
       "      <td>9643.000000</td>\n",
       "    </tr>\n",
       "    <tr>\n",
       "      <th>Region_GDP</th>\n",
       "      <td>17130.000000</td>\n",
       "      <td>17130.000000</td>\n",
       "      <td>17130.000000</td>\n",
       "      <td>17130.000000</td>\n",
       "      <td>17130.000000</td>\n",
       "    </tr>\n",
       "    <tr>\n",
       "      <th>Region_PopulationK</th>\n",
       "      <td>2770.000000</td>\n",
       "      <td>2770.000000</td>\n",
       "      <td>2770.000000</td>\n",
       "      <td>2770.000000</td>\n",
       "      <td>2770.000000</td>\n",
       "    </tr>\n",
       "    <tr>\n",
       "      <th>D_Day</th>\n",
       "      <td>1.000000</td>\n",
       "      <td>2.000000</td>\n",
       "      <td>4.000000</td>\n",
       "      <td>5.000000</td>\n",
       "      <td>7.000000</td>\n",
       "    </tr>\n",
       "    <tr>\n",
       "      <th>D_DayOfYear</th>\n",
       "      <td>61.000000</td>\n",
       "      <td>62.000000</td>\n",
       "      <td>64.000000</td>\n",
       "      <td>65.000000</td>\n",
       "      <td>67.000000</td>\n",
       "    </tr>\n",
       "    <tr>\n",
       "      <th>D_Month</th>\n",
       "      <td>3.000000</td>\n",
       "      <td>3.000000</td>\n",
       "      <td>3.000000</td>\n",
       "      <td>3.000000</td>\n",
       "      <td>3.000000</td>\n",
       "    </tr>\n",
       "    <tr>\n",
       "      <th>D_Year</th>\n",
       "      <td>2016.000000</td>\n",
       "      <td>2016.000000</td>\n",
       "      <td>2016.000000</td>\n",
       "      <td>2016.000000</td>\n",
       "      <td>2016.000000</td>\n",
       "    </tr>\n",
       "    <tr>\n",
       "      <th>StoreType_HyperMarket</th>\n",
       "      <td>1.000000</td>\n",
       "      <td>1.000000</td>\n",
       "      <td>1.000000</td>\n",
       "      <td>1.000000</td>\n",
       "      <td>1.000000</td>\n",
       "    </tr>\n",
       "    <tr>\n",
       "      <th>MeanStoreSales</th>\n",
       "      <td>7675.446488</td>\n",
       "      <td>7675.446488</td>\n",
       "      <td>7675.446488</td>\n",
       "      <td>7675.446488</td>\n",
       "      <td>7675.446488</td>\n",
       "    </tr>\n",
       "    <tr>\n",
       "      <th>MeanCustomers</th>\n",
       "      <td>622.769231</td>\n",
       "      <td>622.769231</td>\n",
       "      <td>622.769231</td>\n",
       "      <td>622.769231</td>\n",
       "      <td>622.769231</td>\n",
       "    </tr>\n",
       "    <tr>\n",
       "      <th>D_DayOfWeek_cos</th>\n",
       "      <td>0.623490</td>\n",
       "      <td>-0.222521</td>\n",
       "      <td>-0.900969</td>\n",
       "      <td>-0.222521</td>\n",
       "      <td>1.000000</td>\n",
       "    </tr>\n",
       "    <tr>\n",
       "      <th>D_DayOfWeek_sin</th>\n",
       "      <td>0.781831</td>\n",
       "      <td>0.974928</td>\n",
       "      <td>-0.433884</td>\n",
       "      <td>-0.974928</td>\n",
       "      <td>0.000000</td>\n",
       "    </tr>\n",
       "    <tr>\n",
       "      <th>p1</th>\n",
       "      <td>0.004261</td>\n",
       "      <td>0.004229</td>\n",
       "      <td>0.002378</td>\n",
       "      <td>0.003211</td>\n",
       "      <td>0.002863</td>\n",
       "    </tr>\n",
       "    <tr>\n",
       "      <th>p2</th>\n",
       "      <td>0.001514</td>\n",
       "      <td>0.000905</td>\n",
       "      <td>-0.000171</td>\n",
       "      <td>-0.000697</td>\n",
       "      <td>-0.000677</td>\n",
       "    </tr>\n",
       "    <tr>\n",
       "      <th>p3</th>\n",
       "      <td>-0.000960</td>\n",
       "      <td>-0.000604</td>\n",
       "      <td>-0.000541</td>\n",
       "      <td>-0.000333</td>\n",
       "      <td>-0.000300</td>\n",
       "    </tr>\n",
       "    <tr>\n",
       "      <th>p4</th>\n",
       "      <td>-0.000858</td>\n",
       "      <td>-0.000502</td>\n",
       "      <td>-0.000614</td>\n",
       "      <td>-0.000309</td>\n",
       "      <td>-0.000368</td>\n",
       "    </tr>\n",
       "    <tr>\n",
       "      <th>p5</th>\n",
       "      <td>0.002442</td>\n",
       "      <td>0.002478</td>\n",
       "      <td>0.002193</td>\n",
       "      <td>0.002189</td>\n",
       "      <td>0.002189</td>\n",
       "    </tr>\n",
       "    <tr>\n",
       "      <th>p6</th>\n",
       "      <td>-0.002051</td>\n",
       "      <td>-0.002263</td>\n",
       "      <td>0.000429</td>\n",
       "      <td>0.000273</td>\n",
       "      <td>0.000252</td>\n",
       "    </tr>\n",
       "    <tr>\n",
       "      <th>p7</th>\n",
       "      <td>0.002739</td>\n",
       "      <td>0.002907</td>\n",
       "      <td>-0.001428</td>\n",
       "      <td>-0.001721</td>\n",
       "      <td>-0.001600</td>\n",
       "    </tr>\n",
       "    <tr>\n",
       "      <th>p8</th>\n",
       "      <td>-0.000873</td>\n",
       "      <td>0.001100</td>\n",
       "      <td>-0.000580</td>\n",
       "      <td>0.001533</td>\n",
       "      <td>0.001418</td>\n",
       "    </tr>\n",
       "    <tr>\n",
       "      <th>p9</th>\n",
       "      <td>-0.000008</td>\n",
       "      <td>-0.000220</td>\n",
       "      <td>-0.000487</td>\n",
       "      <td>-0.000052</td>\n",
       "      <td>0.000146</td>\n",
       "    </tr>\n",
       "    <tr>\n",
       "      <th>p10</th>\n",
       "      <td>-0.000181</td>\n",
       "      <td>0.000118</td>\n",
       "      <td>-0.000555</td>\n",
       "      <td>-0.000604</td>\n",
       "      <td>-0.000394</td>\n",
       "    </tr>\n",
       "    <tr>\n",
       "      <th>p11</th>\n",
       "      <td>-0.000370</td>\n",
       "      <td>-0.000311</td>\n",
       "      <td>-0.000371</td>\n",
       "      <td>-0.000366</td>\n",
       "      <td>0.000048</td>\n",
       "    </tr>\n",
       "    <tr>\n",
       "      <th>p12</th>\n",
       "      <td>-0.000053</td>\n",
       "      <td>0.000174</td>\n",
       "      <td>0.000443</td>\n",
       "      <td>0.000273</td>\n",
       "      <td>0.000330</td>\n",
       "    </tr>\n",
       "  </tbody>\n",
       "</table>\n",
       "</div>"
      ],
      "text/plain": [
       "                                  0             1             2             3  \\\n",
       "HasPromotions              0.000000      0.000000      0.000000      0.000000   \n",
       "NearestCompetitor        326.000000    326.000000    326.000000    326.000000   \n",
       "Region                     7.000000      7.000000      7.000000      7.000000   \n",
       "Region_AreaKM2          9643.000000   9643.000000   9643.000000   9643.000000   \n",
       "Region_GDP             17130.000000  17130.000000  17130.000000  17130.000000   \n",
       "Region_PopulationK      2770.000000   2770.000000   2770.000000   2770.000000   \n",
       "D_Day                      1.000000      2.000000      4.000000      5.000000   \n",
       "D_DayOfYear               61.000000     62.000000     64.000000     65.000000   \n",
       "D_Month                    3.000000      3.000000      3.000000      3.000000   \n",
       "D_Year                  2016.000000   2016.000000   2016.000000   2016.000000   \n",
       "StoreType_HyperMarket      1.000000      1.000000      1.000000      1.000000   \n",
       "MeanStoreSales          7675.446488   7675.446488   7675.446488   7675.446488   \n",
       "MeanCustomers            622.769231    622.769231    622.769231    622.769231   \n",
       "D_DayOfWeek_cos            0.623490     -0.222521     -0.900969     -0.222521   \n",
       "D_DayOfWeek_sin            0.781831      0.974928     -0.433884     -0.974928   \n",
       "p1                         0.004261      0.004229      0.002378      0.003211   \n",
       "p2                         0.001514      0.000905     -0.000171     -0.000697   \n",
       "p3                        -0.000960     -0.000604     -0.000541     -0.000333   \n",
       "p4                        -0.000858     -0.000502     -0.000614     -0.000309   \n",
       "p5                         0.002442      0.002478      0.002193      0.002189   \n",
       "p6                        -0.002051     -0.002263      0.000429      0.000273   \n",
       "p7                         0.002739      0.002907     -0.001428     -0.001721   \n",
       "p8                        -0.000873      0.001100     -0.000580      0.001533   \n",
       "p9                        -0.000008     -0.000220     -0.000487     -0.000052   \n",
       "p10                       -0.000181      0.000118     -0.000555     -0.000604   \n",
       "p11                       -0.000370     -0.000311     -0.000371     -0.000366   \n",
       "p12                       -0.000053      0.000174      0.000443      0.000273   \n",
       "\n",
       "                                  4  \n",
       "HasPromotions              1.000000  \n",
       "NearestCompetitor        326.000000  \n",
       "Region                     7.000000  \n",
       "Region_AreaKM2          9643.000000  \n",
       "Region_GDP             17130.000000  \n",
       "Region_PopulationK      2770.000000  \n",
       "D_Day                      7.000000  \n",
       "D_DayOfYear               67.000000  \n",
       "D_Month                    3.000000  \n",
       "D_Year                  2016.000000  \n",
       "StoreType_HyperMarket      1.000000  \n",
       "MeanStoreSales          7675.446488  \n",
       "MeanCustomers            622.769231  \n",
       "D_DayOfWeek_cos            1.000000  \n",
       "D_DayOfWeek_sin            0.000000  \n",
       "p1                         0.002863  \n",
       "p2                        -0.000677  \n",
       "p3                        -0.000300  \n",
       "p4                        -0.000368  \n",
       "p5                         0.002189  \n",
       "p6                         0.000252  \n",
       "p7                        -0.001600  \n",
       "p8                         0.001418  \n",
       "p9                         0.000146  \n",
       "p10                       -0.000394  \n",
       "p11                        0.000048  \n",
       "p12                        0.000330  "
      ]
     },
     "execution_count": 50,
     "metadata": {},
     "output_type": "execute_result"
    }
   ],
   "source": [
    "train[features].head().T"
   ]
  },
  {
   "cell_type": "markdown",
   "metadata": {},
   "source": [
    "# Random Forest parameters tuning"
   ]
  },
  {
   "cell_type": "markdown",
   "metadata": {},
   "source": [
    "n_estimators analysis: "
   ]
  },
  {
   "cell_type": "code",
   "execution_count": 16,
   "metadata": {},
   "outputs": [],
   "source": [
    "params = range(1, 101, 10)  #50,201,50"
   ]
  },
  {
   "cell_type": "code",
   "execution_count": 17,
   "metadata": {},
   "outputs": [
    {
     "name": "stdout",
     "output_type": "stream",
     "text": [
      "[CV] n_estimators=1 ..................................................\n",
      "[CV] n_estimators=11 .................................................\n",
      "[CV] n_estimators=21 .................................................\n",
      "[CV] n_estimators=31 .................................................\n",
      "[CV] ................................... n_estimators=1, total=   0.4s\n",
      "[CV] n_estimators=41 .................................................\n",
      "[CV] .................................. n_estimators=11, total=   3.2s\n",
      "[CV] n_estimators=51 .................................................\n",
      "[CV] .................................. n_estimators=21, total=   6.0s\n",
      "[CV] n_estimators=61 .................................................\n",
      "[CV] .................................. n_estimators=31, total=   8.8s\n",
      "[CV] n_estimators=71 .................................................\n",
      "[CV] .................................. n_estimators=41, total=  11.6s\n",
      "[CV] n_estimators=81 .................................................\n",
      "[CV] .................................. n_estimators=51, total=  14.6s\n",
      "[CV] n_estimators=91 .................................................\n",
      "[CV] .................................. n_estimators=61, total=  17.2s\n",
      "[CV] n_estimators=1 ..................................................\n",
      "[CV] ................................... n_estimators=1, total=   0.3s\n",
      "[CV] n_estimators=11 .................................................\n",
      "[CV] .................................. n_estimators=11, total=   3.1s\n",
      "[CV] n_estimators=21 .................................................\n",
      "[CV] .................................. n_estimators=71, total=  20.2s\n",
      "[CV] n_estimators=31 .................................................\n",
      "[CV] .................................. n_estimators=21, total=   5.9s\n",
      "[CV] n_estimators=41 .................................................\n",
      "[CV] .................................. n_estimators=81, total=  23.0s\n",
      "[CV] n_estimators=51 .................................................\n",
      "[CV] .................................. n_estimators=31, total=   8.7s\n",
      "[CV] n_estimators=61 .................................................\n",
      "[CV] .................................. n_estimators=91, total=  25.9s\n",
      "[CV] n_estimators=71 .................................................\n",
      "[CV] .................................. n_estimators=41, total=  11.5s\n",
      "[CV] n_estimators=81 .................................................\n",
      "[CV] .................................. n_estimators=51, total=  14.4s\n",
      "[CV] n_estimators=91 .................................................\n",
      "[CV] .................................. n_estimators=61, total=  17.5s\n",
      "[CV] n_estimators=1 ..................................................\n",
      "[CV] ................................... n_estimators=1, total=   0.3s\n",
      "[CV] n_estimators=11 .................................................\n",
      "[CV] .................................. n_estimators=11, total=   3.1s\n",
      "[CV] n_estimators=21 .................................................\n",
      "[CV] .................................. n_estimators=71, total=  20.1s\n",
      "[CV] n_estimators=31 .................................................\n",
      "[CV] .................................. n_estimators=21, total=   6.0s\n",
      "[CV] n_estimators=41 .................................................\n",
      "[CV] .................................. n_estimators=81, total=  23.2s\n",
      "[CV] n_estimators=51 .................................................\n",
      "[CV] .................................. n_estimators=31, total=   8.8s\n",
      "[CV] n_estimators=61 .................................................\n",
      "[CV] .................................. n_estimators=91, total=  25.9s\n",
      "[CV] n_estimators=71 .................................................\n",
      "[CV] .................................. n_estimators=41, total=  11.6s\n",
      "[CV] n_estimators=81 .................................................\n"
     ]
    },
    {
     "name": "stderr",
     "output_type": "stream",
     "text": [
      "[Parallel(n_jobs=-1)]: Done  25 out of  50 | elapsed:  1.3min remaining:  1.3min\n"
     ]
    },
    {
     "name": "stdout",
     "output_type": "stream",
     "text": [
      "[CV] .................................. n_estimators=51, total=  14.4s\n",
      "[CV] n_estimators=91 .................................................\n",
      "[CV] .................................. n_estimators=61, total=  17.3s\n",
      "[CV] n_estimators=1 ..................................................\n",
      "[CV] ................................... n_estimators=1, total=   0.3s\n",
      "[CV] n_estimators=11 .................................................\n",
      "[CV] .................................. n_estimators=11, total=   3.1s\n",
      "[CV] n_estimators=21 .................................................\n",
      "[CV] .................................. n_estimators=71, total=  20.1s\n",
      "[CV] n_estimators=31 .................................................\n",
      "[CV] .................................. n_estimators=81, total=  22.8s\n",
      "[CV] n_estimators=41 .................................................\n",
      "[CV] .................................. n_estimators=21, total=   6.0s\n",
      "[CV] n_estimators=51 .................................................\n",
      "[CV] .................................. n_estimators=31, total=   8.9s\n",
      "[CV] n_estimators=61 .................................................\n",
      "[CV] .................................. n_estimators=91, total=  25.6s\n",
      "[CV] n_estimators=71 .................................................\n",
      "[CV] .................................. n_estimators=41, total=  11.6s\n",
      "[CV] n_estimators=81 .................................................\n",
      "[CV] .................................. n_estimators=51, total=  14.7s\n",
      "[CV] n_estimators=91 .................................................\n",
      "[CV] .................................. n_estimators=61, total=  18.3s\n",
      "[CV] n_estimators=1 ..................................................\n",
      "[CV] ................................... n_estimators=1, total=   0.3s\n",
      "[CV] n_estimators=11 .................................................\n",
      "[CV] .................................. n_estimators=11, total=   3.3s\n",
      "[CV] n_estimators=21 .................................................\n",
      "[CV] .................................. n_estimators=71, total=  21.3s\n",
      "[CV] n_estimators=31 .................................................\n",
      "[CV] .................................. n_estimators=21, total=   5.9s\n",
      "[CV] n_estimators=41 .................................................\n",
      "[CV] .................................. n_estimators=81, total=  24.5s\n",
      "[CV] n_estimators=51 .................................................\n",
      "[CV] .................................. n_estimators=31, total=   8.9s\n",
      "[CV] n_estimators=61 .................................................\n",
      "[CV] .................................. n_estimators=91, total=  26.9s\n",
      "[CV] n_estimators=71 .................................................\n",
      "[CV] .................................. n_estimators=41, total=  11.6s\n",
      "[CV] n_estimators=81 .................................................\n",
      "[CV] .................................. n_estimators=51, total=  14.6s\n",
      "[CV] n_estimators=91 .................................................\n",
      "[CV] .................................. n_estimators=61, total=  17.3s\n",
      "[CV] .................................. n_estimators=71, total=  19.0s\n",
      "[CV] .................................. n_estimators=81, total=  20.4s\n",
      "[CV] .................................. n_estimators=91, total=  20.1s\n"
     ]
    },
    {
     "name": "stderr",
     "output_type": "stream",
     "text": [
      "[Parallel(n_jobs=-1)]: Done  50 out of  50 | elapsed:  2.9min finished\n"
     ]
    }
   ],
   "source": [
    "if tune_parameters:\n",
    "    from sklearn.ensemble import RandomForestRegressor\n",
    "    scores, tst_scr = validation_curve(RandomForestRegressor(), train[features][:20000],\\\n",
    "                                       y_train[:20000], 'n_estimators', params, \\\n",
    "                                       cv=5, scoring='r2',n_jobs=-1, verbose=2)"
   ]
  },
  {
   "cell_type": "code",
   "execution_count": 18,
   "metadata": {},
   "outputs": [
    {
     "data": {
      "image/png": "[encoded data removed]",
      "text/plain": [
       "<matplotlib.figure.Figure at 0x1a1bcc19e8>"
      ]
     },
     "metadata": {},
     "output_type": "display_data"
    }
   ],
   "source": [
    "%matplotlib inline\n",
    "plt.style.use('ggplot')\n",
    "plt.rcParams['figure.figsize'] = (15, 6)\n",
    "plt.rcParams['figure.figsize'] = [20.0,8.0]\n",
    "plt.rcParams['figure.dpi']=80\n",
    "\n",
    "if tune_parameters:\n",
    "    scores_mean = scores.mean(axis=1)\n",
    "    scores_std = scores.std(axis=1)\n",
    "    tst_scr_mean = tst_scr.mean(axis=1)\n",
    "    tst_scr_std = tst_scr.std(axis=1)\n",
    "    plt.plot(params, tst_scr_mean)\n",
    "    plt.fill_between(params, tst_scr_mean + tst_scr_std, tst_scr_mean - tst_scr_std, alpha=0.3)\n",
    "    plt.plot(params, scores_mean)\n",
    "    plt.fill_between(params, scores_mean + scores_std, scores_mean - scores_std, alpha=0.3)"
   ]
  },
  {
   "cell_type": "markdown",
   "metadata": {},
   "source": [
    "As we can see in the graph, from 40 estimators on the performance curve is stable, so we set n_estimators = 40. "
   ]
  },
  {
   "cell_type": "markdown",
   "metadata": {},
   "source": [
    "##### "
   ]
  },
  {
   "cell_type": "markdown",
   "metadata": {},
   "source": []
  },
  {
   "cell_type": "markdown",
   "metadata": {},
   "source": [
    "max_features analysis:"
   ]
  },
  {
   "cell_type": "code",
   "execution_count": 19,
   "metadata": {},
   "outputs": [],
   "source": [
    "params = range(1, 25,2)"
   ]
  },
  {
   "cell_type": "code",
   "execution_count": 20,
   "metadata": {},
   "outputs": [
    {
     "name": "stdout",
     "output_type": "stream",
     "text": [
      "[CV] max_features=1 ..................................................\n",
      "[CV] max_features=3 ..................................................\n",
      "[CV] max_features=5 ..................................................\n",
      "[CV] max_features=7 ..................................................\n",
      "[CV] ................................... max_features=1, total=   0.3s\n",
      "[CV] max_features=9 ..................................................\n",
      "[CV] ................................... max_features=3, total=   0.5s\n",
      "[CV] max_features=11 .................................................\n",
      "[CV] ................................... max_features=5, total=   0.6s\n",
      "[CV] max_features=13 .................................................\n",
      "[CV] ................................... max_features=7, total=   0.8s\n",
      "[CV] max_features=15 .................................................\n",
      "[CV] ................................... max_features=9, total=   1.0s\n",
      "[CV] max_features=17 .................................................\n",
      "[CV] .................................. max_features=11, total=   1.2s\n",
      "[CV] max_features=19 .................................................\n",
      "[CV] .................................. max_features=13, total=   1.4s\n",
      "[CV] max_features=21 .................................................\n",
      "[CV] .................................. max_features=15, total=   1.5s\n",
      "[CV] max_features=23 .................................................\n",
      "[CV] .................................. max_features=17, total=   1.6s\n",
      "[CV] max_features=1 ..................................................\n",
      "[CV] ................................... max_features=1, total=   0.2s\n",
      "[CV] max_features=3 ..................................................\n",
      "[CV] .................................. max_features=19, total=   1.7s\n",
      "[CV] max_features=5 ..................................................\n",
      "[CV] ................................... max_features=3, total=   0.4s\n",
      "[CV] max_features=7 ..................................................\n",
      "[CV] .................................. max_features=21, total=   1.9s\n",
      "[CV] max_features=9 ..................................................\n",
      "[CV] ................................... max_features=5, total=   0.6s\n",
      "[CV] max_features=11 .................................................\n",
      "[CV] ................................... max_features=7, total=   0.7s\n",
      "[CV] max_features=13 .................................................\n",
      "[CV] .................................. max_features=23, total=   2.1s\n",
      "[CV] max_features=15 .................................................\n",
      "[CV] ................................... max_features=9, total=   0.9s\n",
      "[CV] max_features=17 .................................................\n",
      "[CV] .................................. max_features=11, total=   1.1s\n",
      "[CV] max_features=19 .................................................\n"
     ]
    },
    {
     "name": "stderr",
     "output_type": "stream",
     "text": [
      "[Parallel(n_jobs=-1)]: Done  18 out of  36 | elapsed:    5.4s remaining:    5.4s\n"
     ]
    },
    {
     "name": "stdout",
     "output_type": "stream",
     "text": [
      "[CV] .................................. max_features=13, total=   1.2s\n",
      "[CV] max_features=21 .................................................\n",
      "[CV] .................................. max_features=15, total=   1.4s\n",
      "[CV] max_features=23 .................................................\n",
      "[CV] .................................. max_features=17, total=   1.5s\n",
      "[CV] max_features=1 ..................................................\n",
      "[CV] ................................... max_features=1, total=   0.2s\n",
      "[CV] max_features=3 ..................................................\n",
      "[CV] .................................. max_features=19, total=   1.7s\n",
      "[CV] max_features=5 ..................................................\n",
      "[CV] ................................... max_features=3, total=   0.4s\n",
      "[CV] max_features=7 ..................................................\n",
      "[CV] ................................... max_features=5, total=   0.6s\n",
      "[CV] max_features=9 ..................................................\n",
      "[CV] .................................. max_features=21, total=   2.0s\n",
      "[CV] max_features=11 .................................................\n",
      "[CV] ................................... max_features=7, total=   0.8s\n",
      "[CV] max_features=13 .................................................\n",
      "[CV] .................................. max_features=23, total=   2.1s\n",
      "[CV] max_features=15 .................................................\n",
      "[CV] ................................... max_features=9, total=   1.0s\n",
      "[CV] max_features=17 .................................................\n",
      "[CV] .................................. max_features=11, total=   1.4s\n",
      "[CV] max_features=19 .................................................\n",
      "[CV] .................................. max_features=13, total=   1.5s\n",
      "[CV] max_features=21 .................................................\n",
      "[CV] .................................. max_features=15, total=   1.8s\n",
      "[CV] max_features=23 .................................................\n",
      "[CV] .................................. max_features=17, total=   1.9s\n",
      "[CV] .................................. max_features=19, total=   1.9s\n",
      "[CV] .................................. max_features=21, total=   1.8s\n",
      "[CV] .................................. max_features=23, total=   1.7s\n"
     ]
    },
    {
     "name": "stderr",
     "output_type": "stream",
     "text": [
      "[Parallel(n_jobs=-1)]: Done  36 out of  36 | elapsed:   12.0s finished\n"
     ]
    }
   ],
   "source": [
    "if tune_parameters:\n",
    "    from sklearn.ensemble import RandomForestRegressor\n",
    "    scores, tst_scr = validation_curve(RandomForestRegressor(n_estimators=10), train[features][:20000], \\\n",
    "                                       y_train[:20000], 'max_features', params, \\\n",
    "                                       cv=3, scoring='r2',n_jobs=-1, verbose=2)"
   ]
  },
  {
   "cell_type": "code",
   "execution_count": 21,
   "metadata": {},
   "outputs": [
    {
     "data": {
      "image/png": "[encoded data removed]",
      "text/plain": [
       "<matplotlib.figure.Figure at 0x10e01a7b8>"
      ]
     },
     "metadata": {},
     "output_type": "display_data"
    }
   ],
   "source": [
    "%matplotlib inline\n",
    "plt.style.use('ggplot')\n",
    "plt.rcParams['figure.figsize'] = (15, 6)\n",
    "plt.rcParams['figure.figsize'] = [20.0,8.0]\n",
    "plt.rcParams['figure.dpi']=80\n",
    "\n",
    "if tune_parameters:\n",
    "    scores_mean = scores.mean(axis=1)\n",
    "    scores_std = scores.std(axis=1)\n",
    "    tst_scr_mean = tst_scr.mean(axis=1)\n",
    "    tst_scr_std = tst_scr.std(axis=1)\n",
    "    plt.plot(params, tst_scr_mean)\n",
    "    plt.fill_between(params, tst_scr_mean + tst_scr_std, tst_scr_mean - tst_scr_std, alpha=0.3)\n",
    "    plt.plot(params, scores_mean)\n",
    "    plt.fill_between(params, scores_mean + scores_std, scores_mean - scores_std, alpha=0.3)"
   ]
  },
  {
   "cell_type": "markdown",
   "metadata": {},
   "source": [
    "As we can see in the chart above, it seems that more than 20 features can ensure the best performances."
   ]
  },
  {
   "cell_type": "markdown",
   "metadata": {},
   "source": []
  },
  {
   "cell_type": "markdown",
   "metadata": {},
   "source": []
  },
  {
   "cell_type": "markdown",
   "metadata": {},
   "source": [
    "max_depth analysis:"
   ]
  },
  {
   "cell_type": "code",
   "execution_count": 22,
   "metadata": {},
   "outputs": [],
   "source": [
    "params = range(5, 101, 5)"
   ]
  },
  {
   "cell_type": "code",
   "execution_count": 23,
   "metadata": {},
   "outputs": [
    {
     "name": "stdout",
     "output_type": "stream",
     "text": [
      "[CV] max_depth=5 .....................................................\n",
      "[CV] max_depth=10 ....................................................\n",
      "[CV] max_depth=15 ....................................................\n",
      "[CV] max_depth=20 ....................................................\n",
      "[CV] ...................................... max_depth=5, total=   8.0s\n",
      "[CV] max_depth=25 ....................................................\n",
      "[CV] ..................................... max_depth=10, total=  15.6s\n",
      "[CV] max_depth=30 ....................................................\n",
      "[CV] ..................................... max_depth=15, total=  21.0s\n",
      "[CV] max_depth=35 ....................................................\n",
      "[CV] ..................................... max_depth=20, total=  23.8s\n",
      "[CV] max_depth=40 ....................................................\n",
      "[CV] ..................................... max_depth=25, total=  24.5s\n",
      "[CV] max_depth=45 ....................................................\n",
      "[CV] ..................................... max_depth=30, total=  23.5s\n",
      "[CV] max_depth=50 ....................................................\n",
      "[CV] ..................................... max_depth=35, total=  23.5s\n",
      "[CV] max_depth=55 ....................................................\n",
      "[CV] ..................................... max_depth=40, total=  23.5s\n",
      "[CV] max_depth=60 ....................................................\n",
      "[CV] ..................................... max_depth=45, total=  23.6s\n",
      "[CV] max_depth=65 ....................................................\n",
      "[CV] ..................................... max_depth=50, total=  23.6s\n",
      "[CV] max_depth=70 ....................................................\n",
      "[CV] ..................................... max_depth=55, total=  23.7s\n",
      "[CV] max_depth=75 ....................................................\n",
      "[CV] ..................................... max_depth=60, total=  23.4s\n",
      "[CV] max_depth=80 ....................................................\n",
      "[CV] ..................................... max_depth=65, total=  23.3s\n",
      "[CV] max_depth=85 ....................................................\n",
      "[CV] ..................................... max_depth=70, total=  23.3s\n",
      "[CV] max_depth=90 ....................................................\n",
      "[CV] ..................................... max_depth=75, total=  23.3s\n",
      "[CV] max_depth=95 ....................................................\n",
      "[CV] ..................................... max_depth=80, total=  23.2s\n",
      "[CV] max_depth=100 ...................................................\n",
      "[CV] ..................................... max_depth=85, total=  23.2s\n",
      "[CV] max_depth=5 .....................................................\n",
      "[CV] ..................................... max_depth=90, total=  23.5s\n",
      "[CV] max_depth=10 ....................................................\n",
      "[CV] ...................................... max_depth=5, total=   7.9s\n",
      "[CV] max_depth=15 ....................................................\n",
      "[CV] ..................................... max_depth=95, total=  23.3s\n",
      "[CV] max_depth=20 ....................................................\n",
      "[CV] .................................... max_depth=100, total=  23.5s\n",
      "[CV] max_depth=25 ....................................................\n",
      "[CV] ..................................... max_depth=10, total=  14.6s\n",
      "[CV] max_depth=30 ....................................................\n",
      "[CV] ..................................... max_depth=15, total=  19.9s\n",
      "[CV] max_depth=35 ....................................................\n",
      "[CV] ..................................... max_depth=20, total=  22.7s\n",
      "[CV] max_depth=40 ....................................................\n",
      "[CV] ..................................... max_depth=25, total=  23.5s\n",
      "[CV] max_depth=45 ....................................................\n",
      "[CV] ..................................... max_depth=30, total=  23.4s\n",
      "[CV] max_depth=50 ....................................................\n",
      "[CV] ..................................... max_depth=35, total=  23.5s\n",
      "[CV] max_depth=55 ....................................................\n",
      "[CV] ..................................... max_depth=40, total=  23.3s\n",
      "[CV] max_depth=60 ....................................................\n",
      "[CV] ..................................... max_depth=45, total=  23.4s\n",
      "[CV] max_depth=65 ....................................................\n",
      "[CV] ..................................... max_depth=50, total=  23.2s\n",
      "[CV] max_depth=70 ....................................................\n"
     ]
    },
    {
     "name": "stderr",
     "output_type": "stream",
     "text": [
      "[Parallel(n_jobs=-1)]: Done  30 out of  60 | elapsed:  2.9min remaining:  2.9min\n"
     ]
    },
    {
     "name": "stdout",
     "output_type": "stream",
     "text": [
      "[CV] ..................................... max_depth=55, total=  23.3s\n",
      "[CV] max_depth=75 ....................................................\n",
      "[CV] ..................................... max_depth=60, total=  23.4s\n",
      "[CV] max_depth=80 ....................................................\n",
      "[CV] ..................................... max_depth=65, total=  23.6s\n",
      "[CV] max_depth=85 ....................................................\n",
      "[CV] ..................................... max_depth=70, total=  23.5s\n",
      "[CV] max_depth=90 ....................................................\n",
      "[CV] ..................................... max_depth=75, total=  23.4s\n",
      "[CV] max_depth=95 ....................................................\n",
      "[CV] ..................................... max_depth=80, total=  23.6s\n",
      "[CV] max_depth=100 ...................................................\n",
      "[CV] ..................................... max_depth=85, total=  23.7s\n",
      "[CV] max_depth=5 .....................................................\n",
      "[CV] ..................................... max_depth=90, total=  23.6s\n",
      "[CV] max_depth=10 ....................................................\n",
      "[CV] ...................................... max_depth=5, total=   7.9s\n",
      "[CV] max_depth=15 ....................................................\n",
      "[CV] ..................................... max_depth=95, total=  23.6s\n",
      "[CV] max_depth=20 ....................................................\n",
      "[CV] .................................... max_depth=100, total=  23.3s\n",
      "[CV] max_depth=25 ....................................................\n",
      "[CV] ..................................... max_depth=10, total=  14.4s\n",
      "[CV] max_depth=30 ....................................................\n",
      "[CV] ..................................... max_depth=15, total=  19.9s\n",
      "[CV] max_depth=35 ....................................................\n",
      "[CV] ..................................... max_depth=20, total=  23.0s\n",
      "[CV] max_depth=40 ....................................................\n",
      "[CV] ..................................... max_depth=25, total=  23.5s\n",
      "[CV] max_depth=45 ....................................................\n",
      "[CV] ..................................... max_depth=30, total=  23.7s\n",
      "[CV] max_depth=50 ....................................................\n",
      "[CV] ..................................... max_depth=35, total=  23.7s\n",
      "[CV] max_depth=55 ....................................................\n",
      "[CV] ..................................... max_depth=40, total=  23.5s\n",
      "[CV] max_depth=60 ....................................................\n",
      "[CV] ..................................... max_depth=45, total=  23.5s\n",
      "[CV] max_depth=65 ....................................................\n",
      "[CV] ..................................... max_depth=50, total=  23.3s\n",
      "[CV] max_depth=70 ....................................................\n",
      "[CV] ..................................... max_depth=55, total=  23.4s\n",
      "[CV] max_depth=75 ....................................................\n",
      "[CV] ..................................... max_depth=60, total=  23.4s\n",
      "[CV] max_depth=80 ....................................................\n",
      "[CV] ..................................... max_depth=65, total=  23.4s\n",
      "[CV] max_depth=85 ....................................................\n",
      "[CV] ..................................... max_depth=70, total=  23.5s\n",
      "[CV] max_depth=90 ....................................................\n",
      "[CV] ..................................... max_depth=75, total=  23.4s\n",
      "[CV] max_depth=95 ....................................................\n",
      "[CV] ..................................... max_depth=80, total=  23.9s\n",
      "[CV] max_depth=100 ...................................................\n",
      "[CV] ..................................... max_depth=85, total=  23.9s\n",
      "[CV] ..................................... max_depth=90, total=  23.8s\n",
      "[CV] ..................................... max_depth=95, total=  21.3s\n",
      "[CV] .................................... max_depth=100, total=  18.1s\n"
     ]
    },
    {
     "name": "stderr",
     "output_type": "stream",
     "text": [
      "[Parallel(n_jobs=-1)]: Done  60 out of  60 | elapsed:  5.7min finished\n"
     ]
    }
   ],
   "source": [
    "if tune_parameters:\n",
    "    from sklearn.ensemble import RandomForestRegressor\n",
    "    scores, tst_scr = validation_curve(RandomForestRegressor(n_estimators=100), train[features][:20000], \\\n",
    "                                       y_train[:20000], 'max_depth', params, \\\n",
    "                                       cv=3, scoring='r2',n_jobs=-1, verbose=2)"
   ]
  },
  {
   "cell_type": "code",
   "execution_count": 24,
   "metadata": {},
   "outputs": [
    {
     "data": {
      "image/png": "[encoded data removed]",
      "text/plain": [
       "<matplotlib.figure.Figure at 0x1a1bffcf28>"
      ]
     },
     "metadata": {},
     "output_type": "display_data"
    }
   ],
   "source": [
    "%matplotlib inline\n",
    "plt.style.use('ggplot')\n",
    "plt.rcParams['figure.figsize'] = (15, 6)\n",
    "plt.rcParams['figure.figsize'] = [20.0,8.0]\n",
    "plt.rcParams['figure.dpi']=80\n",
    "\n",
    "if tune_parameters:\n",
    "    scores_mean = scores.mean(axis=1)\n",
    "    scores_std = scores.std(axis=1)\n",
    "    tst_scr_mean = tst_scr.mean(axis=1)\n",
    "    tst_scr_std = tst_scr.std(axis=1)\n",
    "    plt.plot(params, tst_scr_mean)\n",
    "    plt.fill_between(params, tst_scr_mean + tst_scr_std, tst_scr_mean - tst_scr_std, alpha=0.3)\n",
    "    plt.plot(params, scores_mean)\n",
    "    plt.fill_between(params, scores_mean + scores_std, scores_mean - scores_std, alpha=0.3)"
   ]
  },
  {
   "cell_type": "markdown",
   "metadata": {},
   "source": [
    "The graph above show how a suitable value for max_depth is 20, indeed even increasing it, the performance are stable."
   ]
  },
  {
   "cell_type": "markdown",
   "metadata": {},
   "source": [
    "# Model Building "
   ]
  },
  {
   "cell_type": "code",
   "execution_count": 51,
   "metadata": {
    "_cell_guid": "018cf318-6e90-ff0a-5df8-af606ae38f21"
   },
   "outputs": [],
   "source": [
    "from sklearn.ensemble import RandomForestRegressor"
   ]
  },
  {
   "cell_type": "code",
   "execution_count": 52,
   "metadata": {
    "_cell_guid": "b3e3ba0d-11e8-fcc9-e570-c115bcfd95af"
   },
   "outputs": [],
   "source": [
    "model1 = RandomForestRegressor(n_estimators=100, max_depth=20, n_jobs=-1, verbose=2)"
   ]
  },
  {
   "cell_type": "code",
   "execution_count": 53,
   "metadata": {
    "_cell_guid": "4ca7054e-92a6-6ab3-c758-8503d9b53c29"
   },
   "outputs": [
    {
     "name": "stdout",
     "output_type": "stream",
     "text": [
      "building tree 1 of 100\n",
      "building tree 2 of 100\n",
      "building tree 3 of 100\n",
      "building tree 4 of 100\n",
      "building tree 5 of 100\n",
      "building tree 6 of 100\n",
      "building tree 7 of 100\n",
      "building tree 8 of 100\n",
      "building tree 9 of 100\n",
      "building tree 10 of 100\n",
      "building tree 11 of 100\n",
      "building tree 12 of 100\n",
      "building tree 13 of 100\n",
      "building tree 14 of 100\n",
      "building tree 15 of 100\n",
      "building tree 16 of 100\n",
      "building tree 17 of 100\n",
      "building tree 18 of 100\n",
      "building tree 19 of 100\n",
      "building tree 20 of 100\n",
      "building tree 21 of 100\n",
      "building tree 22 of 100\n",
      "building tree 23 of 100\n",
      "building tree 24 of 100\n",
      "building tree 25 of 100\n",
      "building tree 26 of 100\n",
      "building tree 27 of 100\n",
      "building tree 28 of 100\n",
      "building tree 29 of 100\n",
      "building tree 30 of 100\n",
      "building tree 31 of 100\n",
      "building tree 32 of 100\n",
      "building tree 33 of 100\n",
      "building tree 34 of 100\n",
      "building tree 35 of 100\n",
      "building tree 36 of 100\n"
     ]
    },
    {
     "name": "stderr",
     "output_type": "stream",
     "text": [
      "[Parallel(n_jobs=-1)]: Done  33 tasks      | elapsed:  1.4min\n"
     ]
    },
    {
     "name": "stdout",
     "output_type": "stream",
     "text": [
      "building tree 37 of 100\n",
      "building tree 38 of 100\n",
      "building tree 39 of 100\n",
      "building tree 40 of 100\n",
      "building tree 41 of 100\n",
      "building tree 42 of 100\n",
      "building tree 43 of 100\n",
      "building tree 44 of 100\n",
      "building tree 45 of 100\n",
      "building tree 46 of 100\n",
      "building tree 47 of 100\n",
      "building tree 48 of 100\n",
      "building tree 49 of 100\n",
      "building tree 50 of 100\n",
      "building tree 51 of 100\n",
      "building tree 52 of 100\n",
      "building tree 53 of 100\n",
      "building tree 54 of 100\n",
      "building tree 55 of 100\n",
      "building tree 56 of 100\n",
      "building tree 57 of 100\n",
      "building tree 58 of 100\n",
      "building tree 59 of 100\n",
      "building tree 60 of 100\n",
      "building tree 61 of 100\n",
      "building tree 62 of 100\n",
      "building tree 63 of 100\n",
      "building tree 64 of 100\n",
      "building tree 65 of 100\n",
      "building tree 66 of 100\n",
      "building tree 67 of 100\n",
      "building tree 68 of 100\n",
      "building tree 69 of 100\n",
      "building tree 70 of 100\n",
      "building tree 71 of 100\n",
      "building tree 72 of 100\n",
      "building tree 73 of 100\n",
      "building tree 74 of 100\n",
      "building tree 75 of 100\n",
      "building tree 76 of 100\n",
      "building tree 77 of 100\n",
      "building tree 78 of 100\n",
      "building tree 79 of 100\n",
      "building tree 80 of 100\n",
      "building tree 81 of 100\n",
      "building tree 82 of 100\n",
      "building tree 83 of 100\n",
      "building tree 84 of 100\n",
      "building tree 85 of 100\n",
      "building tree 86 of 100\n",
      "building tree 87 of 100\n",
      "building tree 88 of 100\n",
      "building tree 89 of 100\n",
      "building tree 90 of 100\n",
      "building tree 91 of 100\n",
      "building tree 92 of 100\n",
      "building tree 93 of 100\n",
      "building tree 94 of 100\n",
      "building tree 95 of 100\n",
      "building tree 96 of 100\n",
      "building tree 97 of 100\n",
      "building tree 98 of 100\n",
      "building tree 99 of 100\n",
      "building tree 100 of 100\n"
     ]
    },
    {
     "name": "stderr",
     "output_type": "stream",
     "text": [
      "[Parallel(n_jobs=-1)]: Done 100 out of 100 | elapsed:  4.1min finished\n"
     ]
    },
    {
     "data": {
      "text/plain": [
       "RandomForestRegressor(bootstrap=True, criterion='mse', max_depth=20,\n",
       "           max_features='auto', max_leaf_nodes=None,\n",
       "           min_impurity_decrease=0.0, min_impurity_split=None,\n",
       "           min_samples_leaf=1, min_samples_split=2,\n",
       "           min_weight_fraction_leaf=0.0, n_estimators=100, n_jobs=-1,\n",
       "           oob_score=False, random_state=None, verbose=2, warm_start=False)"
      ]
     },
     "execution_count": 53,
     "metadata": {},
     "output_type": "execute_result"
    }
   ],
   "source": [
    "model1.fit(train[features], train['NumberOfSales'])"
   ]
  },
  {
   "cell_type": "markdown",
   "metadata": {},
   "source": [
    "Which are the most relevant features?"
   ]
  },
  {
   "cell_type": "code",
   "execution_count": 54,
   "metadata": {
    "_cell_guid": "b237139b-3eaa-a348-2717-1f2536b84ede"
   },
   "outputs": [],
   "source": [
    "idx = model1.feature_importances_.argsort()[::-1]"
   ]
  },
  {
   "cell_type": "code",
   "execution_count": 55,
   "metadata": {
    "_cell_guid": "0b7a9919-c9d3-adb9-4fb4-e4cd94b72c99"
   },
   "outputs": [
    {
     "data": {
      "image/png": "[encoded data removed]",
      "text/plain": [
       "<matplotlib.figure.Figure at 0x1a3480f080>"
      ]
     },
     "metadata": {},
     "output_type": "display_data"
    }
   ],
   "source": [
    "ax = sns.barplot(x=df[features].columns[idx], y=model1.feature_importances_[idx])\n",
    "_ = plt.setp(ax.get_xticklabels(), rotation=-90)"
   ]
  },
  {
   "cell_type": "markdown",
   "metadata": {},
   "source": [
    "# Predict"
   ]
  },
  {
   "cell_type": "code",
   "execution_count": 56,
   "metadata": {},
   "outputs": [
    {
     "name": "stderr",
     "output_type": "stream",
     "text": [
      "[Parallel(n_jobs=4)]: Done  33 tasks      | elapsed:    0.1s\n",
      "[Parallel(n_jobs=4)]: Done 100 out of 100 | elapsed:    0.4s finished\n"
     ]
    }
   ],
   "source": [
    "test['_NumberOfSales'] = model1.predict(test[features])"
   ]
  },
  {
   "cell_type": "code",
   "execution_count": 57,
   "metadata": {},
   "outputs": [
    {
     "name": "stderr",
     "output_type": "stream",
     "text": [
      "[Parallel(n_jobs=4)]: Done  33 tasks      | elapsed:    0.9s\n",
      "[Parallel(n_jobs=4)]: Done 100 out of 100 | elapsed:    2.6s finished\n"
     ]
    }
   ],
   "source": [
    "train['_NumberOfSales'] = model1.predict(train[features])"
   ]
  },
  {
   "cell_type": "markdown",
   "metadata": {},
   "source": [
    "# Estimating error through BIP function"
   ]
  },
  {
   "cell_type": "code",
   "execution_count": 58,
   "metadata": {},
   "outputs": [
    {
     "name": "stdout",
     "output_type": "stream",
     "text": [
      "BIP total error: 0.03911885243358792\n"
     ]
    }
   ],
   "source": [
    "if not predict_for_submission:\n",
    "    from BIP import get_BIP_error\n",
    "    error1 = get_BIP_error(test)"
   ]
  },
  {
   "cell_type": "code",
   "execution_count": 59,
   "metadata": {},
   "outputs": [
    {
     "name": "stdout",
     "output_type": "stream",
     "text": [
      "BIP total error: 0.015398213669341927\n"
     ]
    }
   ],
   "source": [
    "if not predict_for_submission:\n",
    "    from BIP import get_BIP_error\n",
    "    error1 = get_BIP_error(train)"
   ]
  },
  {
   "cell_type": "markdown",
   "metadata": {},
   "source": [
    "## Writing to file"
   ]
  },
  {
   "cell_type": "code",
   "execution_count": 60,
   "metadata": {},
   "outputs": [],
   "source": [
    "if predict_for_submission:\n",
    "    test.to_csv('./dataset/submission_53_RFR_on_prep.csv', index=False)\n",
    "else:\n",
    "    mm = 'm{}{}'.format(test_months[0],test_months[1])\n",
    "    test.to_csv('./dataset/test_'+mm+'_53_RFR_on_prep.csv', index=False)"
   ]
  },
  {
   "cell_type": "markdown",
   "metadata": {},
   "source": [
    "# Estimating error through R2 function"
   ]
  },
  {
   "cell_type": "code",
   "execution_count": 61,
   "metadata": {},
   "outputs": [
    {
     "name": "stdout",
     "output_type": "stream",
     "text": [
      "(37538, 41)\n",
      "RSS: 22993660105.026287\n"
     ]
    },
    {
     "data": {
      "text/html": [
       "<div>\n",
       "<style scoped>\n",
       "    .dataframe tbody tr th:only-of-type {\n",
       "        vertical-align: middle;\n",
       "    }\n",
       "\n",
       "    .dataframe tbody tr th {\n",
       "        vertical-align: top;\n",
       "    }\n",
       "\n",
       "    .dataframe thead th {\n",
       "        text-align: right;\n",
       "    }\n",
       "</style>\n",
       "<table border=\"1\" class=\"dataframe\">\n",
       "  <thead>\n",
       "    <tr style=\"text-align: right;\">\n",
       "      <th></th>\n",
       "      <th>StoreID</th>\n",
       "      <th>Date</th>\n",
       "      <th>IsHoliday</th>\n",
       "      <th>HasPromotions</th>\n",
       "      <th>NearestCompetitor</th>\n",
       "      <th>Region</th>\n",
       "      <th>NumberOfSales</th>\n",
       "      <th>Region_AreaKM2</th>\n",
       "      <th>Region_GDP</th>\n",
       "      <th>Region_PopulationK</th>\n",
       "      <th>...</th>\n",
       "      <th>p5</th>\n",
       "      <th>p6</th>\n",
       "      <th>p7</th>\n",
       "      <th>p8</th>\n",
       "      <th>p9</th>\n",
       "      <th>p10</th>\n",
       "      <th>p11</th>\n",
       "      <th>p12</th>\n",
       "      <th>_NumberOfSales</th>\n",
       "      <th>sqrd_diff</th>\n",
       "    </tr>\n",
       "  </thead>\n",
       "  <tbody>\n",
       "    <tr>\n",
       "      <th>302</th>\n",
       "      <td>1000</td>\n",
       "      <td>01/03/2017</td>\n",
       "      <td>0</td>\n",
       "      <td>0</td>\n",
       "      <td>326</td>\n",
       "      <td>7</td>\n",
       "      <td>5509</td>\n",
       "      <td>9643</td>\n",
       "      <td>17130</td>\n",
       "      <td>2770</td>\n",
       "      <td>...</td>\n",
       "      <td>0.002268</td>\n",
       "      <td>0.000889</td>\n",
       "      <td>0.000052</td>\n",
       "      <td>-0.000992</td>\n",
       "      <td>-0.000124</td>\n",
       "      <td>-0.000808</td>\n",
       "      <td>-0.000501</td>\n",
       "      <td>0.000075</td>\n",
       "      <td>6642.490219</td>\n",
       "      <td>1.284800e+06</td>\n",
       "    </tr>\n",
       "    <tr>\n",
       "      <th>303</th>\n",
       "      <td>1000</td>\n",
       "      <td>02/03/2017</td>\n",
       "      <td>0</td>\n",
       "      <td>0</td>\n",
       "      <td>326</td>\n",
       "      <td>7</td>\n",
       "      <td>5881</td>\n",
       "      <td>9643</td>\n",
       "      <td>17130</td>\n",
       "      <td>2770</td>\n",
       "      <td>...</td>\n",
       "      <td>0.002234</td>\n",
       "      <td>0.001760</td>\n",
       "      <td>-0.000015</td>\n",
       "      <td>-0.000700</td>\n",
       "      <td>0.000316</td>\n",
       "      <td>-0.000881</td>\n",
       "      <td>-0.000139</td>\n",
       "      <td>0.000136</td>\n",
       "      <td>7645.940786</td>\n",
       "      <td>3.115016e+06</td>\n",
       "    </tr>\n",
       "    <tr>\n",
       "      <th>304</th>\n",
       "      <td>1000</td>\n",
       "      <td>03/03/2017</td>\n",
       "      <td>0</td>\n",
       "      <td>0</td>\n",
       "      <td>326</td>\n",
       "      <td>7</td>\n",
       "      <td>8463</td>\n",
       "      <td>9643</td>\n",
       "      <td>17130</td>\n",
       "      <td>2770</td>\n",
       "      <td>...</td>\n",
       "      <td>0.002211</td>\n",
       "      <td>0.000456</td>\n",
       "      <td>-0.000833</td>\n",
       "      <td>-0.000546</td>\n",
       "      <td>-0.000316</td>\n",
       "      <td>-0.000455</td>\n",
       "      <td>-0.000162</td>\n",
       "      <td>-0.000145</td>\n",
       "      <td>7996.720086</td>\n",
       "      <td>2.174170e+05</td>\n",
       "    </tr>\n",
       "    <tr>\n",
       "      <th>305</th>\n",
       "      <td>1000</td>\n",
       "      <td>04/03/2017</td>\n",
       "      <td>0</td>\n",
       "      <td>0</td>\n",
       "      <td>326</td>\n",
       "      <td>7</td>\n",
       "      <td>8146</td>\n",
       "      <td>9643</td>\n",
       "      <td>17130</td>\n",
       "      <td>2770</td>\n",
       "      <td>...</td>\n",
       "      <td>0.002251</td>\n",
       "      <td>0.000720</td>\n",
       "      <td>-0.000274</td>\n",
       "      <td>-0.001242</td>\n",
       "      <td>-0.000021</td>\n",
       "      <td>-0.000516</td>\n",
       "      <td>-0.000457</td>\n",
       "      <td>0.000222</td>\n",
       "      <td>7621.263690</td>\n",
       "      <td>2.753482e+05</td>\n",
       "    </tr>\n",
       "    <tr>\n",
       "      <th>306</th>\n",
       "      <td>1000</td>\n",
       "      <td>06/03/2017</td>\n",
       "      <td>0</td>\n",
       "      <td>1</td>\n",
       "      <td>326</td>\n",
       "      <td>7</td>\n",
       "      <td>11306</td>\n",
       "      <td>9643</td>\n",
       "      <td>17130</td>\n",
       "      <td>2770</td>\n",
       "      <td>...</td>\n",
       "      <td>0.002208</td>\n",
       "      <td>0.000525</td>\n",
       "      <td>-0.001188</td>\n",
       "      <td>-0.000629</td>\n",
       "      <td>-0.000746</td>\n",
       "      <td>-0.000432</td>\n",
       "      <td>0.000514</td>\n",
       "      <td>0.000050</td>\n",
       "      <td>10619.408745</td>\n",
       "      <td>4.714076e+05</td>\n",
       "    </tr>\n",
       "  </tbody>\n",
       "</table>\n",
       "<p>5 rows × 42 columns</p>\n",
       "</div>"
      ],
      "text/plain": [
       "     StoreID        Date  IsHoliday  HasPromotions  NearestCompetitor  Region  \\\n",
       "302     1000  01/03/2017          0              0                326       7   \n",
       "303     1000  02/03/2017          0              0                326       7   \n",
       "304     1000  03/03/2017          0              0                326       7   \n",
       "305     1000  04/03/2017          0              0                326       7   \n",
       "306     1000  06/03/2017          0              1                326       7   \n",
       "\n",
       "     NumberOfSales  Region_AreaKM2  Region_GDP  Region_PopulationK  \\\n",
       "302           5509            9643       17130                2770   \n",
       "303           5881            9643       17130                2770   \n",
       "304           8463            9643       17130                2770   \n",
       "305           8146            9643       17130                2770   \n",
       "306          11306            9643       17130                2770   \n",
       "\n",
       "         ...             p5        p6        p7        p8        p9       p10  \\\n",
       "302      ...       0.002268  0.000889  0.000052 -0.000992 -0.000124 -0.000808   \n",
       "303      ...       0.002234  0.001760 -0.000015 -0.000700  0.000316 -0.000881   \n",
       "304      ...       0.002211  0.000456 -0.000833 -0.000546 -0.000316 -0.000455   \n",
       "305      ...       0.002251  0.000720 -0.000274 -0.001242 -0.000021 -0.000516   \n",
       "306      ...       0.002208  0.000525 -0.001188 -0.000629 -0.000746 -0.000432   \n",
       "\n",
       "          p11       p12  _NumberOfSales     sqrd_diff  \n",
       "302 -0.000501  0.000075     6642.490219  1.284800e+06  \n",
       "303 -0.000139  0.000136     7645.940786  3.115016e+06  \n",
       "304 -0.000162 -0.000145     7996.720086  2.174170e+05  \n",
       "305 -0.000457  0.000222     7621.263690  2.753482e+05  \n",
       "306  0.000514  0.000050    10619.408745  4.714076e+05  \n",
       "\n",
       "[5 rows x 42 columns]"
      ]
     },
     "execution_count": 61,
     "metadata": {},
     "output_type": "execute_result"
    }
   ],
   "source": [
    "# calculationg R2\n",
    "\n",
    "# calculate RSS\n",
    "df_RSS = test\n",
    "print(df_RSS.shape)\n",
    "\n",
    "df_RSS['sqrd_diff'] = df_RSS.apply(lambda x: (x['NumberOfSales'] - x['_NumberOfSales'])**2, axis=1)\n",
    "\n",
    "RSS = df_RSS['sqrd_diff'].sum()\n",
    "print('RSS:', RSS)\n",
    "df_RSS.head()"
   ]
  },
  {
   "cell_type": "code",
   "execution_count": 62,
   "metadata": {},
   "outputs": [
    {
     "name": "stdout",
     "output_type": "stream",
     "text": [
      "NS_mean 4725.085193670414\n",
      "TSS: 150828839570.88092\n"
     ]
    },
    {
     "data": {
      "text/html": [
       "<div>\n",
       "<style scoped>\n",
       "    .dataframe tbody tr th:only-of-type {\n",
       "        vertical-align: middle;\n",
       "    }\n",
       "\n",
       "    .dataframe tbody tr th {\n",
       "        vertical-align: top;\n",
       "    }\n",
       "\n",
       "    .dataframe thead th {\n",
       "        text-align: right;\n",
       "    }\n",
       "</style>\n",
       "<table border=\"1\" class=\"dataframe\">\n",
       "  <thead>\n",
       "    <tr style=\"text-align: right;\">\n",
       "      <th></th>\n",
       "      <th>StoreID</th>\n",
       "      <th>Date</th>\n",
       "      <th>IsHoliday</th>\n",
       "      <th>HasPromotions</th>\n",
       "      <th>NearestCompetitor</th>\n",
       "      <th>Region</th>\n",
       "      <th>NumberOfSales</th>\n",
       "      <th>Region_AreaKM2</th>\n",
       "      <th>Region_GDP</th>\n",
       "      <th>Region_PopulationK</th>\n",
       "      <th>...</th>\n",
       "      <th>p5</th>\n",
       "      <th>p6</th>\n",
       "      <th>p7</th>\n",
       "      <th>p8</th>\n",
       "      <th>p9</th>\n",
       "      <th>p10</th>\n",
       "      <th>p11</th>\n",
       "      <th>p12</th>\n",
       "      <th>_NumberOfSales</th>\n",
       "      <th>sqrd_diff</th>\n",
       "    </tr>\n",
       "  </thead>\n",
       "  <tbody>\n",
       "    <tr>\n",
       "      <th>302</th>\n",
       "      <td>1000</td>\n",
       "      <td>01/03/2017</td>\n",
       "      <td>0</td>\n",
       "      <td>0</td>\n",
       "      <td>326</td>\n",
       "      <td>7</td>\n",
       "      <td>5509</td>\n",
       "      <td>9643</td>\n",
       "      <td>17130</td>\n",
       "      <td>2770</td>\n",
       "      <td>...</td>\n",
       "      <td>0.002268</td>\n",
       "      <td>0.000889</td>\n",
       "      <td>0.000052</td>\n",
       "      <td>-0.000992</td>\n",
       "      <td>-0.000124</td>\n",
       "      <td>-0.000808</td>\n",
       "      <td>-0.000501</td>\n",
       "      <td>0.000075</td>\n",
       "      <td>6642.490219</td>\n",
       "      <td>3.676442e+06</td>\n",
       "    </tr>\n",
       "    <tr>\n",
       "      <th>303</th>\n",
       "      <td>1000</td>\n",
       "      <td>02/03/2017</td>\n",
       "      <td>0</td>\n",
       "      <td>0</td>\n",
       "      <td>326</td>\n",
       "      <td>7</td>\n",
       "      <td>5881</td>\n",
       "      <td>9643</td>\n",
       "      <td>17130</td>\n",
       "      <td>2770</td>\n",
       "      <td>...</td>\n",
       "      <td>0.002234</td>\n",
       "      <td>0.001760</td>\n",
       "      <td>-0.000015</td>\n",
       "      <td>-0.000700</td>\n",
       "      <td>0.000316</td>\n",
       "      <td>-0.000881</td>\n",
       "      <td>-0.000139</td>\n",
       "      <td>0.000136</td>\n",
       "      <td>7645.940786</td>\n",
       "      <td>8.531397e+06</td>\n",
       "    </tr>\n",
       "    <tr>\n",
       "      <th>304</th>\n",
       "      <td>1000</td>\n",
       "      <td>03/03/2017</td>\n",
       "      <td>0</td>\n",
       "      <td>0</td>\n",
       "      <td>326</td>\n",
       "      <td>7</td>\n",
       "      <td>8463</td>\n",
       "      <td>9643</td>\n",
       "      <td>17130</td>\n",
       "      <td>2770</td>\n",
       "      <td>...</td>\n",
       "      <td>0.002211</td>\n",
       "      <td>0.000456</td>\n",
       "      <td>-0.000833</td>\n",
       "      <td>-0.000546</td>\n",
       "      <td>-0.000316</td>\n",
       "      <td>-0.000455</td>\n",
       "      <td>-0.000162</td>\n",
       "      <td>-0.000145</td>\n",
       "      <td>7996.720086</td>\n",
       "      <td>1.070359e+07</td>\n",
       "    </tr>\n",
       "    <tr>\n",
       "      <th>305</th>\n",
       "      <td>1000</td>\n",
       "      <td>04/03/2017</td>\n",
       "      <td>0</td>\n",
       "      <td>0</td>\n",
       "      <td>326</td>\n",
       "      <td>7</td>\n",
       "      <td>8146</td>\n",
       "      <td>9643</td>\n",
       "      <td>17130</td>\n",
       "      <td>2770</td>\n",
       "      <td>...</td>\n",
       "      <td>0.002251</td>\n",
       "      <td>0.000720</td>\n",
       "      <td>-0.000274</td>\n",
       "      <td>-0.001242</td>\n",
       "      <td>-0.000021</td>\n",
       "      <td>-0.000516</td>\n",
       "      <td>-0.000457</td>\n",
       "      <td>0.000222</td>\n",
       "      <td>7621.263690</td>\n",
       "      <td>8.387850e+06</td>\n",
       "    </tr>\n",
       "    <tr>\n",
       "      <th>306</th>\n",
       "      <td>1000</td>\n",
       "      <td>06/03/2017</td>\n",
       "      <td>0</td>\n",
       "      <td>1</td>\n",
       "      <td>326</td>\n",
       "      <td>7</td>\n",
       "      <td>11306</td>\n",
       "      <td>9643</td>\n",
       "      <td>17130</td>\n",
       "      <td>2770</td>\n",
       "      <td>...</td>\n",
       "      <td>0.002208</td>\n",
       "      <td>0.000525</td>\n",
       "      <td>-0.001188</td>\n",
       "      <td>-0.000629</td>\n",
       "      <td>-0.000746</td>\n",
       "      <td>-0.000432</td>\n",
       "      <td>0.000514</td>\n",
       "      <td>0.000050</td>\n",
       "      <td>10619.408745</td>\n",
       "      <td>3.474305e+07</td>\n",
       "    </tr>\n",
       "  </tbody>\n",
       "</table>\n",
       "<p>5 rows × 42 columns</p>\n",
       "</div>"
      ],
      "text/plain": [
       "     StoreID        Date  IsHoliday  HasPromotions  NearestCompetitor  Region  \\\n",
       "302     1000  01/03/2017          0              0                326       7   \n",
       "303     1000  02/03/2017          0              0                326       7   \n",
       "304     1000  03/03/2017          0              0                326       7   \n",
       "305     1000  04/03/2017          0              0                326       7   \n",
       "306     1000  06/03/2017          0              1                326       7   \n",
       "\n",
       "     NumberOfSales  Region_AreaKM2  Region_GDP  Region_PopulationK  \\\n",
       "302           5509            9643       17130                2770   \n",
       "303           5881            9643       17130                2770   \n",
       "304           8463            9643       17130                2770   \n",
       "305           8146            9643       17130                2770   \n",
       "306          11306            9643       17130                2770   \n",
       "\n",
       "         ...             p5        p6        p7        p8        p9       p10  \\\n",
       "302      ...       0.002268  0.000889  0.000052 -0.000992 -0.000124 -0.000808   \n",
       "303      ...       0.002234  0.001760 -0.000015 -0.000700  0.000316 -0.000881   \n",
       "304      ...       0.002211  0.000456 -0.000833 -0.000546 -0.000316 -0.000455   \n",
       "305      ...       0.002251  0.000720 -0.000274 -0.001242 -0.000021 -0.000516   \n",
       "306      ...       0.002208  0.000525 -0.001188 -0.000629 -0.000746 -0.000432   \n",
       "\n",
       "          p11       p12  _NumberOfSales     sqrd_diff  \n",
       "302 -0.000501  0.000075     6642.490219  3.676442e+06  \n",
       "303 -0.000139  0.000136     7645.940786  8.531397e+06  \n",
       "304 -0.000162 -0.000145     7996.720086  1.070359e+07  \n",
       "305 -0.000457  0.000222     7621.263690  8.387850e+06  \n",
       "306  0.000514  0.000050    10619.408745  3.474305e+07  \n",
       "\n",
       "[5 rows x 42 columns]"
      ]
     },
     "execution_count": 62,
     "metadata": {},
     "output_type": "execute_result"
    }
   ],
   "source": [
    "# calculate TSS\n",
    "\n",
    "df_TSS = test\n",
    "NS_mean = df_TSS['NumberOfSales'].mean()\n",
    "print('NS_mean', NS_mean)\n",
    "\n",
    "df_TSS['sqrd_diff'] = df_TSS.apply(lambda x:  (x['_NumberOfSales'] - NS_mean)**2, axis=1)\n",
    "TSS = df_TSS['sqrd_diff'].sum()\n",
    "print('TSS:', TSS)\n",
    "df_TSS.head()"
   ]
  },
  {
   "cell_type": "code",
   "execution_count": 63,
   "metadata": {},
   "outputs": [
    {
     "name": "stdout",
     "output_type": "stream",
     "text": [
      "RSS: 22993660105.026287    TSS: 150828839570.88092\n",
      "R_2: 0.8475513027187311\n"
     ]
    }
   ],
   "source": [
    "# calculate R2\n",
    "print(\"RSS:\", RSS, \"   TSS:\", TSS)\n",
    "\n",
    "R2 = 1 - (RSS / TSS)\n",
    "print('R_2:', R2)\n"
   ]
  },
  {
   "cell_type": "markdown",
   "metadata": {},
   "source": [
    "## Sample of predicted results"
   ]
  },
  {
   "cell_type": "code",
   "execution_count": 64,
   "metadata": {},
   "outputs": [
    {
     "data": {
      "image/png": "[encoded data removed]",
      "text/plain": [
       "<matplotlib.figure.Figure at 0x1a1bd82cc0>"
      ]
     },
     "metadata": {},
     "output_type": "display_data"
    }
   ],
   "source": [
    "import matplotlib.pyplot as plt\n",
    "\n",
    "y_pred_subset = test['_NumberOfSales'][500:600]\n",
    "x_coordinate = [ 1 * i for i in range(len(y_pred_subset)) ]\n",
    "plt.plot(x_coordinate,y_pred_subset)\n",
    "plt.show()"
   ]
  },
  {
   "cell_type": "markdown",
   "metadata": {},
   "source": [
    "## Sample of real results"
   ]
  },
  {
   "cell_type": "code",
   "execution_count": 65,
   "metadata": {},
   "outputs": [
    {
     "data": {
      "image/png": "[encoded data removed]",
      "text/plain": [
       "<matplotlib.figure.Figure at 0x1a1bb53eb8>"
      ]
     },
     "metadata": {},
     "output_type": "display_data"
    }
   ],
   "source": [
    "#REAL\n",
    "import matplotlib.pyplot as plt\n",
    "\n",
    "y_train_subset = test['NumberOfSales'][500:600]\n",
    "x_coordinate = [ 1 * i for i in range(len(y_train_subset)) ]\n",
    "plt.plot(x_coordinate,y_train_subset)\n",
    "plt.show()"
   ]
  },
  {
   "cell_type": "markdown",
   "metadata": {},
   "source": [
    "## Real-Predicted"
   ]
  },
  {
   "cell_type": "code",
   "execution_count": 66,
   "metadata": {},
   "outputs": [
    {
     "data": {
      "image/png": "[encoded data removed]",
      "text/plain": [
       "<matplotlib.figure.Figure at 0x1a3dcbf898>"
      ]
     },
     "metadata": {},
     "output_type": "display_data"
    }
   ],
   "source": [
    "plt.plot(x_coordinate,y_train_subset)\n",
    "plt.plot(x_coordinate,y_pred_subset)\n",
    "\n",
    "plt.legend(['Predicted', 'Real'], loc='upper left')\n",
    "plt.show()"
   ]
  }
 ],
 "metadata": {
  "_change_revision": 0,
  "_is_fork": false,
  "kernelspec": {
   "display_name": "Python 3",
   "language": "python",
   "name": "python3"
  },
  "language_info": {
   "codemirror_mode": {
    "name": "ipython",
    "version": 3
   },
   "file_extension": ".py",
   "mimetype": "text/x-python",
   "name": "python",
   "nbconvert_exporter": "python",
   "pygments_lexer": "ipython3",
   "version": "3.6.4"
  }
 },
 "nbformat": 4,
 "nbformat_minor": 2
}
