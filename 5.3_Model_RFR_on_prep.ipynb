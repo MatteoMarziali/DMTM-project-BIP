{
 "cells": [
  {
   "cell_type": "markdown",
   "metadata": {},
   "source": [
    "# Random Forest Regression"
   ]
  },
  {
   "cell_type": "code",
   "execution_count": 10,
   "metadata": {},
   "outputs": [],
   "source": [
    "# reoder variables to work on train or test dataset\n",
    "predict_for_submission = True\n",
    "predict_for_submission = False"
   ]
  },
  {
   "cell_type": "code",
   "execution_count": 23,
   "metadata": {
    "_cell_guid": "b9000568-0a4d-8bbc-0f59-12b581bfb150"
   },
   "outputs": [],
   "source": [
    "from import_man import *\n",
    "\n",
    "\n",
    "%matplotlib inline\n",
    "plt.style.use('ggplot')\n",
    "plt.rcParams['figure.figsize'] = (15, 6)\n",
    "plt.rcParams['figure.figsize'] = [20.0,8.0]\n",
    "plt.rcParams['figure.dpi']=80"
   ]
  },
  {
   "cell_type": "markdown",
   "metadata": {},
   "source": [
    "Loading dataset:"
   ]
  },
  {
   "cell_type": "code",
   "execution_count": 12,
   "metadata": {
    "_cell_guid": "da09e07b-fdfc-30b1-dfff-ad7dc625d15a"
   },
   "outputs": [
    {
     "name": "stdout",
     "output_type": "stream",
     "text": [
      "Dataset has been loaded correctly\n"
     ]
    }
   ],
   "source": [
    "df = pd.read_csv('dataset/preprocessed_train_PCA.csv')\n",
    "\n",
    "if predict_for_submission:\n",
    "    df_test = pd.read_csv('dataset/preprocessed_test_PCA.csv')\n",
    "\n",
    "print('Dataset has been loaded correctly')"
   ]
  },
  {
   "cell_type": "code",
   "execution_count": 13,
   "metadata": {},
   "outputs": [
    {
     "name": "stdout",
     "output_type": "stream",
     "text": [
      "(examples,columns)\n"
     ]
    },
    {
     "data": {
      "text/plain": [
       "(433958, 45)"
      ]
     },
     "execution_count": 13,
     "metadata": {},
     "output_type": "execute_result"
    }
   ],
   "source": [
    "print('(examples,columns)')\n",
    "df.shape"
   ]
  },
  {
   "cell_type": "markdown",
   "metadata": {},
   "source": [
    "selecting useful features:"
   ]
  },
  {
   "cell_type": "code",
   "execution_count": 14,
   "metadata": {},
   "outputs": [
    {
     "name": "stdout",
     "output_type": "stream",
     "text": [
      "Since we do not have NumberOfCustomers attribute in the test set, we drop it.\n"
     ]
    }
   ],
   "source": [
    "df = df.drop(['NumberOfCustomers'], axis=1)\n",
    "print('Since we do not have NumberOfCustomers attribute in the test set, we drop it.')"
   ]
  },
  {
   "cell_type": "code",
   "execution_count": 15,
   "metadata": {},
   "outputs": [
    {
     "name": "stdout",
     "output_type": "stream",
     "text": [
      "Categorical attributes are dropped because we consider for the analysis the \"One Hot Encoding\" version.\n"
     ]
    }
   ],
   "source": [
    "print('Categorical attributes are dropped because we consider for the analysis the \"One Hot Encoding\" version.')\n",
    "df = df.drop(['Unnamed: 0','StoreType','AssortmentType','D_DayOfweek'], axis=1)"
   ]
  },
  {
   "cell_type": "markdown",
   "metadata": {},
   "source": [
    "### Attributes kept:"
   ]
  },
  {
   "cell_type": "code",
   "execution_count": 16,
   "metadata": {
    "_cell_guid": "6872b7e5-8b37-6aa9-033c-a03dd5647974"
   },
   "outputs": [
    {
     "data": {
      "text/html": [
       "<div>\n",
       "<style scoped>\n",
       "    .dataframe tbody tr th:only-of-type {\n",
       "        vertical-align: middle;\n",
       "    }\n",
       "\n",
       "    .dataframe tbody tr th {\n",
       "        vertical-align: top;\n",
       "    }\n",
       "\n",
       "    .dataframe thead th {\n",
       "        text-align: right;\n",
       "    }\n",
       "</style>\n",
       "<table border=\"1\" class=\"dataframe\">\n",
       "  <thead>\n",
       "    <tr style=\"text-align: right;\">\n",
       "      <th></th>\n",
       "      <th>0</th>\n",
       "      <th>1</th>\n",
       "      <th>2</th>\n",
       "      <th>3</th>\n",
       "      <th>4</th>\n",
       "    </tr>\n",
       "  </thead>\n",
       "  <tbody>\n",
       "    <tr>\n",
       "      <th>StoreID</th>\n",
       "      <td>1000</td>\n",
       "      <td>1000</td>\n",
       "      <td>1000</td>\n",
       "      <td>1000</td>\n",
       "      <td>1000</td>\n",
       "    </tr>\n",
       "    <tr>\n",
       "      <th>Date</th>\n",
       "      <td>01/03/2016</td>\n",
       "      <td>02/03/2016</td>\n",
       "      <td>04/03/2016</td>\n",
       "      <td>05/03/2016</td>\n",
       "      <td>07/03/2016</td>\n",
       "    </tr>\n",
       "    <tr>\n",
       "      <th>IsHoliday</th>\n",
       "      <td>0</td>\n",
       "      <td>0</td>\n",
       "      <td>0</td>\n",
       "      <td>0</td>\n",
       "      <td>0</td>\n",
       "    </tr>\n",
       "    <tr>\n",
       "      <th>HasPromotions</th>\n",
       "      <td>0</td>\n",
       "      <td>0</td>\n",
       "      <td>0</td>\n",
       "      <td>0</td>\n",
       "      <td>1</td>\n",
       "    </tr>\n",
       "    <tr>\n",
       "      <th>NearestCompetitor</th>\n",
       "      <td>326</td>\n",
       "      <td>326</td>\n",
       "      <td>326</td>\n",
       "      <td>326</td>\n",
       "      <td>326</td>\n",
       "    </tr>\n",
       "    <tr>\n",
       "      <th>Region</th>\n",
       "      <td>7</td>\n",
       "      <td>7</td>\n",
       "      <td>7</td>\n",
       "      <td>7</td>\n",
       "      <td>7</td>\n",
       "    </tr>\n",
       "    <tr>\n",
       "      <th>NumberOfSales</th>\n",
       "      <td>5676</td>\n",
       "      <td>8111</td>\n",
       "      <td>8300</td>\n",
       "      <td>7154</td>\n",
       "      <td>10110</td>\n",
       "    </tr>\n",
       "    <tr>\n",
       "      <th>Region_AreaKM2</th>\n",
       "      <td>9643</td>\n",
       "      <td>9643</td>\n",
       "      <td>9643</td>\n",
       "      <td>9643</td>\n",
       "      <td>9643</td>\n",
       "    </tr>\n",
       "    <tr>\n",
       "      <th>Region_GDP</th>\n",
       "      <td>17130</td>\n",
       "      <td>17130</td>\n",
       "      <td>17130</td>\n",
       "      <td>17130</td>\n",
       "      <td>17130</td>\n",
       "    </tr>\n",
       "    <tr>\n",
       "      <th>Region_PopulationK</th>\n",
       "      <td>2770</td>\n",
       "      <td>2770</td>\n",
       "      <td>2770</td>\n",
       "      <td>2770</td>\n",
       "      <td>2770</td>\n",
       "    </tr>\n",
       "    <tr>\n",
       "      <th>CloudCover</th>\n",
       "      <td>8</td>\n",
       "      <td>8</td>\n",
       "      <td>8</td>\n",
       "      <td>6</td>\n",
       "      <td>0</td>\n",
       "    </tr>\n",
       "    <tr>\n",
       "      <th>D_Day</th>\n",
       "      <td>1</td>\n",
       "      <td>2</td>\n",
       "      <td>4</td>\n",
       "      <td>5</td>\n",
       "      <td>7</td>\n",
       "    </tr>\n",
       "    <tr>\n",
       "      <th>D_DayOfYear</th>\n",
       "      <td>61</td>\n",
       "      <td>62</td>\n",
       "      <td>64</td>\n",
       "      <td>65</td>\n",
       "      <td>67</td>\n",
       "    </tr>\n",
       "    <tr>\n",
       "      <th>D_Month</th>\n",
       "      <td>3</td>\n",
       "      <td>3</td>\n",
       "      <td>3</td>\n",
       "      <td>3</td>\n",
       "      <td>3</td>\n",
       "    </tr>\n",
       "    <tr>\n",
       "      <th>D_Year</th>\n",
       "      <td>2016</td>\n",
       "      <td>2016</td>\n",
       "      <td>2016</td>\n",
       "      <td>2016</td>\n",
       "      <td>2016</td>\n",
       "    </tr>\n",
       "    <tr>\n",
       "      <th>StoreType_SuperMarket</th>\n",
       "      <td>0</td>\n",
       "      <td>0</td>\n",
       "      <td>0</td>\n",
       "      <td>0</td>\n",
       "      <td>0</td>\n",
       "    </tr>\n",
       "    <tr>\n",
       "      <th>StoreType_HyperMarket</th>\n",
       "      <td>1</td>\n",
       "      <td>1</td>\n",
       "      <td>1</td>\n",
       "      <td>1</td>\n",
       "      <td>1</td>\n",
       "    </tr>\n",
       "    <tr>\n",
       "      <th>StoreType_StandardMarket</th>\n",
       "      <td>0</td>\n",
       "      <td>0</td>\n",
       "      <td>0</td>\n",
       "      <td>0</td>\n",
       "      <td>0</td>\n",
       "    </tr>\n",
       "    <tr>\n",
       "      <th>StoreType_ShoppingCenter</th>\n",
       "      <td>0</td>\n",
       "      <td>0</td>\n",
       "      <td>0</td>\n",
       "      <td>0</td>\n",
       "      <td>0</td>\n",
       "    </tr>\n",
       "    <tr>\n",
       "      <th>AssortmentType_General</th>\n",
       "      <td>1</td>\n",
       "      <td>1</td>\n",
       "      <td>1</td>\n",
       "      <td>1</td>\n",
       "      <td>1</td>\n",
       "    </tr>\n",
       "    <tr>\n",
       "      <th>AssortmentType_WithNFDept</th>\n",
       "      <td>0</td>\n",
       "      <td>0</td>\n",
       "      <td>0</td>\n",
       "      <td>0</td>\n",
       "      <td>0</td>\n",
       "    </tr>\n",
       "    <tr>\n",
       "      <th>AssortmentType_WithFishDept</th>\n",
       "      <td>0</td>\n",
       "      <td>0</td>\n",
       "      <td>0</td>\n",
       "      <td>0</td>\n",
       "      <td>0</td>\n",
       "    </tr>\n",
       "    <tr>\n",
       "      <th>MeanStoreSales</th>\n",
       "      <td>7675.45</td>\n",
       "      <td>7675.45</td>\n",
       "      <td>7675.45</td>\n",
       "      <td>7675.45</td>\n",
       "      <td>7675.45</td>\n",
       "    </tr>\n",
       "    <tr>\n",
       "      <th>MeanRegionSales</th>\n",
       "      <td>4702.75</td>\n",
       "      <td>4702.75</td>\n",
       "      <td>4702.75</td>\n",
       "      <td>4702.75</td>\n",
       "      <td>4702.75</td>\n",
       "    </tr>\n",
       "    <tr>\n",
       "      <th>MeanCustomers</th>\n",
       "      <td>622.769</td>\n",
       "      <td>622.769</td>\n",
       "      <td>622.769</td>\n",
       "      <td>622.769</td>\n",
       "      <td>622.769</td>\n",
       "    </tr>\n",
       "    <tr>\n",
       "      <th>MeanRegionCustomers</th>\n",
       "      <td>284.209</td>\n",
       "      <td>284.209</td>\n",
       "      <td>284.209</td>\n",
       "      <td>284.209</td>\n",
       "      <td>284.209</td>\n",
       "    </tr>\n",
       "    <tr>\n",
       "      <th>D_DayOfWeek_cos</th>\n",
       "      <td>0.62349</td>\n",
       "      <td>-0.222521</td>\n",
       "      <td>-0.900969</td>\n",
       "      <td>-0.222521</td>\n",
       "      <td>1</td>\n",
       "    </tr>\n",
       "    <tr>\n",
       "      <th>D_DayOfWeek_sin</th>\n",
       "      <td>0.781831</td>\n",
       "      <td>0.974928</td>\n",
       "      <td>-0.433884</td>\n",
       "      <td>-0.974928</td>\n",
       "      <td>0</td>\n",
       "    </tr>\n",
       "    <tr>\n",
       "      <th>p1</th>\n",
       "      <td>0.00426063</td>\n",
       "      <td>0.00422903</td>\n",
       "      <td>0.00237764</td>\n",
       "      <td>0.00321092</td>\n",
       "      <td>0.00286312</td>\n",
       "    </tr>\n",
       "    <tr>\n",
       "      <th>p2</th>\n",
       "      <td>0.00151355</td>\n",
       "      <td>0.000905007</td>\n",
       "      <td>-0.000171148</td>\n",
       "      <td>-0.00069715</td>\n",
       "      <td>-0.000676638</td>\n",
       "    </tr>\n",
       "    <tr>\n",
       "      <th>p3</th>\n",
       "      <td>-0.000960333</td>\n",
       "      <td>-0.000604326</td>\n",
       "      <td>-0.000541095</td>\n",
       "      <td>-0.000332687</td>\n",
       "      <td>-0.000300156</td>\n",
       "    </tr>\n",
       "    <tr>\n",
       "      <th>p4</th>\n",
       "      <td>-0.000857565</td>\n",
       "      <td>-0.000501516</td>\n",
       "      <td>-0.000614453</td>\n",
       "      <td>-0.000308525</td>\n",
       "      <td>-0.000368009</td>\n",
       "    </tr>\n",
       "    <tr>\n",
       "      <th>p5</th>\n",
       "      <td>0.00244229</td>\n",
       "      <td>0.00247817</td>\n",
       "      <td>0.00219296</td>\n",
       "      <td>0.00218858</td>\n",
       "      <td>0.00218882</td>\n",
       "    </tr>\n",
       "    <tr>\n",
       "      <th>p6</th>\n",
       "      <td>-0.00205074</td>\n",
       "      <td>-0.0022629</td>\n",
       "      <td>0.000429021</td>\n",
       "      <td>0.000272584</td>\n",
       "      <td>0.000252092</td>\n",
       "    </tr>\n",
       "    <tr>\n",
       "      <th>p7</th>\n",
       "      <td>0.00273931</td>\n",
       "      <td>0.00290717</td>\n",
       "      <td>-0.00142761</td>\n",
       "      <td>-0.00172081</td>\n",
       "      <td>-0.00159991</td>\n",
       "    </tr>\n",
       "    <tr>\n",
       "      <th>p8</th>\n",
       "      <td>-0.000873054</td>\n",
       "      <td>0.00109954</td>\n",
       "      <td>-0.00057994</td>\n",
       "      <td>0.00153341</td>\n",
       "      <td>0.00141836</td>\n",
       "    </tr>\n",
       "    <tr>\n",
       "      <th>p9</th>\n",
       "      <td>-7.96898e-06</td>\n",
       "      <td>-0.000220314</td>\n",
       "      <td>-0.000486586</td>\n",
       "      <td>-5.15295e-05</td>\n",
       "      <td>0.000146189</td>\n",
       "    </tr>\n",
       "    <tr>\n",
       "      <th>p10</th>\n",
       "      <td>-0.000181395</td>\n",
       "      <td>0.000118288</td>\n",
       "      <td>-0.000555146</td>\n",
       "      <td>-0.000604355</td>\n",
       "      <td>-0.000393914</td>\n",
       "    </tr>\n",
       "    <tr>\n",
       "      <th>p11</th>\n",
       "      <td>-0.000370343</td>\n",
       "      <td>-0.000311268</td>\n",
       "      <td>-0.000371069</td>\n",
       "      <td>-0.000366457</td>\n",
       "      <td>4.84744e-05</td>\n",
       "    </tr>\n",
       "    <tr>\n",
       "      <th>p12</th>\n",
       "      <td>-5.28311e-05</td>\n",
       "      <td>0.000174007</td>\n",
       "      <td>0.000442748</td>\n",
       "      <td>0.000272504</td>\n",
       "      <td>0.00032959</td>\n",
       "    </tr>\n",
       "  </tbody>\n",
       "</table>\n",
       "</div>"
      ],
      "text/plain": [
       "                                       0            1            2  \\\n",
       "StoreID                             1000         1000         1000   \n",
       "Date                          01/03/2016   02/03/2016   04/03/2016   \n",
       "IsHoliday                              0            0            0   \n",
       "HasPromotions                          0            0            0   \n",
       "NearestCompetitor                    326          326          326   \n",
       "Region                                 7            7            7   \n",
       "NumberOfSales                       5676         8111         8300   \n",
       "Region_AreaKM2                      9643         9643         9643   \n",
       "Region_GDP                         17130        17130        17130   \n",
       "Region_PopulationK                  2770         2770         2770   \n",
       "CloudCover                             8            8            8   \n",
       "D_Day                                  1            2            4   \n",
       "D_DayOfYear                           61           62           64   \n",
       "D_Month                                3            3            3   \n",
       "D_Year                              2016         2016         2016   \n",
       "StoreType_SuperMarket                  0            0            0   \n",
       "StoreType_HyperMarket                  1            1            1   \n",
       "StoreType_StandardMarket               0            0            0   \n",
       "StoreType_ShoppingCenter               0            0            0   \n",
       "AssortmentType_General                 1            1            1   \n",
       "AssortmentType_WithNFDept              0            0            0   \n",
       "AssortmentType_WithFishDept            0            0            0   \n",
       "MeanStoreSales                   7675.45      7675.45      7675.45   \n",
       "MeanRegionSales                  4702.75      4702.75      4702.75   \n",
       "MeanCustomers                    622.769      622.769      622.769   \n",
       "MeanRegionCustomers              284.209      284.209      284.209   \n",
       "D_DayOfWeek_cos                  0.62349    -0.222521    -0.900969   \n",
       "D_DayOfWeek_sin                 0.781831     0.974928    -0.433884   \n",
       "p1                            0.00426063   0.00422903   0.00237764   \n",
       "p2                            0.00151355  0.000905007 -0.000171148   \n",
       "p3                          -0.000960333 -0.000604326 -0.000541095   \n",
       "p4                          -0.000857565 -0.000501516 -0.000614453   \n",
       "p5                            0.00244229   0.00247817   0.00219296   \n",
       "p6                           -0.00205074   -0.0022629  0.000429021   \n",
       "p7                            0.00273931   0.00290717  -0.00142761   \n",
       "p8                          -0.000873054   0.00109954  -0.00057994   \n",
       "p9                          -7.96898e-06 -0.000220314 -0.000486586   \n",
       "p10                         -0.000181395  0.000118288 -0.000555146   \n",
       "p11                         -0.000370343 -0.000311268 -0.000371069   \n",
       "p12                         -5.28311e-05  0.000174007  0.000442748   \n",
       "\n",
       "                                       3            4  \n",
       "StoreID                             1000         1000  \n",
       "Date                          05/03/2016   07/03/2016  \n",
       "IsHoliday                              0            0  \n",
       "HasPromotions                          0            1  \n",
       "NearestCompetitor                    326          326  \n",
       "Region                                 7            7  \n",
       "NumberOfSales                       7154        10110  \n",
       "Region_AreaKM2                      9643         9643  \n",
       "Region_GDP                         17130        17130  \n",
       "Region_PopulationK                  2770         2770  \n",
       "CloudCover                             6            0  \n",
       "D_Day                                  5            7  \n",
       "D_DayOfYear                           65           67  \n",
       "D_Month                                3            3  \n",
       "D_Year                              2016         2016  \n",
       "StoreType_SuperMarket                  0            0  \n",
       "StoreType_HyperMarket                  1            1  \n",
       "StoreType_StandardMarket               0            0  \n",
       "StoreType_ShoppingCenter               0            0  \n",
       "AssortmentType_General                 1            1  \n",
       "AssortmentType_WithNFDept              0            0  \n",
       "AssortmentType_WithFishDept            0            0  \n",
       "MeanStoreSales                   7675.45      7675.45  \n",
       "MeanRegionSales                  4702.75      4702.75  \n",
       "MeanCustomers                    622.769      622.769  \n",
       "MeanRegionCustomers              284.209      284.209  \n",
       "D_DayOfWeek_cos                -0.222521            1  \n",
       "D_DayOfWeek_sin                -0.974928            0  \n",
       "p1                            0.00321092   0.00286312  \n",
       "p2                           -0.00069715 -0.000676638  \n",
       "p3                          -0.000332687 -0.000300156  \n",
       "p4                          -0.000308525 -0.000368009  \n",
       "p5                            0.00218858   0.00218882  \n",
       "p6                           0.000272584  0.000252092  \n",
       "p7                           -0.00172081  -0.00159991  \n",
       "p8                            0.00153341   0.00141836  \n",
       "p9                          -5.15295e-05  0.000146189  \n",
       "p10                         -0.000604355 -0.000393914  \n",
       "p11                         -0.000366457  4.84744e-05  \n",
       "p12                          0.000272504   0.00032959  "
      ]
     },
     "execution_count": 16,
     "metadata": {},
     "output_type": "execute_result"
    }
   ],
   "source": [
    "df.head().T"
   ]
  },
  {
   "cell_type": "markdown",
   "metadata": {},
   "source": [
    "The attributes identified by \"px\" where x goes from 1 to 12 are the components obtained performing PCA on several attributes. \n",
    "You can check the whole PCA notebook looking at \"3.4_Prepr_train_PCA\"."
   ]
  },
  {
   "cell_type": "code",
   "execution_count": 17,
   "metadata": {
    "_cell_guid": "c419d49f-961e-6b70-b7a9-2e1cf1298b9e"
   },
   "outputs": [],
   "source": [
    "from sklearn.model_selection import train_test_split\n",
    "from sklearn.model_selection import cross_val_score\n",
    "from sklearn.model_selection import GridSearchCV\n",
    "from sklearn.model_selection import validation_curve"
   ]
  },
  {
   "cell_type": "markdown",
   "metadata": {},
   "source": [
    "Loading train and test set:"
   ]
  },
  {
   "cell_type": "code",
   "execution_count": 18,
   "metadata": {},
   "outputs": [
    {
     "name": "stdout",
     "output_type": "stream",
     "text": [
      "df.shape     (433958, 40)\n",
      "train.shape  (396420, 40)\n",
      "test.shape   (37538, 40)\n"
     ]
    }
   ],
   "source": [
    "import modify_dataset as md\n",
    "\n",
    "if predict_for_submission:\n",
    "    train = df\n",
    "    test = df_test\n",
    "else:\n",
    "    test_months = (3, 4)\n",
    "    test_year = 2017\n",
    "\n",
    "    train = md.get_fake_train(df, test_months, test_year)\n",
    "    test = md.get_fake_test(df, test_months, test_year)\n",
    "\n",
    "print('df.shape    ', df.shape)\n",
    "print('train.shape ', train.shape)\n",
    "print('test.shape  ', test.shape)\n",
    "\n",
    "y_train = train['NumberOfSales']"
   ]
  },
  {
   "cell_type": "markdown",
   "metadata": {},
   "source": [
    "# Feature selection on the train set:"
   ]
  },
  {
   "cell_type": "code",
   "execution_count": 24,
   "metadata": {},
   "outputs": [
    {
     "name": "stdout",
     "output_type": "stream",
     "text": [
      "features\n",
      "['AssortmentType_General',\n",
      " 'AssortmentType_WithFishDept',\n",
      " 'AssortmentType_WithNFDept',\n",
      " 'CloudCover',\n",
      " 'D_Day',\n",
      " 'D_DayOfWeek_cos',\n",
      " 'D_DayOfWeek_sin',\n",
      " 'D_DayOfYear',\n",
      " 'D_Month',\n",
      " 'D_Year',\n",
      " 'HasPromotions',\n",
      " 'IsHoliday',\n",
      " 'MeanCustomers',\n",
      " 'MeanRegionCustomers',\n",
      " 'MeanRegionSales',\n",
      " 'MeanStoreSales',\n",
      " 'NearestCompetitor',\n",
      " 'Region',\n",
      " 'Region_AreaKM2',\n",
      " 'Region_GDP',\n",
      " 'Region_PopulationK',\n",
      " 'StoreType_HyperMarket',\n",
      " 'StoreType_ShoppingCenter',\n",
      " 'StoreType_StandardMarket',\n",
      " 'StoreType_SuperMarket',\n",
      " 'p1',\n",
      " 'p10',\n",
      " 'p11',\n",
      " 'p12',\n",
      " 'p2',\n",
      " 'p3',\n",
      " 'p4',\n",
      " 'p5',\n",
      " 'p6',\n",
      " 'p7',\n",
      " 'p8',\n",
      " 'p9']\n"
     ]
    }
   ],
   "source": [
    "features = list(train.columns.values)\n",
    "features.remove('NumberOfSales')\n",
    "features.remove('StoreID')\n",
    "features.remove('Date')\n",
    "print(\"features\")\n",
    "\n",
    "pprint(sorted(features))"
   ]
  },
  {
   "cell_type": "code",
   "execution_count": 25,
   "metadata": {},
   "outputs": [
    {
     "data": {
      "text/plain": [
       "(396420, 40)"
      ]
     },
     "execution_count": 25,
     "metadata": {},
     "output_type": "execute_result"
    }
   ],
   "source": [
    "train.shape"
   ]
  },
  {
   "cell_type": "code",
   "execution_count": 26,
   "metadata": {},
   "outputs": [
    {
     "data": {
      "text/html": [
       "<div>\n",
       "<style scoped>\n",
       "    .dataframe tbody tr th:only-of-type {\n",
       "        vertical-align: middle;\n",
       "    }\n",
       "\n",
       "    .dataframe tbody tr th {\n",
       "        vertical-align: top;\n",
       "    }\n",
       "\n",
       "    .dataframe thead th {\n",
       "        text-align: right;\n",
       "    }\n",
       "</style>\n",
       "<table border=\"1\" class=\"dataframe\">\n",
       "  <thead>\n",
       "    <tr style=\"text-align: right;\">\n",
       "      <th></th>\n",
       "      <th>0</th>\n",
       "      <th>1</th>\n",
       "      <th>2</th>\n",
       "      <th>3</th>\n",
       "      <th>4</th>\n",
       "    </tr>\n",
       "  </thead>\n",
       "  <tbody>\n",
       "    <tr>\n",
       "      <th>IsHoliday</th>\n",
       "      <td>0.000000</td>\n",
       "      <td>0.000000</td>\n",
       "      <td>0.000000</td>\n",
       "      <td>0.000000</td>\n",
       "      <td>0.000000</td>\n",
       "    </tr>\n",
       "    <tr>\n",
       "      <th>HasPromotions</th>\n",
       "      <td>0.000000</td>\n",
       "      <td>0.000000</td>\n",
       "      <td>0.000000</td>\n",
       "      <td>0.000000</td>\n",
       "      <td>1.000000</td>\n",
       "    </tr>\n",
       "    <tr>\n",
       "      <th>NearestCompetitor</th>\n",
       "      <td>326.000000</td>\n",
       "      <td>326.000000</td>\n",
       "      <td>326.000000</td>\n",
       "      <td>326.000000</td>\n",
       "      <td>326.000000</td>\n",
       "    </tr>\n",
       "    <tr>\n",
       "      <th>Region</th>\n",
       "      <td>7.000000</td>\n",
       "      <td>7.000000</td>\n",
       "      <td>7.000000</td>\n",
       "      <td>7.000000</td>\n",
       "      <td>7.000000</td>\n",
       "    </tr>\n",
       "    <tr>\n",
       "      <th>Region_AreaKM2</th>\n",
       "      <td>9643.000000</td>\n",
       "      <td>9643.000000</td>\n",
       "      <td>9643.000000</td>\n",
       "      <td>9643.000000</td>\n",
       "      <td>9643.000000</td>\n",
       "    </tr>\n",
       "    <tr>\n",
       "      <th>Region_GDP</th>\n",
       "      <td>17130.000000</td>\n",
       "      <td>17130.000000</td>\n",
       "      <td>17130.000000</td>\n",
       "      <td>17130.000000</td>\n",
       "      <td>17130.000000</td>\n",
       "    </tr>\n",
       "    <tr>\n",
       "      <th>Region_PopulationK</th>\n",
       "      <td>2770.000000</td>\n",
       "      <td>2770.000000</td>\n",
       "      <td>2770.000000</td>\n",
       "      <td>2770.000000</td>\n",
       "      <td>2770.000000</td>\n",
       "    </tr>\n",
       "    <tr>\n",
       "      <th>CloudCover</th>\n",
       "      <td>8.000000</td>\n",
       "      <td>8.000000</td>\n",
       "      <td>8.000000</td>\n",
       "      <td>6.000000</td>\n",
       "      <td>0.000000</td>\n",
       "    </tr>\n",
       "    <tr>\n",
       "      <th>D_Day</th>\n",
       "      <td>1.000000</td>\n",
       "      <td>2.000000</td>\n",
       "      <td>4.000000</td>\n",
       "      <td>5.000000</td>\n",
       "      <td>7.000000</td>\n",
       "    </tr>\n",
       "    <tr>\n",
       "      <th>D_DayOfYear</th>\n",
       "      <td>61.000000</td>\n",
       "      <td>62.000000</td>\n",
       "      <td>64.000000</td>\n",
       "      <td>65.000000</td>\n",
       "      <td>67.000000</td>\n",
       "    </tr>\n",
       "    <tr>\n",
       "      <th>D_Month</th>\n",
       "      <td>3.000000</td>\n",
       "      <td>3.000000</td>\n",
       "      <td>3.000000</td>\n",
       "      <td>3.000000</td>\n",
       "      <td>3.000000</td>\n",
       "    </tr>\n",
       "    <tr>\n",
       "      <th>D_Year</th>\n",
       "      <td>2016.000000</td>\n",
       "      <td>2016.000000</td>\n",
       "      <td>2016.000000</td>\n",
       "      <td>2016.000000</td>\n",
       "      <td>2016.000000</td>\n",
       "    </tr>\n",
       "    <tr>\n",
       "      <th>StoreType_SuperMarket</th>\n",
       "      <td>0.000000</td>\n",
       "      <td>0.000000</td>\n",
       "      <td>0.000000</td>\n",
       "      <td>0.000000</td>\n",
       "      <td>0.000000</td>\n",
       "    </tr>\n",
       "    <tr>\n",
       "      <th>StoreType_HyperMarket</th>\n",
       "      <td>1.000000</td>\n",
       "      <td>1.000000</td>\n",
       "      <td>1.000000</td>\n",
       "      <td>1.000000</td>\n",
       "      <td>1.000000</td>\n",
       "    </tr>\n",
       "    <tr>\n",
       "      <th>StoreType_StandardMarket</th>\n",
       "      <td>0.000000</td>\n",
       "      <td>0.000000</td>\n",
       "      <td>0.000000</td>\n",
       "      <td>0.000000</td>\n",
       "      <td>0.000000</td>\n",
       "    </tr>\n",
       "    <tr>\n",
       "      <th>StoreType_ShoppingCenter</th>\n",
       "      <td>0.000000</td>\n",
       "      <td>0.000000</td>\n",
       "      <td>0.000000</td>\n",
       "      <td>0.000000</td>\n",
       "      <td>0.000000</td>\n",
       "    </tr>\n",
       "    <tr>\n",
       "      <th>AssortmentType_General</th>\n",
       "      <td>1.000000</td>\n",
       "      <td>1.000000</td>\n",
       "      <td>1.000000</td>\n",
       "      <td>1.000000</td>\n",
       "      <td>1.000000</td>\n",
       "    </tr>\n",
       "    <tr>\n",
       "      <th>AssortmentType_WithNFDept</th>\n",
       "      <td>0.000000</td>\n",
       "      <td>0.000000</td>\n",
       "      <td>0.000000</td>\n",
       "      <td>0.000000</td>\n",
       "      <td>0.000000</td>\n",
       "    </tr>\n",
       "    <tr>\n",
       "      <th>AssortmentType_WithFishDept</th>\n",
       "      <td>0.000000</td>\n",
       "      <td>0.000000</td>\n",
       "      <td>0.000000</td>\n",
       "      <td>0.000000</td>\n",
       "      <td>0.000000</td>\n",
       "    </tr>\n",
       "    <tr>\n",
       "      <th>MeanStoreSales</th>\n",
       "      <td>7675.446488</td>\n",
       "      <td>7675.446488</td>\n",
       "      <td>7675.446488</td>\n",
       "      <td>7675.446488</td>\n",
       "      <td>7675.446488</td>\n",
       "    </tr>\n",
       "    <tr>\n",
       "      <th>MeanRegionSales</th>\n",
       "      <td>4702.749381</td>\n",
       "      <td>4702.749381</td>\n",
       "      <td>4702.749381</td>\n",
       "      <td>4702.749381</td>\n",
       "      <td>4702.749381</td>\n",
       "    </tr>\n",
       "    <tr>\n",
       "      <th>MeanCustomers</th>\n",
       "      <td>622.769231</td>\n",
       "      <td>622.769231</td>\n",
       "      <td>622.769231</td>\n",
       "      <td>622.769231</td>\n",
       "      <td>622.769231</td>\n",
       "    </tr>\n",
       "    <tr>\n",
       "      <th>MeanRegionCustomers</th>\n",
       "      <td>284.209173</td>\n",
       "      <td>284.209173</td>\n",
       "      <td>284.209173</td>\n",
       "      <td>284.209173</td>\n",
       "      <td>284.209173</td>\n",
       "    </tr>\n",
       "    <tr>\n",
       "      <th>D_DayOfWeek_cos</th>\n",
       "      <td>0.623490</td>\n",
       "      <td>-0.222521</td>\n",
       "      <td>-0.900969</td>\n",
       "      <td>-0.222521</td>\n",
       "      <td>1.000000</td>\n",
       "    </tr>\n",
       "    <tr>\n",
       "      <th>D_DayOfWeek_sin</th>\n",
       "      <td>0.781831</td>\n",
       "      <td>0.974928</td>\n",
       "      <td>-0.433884</td>\n",
       "      <td>-0.974928</td>\n",
       "      <td>0.000000</td>\n",
       "    </tr>\n",
       "    <tr>\n",
       "      <th>p1</th>\n",
       "      <td>0.004261</td>\n",
       "      <td>0.004229</td>\n",
       "      <td>0.002378</td>\n",
       "      <td>0.003211</td>\n",
       "      <td>0.002863</td>\n",
       "    </tr>\n",
       "    <tr>\n",
       "      <th>p2</th>\n",
       "      <td>0.001514</td>\n",
       "      <td>0.000905</td>\n",
       "      <td>-0.000171</td>\n",
       "      <td>-0.000697</td>\n",
       "      <td>-0.000677</td>\n",
       "    </tr>\n",
       "    <tr>\n",
       "      <th>p3</th>\n",
       "      <td>-0.000960</td>\n",
       "      <td>-0.000604</td>\n",
       "      <td>-0.000541</td>\n",
       "      <td>-0.000333</td>\n",
       "      <td>-0.000300</td>\n",
       "    </tr>\n",
       "    <tr>\n",
       "      <th>p4</th>\n",
       "      <td>-0.000858</td>\n",
       "      <td>-0.000502</td>\n",
       "      <td>-0.000614</td>\n",
       "      <td>-0.000309</td>\n",
       "      <td>-0.000368</td>\n",
       "    </tr>\n",
       "    <tr>\n",
       "      <th>p5</th>\n",
       "      <td>0.002442</td>\n",
       "      <td>0.002478</td>\n",
       "      <td>0.002193</td>\n",
       "      <td>0.002189</td>\n",
       "      <td>0.002189</td>\n",
       "    </tr>\n",
       "    <tr>\n",
       "      <th>p6</th>\n",
       "      <td>-0.002051</td>\n",
       "      <td>-0.002263</td>\n",
       "      <td>0.000429</td>\n",
       "      <td>0.000273</td>\n",
       "      <td>0.000252</td>\n",
       "    </tr>\n",
       "    <tr>\n",
       "      <th>p7</th>\n",
       "      <td>0.002739</td>\n",
       "      <td>0.002907</td>\n",
       "      <td>-0.001428</td>\n",
       "      <td>-0.001721</td>\n",
       "      <td>-0.001600</td>\n",
       "    </tr>\n",
       "    <tr>\n",
       "      <th>p8</th>\n",
       "      <td>-0.000873</td>\n",
       "      <td>0.001100</td>\n",
       "      <td>-0.000580</td>\n",
       "      <td>0.001533</td>\n",
       "      <td>0.001418</td>\n",
       "    </tr>\n",
       "    <tr>\n",
       "      <th>p9</th>\n",
       "      <td>-0.000008</td>\n",
       "      <td>-0.000220</td>\n",
       "      <td>-0.000487</td>\n",
       "      <td>-0.000052</td>\n",
       "      <td>0.000146</td>\n",
       "    </tr>\n",
       "    <tr>\n",
       "      <th>p10</th>\n",
       "      <td>-0.000181</td>\n",
       "      <td>0.000118</td>\n",
       "      <td>-0.000555</td>\n",
       "      <td>-0.000604</td>\n",
       "      <td>-0.000394</td>\n",
       "    </tr>\n",
       "    <tr>\n",
       "      <th>p11</th>\n",
       "      <td>-0.000370</td>\n",
       "      <td>-0.000311</td>\n",
       "      <td>-0.000371</td>\n",
       "      <td>-0.000366</td>\n",
       "      <td>0.000048</td>\n",
       "    </tr>\n",
       "    <tr>\n",
       "      <th>p12</th>\n",
       "      <td>-0.000053</td>\n",
       "      <td>0.000174</td>\n",
       "      <td>0.000443</td>\n",
       "      <td>0.000273</td>\n",
       "      <td>0.000330</td>\n",
       "    </tr>\n",
       "  </tbody>\n",
       "</table>\n",
       "</div>"
      ],
      "text/plain": [
       "                                        0             1             2  \\\n",
       "IsHoliday                        0.000000      0.000000      0.000000   \n",
       "HasPromotions                    0.000000      0.000000      0.000000   \n",
       "NearestCompetitor              326.000000    326.000000    326.000000   \n",
       "Region                           7.000000      7.000000      7.000000   \n",
       "Region_AreaKM2                9643.000000   9643.000000   9643.000000   \n",
       "Region_GDP                   17130.000000  17130.000000  17130.000000   \n",
       "Region_PopulationK            2770.000000   2770.000000   2770.000000   \n",
       "CloudCover                       8.000000      8.000000      8.000000   \n",
       "D_Day                            1.000000      2.000000      4.000000   \n",
       "D_DayOfYear                     61.000000     62.000000     64.000000   \n",
       "D_Month                          3.000000      3.000000      3.000000   \n",
       "D_Year                        2016.000000   2016.000000   2016.000000   \n",
       "StoreType_SuperMarket            0.000000      0.000000      0.000000   \n",
       "StoreType_HyperMarket            1.000000      1.000000      1.000000   \n",
       "StoreType_StandardMarket         0.000000      0.000000      0.000000   \n",
       "StoreType_ShoppingCenter         0.000000      0.000000      0.000000   \n",
       "AssortmentType_General           1.000000      1.000000      1.000000   \n",
       "AssortmentType_WithNFDept        0.000000      0.000000      0.000000   \n",
       "AssortmentType_WithFishDept      0.000000      0.000000      0.000000   \n",
       "MeanStoreSales                7675.446488   7675.446488   7675.446488   \n",
       "MeanRegionSales               4702.749381   4702.749381   4702.749381   \n",
       "MeanCustomers                  622.769231    622.769231    622.769231   \n",
       "MeanRegionCustomers            284.209173    284.209173    284.209173   \n",
       "D_DayOfWeek_cos                  0.623490     -0.222521     -0.900969   \n",
       "D_DayOfWeek_sin                  0.781831      0.974928     -0.433884   \n",
       "p1                               0.004261      0.004229      0.002378   \n",
       "p2                               0.001514      0.000905     -0.000171   \n",
       "p3                              -0.000960     -0.000604     -0.000541   \n",
       "p4                              -0.000858     -0.000502     -0.000614   \n",
       "p5                               0.002442      0.002478      0.002193   \n",
       "p6                              -0.002051     -0.002263      0.000429   \n",
       "p7                               0.002739      0.002907     -0.001428   \n",
       "p8                              -0.000873      0.001100     -0.000580   \n",
       "p9                              -0.000008     -0.000220     -0.000487   \n",
       "p10                             -0.000181      0.000118     -0.000555   \n",
       "p11                             -0.000370     -0.000311     -0.000371   \n",
       "p12                             -0.000053      0.000174      0.000443   \n",
       "\n",
       "                                        3             4  \n",
       "IsHoliday                        0.000000      0.000000  \n",
       "HasPromotions                    0.000000      1.000000  \n",
       "NearestCompetitor              326.000000    326.000000  \n",
       "Region                           7.000000      7.000000  \n",
       "Region_AreaKM2                9643.000000   9643.000000  \n",
       "Region_GDP                   17130.000000  17130.000000  \n",
       "Region_PopulationK            2770.000000   2770.000000  \n",
       "CloudCover                       6.000000      0.000000  \n",
       "D_Day                            5.000000      7.000000  \n",
       "D_DayOfYear                     65.000000     67.000000  \n",
       "D_Month                          3.000000      3.000000  \n",
       "D_Year                        2016.000000   2016.000000  \n",
       "StoreType_SuperMarket            0.000000      0.000000  \n",
       "StoreType_HyperMarket            1.000000      1.000000  \n",
       "StoreType_StandardMarket         0.000000      0.000000  \n",
       "StoreType_ShoppingCenter         0.000000      0.000000  \n",
       "AssortmentType_General           1.000000      1.000000  \n",
       "AssortmentType_WithNFDept        0.000000      0.000000  \n",
       "AssortmentType_WithFishDept      0.000000      0.000000  \n",
       "MeanStoreSales                7675.446488   7675.446488  \n",
       "MeanRegionSales               4702.749381   4702.749381  \n",
       "MeanCustomers                  622.769231    622.769231  \n",
       "MeanRegionCustomers            284.209173    284.209173  \n",
       "D_DayOfWeek_cos                 -0.222521      1.000000  \n",
       "D_DayOfWeek_sin                 -0.974928      0.000000  \n",
       "p1                               0.003211      0.002863  \n",
       "p2                              -0.000697     -0.000677  \n",
       "p3                              -0.000333     -0.000300  \n",
       "p4                              -0.000309     -0.000368  \n",
       "p5                               0.002189      0.002189  \n",
       "p6                               0.000273      0.000252  \n",
       "p7                              -0.001721     -0.001600  \n",
       "p8                               0.001533      0.001418  \n",
       "p9                              -0.000052      0.000146  \n",
       "p10                             -0.000604     -0.000394  \n",
       "p11                             -0.000366      0.000048  \n",
       "p12                              0.000273      0.000330  "
      ]
     },
     "execution_count": 26,
     "metadata": {},
     "output_type": "execute_result"
    }
   ],
   "source": [
    "train[features].head().T"
   ]
  },
  {
   "cell_type": "markdown",
   "metadata": {},
   "source": [
    "# Random Forest parameters tuning"
   ]
  },
  {
   "cell_type": "markdown",
   "metadata": {},
   "source": [
    "n_estimators analysis: "
   ]
  },
  {
   "cell_type": "code",
   "execution_count": 13,
   "metadata": {},
   "outputs": [],
   "source": [
    "params = range(1, 101, 10)  #50,201,50"
   ]
  },
  {
   "cell_type": "code",
   "execution_count": 14,
   "metadata": {},
   "outputs": [
    {
     "name": "stdout",
     "output_type": "stream",
     "text": [
      "[CV] n_estimators=1 ..................................................\n",
      "[CV] n_estimators=11 .................................................\n",
      "[CV] n_estimators=21 .................................................\n",
      "[CV] n_estimators=31 .................................................\n",
      "[CV] n_estimators=41 .................................................\n",
      "[CV] n_estimators=51 .................................................\n",
      "[CV] n_estimators=61 .................................................\n",
      "[CV] n_estimators=71 .................................................\n",
      "[CV] ................................... n_estimators=1, total=   0.6s\n",
      "[CV] n_estimators=81 .................................................\n",
      "[CV] .................................. n_estimators=11, total=   5.8s\n",
      "[CV] n_estimators=91 .................................................\n",
      "[CV] .................................. n_estimators=21, total=  11.0s\n",
      "[CV] n_estimators=1 ..................................................\n",
      "[CV] ................................... n_estimators=1, total=   0.6s\n",
      "[CV] n_estimators=11 .................................................\n",
      "[CV] .................................. n_estimators=31, total=  16.4s\n",
      "[CV] n_estimators=21 .................................................\n",
      "[CV] .................................. n_estimators=11, total=   6.5s\n",
      "[CV] n_estimators=31 .................................................\n",
      "[CV] .................................. n_estimators=41, total=  25.3s\n",
      "[CV] n_estimators=41 .................................................\n",
      "[CV] .................................. n_estimators=21, total=  17.6s\n",
      "[CV] n_estimators=51 .................................................\n",
      "[CV] .................................. n_estimators=51, total=  35.0s\n",
      "[CV] n_estimators=61 .................................................\n",
      "[CV] .................................. n_estimators=61, total=  43.8s\n",
      "[CV] n_estimators=71 .................................................\n",
      "[CV] .................................. n_estimators=31, total=  27.0s\n",
      "[CV] n_estimators=81 .................................................\n",
      "[CV] .................................. n_estimators=71, total=  52.9s\n",
      "[CV] n_estimators=91 .................................................\n",
      "[CV] .................................. n_estimators=81, total= 1.1min\n",
      "[CV] n_estimators=1 ..................................................\n",
      "[CV] .................................. n_estimators=41, total=  39.6s\n",
      "[CV] n_estimators=11 .................................................\n",
      "[CV] ................................... n_estimators=1, total=   3.1s\n",
      "[CV] n_estimators=21 .................................................\n",
      "[CV] .................................. n_estimators=11, total=  13.8s\n",
      "[CV] n_estimators=31 .................................................\n",
      "[CV] .................................. n_estimators=91, total= 1.4min\n",
      "[CV] n_estimators=41 .................................................\n",
      "[CV] .................................. n_estimators=51, total=  55.3s\n",
      "[CV] n_estimators=51 .................................................\n",
      "[CV] .................................. n_estimators=21, total=  29.9s\n",
      "[CV] n_estimators=61 .................................................\n",
      "[CV] .................................. n_estimators=61, total= 1.3min\n",
      "[CV] n_estimators=71 .................................................\n",
      "[CV] .................................. n_estimators=31, total=  37.1s\n",
      "[CV] n_estimators=81 .................................................\n",
      "[CV] .................................. n_estimators=41, total=  49.8s\n",
      "[CV] n_estimators=91 .................................................\n",
      "[CV] .................................. n_estimators=81, total= 1.6min\n",
      "[CV] n_estimators=1 ..................................................\n",
      "[CV] .................................. n_estimators=51, total=  55.5s\n",
      "[CV] n_estimators=11 .................................................\n",
      "[CV] ................................... n_estimators=1, total=   1.2s\n",
      "[CV] n_estimators=21 .................................................\n"
     ]
    },
    {
     "name": "stderr",
     "output_type": "stream",
     "text": [
      "[Parallel(n_jobs=-1)]: Done  25 out of  50 | elapsed:  2.5min remaining:  2.5min\n"
     ]
    },
    {
     "name": "stdout",
     "output_type": "stream",
     "text": [
      "[CV] .................................. n_estimators=71, total= 1.8min\n",
      "[CV] n_estimators=31 .................................................\n",
      "[CV] .................................. n_estimators=11, total=  10.8s\n",
      "[CV] n_estimators=41 .................................................\n",
      "[CV] .................................. n_estimators=61, total= 1.0min\n",
      "[CV] n_estimators=51 .................................................\n",
      "[CV] .................................. n_estimators=91, total= 1.8min\n",
      "[CV] n_estimators=61 .................................................\n",
      "[CV] .................................. n_estimators=21, total=  20.2s\n",
      "[CV] n_estimators=71 .................................................\n",
      "[CV] .................................. n_estimators=31, total=  27.3s\n",
      "[CV] n_estimators=81 .................................................\n",
      "[CV] .................................. n_estimators=71, total= 1.2min\n",
      "[CV] n_estimators=91 .................................................\n",
      "[CV] .................................. n_estimators=41, total=  34.0s\n",
      "[CV] n_estimators=1 ..................................................\n",
      "[CV] ................................... n_estimators=1, total=   0.8s\n",
      "[CV] n_estimators=11 .................................................\n",
      "[CV] .................................. n_estimators=81, total= 1.3min\n",
      "[CV] n_estimators=21 .................................................\n",
      "[CV] .................................. n_estimators=11, total=   9.1s\n",
      "[CV] n_estimators=31 .................................................\n",
      "[CV] .................................. n_estimators=51, total=  40.8s\n",
      "[CV] n_estimators=41 .................................................\n",
      "[CV] .................................. n_estimators=21, total=  18.3s\n",
      "[CV] n_estimators=51 .................................................\n",
      "[CV] .................................. n_estimators=61, total=  50.1s\n",
      "[CV] n_estimators=61 .................................................\n",
      "[CV] .................................. n_estimators=91, total= 1.3min\n",
      "[CV] n_estimators=71 .................................................\n",
      "[CV] .................................. n_estimators=71, total= 1.0min\n",
      "[CV] n_estimators=81 .................................................\n",
      "[CV] .................................. n_estimators=31, total=  26.7s\n",
      "[CV] n_estimators=91 .................................................\n",
      "[CV] .................................. n_estimators=41, total=  33.0s\n",
      "[CV] .................................. n_estimators=81, total= 1.1min\n",
      "[CV] .................................. n_estimators=91, total= 1.2min\n",
      "[CV] .................................. n_estimators=51, total=  41.1s\n",
      "[CV] .................................. n_estimators=61, total=  45.4s\n",
      "[CV] .................................. n_estimators=71, total=  51.4s\n",
      "[CV] .................................. n_estimators=81, total=  59.2s\n",
      "[CV] .................................. n_estimators=91, total= 1.1min\n"
     ]
    },
    {
     "name": "stderr",
     "output_type": "stream",
     "text": [
      "[Parallel(n_jobs=-1)]: Done  50 out of  50 | elapsed:  5.0min finished\n"
     ]
    }
   ],
   "source": [
    "from sklearn.ensemble import RandomForestRegressor\n",
    "scores, tst_scr = validation_curve(RandomForestRegressor(), train[features][:20000],\\\n",
    "                                   y_train[:20000], 'n_estimators', params, \\\n",
    "                                   cv=5, scoring='r2',n_jobs=-1, verbose=2)"
   ]
  },
  {
   "cell_type": "code",
   "execution_count": 15,
   "metadata": {},
   "outputs": [
    {
     "data": {
      "text/plain": [
       "<matplotlib.collections.PolyCollection at 0x7fa7d9a7b668>"
      ]
     },
     "execution_count": 15,
     "metadata": {},
     "output_type": "execute_result"
    },
    {
     "data": {
      "image/png": "[encoded data removed]",
      "text/plain": [
       "<Figure size 432x288 with 1 Axes>"
      ]
     },
     "metadata": {},
     "output_type": "display_data"
    }
   ],
   "source": [
    "scores_mean = scores.mean(axis=1)\n",
    "scores_std = scores.std(axis=1)\n",
    "tst_scr_mean = tst_scr.mean(axis=1)\n",
    "tst_scr_std = tst_scr.std(axis=1)\n",
    "plt.plot(params, tst_scr_mean)\n",
    "plt.fill_between(params, tst_scr_mean + tst_scr_std, tst_scr_mean - tst_scr_std, alpha=0.3)\n",
    "plt.plot(params, scores_mean)\n",
    "plt.fill_between(params, scores_mean + scores_std, scores_mean - scores_std, alpha=0.3)"
   ]
  },
  {
   "cell_type": "markdown",
   "metadata": {},
   "source": [
    "As we can see in the graph, from 40 estimators on the performance curve is stable, so we set n_estimators = 40. "
   ]
  },
  {
   "cell_type": "markdown",
   "metadata": {},
   "source": [
    "##### "
   ]
  },
  {
   "cell_type": "markdown",
   "metadata": {},
   "source": []
  },
  {
   "cell_type": "markdown",
   "metadata": {},
   "source": [
    "max_features analysis:"
   ]
  },
  {
   "cell_type": "code",
   "execution_count": 16,
   "metadata": {},
   "outputs": [],
   "source": [
    "params = range(1, 35,2)"
   ]
  },
  {
   "cell_type": "code",
   "execution_count": 17,
   "metadata": {},
   "outputs": [
    {
     "name": "stdout",
     "output_type": "stream",
     "text": [
      "[CV] max_features=1 ..................................................\n",
      "[CV] max_features=3 ..................................................\n",
      "[CV] max_features=5 ..................................................\n",
      "[CV] max_features=7 ..................................................\n",
      "[CV] max_features=9 ..................................................\n",
      "[CV] max_features=11 .................................................\n",
      "[CV] max_features=13 .................................................\n",
      "[CV] max_features=15 .................................................\n",
      "[CV] ................................... max_features=1, total=   0.4s\n",
      "[CV] max_features=17 .................................................\n",
      "[CV] ................................... max_features=3, total=   0.6s\n",
      "[CV] max_features=19 .................................................\n",
      "[CV] ................................... max_features=5, total=   0.8s\n",
      "[CV] max_features=21 .................................................\n",
      "[CV] ................................... max_features=7, total=   1.0s\n",
      "[CV] max_features=23 .................................................\n",
      "[CV] ................................... max_features=9, total=   1.2s\n",
      "[CV] max_features=25 .................................................\n",
      "[CV] .................................. max_features=11, total=   1.4s\n",
      "[CV] max_features=27 .................................................\n",
      "[CV] .................................. max_features=13, total=   1.7s\n",
      "[CV] max_features=29 .................................................\n",
      "[CV] .................................. max_features=15, total=   2.0s\n",
      "[CV] max_features=31 .................................................\n",
      "[CV] .................................. max_features=17, total=   2.1s\n",
      "[CV] max_features=33 .................................................\n",
      "[CV] .................................. max_features=19, total=   2.5s\n",
      "[CV] max_features=1 ..................................................\n",
      "[CV] .................................. max_features=21, total=   2.5s\n",
      "[CV] max_features=3 ..................................................\n",
      "[CV] ................................... max_features=1, total=   0.5s\n",
      "[CV] max_features=5 ..................................................\n",
      "[CV] ................................... max_features=3, total=   0.5s\n",
      "[CV] max_features=7 ..................................................\n",
      "[CV] .................................. max_features=23, total=   2.9s\n",
      "[CV] max_features=9 ..................................................\n",
      "[CV] .................................. max_features=25, total=   3.2s\n",
      "[CV] max_features=11 .................................................\n",
      "[CV] .................................. max_features=27, total=   3.2s\n",
      "[CV] ................................... max_features=5, total=   0.9s\n",
      "[CV] max_features=13 .................................................\n",
      "[CV] max_features=15 .................................................\n",
      "[CV] ................................... max_features=7, total=   1.0s\n",
      "[CV] max_features=17 .................................................\n",
      "[CV] ................................... max_features=9, total=   1.3s\n",
      "[CV] max_features=19 .................................................\n",
      "[CV] .................................. max_features=29, total=   3.9s\n",
      "[CV] max_features=21 .................................................\n",
      "[CV] .................................. max_features=31, total=   3.8s\n",
      "[CV] max_features=23 .................................................\n",
      "[CV] .................................. max_features=11, total=   1.5s\n",
      "[CV] max_features=25 .................................................\n",
      "[CV] .................................. max_features=33, total=   4.1s\n",
      "[CV] max_features=27 .................................................\n",
      "[CV] .................................. max_features=15, total=   2.1s\n",
      "[CV] max_features=29 .................................................\n",
      "[CV] .................................. max_features=13, total=   2.3s\n",
      "[CV] max_features=31 .................................................\n",
      "[CV] .................................. max_features=17, total=   2.4s\n",
      "[CV] max_features=33 .................................................\n"
     ]
    },
    {
     "name": "stderr",
     "output_type": "stream",
     "text": [
      "[Parallel(n_jobs=-1)]: Done  26 out of  51 | elapsed:    7.9s remaining:    7.6s\n"
     ]
    },
    {
     "name": "stdout",
     "output_type": "stream",
     "text": [
      "[CV] .................................. max_features=19, total=   2.4s\n",
      "[CV] max_features=1 ..................................................\n",
      "[CV] ................................... max_features=1, total=   0.4s\n",
      "[CV] max_features=3 ..................................................\n",
      "[CV] .................................. max_features=21, total=   2.7s\n",
      "[CV] .................................. max_features=23, total=   2.5s\n",
      "[CV] max_features=5 ..................................................\n",
      "[CV] max_features=7 ..................................................\n",
      "[CV] ................................... max_features=3, total=   0.6s\n",
      "[CV] max_features=9 ..................................................\n",
      "[CV] .................................. max_features=25, total=   3.0s\n",
      "[CV] max_features=11 .................................................\n",
      "[CV] ................................... max_features=5, total=   0.9s\n",
      "[CV] max_features=13 .................................................\n",
      "[CV] ................................... max_features=7, total=   0.9s\n",
      "[CV] max_features=15 .................................................\n",
      "[CV] .................................. max_features=27, total=   3.3s\n",
      "[CV] max_features=17 .................................................\n",
      "[CV] ................................... max_features=9, total=   1.2s\n",
      "[CV] max_features=19 .................................................\n",
      "[CV] .................................. max_features=29, total=   3.7s\n",
      "[CV] max_features=21 .................................................\n",
      "[CV] .................................. max_features=31, total=   3.7s\n",
      "[CV] max_features=23 .................................................\n",
      "[CV] .................................. max_features=11, total=   1.6s\n",
      "[CV] max_features=25 .................................................\n",
      "[CV] .................................. max_features=13, total=   1.8s\n",
      "[CV] max_features=27 .................................................\n",
      "[CV] .................................. max_features=33, total=   3.9s\n",
      "[CV] max_features=29 .................................................\n",
      "[CV] .................................. max_features=15, total=   2.0s\n",
      "[CV] max_features=31 .................................................\n",
      "[CV] .................................. max_features=17, total=   2.4s\n",
      "[CV] max_features=33 .................................................\n",
      "[CV] .................................. max_features=19, total=   2.6s\n",
      "[CV] .................................. max_features=21, total=   3.3s\n",
      "[CV] .................................. max_features=23, total=   3.4s\n",
      "[CV] .................................. max_features=25, total=   3.6s\n",
      "[CV] .................................. max_features=27, total=   4.4s\n",
      "[CV] .................................. max_features=29, total=   4.8s\n",
      "[CV] .................................. max_features=31, total=   5.2s\n",
      "[CV] .................................. max_features=33, total=   5.9s\n"
     ]
    },
    {
     "name": "stderr",
     "output_type": "stream",
     "text": [
      "[Parallel(n_jobs=-1)]: Done  51 out of  51 | elapsed:   18.9s finished\n"
     ]
    }
   ],
   "source": [
    "from sklearn.ensemble import RandomForestRegressor\n",
    "scores, tst_scr = validation_curve(RandomForestRegressor(n_estimators=10), train[features][:20000], \\\n",
    "                                   y_train[:20000], 'max_features', params, \\\n",
    "                                   cv=3, scoring='r2',n_jobs=-1, verbose=2)"
   ]
  },
  {
   "cell_type": "code",
   "execution_count": 18,
   "metadata": {},
   "outputs": [
    {
     "data": {
      "text/plain": [
       "<matplotlib.collections.PolyCollection at 0x7fa7d99905f8>"
      ]
     },
     "execution_count": 18,
     "metadata": {},
     "output_type": "execute_result"
    },
    {
     "data": {
      "image/png": "[encoded data removed]",
      "text/plain": [
       "<Figure size 432x288 with 1 Axes>"
      ]
     },
     "metadata": {},
     "output_type": "display_data"
    }
   ],
   "source": [
    "scores_mean = scores.mean(axis=1)\n",
    "scores_std = scores.std(axis=1)\n",
    "tst_scr_mean = tst_scr.mean(axis=1)\n",
    "tst_scr_std = tst_scr.std(axis=1)\n",
    "plt.plot(params, tst_scr_mean)\n",
    "plt.fill_between(params, tst_scr_mean + tst_scr_std, tst_scr_mean - tst_scr_std, alpha=0.3)\n",
    "plt.plot(params, scores_mean)\n",
    "plt.fill_between(params, scores_mean + scores_std, scores_mean - scores_std, alpha=0.3)"
   ]
  },
  {
   "cell_type": "markdown",
   "metadata": {},
   "source": [
    "As we can see in the chart above, it seems that more than 20 features can ensure the best performances."
   ]
  },
  {
   "cell_type": "markdown",
   "metadata": {},
   "source": []
  },
  {
   "cell_type": "markdown",
   "metadata": {},
   "source": []
  },
  {
   "cell_type": "markdown",
   "metadata": {},
   "source": [
    "max_depth analysis:"
   ]
  },
  {
   "cell_type": "code",
   "execution_count": 19,
   "metadata": {},
   "outputs": [],
   "source": [
    "params = range(5, 101, 5)"
   ]
  },
  {
   "cell_type": "code",
   "execution_count": 20,
   "metadata": {},
   "outputs": [
    {
     "name": "stdout",
     "output_type": "stream",
     "text": [
      "[CV] max_depth=5 .....................................................\n",
      "[CV] max_depth=10 ....................................................\n",
      "[CV] max_depth=15 ....................................................\n",
      "[CV] max_depth=20 ....................................................\n",
      "[CV] max_depth=25 ....................................................\n",
      "[CV] max_depth=30 ....................................................\n",
      "[CV] max_depth=35 ....................................................\n",
      "[CV] max_depth=40 ....................................................\n",
      "[CV] ...................................... max_depth=5, total=  17.9s\n",
      "[CV] max_depth=45 ....................................................\n",
      "[CV] ..................................... max_depth=10, total=  35.5s\n",
      "[CV] max_depth=50 ....................................................\n",
      "[CV] ..................................... max_depth=15, total=  51.1s\n",
      "[CV] max_depth=55 ....................................................\n",
      "[CV] ..................................... max_depth=20, total= 1.1min\n",
      "[CV] max_depth=60 ....................................................\n",
      "[CV] ..................................... max_depth=25, total= 1.1min\n",
      "[CV] max_depth=65 ....................................................\n",
      "[CV] ..................................... max_depth=35, total= 1.1min\n",
      "[CV] max_depth=70 ....................................................\n",
      "[CV] ..................................... max_depth=30, total= 1.1min\n",
      "[CV] max_depth=75 ....................................................\n",
      "[CV] ..................................... max_depth=40, total= 1.1min\n",
      "[CV] max_depth=80 ....................................................\n",
      "[CV] ..................................... max_depth=45, total= 1.1min\n",
      "[CV] max_depth=85 ....................................................\n",
      "[CV] ..................................... max_depth=50, total= 1.0min\n",
      "[CV] max_depth=90 ....................................................\n",
      "[CV] ..................................... max_depth=55, total= 1.1min\n",
      "[CV] max_depth=95 ....................................................\n",
      "[CV] ..................................... max_depth=60, total= 1.0min\n",
      "[CV] max_depth=100 ...................................................\n",
      "[CV] ..................................... max_depth=65, total= 1.1min\n",
      "[CV] max_depth=5 .....................................................\n",
      "[CV] ..................................... max_depth=75, total= 1.0min\n",
      "[CV] max_depth=10 ....................................................\n",
      "[CV] ..................................... max_depth=70, total= 1.1min\n",
      "[CV] max_depth=15 ....................................................\n",
      "[CV] ..................................... max_depth=80, total= 1.0min\n",
      "[CV] max_depth=20 ....................................................\n",
      "[CV] ..................................... max_depth=85, total= 1.0min\n",
      "[CV] max_depth=25 ....................................................\n",
      "[CV] ...................................... max_depth=5, total=  20.3s\n",
      "[CV] max_depth=30 ....................................................\n",
      "[CV] ..................................... max_depth=90, total= 1.1min\n",
      "[CV] max_depth=35 ....................................................\n",
      "[CV] ..................................... max_depth=10, total=  34.5s\n",
      "[CV] max_depth=40 ....................................................\n",
      "[CV] ..................................... max_depth=95, total=  58.9s\n",
      "[CV] max_depth=45 ....................................................\n",
      "[CV] ..................................... max_depth=15, total=  50.8s\n",
      "[CV] max_depth=50 ....................................................\n",
      "[CV] .................................... max_depth=100, total=  58.9s\n",
      "[CV] max_depth=55 ....................................................\n",
      "[CV] ..................................... max_depth=20, total=  56.1s\n",
      "[CV] max_depth=60 ....................................................\n",
      "[CV] ..................................... max_depth=25, total=  58.4s\n",
      "[CV] max_depth=65 ....................................................\n",
      "[CV] ..................................... max_depth=30, total=  57.8s\n",
      "[CV] max_depth=70 ....................................................\n",
      "[CV] ..................................... max_depth=35, total=  58.5s\n",
      "[CV] max_depth=75 ....................................................\n",
      "[CV] ..................................... max_depth=40, total=  57.6s\n",
      "[CV] max_depth=80 ....................................................\n",
      "[CV] ..................................... max_depth=45, total=  58.0s\n",
      "[CV] max_depth=85 ....................................................\n",
      "[CV] ..................................... max_depth=50, total=  56.9s\n",
      "[CV] max_depth=90 ....................................................\n"
     ]
    },
    {
     "name": "stderr",
     "output_type": "stream",
     "text": [
      "[Parallel(n_jobs=-1)]: Done  30 out of  60 | elapsed:  4.0min remaining:  4.0min\n"
     ]
    },
    {
     "name": "stdout",
     "output_type": "stream",
     "text": [
      "[CV] ..................................... max_depth=55, total=  55.0s\n",
      "[CV] max_depth=95 ....................................................\n",
      "[CV] ..................................... max_depth=60, total=  53.8s\n",
      "[CV] max_depth=100 ...................................................\n",
      "[CV] ..................................... max_depth=65, total=  55.7s\n",
      "[CV] max_depth=5 .....................................................\n",
      "[CV] ..................................... max_depth=70, total=  55.8s\n",
      "[CV] max_depth=10 ....................................................\n",
      "[CV] ..................................... max_depth=75, total=  56.2s\n",
      "[CV] max_depth=15 ....................................................\n",
      "[CV] ...................................... max_depth=5, total=  18.8s\n",
      "[CV] max_depth=20 ....................................................\n",
      "[CV] ..................................... max_depth=80, total=  56.2s\n",
      "[CV] max_depth=25 ....................................................\n",
      "[CV] ..................................... max_depth=85, total=  57.9s\n",
      "[CV] max_depth=30 ....................................................\n",
      "[CV] ..................................... max_depth=90, total=  57.7s\n",
      "[CV] max_depth=35 ....................................................\n",
      "[CV] ..................................... max_depth=10, total=  35.5s\n",
      "[CV] max_depth=40 ....................................................\n",
      "[CV] ..................................... max_depth=95, total=  58.2s\n",
      "[CV] max_depth=45 ....................................................\n",
      "[CV] .................................... max_depth=100, total=  60.0s\n",
      "[CV] max_depth=50 ....................................................\n",
      "[CV] ..................................... max_depth=15, total=  49.3s\n",
      "[CV] max_depth=55 ....................................................\n",
      "[CV] ..................................... max_depth=20, total=  55.9s\n",
      "[CV] max_depth=60 ....................................................\n",
      "[CV] ..................................... max_depth=25, total=  57.8s\n",
      "[CV] max_depth=65 ....................................................\n",
      "[CV] ..................................... max_depth=30, total= 1.0min\n",
      "[CV] max_depth=70 ....................................................\n",
      "[CV] ..................................... max_depth=35, total=  58.1s\n",
      "[CV] max_depth=75 ....................................................\n",
      "[CV] ..................................... max_depth=40, total=  56.8s\n",
      "[CV] max_depth=80 ....................................................\n",
      "[CV] ..................................... max_depth=45, total=  57.2s\n",
      "[CV] max_depth=85 ....................................................\n",
      "[CV] ..................................... max_depth=50, total=  57.4s\n",
      "[CV] max_depth=90 ....................................................\n",
      "[CV] ..................................... max_depth=55, total=  56.4s\n",
      "[CV] max_depth=95 ....................................................\n",
      "[CV] ..................................... max_depth=60, total=  59.2s\n",
      "[CV] max_depth=100 ...................................................\n",
      "[CV] ..................................... max_depth=65, total=  57.6s\n",
      "[CV] ..................................... max_depth=70, total=  59.3s\n",
      "[CV] ..................................... max_depth=75, total=  57.8s\n",
      "[CV] ..................................... max_depth=80, total=  57.5s\n",
      "[CV] ..................................... max_depth=85, total=  56.6s\n",
      "[CV] ..................................... max_depth=90, total=  58.0s\n",
      "[CV] ..................................... max_depth=95, total= 1.1min\n",
      "[CV] .................................... max_depth=100, total= 1.1min\n"
     ]
    },
    {
     "name": "stderr",
     "output_type": "stream",
     "text": [
      "[Parallel(n_jobs=-1)]: Done  60 out of  60 | elapsed:  7.7min finished\n"
     ]
    }
   ],
   "source": [
    "from sklearn.ensemble import RandomForestRegressor\n",
    "scores, tst_scr = validation_curve(RandomForestRegressor(n_estimators=100), train[features][:20000], \\\n",
    "                                   y_train[:20000], 'max_depth', params, \\\n",
    "                                   cv=3, scoring='r2',n_jobs=-1, verbose=2)"
   ]
  },
  {
   "cell_type": "code",
   "execution_count": 21,
   "metadata": {},
   "outputs": [
    {
     "data": {
      "text/plain": [
       "<matplotlib.collections.PolyCollection at 0x7fa7d99596d8>"
      ]
     },
     "execution_count": 21,
     "metadata": {},
     "output_type": "execute_result"
    },
    {
     "data": {
      "image/png": "[encoded data removed]",
      "text/plain": [
       "<Figure size 432x288 with 1 Axes>"
      ]
     },
     "metadata": {},
     "output_type": "display_data"
    }
   ],
   "source": [
    "scores_mean = scores.mean(axis=1)\n",
    "scores_std = scores.std(axis=1)\n",
    "tst_scr_mean = tst_scr.mean(axis=1)\n",
    "tst_scr_std = tst_scr.std(axis=1)\n",
    "plt.plot(params, tst_scr_mean)\n",
    "plt.fill_between(params, tst_scr_mean + tst_scr_std, tst_scr_mean - tst_scr_std, alpha=0.3)\n",
    "plt.plot(params, scores_mean)\n",
    "plt.fill_between(params, scores_mean + scores_std, scores_mean - scores_std, alpha=0.3)"
   ]
  },
  {
   "cell_type": "markdown",
   "metadata": {},
   "source": [
    "The graph above show how a suitable value for max_depth is 20, indeed even increasing it, the performance are stable."
   ]
  },
  {
   "cell_type": "markdown",
   "metadata": {},
   "source": [
    "# Model Building "
   ]
  },
  {
   "cell_type": "code",
   "execution_count": 29,
   "metadata": {
    "_cell_guid": "018cf318-6e90-ff0a-5df8-af606ae38f21"
   },
   "outputs": [],
   "source": [
    "from sklearn.ensemble import RandomForestRegressor"
   ]
  },
  {
   "cell_type": "code",
   "execution_count": 30,
   "metadata": {
    "_cell_guid": "b3e3ba0d-11e8-fcc9-e570-c115bcfd95af"
   },
   "outputs": [],
   "source": [
    "model1 = RandomForestRegressor(n_estimators=50, max_depth=20, n_jobs=-1, verbose=2)"
   ]
  },
  {
   "cell_type": "code",
   "execution_count": 31,
   "metadata": {
    "_cell_guid": "4ca7054e-92a6-6ab3-c758-8503d9b53c29"
   },
   "outputs": [
    {
     "name": "stdout",
     "output_type": "stream",
     "text": [
      "building tree 1 of 50building tree 2 of 50building tree 3 of 50\n",
      "\n",
      "building tree 4 of 50\n",
      "\n",
      "building tree 5 of 50\n",
      "building tree 6 of 50\n",
      "building tree 7 of 50\n",
      "building tree 8 of 50\n",
      "building tree 9 of 50\n",
      "building tree 10 of 50\n",
      "building tree 11 of 50\n",
      "building tree 12 of 50\n",
      "building tree 13 of 50\n",
      "building tree 14 of 50\n",
      "building tree 15 of 50\n",
      "building tree 16 of 50\n",
      "building tree 17 of 50\n",
      "building tree 18 of 50\n",
      "building tree 19 of 50\n",
      "building tree 20 of 50\n",
      "building tree 21 of 50\n",
      "building tree 22 of 50\n",
      "building tree 23 of 50\n",
      "building tree 24 of 50\n",
      "building tree 25 of 50\n",
      "building tree 26 of 50\n",
      "building tree 27 of 50\n",
      "building tree 28 of 50\n",
      "building tree 29 of 50\n",
      "building tree 30 of 50\n",
      "building tree 31 of 50\n",
      "building tree 32 of 50\n",
      "building tree 33 of 50\n",
      "building tree 34 of 50\n",
      "building tree 35 of 50\n",
      "building tree 36 of 50\n"
     ]
    },
    {
     "name": "stderr",
     "output_type": "stream",
     "text": [
      "[Parallel(n_jobs=-1)]: Done  33 tasks      | elapsed:  3.0min\n"
     ]
    },
    {
     "name": "stdout",
     "output_type": "stream",
     "text": [
      "building tree 37 of 50\n",
      "building tree 38 of 50\n",
      "building tree 39 of 50\n",
      "building tree 40 of 50\n",
      "building tree 41 of 50\n",
      "building tree 42 of 50\n",
      "building tree 43 of 50\n",
      "building tree 44 of 50\n",
      "building tree 45 of 50\n",
      "building tree 46 of 50\n",
      "building tree 47 of 50\n",
      "building tree 48 of 50\n",
      "building tree 49 of 50\n",
      "building tree 50 of 50\n"
     ]
    },
    {
     "name": "stderr",
     "output_type": "stream",
     "text": [
      "[Parallel(n_jobs=-1)]: Done  50 out of  50 | elapsed:  4.6min finished\n"
     ]
    },
    {
     "data": {
      "text/plain": [
       "RandomForestRegressor(bootstrap=True, criterion='mse', max_depth=20,\n",
       "           max_features='auto', max_leaf_nodes=None,\n",
       "           min_impurity_decrease=0.0, min_impurity_split=None,\n",
       "           min_samples_leaf=1, min_samples_split=2,\n",
       "           min_weight_fraction_leaf=0.0, n_estimators=50, n_jobs=-1,\n",
       "           oob_score=False, random_state=None, verbose=2, warm_start=False)"
      ]
     },
     "execution_count": 31,
     "metadata": {},
     "output_type": "execute_result"
    }
   ],
   "source": [
    "\n",
    "model1.fit(train[features], train['NumberOfSales'])"
   ]
  },
  {
   "cell_type": "markdown",
   "metadata": {},
   "source": [
    "Which are the most relevant features?"
   ]
  },
  {
   "cell_type": "code",
   "execution_count": 32,
   "metadata": {
    "_cell_guid": "b237139b-3eaa-a348-2717-1f2536b84ede"
   },
   "outputs": [],
   "source": [
    "idx = model1.feature_importances_.argsort()[::-1]"
   ]
  },
  {
   "cell_type": "code",
   "execution_count": 33,
   "metadata": {
    "_cell_guid": "0b7a9919-c9d3-adb9-4fb4-e4cd94b72c99"
   },
   "outputs": [
    {
     "data": {
      "image/png": "[encoded data removed]",
      "text/plain": [
       "<matplotlib.figure.Figure at 0x1a036a06d8>"
      ]
     },
     "metadata": {},
     "output_type": "display_data"
    }
   ],
   "source": [
    "ax = sns.barplot(x=df[features].columns[idx], y=model1.feature_importances_[idx])\n",
    "_ = plt.setp(ax.get_xticklabels(), rotation=-90)"
   ]
  },
  {
   "cell_type": "markdown",
   "metadata": {},
   "source": [
    "# Predict"
   ]
  },
  {
   "cell_type": "code",
   "execution_count": 34,
   "metadata": {},
   "outputs": [
    {
     "name": "stderr",
     "output_type": "stream",
     "text": [
      "[Parallel(n_jobs=4)]: Done  33 tasks      | elapsed:    0.1s\n",
      "[Parallel(n_jobs=4)]: Done  50 out of  50 | elapsed:    0.2s finished\n"
     ]
    }
   ],
   "source": [
    "test['_NumberOfSales'] = model1.predict(test[features])"
   ]
  },
  {
   "cell_type": "code",
   "execution_count": 36,
   "metadata": {},
   "outputs": [
    {
     "name": "stderr",
     "output_type": "stream",
     "text": [
      "[Parallel(n_jobs=4)]: Done  33 tasks      | elapsed:    1.6s\n",
      "[Parallel(n_jobs=4)]: Done  50 out of  50 | elapsed:    2.3s finished\n"
     ]
    }
   ],
   "source": [
    "train['_NumberOfSales'] = model1.predict(train[features])"
   ]
  },
  {
   "cell_type": "markdown",
   "metadata": {},
   "source": [
    "# Estimating error through BIP function"
   ]
  },
  {
   "cell_type": "code",
   "execution_count": 35,
   "metadata": {},
   "outputs": [
    {
     "name": "stdout",
     "output_type": "stream",
     "text": [
      "BIP total error: 0.039154274077734155\n"
     ]
    }
   ],
   "source": [
    "if not predict_for_submission:\n",
    "    from BIP import get_BIP_error\n",
    "    error1 = get_BIP_error(test)"
   ]
  },
  {
   "cell_type": "code",
   "execution_count": 37,
   "metadata": {},
   "outputs": [
    {
     "name": "stdout",
     "output_type": "stream",
     "text": [
      "BIP total error: 0.015150337673198143\n"
     ]
    }
   ],
   "source": [
    "if not predict_for_submission:\n",
    "    from BIP import get_BIP_error\n",
    "    error1 = get_BIP_error(train)"
   ]
  },
  {
   "cell_type": "markdown",
   "metadata": {},
   "source": [
    "## Writing to file"
   ]
  },
  {
   "cell_type": "code",
   "execution_count": null,
   "metadata": {},
   "outputs": [],
   "source": [
    "if predict_for_submission:\n",
    "    test.to_csv('./dataset/submission_53_RFR_on_prep.csv', index=False)\n",
    "else:\n",
    "    mm = 'm{}{}'.format(test_months[0],test_months[1])\n",
    "    test.to_csv('./dataset/test_'+mm+'_53_RFR_on_prep.csv', index=False)"
   ]
  },
  {
   "cell_type": "markdown",
   "metadata": {},
   "source": [
    "# Estimating error through R2 function"
   ]
  },
  {
   "cell_type": "code",
   "execution_count": 29,
   "metadata": {},
   "outputs": [
    {
     "name": "stdout",
     "output_type": "stream",
     "text": [
      "(36911, 45)\n",
      "RSS: 27390619345.05524\n"
     ]
    },
    {
     "name": "stderr",
     "output_type": "stream",
     "text": [
      "/home/nyxgear/anaconda3/lib/python3.6/site-packages/ipykernel_launcher.py:7: SettingWithCopyWarning: \n",
      "A value is trying to be set on a copy of a slice from a DataFrame.\n",
      "Try using .loc[row_indexer,col_indexer] = value instead\n",
      "\n",
      "See the caveats in the documentation: http://pandas.pydata.org/pandas-docs/stable/indexing.html#indexing-view-versus-copy\n",
      "  import sys\n"
     ]
    },
    {
     "data": {
      "text/html": [
       "<div>\n",
       "<style scoped>\n",
       "    .dataframe tbody tr th:only-of-type {\n",
       "        vertical-align: middle;\n",
       "    }\n",
       "\n",
       "    .dataframe tbody tr th {\n",
       "        vertical-align: top;\n",
       "    }\n",
       "\n",
       "    .dataframe thead th {\n",
       "        text-align: right;\n",
       "    }\n",
       "</style>\n",
       "<table border=\"1\" class=\"dataframe\">\n",
       "  <thead>\n",
       "    <tr style=\"text-align: right;\">\n",
       "      <th></th>\n",
       "      <th>StoreID</th>\n",
       "      <th>Date</th>\n",
       "      <th>IsHoliday</th>\n",
       "      <th>HasPromotions</th>\n",
       "      <th>NearestCompetitor</th>\n",
       "      <th>Region</th>\n",
       "      <th>NumberOfSales</th>\n",
       "      <th>Region_AreaKM2</th>\n",
       "      <th>Region_GDP</th>\n",
       "      <th>Region_PopulationK</th>\n",
       "      <th>...</th>\n",
       "      <th>p5</th>\n",
       "      <th>p6</th>\n",
       "      <th>p7</th>\n",
       "      <th>p8</th>\n",
       "      <th>p9</th>\n",
       "      <th>p10</th>\n",
       "      <th>p11</th>\n",
       "      <th>p12</th>\n",
       "      <th>_NumberOfSales</th>\n",
       "      <th>sqrd_diff</th>\n",
       "    </tr>\n",
       "  </thead>\n",
       "  <tbody>\n",
       "    <tr>\n",
       "      <th>548</th>\n",
       "      <td>1000</td>\n",
       "      <td>01/01/2018</td>\n",
       "      <td>0</td>\n",
       "      <td>0</td>\n",
       "      <td>326</td>\n",
       "      <td>7</td>\n",
       "      <td>8540</td>\n",
       "      <td>9643</td>\n",
       "      <td>17130</td>\n",
       "      <td>2770</td>\n",
       "      <td>...</td>\n",
       "      <td>-0.002012</td>\n",
       "      <td>0.002307</td>\n",
       "      <td>0.001049</td>\n",
       "      <td>-0.001226</td>\n",
       "      <td>0.000372</td>\n",
       "      <td>0.000095</td>\n",
       "      <td>0.000836</td>\n",
       "      <td>-0.000170</td>\n",
       "      <td>10208.159259</td>\n",
       "      <td>2.782755e+06</td>\n",
       "    </tr>\n",
       "    <tr>\n",
       "      <th>549</th>\n",
       "      <td>1000</td>\n",
       "      <td>02/01/2018</td>\n",
       "      <td>0</td>\n",
       "      <td>0</td>\n",
       "      <td>326</td>\n",
       "      <td>7</td>\n",
       "      <td>10364</td>\n",
       "      <td>9643</td>\n",
       "      <td>17130</td>\n",
       "      <td>2770</td>\n",
       "      <td>...</td>\n",
       "      <td>-0.002070</td>\n",
       "      <td>0.002708</td>\n",
       "      <td>-0.000669</td>\n",
       "      <td>-0.001426</td>\n",
       "      <td>-0.000215</td>\n",
       "      <td>-0.000540</td>\n",
       "      <td>0.000367</td>\n",
       "      <td>-0.000163</td>\n",
       "      <td>6004.900000</td>\n",
       "      <td>1.900175e+07</td>\n",
       "    </tr>\n",
       "    <tr>\n",
       "      <th>550</th>\n",
       "      <td>1000</td>\n",
       "      <td>03/01/2018</td>\n",
       "      <td>0</td>\n",
       "      <td>0</td>\n",
       "      <td>326</td>\n",
       "      <td>7</td>\n",
       "      <td>4676</td>\n",
       "      <td>9643</td>\n",
       "      <td>17130</td>\n",
       "      <td>2770</td>\n",
       "      <td>...</td>\n",
       "      <td>-0.002125</td>\n",
       "      <td>0.003129</td>\n",
       "      <td>-0.000895</td>\n",
       "      <td>-0.001529</td>\n",
       "      <td>-0.000557</td>\n",
       "      <td>0.000031</td>\n",
       "      <td>-0.000107</td>\n",
       "      <td>-0.000037</td>\n",
       "      <td>4079.066667</td>\n",
       "      <td>3.563294e+05</td>\n",
       "    </tr>\n",
       "    <tr>\n",
       "      <th>551</th>\n",
       "      <td>1000</td>\n",
       "      <td>05/01/2018</td>\n",
       "      <td>0</td>\n",
       "      <td>0</td>\n",
       "      <td>326</td>\n",
       "      <td>7</td>\n",
       "      <td>6267</td>\n",
       "      <td>9643</td>\n",
       "      <td>17130</td>\n",
       "      <td>2770</td>\n",
       "      <td>...</td>\n",
       "      <td>0.002572</td>\n",
       "      <td>-0.000628</td>\n",
       "      <td>-0.000278</td>\n",
       "      <td>-0.001221</td>\n",
       "      <td>0.000540</td>\n",
       "      <td>0.000499</td>\n",
       "      <td>-0.000087</td>\n",
       "      <td>-0.000236</td>\n",
       "      <td>7445.791362</td>\n",
       "      <td>1.389549e+06</td>\n",
       "    </tr>\n",
       "    <tr>\n",
       "      <th>552</th>\n",
       "      <td>1000</td>\n",
       "      <td>06/01/2018</td>\n",
       "      <td>0</td>\n",
       "      <td>0</td>\n",
       "      <td>326</td>\n",
       "      <td>7</td>\n",
       "      <td>5953</td>\n",
       "      <td>9643</td>\n",
       "      <td>17130</td>\n",
       "      <td>2770</td>\n",
       "      <td>...</td>\n",
       "      <td>0.000616</td>\n",
       "      <td>0.003896</td>\n",
       "      <td>0.000200</td>\n",
       "      <td>-0.001384</td>\n",
       "      <td>-0.000087</td>\n",
       "      <td>-0.000091</td>\n",
       "      <td>0.000085</td>\n",
       "      <td>0.000273</td>\n",
       "      <td>7577.743277</td>\n",
       "      <td>2.639791e+06</td>\n",
       "    </tr>\n",
       "  </tbody>\n",
       "</table>\n",
       "<p>5 rows × 46 columns</p>\n",
       "</div>"
      ],
      "text/plain": [
       "     StoreID        Date  IsHoliday  HasPromotions  NearestCompetitor  Region  \\\n",
       "548     1000  01/01/2018          0              0                326       7   \n",
       "549     1000  02/01/2018          0              0                326       7   \n",
       "550     1000  03/01/2018          0              0                326       7   \n",
       "551     1000  05/01/2018          0              0                326       7   \n",
       "552     1000  06/01/2018          0              0                326       7   \n",
       "\n",
       "     NumberOfSales  Region_AreaKM2  Region_GDP  Region_PopulationK  \\\n",
       "548           8540            9643       17130                2770   \n",
       "549          10364            9643       17130                2770   \n",
       "550           4676            9643       17130                2770   \n",
       "551           6267            9643       17130                2770   \n",
       "552           5953            9643       17130                2770   \n",
       "\n",
       "         ...             p5        p6        p7        p8        p9       p10  \\\n",
       "548      ...      -0.002012  0.002307  0.001049 -0.001226  0.000372  0.000095   \n",
       "549      ...      -0.002070  0.002708 -0.000669 -0.001426 -0.000215 -0.000540   \n",
       "550      ...      -0.002125  0.003129 -0.000895 -0.001529 -0.000557  0.000031   \n",
       "551      ...       0.002572 -0.000628 -0.000278 -0.001221  0.000540  0.000499   \n",
       "552      ...       0.000616  0.003896  0.000200 -0.001384 -0.000087 -0.000091   \n",
       "\n",
       "          p11       p12  _NumberOfSales     sqrd_diff  \n",
       "548  0.000836 -0.000170    10208.159259  2.782755e+06  \n",
       "549  0.000367 -0.000163     6004.900000  1.900175e+07  \n",
       "550 -0.000107 -0.000037     4079.066667  3.563294e+05  \n",
       "551 -0.000087 -0.000236     7445.791362  1.389549e+06  \n",
       "552  0.000085  0.000273     7577.743277  2.639791e+06  \n",
       "\n",
       "[5 rows x 46 columns]"
      ]
     },
     "execution_count": 29,
     "metadata": {},
     "output_type": "execute_result"
    }
   ],
   "source": [
    "# calculationg R2\n",
    "\n",
    "# calculate RSS\n",
    "df_RSS = test\n",
    "print(df_RSS.shape)\n",
    "\n",
    "df_RSS['sqrd_diff'] = df_RSS.apply(lambda x: (x['NumberOfSales'] - x['_NumberOfSales'])**2, axis=1)\n",
    "\n",
    "RSS = df_RSS['sqrd_diff'].sum()\n",
    "print('RSS:', RSS)\n",
    "df_RSS.head()"
   ]
  },
  {
   "cell_type": "code",
   "execution_count": 30,
   "metadata": {},
   "outputs": [
    {
     "name": "stdout",
     "output_type": "stream",
     "text": [
      "NS_mean 4761.829833924846\n",
      "TSS: 166431512680.66556\n"
     ]
    },
    {
     "name": "stderr",
     "output_type": "stream",
     "text": [
      "/home/nyxgear/anaconda3/lib/python3.6/site-packages/ipykernel_launcher.py:7: SettingWithCopyWarning: \n",
      "A value is trying to be set on a copy of a slice from a DataFrame.\n",
      "Try using .loc[row_indexer,col_indexer] = value instead\n",
      "\n",
      "See the caveats in the documentation: http://pandas.pydata.org/pandas-docs/stable/indexing.html#indexing-view-versus-copy\n",
      "  import sys\n"
     ]
    },
    {
     "data": {
      "text/html": [
       "<div>\n",
       "<style scoped>\n",
       "    .dataframe tbody tr th:only-of-type {\n",
       "        vertical-align: middle;\n",
       "    }\n",
       "\n",
       "    .dataframe tbody tr th {\n",
       "        vertical-align: top;\n",
       "    }\n",
       "\n",
       "    .dataframe thead th {\n",
       "        text-align: right;\n",
       "    }\n",
       "</style>\n",
       "<table border=\"1\" class=\"dataframe\">\n",
       "  <thead>\n",
       "    <tr style=\"text-align: right;\">\n",
       "      <th></th>\n",
       "      <th>StoreID</th>\n",
       "      <th>Date</th>\n",
       "      <th>IsHoliday</th>\n",
       "      <th>HasPromotions</th>\n",
       "      <th>NearestCompetitor</th>\n",
       "      <th>Region</th>\n",
       "      <th>NumberOfSales</th>\n",
       "      <th>Region_AreaKM2</th>\n",
       "      <th>Region_GDP</th>\n",
       "      <th>Region_PopulationK</th>\n",
       "      <th>...</th>\n",
       "      <th>p5</th>\n",
       "      <th>p6</th>\n",
       "      <th>p7</th>\n",
       "      <th>p8</th>\n",
       "      <th>p9</th>\n",
       "      <th>p10</th>\n",
       "      <th>p11</th>\n",
       "      <th>p12</th>\n",
       "      <th>_NumberOfSales</th>\n",
       "      <th>sqrd_diff</th>\n",
       "    </tr>\n",
       "  </thead>\n",
       "  <tbody>\n",
       "    <tr>\n",
       "      <th>548</th>\n",
       "      <td>1000</td>\n",
       "      <td>01/01/2018</td>\n",
       "      <td>0</td>\n",
       "      <td>0</td>\n",
       "      <td>326</td>\n",
       "      <td>7</td>\n",
       "      <td>8540</td>\n",
       "      <td>9643</td>\n",
       "      <td>17130</td>\n",
       "      <td>2770</td>\n",
       "      <td>...</td>\n",
       "      <td>-0.002012</td>\n",
       "      <td>0.002307</td>\n",
       "      <td>0.001049</td>\n",
       "      <td>-0.001226</td>\n",
       "      <td>0.000372</td>\n",
       "      <td>0.000095</td>\n",
       "      <td>0.000836</td>\n",
       "      <td>-0.000170</td>\n",
       "      <td>10208.159259</td>\n",
       "      <td>2.966250e+07</td>\n",
       "    </tr>\n",
       "    <tr>\n",
       "      <th>549</th>\n",
       "      <td>1000</td>\n",
       "      <td>02/01/2018</td>\n",
       "      <td>0</td>\n",
       "      <td>0</td>\n",
       "      <td>326</td>\n",
       "      <td>7</td>\n",
       "      <td>10364</td>\n",
       "      <td>9643</td>\n",
       "      <td>17130</td>\n",
       "      <td>2770</td>\n",
       "      <td>...</td>\n",
       "      <td>-0.002070</td>\n",
       "      <td>0.002708</td>\n",
       "      <td>-0.000669</td>\n",
       "      <td>-0.001426</td>\n",
       "      <td>-0.000215</td>\n",
       "      <td>-0.000540</td>\n",
       "      <td>0.000367</td>\n",
       "      <td>-0.000163</td>\n",
       "      <td>6004.900000</td>\n",
       "      <td>1.545223e+06</td>\n",
       "    </tr>\n",
       "    <tr>\n",
       "      <th>550</th>\n",
       "      <td>1000</td>\n",
       "      <td>03/01/2018</td>\n",
       "      <td>0</td>\n",
       "      <td>0</td>\n",
       "      <td>326</td>\n",
       "      <td>7</td>\n",
       "      <td>4676</td>\n",
       "      <td>9643</td>\n",
       "      <td>17130</td>\n",
       "      <td>2770</td>\n",
       "      <td>...</td>\n",
       "      <td>-0.002125</td>\n",
       "      <td>0.003129</td>\n",
       "      <td>-0.000895</td>\n",
       "      <td>-0.001529</td>\n",
       "      <td>-0.000557</td>\n",
       "      <td>0.000031</td>\n",
       "      <td>-0.000107</td>\n",
       "      <td>-0.000037</td>\n",
       "      <td>4079.066667</td>\n",
       "      <td>4.661655e+05</td>\n",
       "    </tr>\n",
       "    <tr>\n",
       "      <th>551</th>\n",
       "      <td>1000</td>\n",
       "      <td>05/01/2018</td>\n",
       "      <td>0</td>\n",
       "      <td>0</td>\n",
       "      <td>326</td>\n",
       "      <td>7</td>\n",
       "      <td>6267</td>\n",
       "      <td>9643</td>\n",
       "      <td>17130</td>\n",
       "      <td>2770</td>\n",
       "      <td>...</td>\n",
       "      <td>0.002572</td>\n",
       "      <td>-0.000628</td>\n",
       "      <td>-0.000278</td>\n",
       "      <td>-0.001221</td>\n",
       "      <td>0.000540</td>\n",
       "      <td>0.000499</td>\n",
       "      <td>-0.000087</td>\n",
       "      <td>-0.000236</td>\n",
       "      <td>7445.791362</td>\n",
       "      <td>7.203649e+06</td>\n",
       "    </tr>\n",
       "    <tr>\n",
       "      <th>552</th>\n",
       "      <td>1000</td>\n",
       "      <td>06/01/2018</td>\n",
       "      <td>0</td>\n",
       "      <td>0</td>\n",
       "      <td>326</td>\n",
       "      <td>7</td>\n",
       "      <td>5953</td>\n",
       "      <td>9643</td>\n",
       "      <td>17130</td>\n",
       "      <td>2770</td>\n",
       "      <td>...</td>\n",
       "      <td>0.000616</td>\n",
       "      <td>0.003896</td>\n",
       "      <td>0.000200</td>\n",
       "      <td>-0.001384</td>\n",
       "      <td>-0.000087</td>\n",
       "      <td>-0.000091</td>\n",
       "      <td>0.000085</td>\n",
       "      <td>0.000273</td>\n",
       "      <td>7577.743277</td>\n",
       "      <td>7.929369e+06</td>\n",
       "    </tr>\n",
       "  </tbody>\n",
       "</table>\n",
       "<p>5 rows × 46 columns</p>\n",
       "</div>"
      ],
      "text/plain": [
       "     StoreID        Date  IsHoliday  HasPromotions  NearestCompetitor  Region  \\\n",
       "548     1000  01/01/2018          0              0                326       7   \n",
       "549     1000  02/01/2018          0              0                326       7   \n",
       "550     1000  03/01/2018          0              0                326       7   \n",
       "551     1000  05/01/2018          0              0                326       7   \n",
       "552     1000  06/01/2018          0              0                326       7   \n",
       "\n",
       "     NumberOfSales  Region_AreaKM2  Region_GDP  Region_PopulationK  \\\n",
       "548           8540            9643       17130                2770   \n",
       "549          10364            9643       17130                2770   \n",
       "550           4676            9643       17130                2770   \n",
       "551           6267            9643       17130                2770   \n",
       "552           5953            9643       17130                2770   \n",
       "\n",
       "         ...             p5        p6        p7        p8        p9       p10  \\\n",
       "548      ...      -0.002012  0.002307  0.001049 -0.001226  0.000372  0.000095   \n",
       "549      ...      -0.002070  0.002708 -0.000669 -0.001426 -0.000215 -0.000540   \n",
       "550      ...      -0.002125  0.003129 -0.000895 -0.001529 -0.000557  0.000031   \n",
       "551      ...       0.002572 -0.000628 -0.000278 -0.001221  0.000540  0.000499   \n",
       "552      ...       0.000616  0.003896  0.000200 -0.001384 -0.000087 -0.000091   \n",
       "\n",
       "          p11       p12  _NumberOfSales     sqrd_diff  \n",
       "548  0.000836 -0.000170    10208.159259  2.966250e+07  \n",
       "549  0.000367 -0.000163     6004.900000  1.545223e+06  \n",
       "550 -0.000107 -0.000037     4079.066667  4.661655e+05  \n",
       "551 -0.000087 -0.000236     7445.791362  7.203649e+06  \n",
       "552  0.000085  0.000273     7577.743277  7.929369e+06  \n",
       "\n",
       "[5 rows x 46 columns]"
      ]
     },
     "execution_count": 30,
     "metadata": {},
     "output_type": "execute_result"
    }
   ],
   "source": [
    "# calculate TSS\n",
    "\n",
    "df_TSS = test\n",
    "NS_mean = df_TSS['NumberOfSales'].mean()\n",
    "print('NS_mean', NS_mean)\n",
    "\n",
    "df_TSS['sqrd_diff'] = df_TSS.apply(lambda x:  (x['_NumberOfSales'] - NS_mean)**2, axis=1)\n",
    "TSS = df_TSS['sqrd_diff'].sum()\n",
    "print('TSS:', TSS)\n",
    "df_TSS.head()"
   ]
  },
  {
   "cell_type": "code",
   "execution_count": 31,
   "metadata": {},
   "outputs": [
    {
     "name": "stdout",
     "output_type": "stream",
     "text": [
      "RSS: 27390619345.05524    TSS: 166431512680.66556\n",
      "R_2: 0.8354240798278989\n"
     ]
    }
   ],
   "source": [
    "# calculate R2\n",
    "print(\"RSS:\", RSS, \"   TSS:\", TSS)\n",
    "\n",
    "R2 = 1 - (RSS / TSS)\n",
    "print('R_2:', R2)\n"
   ]
  },
  {
   "cell_type": "markdown",
   "metadata": {},
   "source": [
    "## Sample of predicted results"
   ]
  },
  {
   "cell_type": "code",
   "execution_count": 5,
   "metadata": {},
   "outputs": [
    {
     "ename": "NameError",
     "evalue": "name 'test' is not defined",
     "output_type": "error",
     "traceback": [
      "\u001b[0;31m---------------------------------------------------------------------------\u001b[0m",
      "\u001b[0;31mNameError\u001b[0m                                 Traceback (most recent call last)",
      "\u001b[0;32m<ipython-input-5-374c78ac056b>\u001b[0m in \u001b[0;36m<module>\u001b[0;34m()\u001b[0m\n\u001b[1;32m      1\u001b[0m \u001b[0;32mimport\u001b[0m \u001b[0mmatplotlib\u001b[0m\u001b[0;34m.\u001b[0m\u001b[0mpyplot\u001b[0m \u001b[0;32mas\u001b[0m \u001b[0mplt\u001b[0m\u001b[0;34m\u001b[0m\u001b[0m\n\u001b[1;32m      2\u001b[0m \u001b[0;34m\u001b[0m\u001b[0m\n\u001b[0;32m----> 3\u001b[0;31m \u001b[0my_pred_subset\u001b[0m \u001b[0;34m=\u001b[0m \u001b[0mtest\u001b[0m\u001b[0;34m[\u001b[0m\u001b[0;34m'_NumberOfSales'\u001b[0m\u001b[0;34m]\u001b[0m\u001b[0;34m[\u001b[0m\u001b[0;36m500\u001b[0m\u001b[0;34m:\u001b[0m\u001b[0;36m600\u001b[0m\u001b[0;34m]\u001b[0m\u001b[0;34m\u001b[0m\u001b[0m\n\u001b[0m\u001b[1;32m      4\u001b[0m \u001b[0mx_coordinate\u001b[0m \u001b[0;34m=\u001b[0m \u001b[0;34m[\u001b[0m \u001b[0;36m1\u001b[0m \u001b[0;34m*\u001b[0m \u001b[0mi\u001b[0m \u001b[0;32mfor\u001b[0m \u001b[0mi\u001b[0m \u001b[0;32min\u001b[0m \u001b[0mrange\u001b[0m\u001b[0;34m(\u001b[0m\u001b[0mlen\u001b[0m\u001b[0;34m(\u001b[0m\u001b[0my_pred_subset\u001b[0m\u001b[0;34m)\u001b[0m\u001b[0;34m)\u001b[0m \u001b[0;34m]\u001b[0m\u001b[0;34m\u001b[0m\u001b[0m\n\u001b[1;32m      5\u001b[0m \u001b[0mplt\u001b[0m\u001b[0;34m.\u001b[0m\u001b[0mplot\u001b[0m\u001b[0;34m(\u001b[0m\u001b[0mx_coordinate\u001b[0m\u001b[0;34m,\u001b[0m\u001b[0my_pred_subset\u001b[0m\u001b[0;34m)\u001b[0m\u001b[0;34m\u001b[0m\u001b[0m\n",
      "\u001b[0;31mNameError\u001b[0m: name 'test' is not defined"
     ]
    }
   ],
   "source": [
    "import matplotlib.pyplot as plt\n",
    "\n",
    "y_pred_subset = test['_NumberOfSales'][500:600]\n",
    "x_coordinate = [ 1 * i for i in range(len(y_pred_subset)) ]\n",
    "plt.plot(x_coordinate,y_pred_subset)\n",
    "plt.show()"
   ]
  },
  {
   "cell_type": "markdown",
   "metadata": {},
   "source": [
    "## Sample of real results"
   ]
  },
  {
   "cell_type": "code",
   "execution_count": null,
   "metadata": {},
   "outputs": [],
   "source": [
    "#REAL\n",
    "import matplotlib.pyplot as plt\n",
    "\n",
    "y_train_subset = test['NumberOfSales'][500:600]\n",
    "x_coordinate = [ 1 * i for i in range(len(y_train_subset)) ]\n",
    "plt.plot(x_coordinate,y_train_subset)\n",
    "plt.show()"
   ]
  },
  {
   "cell_type": "markdown",
   "metadata": {},
   "source": [
    "## Real-Predicted"
   ]
  },
  {
   "cell_type": "code",
   "execution_count": null,
   "metadata": {},
   "outputs": [],
   "source": [
    "plt.plot(x_coordinate,y_train_subset)\n",
    "plt.plot(x_coordinate,y_pred_subset)\n",
    "\n",
    "plt.legend(['Predicted', 'Real'], loc='upper left')\n",
    "plt.show()"
   ]
  }
 ],
 "metadata": {
  "_change_revision": 0,
  "_is_fork": false,
  "kernelspec": {
   "display_name": "Python 3",
   "language": "python",
   "name": "python3"
  },
  "language_info": {
   "codemirror_mode": {
    "name": "ipython",
    "version": 3
   },
   "file_extension": ".py",
   "mimetype": "text/x-python",
   "name": "python",
   "nbconvert_exporter": "python",
   "pygments_lexer": "ipython3",
   "version": "3.6.4"
  }
 },
 "nbformat": 4,
 "nbformat_minor": 2
}
