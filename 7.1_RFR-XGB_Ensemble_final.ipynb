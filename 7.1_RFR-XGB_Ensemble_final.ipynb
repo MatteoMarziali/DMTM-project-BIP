{
 "cells": [
  {
   "cell_type": "markdown",
   "metadata": {},
   "source": [
    "# RFR-XGB Ensemble\n",
    "In general we saw that XGB overall is better (when sampling randomly train and test or in January and February tests), however, Random Forest error does not have a high variance and is better when predicting on March and April, thus we can do an average of the predicted number of sales of every Store in every day, leading to an overall result which is slightly better than the average of the 2 errors.\n",
    "\n",
    "The other possiblity that we will evaluate is to do an average of the two predictions at a higher level, when we have already grouped by StoreID and Month, this could be even better if one of the model for instance tends to overestimate the predicted value and the over one underestimates it."
   ]
  },
  {
   "cell_type": "code",
   "execution_count": 68,
   "metadata": {},
   "outputs": [],
   "source": [
    "from import_man import *\n",
    "from BIP import get_BIP_error"
   ]
  },
  {
   "cell_type": "markdown",
   "metadata": {},
   "source": [
    "### Loading XGB and RFR"
   ]
  },
  {
   "cell_type": "code",
   "execution_count": 86,
   "metadata": {},
   "outputs": [],
   "source": [
    "RFR = pd.read_csv(\"dataset/test4_53_Model_RFR_on_prep.csv\")\n",
    "XGB = pd.read_csv(\"dataset/test4_64_Model_XGBoost_final.csv\")"
   ]
  },
  {
   "cell_type": "code",
   "execution_count": 87,
   "metadata": {},
   "outputs": [],
   "source": [
    "#RFR = pd.read_csv(\"dataset/test2_53_Model_RFR_on_prep.csv\")\n",
    "#XGB = pd.read_csv(\"dataset/test2_63_Model_XGB.csv\")"
   ]
  },
  {
   "cell_type": "code",
   "execution_count": 88,
   "metadata": {},
   "outputs": [],
   "source": [
    "#RFR = pd.read_csv(\"dataset/testsplit_53_Model_RFR_on_prep.csv\")  #it sucks with these\n",
    "#XGB = pd.read_csv(\"dataset/testsplit_63_Model_XGB.csv\")"
   ]
  },
  {
   "cell_type": "markdown",
   "metadata": {},
   "source": [
    "#### XGB BIP error"
   ]
  },
  {
   "cell_type": "code",
   "execution_count": 89,
   "metadata": {},
   "outputs": [
    {
     "name": "stdout",
     "output_type": "stream",
     "text": [
      "Number of regions identified: 11\n",
      "BIP total error: 0.03288920541031862\n"
     ]
    }
   ],
   "source": [
    "eXGB=get_BIP_error(XGB)"
   ]
  },
  {
   "cell_type": "markdown",
   "metadata": {},
   "source": [
    "#### RFR BIP error"
   ]
  },
  {
   "cell_type": "code",
   "execution_count": 90,
   "metadata": {},
   "outputs": [
    {
     "name": "stdout",
     "output_type": "stream",
     "text": [
      "Number of regions identified: 11\n",
      "BIP total error: 0.033138669107561476\n"
     ]
    }
   ],
   "source": [
    "eRFR=get_BIP_error(RFR)"
   ]
  },
  {
   "cell_type": "code",
   "execution_count": 91,
   "metadata": {},
   "outputs": [],
   "source": [
    "ens = XGB[['NumberOfSales','_NumberOfSales']]"
   ]
  },
  {
   "cell_type": "code",
   "execution_count": 92,
   "metadata": {},
   "outputs": [],
   "source": [
    "ens['R_NumberOfSales']=RFR['_NumberOfSales']"
   ]
  },
  {
   "cell_type": "code",
   "execution_count": 93,
   "metadata": {},
   "outputs": [],
   "source": [
    "ens['avg_NumberOfSales']=(ens['_NumberOfSales']+ens['R_NumberOfSales'])/2"
   ]
  },
  {
   "cell_type": "code",
   "execution_count": 94,
   "metadata": {},
   "outputs": [
    {
     "data": {
      "text/html": [
       "<div>\n",
       "<style scoped>\n",
       "    .dataframe tbody tr th:only-of-type {\n",
       "        vertical-align: middle;\n",
       "    }\n",
       "\n",
       "    .dataframe tbody tr th {\n",
       "        vertical-align: top;\n",
       "    }\n",
       "\n",
       "    .dataframe thead th {\n",
       "        text-align: right;\n",
       "    }\n",
       "</style>\n",
       "<table border=\"1\" class=\"dataframe\">\n",
       "  <thead>\n",
       "    <tr style=\"text-align: right;\">\n",
       "      <th></th>\n",
       "      <th>NumberOfSales</th>\n",
       "      <th>_NumberOfSales</th>\n",
       "      <th>R_NumberOfSales</th>\n",
       "      <th>avg_NumberOfSales</th>\n",
       "    </tr>\n",
       "  </thead>\n",
       "  <tbody>\n",
       "    <tr>\n",
       "      <th>0</th>\n",
       "      <td>11820</td>\n",
       "      <td>8502.3940</td>\n",
       "      <td>8051.303070</td>\n",
       "      <td>8276.848535</td>\n",
       "    </tr>\n",
       "    <tr>\n",
       "      <th>1</th>\n",
       "      <td>4666</td>\n",
       "      <td>6347.5180</td>\n",
       "      <td>5563.693590</td>\n",
       "      <td>5955.605795</td>\n",
       "    </tr>\n",
       "    <tr>\n",
       "      <th>2</th>\n",
       "      <td>6761</td>\n",
       "      <td>6550.4536</td>\n",
       "      <td>5943.691278</td>\n",
       "      <td>6247.072439</td>\n",
       "    </tr>\n",
       "    <tr>\n",
       "      <th>3</th>\n",
       "      <td>7157</td>\n",
       "      <td>7096.4697</td>\n",
       "      <td>6963.448346</td>\n",
       "      <td>7029.959023</td>\n",
       "    </tr>\n",
       "    <tr>\n",
       "      <th>4</th>\n",
       "      <td>6923</td>\n",
       "      <td>5790.6760</td>\n",
       "      <td>7050.519640</td>\n",
       "      <td>6420.597820</td>\n",
       "    </tr>\n",
       "    <tr>\n",
       "      <th>5</th>\n",
       "      <td>11500</td>\n",
       "      <td>8826.3530</td>\n",
       "      <td>10606.079339</td>\n",
       "      <td>9716.216169</td>\n",
       "    </tr>\n",
       "    <tr>\n",
       "      <th>6</th>\n",
       "      <td>9436</td>\n",
       "      <td>8718.1120</td>\n",
       "      <td>9092.521002</td>\n",
       "      <td>8905.316501</td>\n",
       "    </tr>\n",
       "    <tr>\n",
       "      <th>7</th>\n",
       "      <td>8289</td>\n",
       "      <td>7669.7700</td>\n",
       "      <td>7967.146263</td>\n",
       "      <td>7818.458132</td>\n",
       "    </tr>\n",
       "    <tr>\n",
       "      <th>8</th>\n",
       "      <td>7728</td>\n",
       "      <td>7679.3520</td>\n",
       "      <td>7647.219678</td>\n",
       "      <td>7663.285839</td>\n",
       "    </tr>\n",
       "    <tr>\n",
       "      <th>9</th>\n",
       "      <td>8348</td>\n",
       "      <td>8060.9460</td>\n",
       "      <td>7606.233190</td>\n",
       "      <td>7833.589595</td>\n",
       "    </tr>\n",
       "  </tbody>\n",
       "</table>\n",
       "</div>"
      ],
      "text/plain": [
       "   NumberOfSales  _NumberOfSales  R_NumberOfSales  avg_NumberOfSales\n",
       "0          11820       8502.3940      8051.303070        8276.848535\n",
       "1           4666       6347.5180      5563.693590        5955.605795\n",
       "2           6761       6550.4536      5943.691278        6247.072439\n",
       "3           7157       7096.4697      6963.448346        7029.959023\n",
       "4           6923       5790.6760      7050.519640        6420.597820\n",
       "5          11500       8826.3530     10606.079339        9716.216169\n",
       "6           9436       8718.1120      9092.521002        8905.316501\n",
       "7           8289       7669.7700      7967.146263        7818.458132\n",
       "8           7728       7679.3520      7647.219678        7663.285839\n",
       "9           8348       8060.9460      7606.233190        7833.589595"
      ]
     },
     "execution_count": 94,
     "metadata": {},
     "output_type": "execute_result"
    }
   ],
   "source": [
    "ens.head(10)"
   ]
  },
  {
   "cell_type": "code",
   "execution_count": 95,
   "metadata": {},
   "outputs": [],
   "source": [
    "XGB['_NumberOfSales']=ens['avg_NumberOfSales']"
   ]
  },
  {
   "cell_type": "markdown",
   "metadata": {},
   "source": [
    "#### Ensemble BIP error"
   ]
  },
  {
   "cell_type": "code",
   "execution_count": 96,
   "metadata": {},
   "outputs": [
    {
     "name": "stdout",
     "output_type": "stream",
     "text": [
      "Number of regions identified: 11\n",
      "BIP total error: 0.03133979718107205\n"
     ]
    }
   ],
   "source": [
    "eEns=get_BIP_error(XGB)"
   ]
  },
  {
   "cell_type": "markdown",
   "metadata": {},
   "source": [
    "#### Average of the initial BIP errors"
   ]
  },
  {
   "cell_type": "code",
   "execution_count": 97,
   "metadata": {},
   "outputs": [
    {
     "data": {
      "text/plain": [
       "0.03301393725894004"
      ]
     },
     "execution_count": 97,
     "metadata": {},
     "output_type": "execute_result"
    }
   ],
   "source": [
    "(eXGB+eRFR)/2"
   ]
  },
  {
   "cell_type": "markdown",
   "metadata": {},
   "source": [
    "## From here on is not something we can really do, it's just out of curiosity and if there is a pattern"
   ]
  },
  {
   "cell_type": "code",
   "execution_count": 81,
   "metadata": {},
   "outputs": [],
   "source": [
    "diff=XGB['NumberOfSales']-XGB['_NumberOfSales']"
   ]
  },
  {
   "cell_type": "code",
   "execution_count": 82,
   "metadata": {},
   "outputs": [
    {
     "data": {
      "text/plain": [
       "0     -837.842519\n",
       "1    -1570.339031\n",
       "2      699.178456\n",
       "3      820.260534\n",
       "4      320.844437\n",
       "5      597.867096\n",
       "6     -123.892727\n",
       "7       -4.570879\n",
       "8       61.735041\n",
       "9       38.096284\n",
       "10    -524.260417\n",
       "11    -326.673305\n",
       "12    -425.901015\n",
       "13    -616.685587\n",
       "14    -201.202695\n",
       "dtype: float64"
      ]
     },
     "execution_count": 82,
     "metadata": {},
     "output_type": "execute_result"
    }
   ],
   "source": [
    "diff.head(15).T"
   ]
  },
  {
   "cell_type": "code",
   "execution_count": 83,
   "metadata": {},
   "outputs": [
    {
     "data": {
      "text/plain": [
       "57.87767735598596"
      ]
     },
     "execution_count": 83,
     "metadata": {},
     "output_type": "execute_result"
    }
   ],
   "source": [
    "diff.mean()"
   ]
  },
  {
   "cell_type": "code",
   "execution_count": 84,
   "metadata": {},
   "outputs": [],
   "source": [
    "XGB['_NumberOfSales']=XGB['_NumberOfSales']+diff.mean()"
   ]
  },
  {
   "cell_type": "code",
   "execution_count": 85,
   "metadata": {},
   "outputs": [
    {
     "name": "stdout",
     "output_type": "stream",
     "text": [
      "Number of regions identified: 11\n",
      "BIP total error: 0.045734710271940385\n"
     ]
    }
   ],
   "source": [
    "eXGB=get_BIP_error(XGB)"
   ]
  },
  {
   "cell_type": "code",
   "execution_count": null,
   "metadata": {},
   "outputs": [],
   "source": []
  }
 ],
 "metadata": {
  "kernelspec": {
   "display_name": "Python 3",
   "language": "python",
   "name": "python3"
  },
  "language_info": {
   "codemirror_mode": {
    "name": "ipython",
    "version": 3
   },
   "file_extension": ".py",
   "mimetype": "text/x-python",
   "name": "python",
   "nbconvert_exporter": "python",
   "pygments_lexer": "ipython3",
   "version": "3.6.4"
  }
 },
 "nbformat": 4,
 "nbformat_minor": 2
}
