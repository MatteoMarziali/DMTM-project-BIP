{
 "cells": [
  {
   "cell_type": "markdown",
   "metadata": {},
   "source": [
    "# RFR-XGB Ensemble\n",
    "In general we saw that XGB overall is better (when sampling randomly train and test or in January and February tests), however, Random Forest error does not have a high variance and is better when predicting on March and April, thus we can do an average of the predicted number of sales of every Store in every day, leading to an overall result which is slightly better than the average of the 2 errors.\n",
    "\n",
    "The other possiblity that we will evaluate is to do an average of the two predictions at a higher level, when we have already grouped by StoreID and Month, this could be even better if one of the model for instance tends to overestimate the predicted value and the over one underestimates it."
   ]
  },
  {
   "cell_type": "code",
   "execution_count": 16,
   "metadata": {},
   "outputs": [],
   "source": [
    "from import_man import *\n",
    "from BIP import get_BIP_error"
   ]
  },
  {
   "cell_type": "markdown",
   "metadata": {},
   "source": [
    "### Loading XGB and RFR"
   ]
  },
  {
   "cell_type": "code",
   "execution_count": 55,
   "metadata": {},
   "outputs": [],
   "source": [
    "RFR = pd.read_csv(\"dataset/test4_53_Model_RFR_on_prep.csv\")\n",
    "XGB = pd.read_csv(\"dataset/test4_64_Model_XGBoost_final.csv\")"
   ]
  },
  {
   "cell_type": "code",
   "execution_count": 56,
   "metadata": {},
   "outputs": [],
   "source": [
    "#RFR = pd.read_csv(\"dataset/test2_53_Model_RFR_on_prep.csv\")\n",
    "#XGB = pd.read_csv(\"dataset/test2_63_Model_XGB.csv\")"
   ]
  },
  {
   "cell_type": "code",
   "execution_count": 57,
   "metadata": {},
   "outputs": [],
   "source": [
    "#RFR = pd.read_csv(\"dataset/test3416_53_RFR.csv\")\n",
    "#XGB = pd.read_csv(\"dataset/test3416_63_XGB.csv\")"
   ]
  },
  {
   "cell_type": "code",
   "execution_count": 58,
   "metadata": {},
   "outputs": [],
   "source": [
    "#RFR = pd.read_csv(\"dataset/testsplit_53_Model_RFR_on_prep.csv\")  #it sucks with these\n",
    "#XGB = pd.read_csv(\"dataset/testsplit_63_Model_XGB.csv\")"
   ]
  },
  {
   "cell_type": "markdown",
   "metadata": {},
   "source": [
    "#### XGB BIP error"
   ]
  },
  {
   "cell_type": "code",
   "execution_count": 59,
   "metadata": {},
   "outputs": [
    {
     "name": "stdout",
     "output_type": "stream",
     "text": [
      "Number of regions identified: 11\n",
      "BIP total error: 0.03288920541031862\n"
     ]
    }
   ],
   "source": [
    "eXGB=get_BIP_error(XGB)"
   ]
  },
  {
   "cell_type": "markdown",
   "metadata": {},
   "source": [
    "#### RFR BIP error"
   ]
  },
  {
   "cell_type": "code",
   "execution_count": 60,
   "metadata": {},
   "outputs": [
    {
     "name": "stdout",
     "output_type": "stream",
     "text": [
      "Number of regions identified: 11\n",
      "BIP total error: 0.033138669107561476\n"
     ]
    }
   ],
   "source": [
    "eRFR=get_BIP_error(RFR)"
   ]
  },
  {
   "cell_type": "code",
   "execution_count": 36,
   "metadata": {},
   "outputs": [],
   "source": [
    "ens = XGB[['NumberOfSales','_NumberOfSales']]"
   ]
  },
  {
   "cell_type": "code",
   "execution_count": 37,
   "metadata": {},
   "outputs": [],
   "source": [
    "ens['R_NumberOfSales']=RFR['_NumberOfSales']"
   ]
  },
  {
   "cell_type": "code",
   "execution_count": 38,
   "metadata": {},
   "outputs": [],
   "source": [
    "ens['avg_NumberOfSales']=(ens['_NumberOfSales']+ens['R_NumberOfSales'])/2"
   ]
  },
  {
   "cell_type": "code",
   "execution_count": 39,
   "metadata": {},
   "outputs": [
    {
     "data": {
      "text/html": [
       "<div>\n",
       "<style scoped>\n",
       "    .dataframe tbody tr th:only-of-type {\n",
       "        vertical-align: middle;\n",
       "    }\n",
       "\n",
       "    .dataframe tbody tr th {\n",
       "        vertical-align: top;\n",
       "    }\n",
       "\n",
       "    .dataframe thead th {\n",
       "        text-align: right;\n",
       "    }\n",
       "</style>\n",
       "<table border=\"1\" class=\"dataframe\">\n",
       "  <thead>\n",
       "    <tr style=\"text-align: right;\">\n",
       "      <th></th>\n",
       "      <th>NumberOfSales</th>\n",
       "      <th>_NumberOfSales</th>\n",
       "      <th>R_NumberOfSales</th>\n",
       "      <th>avg_NumberOfSales</th>\n",
       "    </tr>\n",
       "  </thead>\n",
       "  <tbody>\n",
       "    <tr>\n",
       "      <th>0</th>\n",
       "      <td>5509</td>\n",
       "      <td>6092.5310</td>\n",
       "      <td>6601.154039</td>\n",
       "      <td>6346.842519</td>\n",
       "    </tr>\n",
       "    <tr>\n",
       "      <th>1</th>\n",
       "      <td>5881</td>\n",
       "      <td>7718.7417</td>\n",
       "      <td>7183.936361</td>\n",
       "      <td>7451.339031</td>\n",
       "    </tr>\n",
       "    <tr>\n",
       "      <th>2</th>\n",
       "      <td>8463</td>\n",
       "      <td>7898.5100</td>\n",
       "      <td>7629.133087</td>\n",
       "      <td>7763.821544</td>\n",
       "    </tr>\n",
       "    <tr>\n",
       "      <th>3</th>\n",
       "      <td>8146</td>\n",
       "      <td>7421.5444</td>\n",
       "      <td>7229.934533</td>\n",
       "      <td>7325.739466</td>\n",
       "    </tr>\n",
       "    <tr>\n",
       "      <th>4</th>\n",
       "      <td>11306</td>\n",
       "      <td>11228.4700</td>\n",
       "      <td>10741.841126</td>\n",
       "      <td>10985.155563</td>\n",
       "    </tr>\n",
       "    <tr>\n",
       "      <th>5</th>\n",
       "      <td>9843</td>\n",
       "      <td>9317.9460</td>\n",
       "      <td>9172.319809</td>\n",
       "      <td>9245.132904</td>\n",
       "    </tr>\n",
       "    <tr>\n",
       "      <th>6</th>\n",
       "      <td>8049</td>\n",
       "      <td>8194.7470</td>\n",
       "      <td>8151.038454</td>\n",
       "      <td>8172.892727</td>\n",
       "    </tr>\n",
       "    <tr>\n",
       "      <th>7</th>\n",
       "      <td>8128</td>\n",
       "      <td>8061.4844</td>\n",
       "      <td>8203.657357</td>\n",
       "      <td>8132.570879</td>\n",
       "    </tr>\n",
       "    <tr>\n",
       "      <th>8</th>\n",
       "      <td>8251</td>\n",
       "      <td>8375.6880</td>\n",
       "      <td>8002.841919</td>\n",
       "      <td>8189.264959</td>\n",
       "    </tr>\n",
       "    <tr>\n",
       "      <th>9</th>\n",
       "      <td>6754</td>\n",
       "      <td>6837.7640</td>\n",
       "      <td>6594.043432</td>\n",
       "      <td>6715.903716</td>\n",
       "    </tr>\n",
       "  </tbody>\n",
       "</table>\n",
       "</div>"
      ],
      "text/plain": [
       "   NumberOfSales  _NumberOfSales  R_NumberOfSales  avg_NumberOfSales\n",
       "0           5509       6092.5310      6601.154039        6346.842519\n",
       "1           5881       7718.7417      7183.936361        7451.339031\n",
       "2           8463       7898.5100      7629.133087        7763.821544\n",
       "3           8146       7421.5444      7229.934533        7325.739466\n",
       "4          11306      11228.4700     10741.841126       10985.155563\n",
       "5           9843       9317.9460      9172.319809        9245.132904\n",
       "6           8049       8194.7470      8151.038454        8172.892727\n",
       "7           8128       8061.4844      8203.657357        8132.570879\n",
       "8           8251       8375.6880      8002.841919        8189.264959\n",
       "9           6754       6837.7640      6594.043432        6715.903716"
      ]
     },
     "execution_count": 39,
     "metadata": {},
     "output_type": "execute_result"
    }
   ],
   "source": [
    "ens.head(10)"
   ]
  },
  {
   "cell_type": "code",
   "execution_count": 40,
   "metadata": {},
   "outputs": [],
   "source": [
    "XGB['_NumberOfSales']=ens['avg_NumberOfSales']"
   ]
  },
  {
   "cell_type": "markdown",
   "metadata": {},
   "source": [
    "#### Ensemble BIP error"
   ]
  },
  {
   "cell_type": "code",
   "execution_count": 41,
   "metadata": {},
   "outputs": [
    {
     "name": "stdout",
     "output_type": "stream",
     "text": [
      "Number of regions identified: 11\n",
      "BIP total error: 0.046045483040627916\n"
     ]
    }
   ],
   "source": [
    "eEns=get_BIP_error(XGB)"
   ]
  },
  {
   "cell_type": "code",
   "execution_count": 44,
   "metadata": {},
   "outputs": [],
   "source": [
    "XGB.to_csv('./dataset/test2_71_AVG_RFR_XGB.csv', index=False)"
   ]
  },
  {
   "cell_type": "markdown",
   "metadata": {},
   "source": [
    "#### Average of the initial BIP errors"
   ]
  },
  {
   "cell_type": "code",
   "execution_count": 45,
   "metadata": {},
   "outputs": [
    {
     "data": {
      "text/plain": [
       "0.04727480405614834"
      ]
     },
     "execution_count": 45,
     "metadata": {},
     "output_type": "execute_result"
    }
   ],
   "source": [
    "(eXGB+eRFR)/2"
   ]
  },
  {
   "cell_type": "markdown",
   "metadata": {},
   "source": [
    "## From here on is not something we can really do, it's just out of curiosity and if there is a pattern"
   ]
  },
  {
   "cell_type": "code",
   "execution_count": 81,
   "metadata": {},
   "outputs": [],
   "source": [
    "diff=XGB['NumberOfSales']-XGB['_NumberOfSales']"
   ]
  },
  {
   "cell_type": "code",
   "execution_count": 82,
   "metadata": {},
   "outputs": [
    {
     "data": {
      "text/plain": [
       "0     -837.842519\n",
       "1    -1570.339031\n",
       "2      699.178456\n",
       "3      820.260534\n",
       "4      320.844437\n",
       "5      597.867096\n",
       "6     -123.892727\n",
       "7       -4.570879\n",
       "8       61.735041\n",
       "9       38.096284\n",
       "10    -524.260417\n",
       "11    -326.673305\n",
       "12    -425.901015\n",
       "13    -616.685587\n",
       "14    -201.202695\n",
       "dtype: float64"
      ]
     },
     "execution_count": 82,
     "metadata": {},
     "output_type": "execute_result"
    }
   ],
   "source": [
    "diff.head(15).T"
   ]
  },
  {
   "cell_type": "code",
   "execution_count": 83,
   "metadata": {},
   "outputs": [
    {
     "data": {
      "text/plain": [
       "57.87767735598596"
      ]
     },
     "execution_count": 83,
     "metadata": {},
     "output_type": "execute_result"
    }
   ],
   "source": [
    "diff.mean()"
   ]
  },
  {
   "cell_type": "code",
   "execution_count": 84,
   "metadata": {},
   "outputs": [],
   "source": [
    "XGB['_NumberOfSales']=XGB['_NumberOfSales']+diff.mean()"
   ]
  },
  {
   "cell_type": "code",
   "execution_count": 85,
   "metadata": {},
   "outputs": [
    {
     "name": "stdout",
     "output_type": "stream",
     "text": [
      "Number of regions identified: 11\n",
      "BIP total error: 0.045734710271940385\n"
     ]
    }
   ],
   "source": [
    "eXGB=get_BIP_error(XGB)"
   ]
  },
  {
   "cell_type": "code",
   "execution_count": null,
   "metadata": {},
   "outputs": [],
   "source": []
  }
 ],
 "metadata": {
  "kernelspec": {
   "display_name": "Python 3",
   "language": "python",
   "name": "python3"
  },
  "language_info": {
   "codemirror_mode": {
    "name": "ipython",
    "version": 3
   },
   "file_extension": ".py",
   "mimetype": "text/x-python",
   "name": "python",
   "nbconvert_exporter": "python",
   "pygments_lexer": "ipython3",
   "version": "3.6.4"
  }
 },
 "nbformat": 4,
 "nbformat_minor": 2
}
