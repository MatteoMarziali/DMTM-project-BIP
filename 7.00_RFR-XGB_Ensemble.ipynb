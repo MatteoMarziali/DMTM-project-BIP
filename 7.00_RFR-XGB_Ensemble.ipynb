{
 "cells": [
  {
   "cell_type": "markdown",
   "metadata": {},
   "source": [
    "# RFR-XGB Ensemble"
   ]
  },
  {
   "cell_type": "code",
   "execution_count": 1,
   "metadata": {},
   "outputs": [],
   "source": [
    "from import_man import *\n",
    "from BIP import get_BIP_error"
   ]
  },
  {
   "cell_type": "markdown",
   "metadata": {},
   "source": [
    "### XGB1_fake_test.csv"
   ]
  },
  {
   "cell_type": "code",
   "execution_count": 45,
   "metadata": {},
   "outputs": [],
   "source": [
    "RFR = pd.read_csv(\"dataset/test4_53_Model_RFR_on_prep.csv\")\n",
    "XGB = pd.read_csv(\"dataset/test4_64_Model_XGBoost_final.csv\")"
   ]
  },
  {
   "cell_type": "code",
   "execution_count": 46,
   "metadata": {},
   "outputs": [],
   "source": [
    "#RFR = pd.read_csv(\"dataset/testsplit_53_Model_RFR_on_prep.csv\")  #it sucks with these\n",
    "#XGB = pd.read_csv(\"dataset/testsplit_63_Model_XGB.csv\")"
   ]
  },
  {
   "cell_type": "code",
   "execution_count": 47,
   "metadata": {},
   "outputs": [
    {
     "name": "stdout",
     "output_type": "stream",
     "text": [
      "Number of regions identified: 11\n",
      "BIP total error: 0.03288920541031862\n"
     ]
    }
   ],
   "source": [
    "eXGB=get_BIP_error(XGB)"
   ]
  },
  {
   "cell_type": "code",
   "execution_count": 48,
   "metadata": {},
   "outputs": [
    {
     "name": "stdout",
     "output_type": "stream",
     "text": [
      "Number of regions identified: 11\n",
      "BIP total error: 0.033138669107561476\n"
     ]
    }
   ],
   "source": [
    "eRFR=get_BIP_error(RFR)"
   ]
  },
  {
   "cell_type": "code",
   "execution_count": 49,
   "metadata": {},
   "outputs": [],
   "source": [
    "ens = XGB[['NumberOfSales','_NumberOfSales']]"
   ]
  },
  {
   "cell_type": "code",
   "execution_count": 50,
   "metadata": {},
   "outputs": [],
   "source": [
    "ens['R_NumberOfSales']=RFR['_NumberOfSales']"
   ]
  },
  {
   "cell_type": "code",
   "execution_count": 51,
   "metadata": {},
   "outputs": [],
   "source": [
    "ens['avg_NumberOfSales']=(ens['_NumberOfSales']+ens['R_NumberOfSales'])/2"
   ]
  },
  {
   "cell_type": "code",
   "execution_count": 52,
   "metadata": {},
   "outputs": [
    {
     "data": {
      "text/html": [
       "<div>\n",
       "<style scoped>\n",
       "    .dataframe tbody tr th:only-of-type {\n",
       "        vertical-align: middle;\n",
       "    }\n",
       "\n",
       "    .dataframe tbody tr th {\n",
       "        vertical-align: top;\n",
       "    }\n",
       "\n",
       "    .dataframe thead th {\n",
       "        text-align: right;\n",
       "    }\n",
       "</style>\n",
       "<table border=\"1\" class=\"dataframe\">\n",
       "  <thead>\n",
       "    <tr style=\"text-align: right;\">\n",
       "      <th></th>\n",
       "      <th>NumberOfSales</th>\n",
       "      <th>_NumberOfSales</th>\n",
       "      <th>R_NumberOfSales</th>\n",
       "      <th>avg_NumberOfSales</th>\n",
       "    </tr>\n",
       "  </thead>\n",
       "  <tbody>\n",
       "    <tr>\n",
       "      <th>0</th>\n",
       "      <td>11820</td>\n",
       "      <td>8502.3940</td>\n",
       "      <td>8051.303070</td>\n",
       "      <td>8276.848535</td>\n",
       "    </tr>\n",
       "    <tr>\n",
       "      <th>1</th>\n",
       "      <td>4666</td>\n",
       "      <td>6347.5180</td>\n",
       "      <td>5563.693590</td>\n",
       "      <td>5955.605795</td>\n",
       "    </tr>\n",
       "    <tr>\n",
       "      <th>2</th>\n",
       "      <td>6761</td>\n",
       "      <td>6550.4536</td>\n",
       "      <td>5943.691278</td>\n",
       "      <td>6247.072439</td>\n",
       "    </tr>\n",
       "    <tr>\n",
       "      <th>3</th>\n",
       "      <td>7157</td>\n",
       "      <td>7096.4697</td>\n",
       "      <td>6963.448346</td>\n",
       "      <td>7029.959023</td>\n",
       "    </tr>\n",
       "    <tr>\n",
       "      <th>4</th>\n",
       "      <td>6923</td>\n",
       "      <td>5790.6760</td>\n",
       "      <td>7050.519640</td>\n",
       "      <td>6420.597820</td>\n",
       "    </tr>\n",
       "    <tr>\n",
       "      <th>5</th>\n",
       "      <td>11500</td>\n",
       "      <td>8826.3530</td>\n",
       "      <td>10606.079339</td>\n",
       "      <td>9716.216169</td>\n",
       "    </tr>\n",
       "    <tr>\n",
       "      <th>6</th>\n",
       "      <td>9436</td>\n",
       "      <td>8718.1120</td>\n",
       "      <td>9092.521002</td>\n",
       "      <td>8905.316501</td>\n",
       "    </tr>\n",
       "    <tr>\n",
       "      <th>7</th>\n",
       "      <td>8289</td>\n",
       "      <td>7669.7700</td>\n",
       "      <td>7967.146263</td>\n",
       "      <td>7818.458132</td>\n",
       "    </tr>\n",
       "    <tr>\n",
       "      <th>8</th>\n",
       "      <td>7728</td>\n",
       "      <td>7679.3520</td>\n",
       "      <td>7647.219678</td>\n",
       "      <td>7663.285839</td>\n",
       "    </tr>\n",
       "    <tr>\n",
       "      <th>9</th>\n",
       "      <td>8348</td>\n",
       "      <td>8060.9460</td>\n",
       "      <td>7606.233190</td>\n",
       "      <td>7833.589595</td>\n",
       "    </tr>\n",
       "  </tbody>\n",
       "</table>\n",
       "</div>"
      ],
      "text/plain": [
       "   NumberOfSales  _NumberOfSales  R_NumberOfSales  avg_NumberOfSales\n",
       "0          11820       8502.3940      8051.303070        8276.848535\n",
       "1           4666       6347.5180      5563.693590        5955.605795\n",
       "2           6761       6550.4536      5943.691278        6247.072439\n",
       "3           7157       7096.4697      6963.448346        7029.959023\n",
       "4           6923       5790.6760      7050.519640        6420.597820\n",
       "5          11500       8826.3530     10606.079339        9716.216169\n",
       "6           9436       8718.1120      9092.521002        8905.316501\n",
       "7           8289       7669.7700      7967.146263        7818.458132\n",
       "8           7728       7679.3520      7647.219678        7663.285839\n",
       "9           8348       8060.9460      7606.233190        7833.589595"
      ]
     },
     "execution_count": 52,
     "metadata": {},
     "output_type": "execute_result"
    }
   ],
   "source": [
    "ens.head(10)"
   ]
  },
  {
   "cell_type": "code",
   "execution_count": 53,
   "metadata": {},
   "outputs": [],
   "source": [
    "XGB['_NumberOfSales']=ens['avg_NumberOfSales']"
   ]
  },
  {
   "cell_type": "code",
   "execution_count": 54,
   "metadata": {},
   "outputs": [
    {
     "name": "stdout",
     "output_type": "stream",
     "text": [
      "Number of regions identified: 11\n",
      "BIP total error: 0.03133979718107205\n"
     ]
    }
   ],
   "source": [
    "eXGB=get_BIP_error(XGB)"
   ]
  },
  {
   "cell_type": "code",
   "execution_count": 42,
   "metadata": {},
   "outputs": [],
   "source": [
    "diff=XGB['NumberOfSales']-XGB['_NumberOfSales']"
   ]
  },
  {
   "cell_type": "code",
   "execution_count": 43,
   "metadata": {},
   "outputs": [
    {
     "data": {
      "text/plain": [
       "0     -585.998953\n",
       "1    -2636.350702\n",
       "2    -1626.494000\n",
       "3     1758.746015\n",
       "4    -1692.656991\n",
       "5     1493.822712\n",
       "6      828.808868\n",
       "7       10.517497\n",
       "8      342.949727\n",
       "9    -1478.591283\n",
       "10    -307.084361\n",
       "11     471.885101\n",
       "12    -545.621622\n",
       "13   -2049.687217\n",
       "14    1217.571938\n",
       "dtype: float64"
      ]
     },
     "execution_count": 43,
     "metadata": {},
     "output_type": "execute_result"
    }
   ],
   "source": [
    "diff.head(15).T"
   ]
  },
  {
   "cell_type": "code",
   "execution_count": 44,
   "metadata": {},
   "outputs": [
    {
     "data": {
      "text/plain": [
       "10.58845674090924"
      ]
     },
     "execution_count": 44,
     "metadata": {},
     "output_type": "execute_result"
    }
   ],
   "source": [
    "diff.mean()"
   ]
  },
  {
   "cell_type": "code",
   "execution_count": 16,
   "metadata": {},
   "outputs": [],
   "source": [
    "XGB['_NumberOfSales']=XGB['_NumberOfSales']+diff.mean()"
   ]
  },
  {
   "cell_type": "code",
   "execution_count": 17,
   "metadata": {},
   "outputs": [
    {
     "name": "stdout",
     "output_type": "stream",
     "text": [
      "Number of regions identified: 11\n",
      "BIP total error: 0.03130438287471236\n"
     ]
    }
   ],
   "source": [
    "eXGB=get_BIP_error(XGB)"
   ]
  },
  {
   "cell_type": "code",
   "execution_count": null,
   "metadata": {},
   "outputs": [],
   "source": []
  }
 ],
 "metadata": {
  "kernelspec": {
   "display_name": "Python 3",
   "language": "python",
   "name": "python3"
  },
  "language_info": {
   "codemirror_mode": {
    "name": "ipython",
    "version": 3
   },
   "file_extension": ".py",
   "mimetype": "text/x-python",
   "name": "python",
   "nbconvert_exporter": "python",
   "pygments_lexer": "ipython3",
   "version": "3.6.4"
  }
 },
 "nbformat": 4,
 "nbformat_minor": 2
}
