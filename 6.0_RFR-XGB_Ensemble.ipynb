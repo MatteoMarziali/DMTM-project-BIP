{
 "cells": [
  {
   "cell_type": "markdown",
   "metadata": {},
   "source": [
    "# RFR-XGB Ensemble"
   ]
  },
  {
   "cell_type": "code",
   "execution_count": 2,
   "metadata": {},
   "outputs": [],
   "source": [
    "from import_man import *\n",
    "from BIP_error import get_BIP_error"
   ]
  },
  {
   "cell_type": "markdown",
   "metadata": {},
   "source": [
    "### XGB1_fake_test.csv"
   ]
  },
  {
   "cell_type": "code",
   "execution_count": 3,
   "metadata": {},
   "outputs": [],
   "source": [
    "XGB = pd.read_csv(\"dataset/XGB5_fake_test.csv\")\n",
    "RFR = pd.read_csv(\"dataset/RFR5_fake_test.csv\")"
   ]
  },
  {
   "cell_type": "code",
   "execution_count": 11,
   "metadata": {},
   "outputs": [
    {
     "name": "stdout",
     "output_type": "stream",
     "text": [
      "Number of regions identified: 11\n",
      "BIP total error: 0.03555210606325022\n"
     ]
    }
   ],
   "source": [
    "eXGB=get_BIP_error(XGB)"
   ]
  },
  {
   "cell_type": "code",
   "execution_count": 12,
   "metadata": {},
   "outputs": [
    {
     "name": "stdout",
     "output_type": "stream",
     "text": [
      "Number of regions identified: 11\n",
      "BIP total error: 0.01994952570584384\n"
     ]
    }
   ],
   "source": [
    "eRFR=get_BIP_error(RFR)"
   ]
  },
  {
   "cell_type": "code",
   "execution_count": 7,
   "metadata": {},
   "outputs": [],
   "source": [
    "ens = XGB[['NumberOfSales','_NumberOfSales']]"
   ]
  },
  {
   "cell_type": "code",
   "execution_count": 8,
   "metadata": {},
   "outputs": [],
   "source": [
    "ens['R_NumberOfSales']=RFR['_NumberOfSales']"
   ]
  },
  {
   "cell_type": "code",
   "execution_count": 13,
   "metadata": {},
   "outputs": [],
   "source": [
    "ens['avg_NumberOfSales']=(ens['_NumberOfSales']+ens['R_NumberOfSales'])/2"
   ]
  },
  {
   "cell_type": "code",
   "execution_count": 14,
   "metadata": {},
   "outputs": [
    {
     "data": {
      "text/html": [
       "<div>\n",
       "<style scoped>\n",
       "    .dataframe tbody tr th:only-of-type {\n",
       "        vertical-align: middle;\n",
       "    }\n",
       "\n",
       "    .dataframe tbody tr th {\n",
       "        vertical-align: top;\n",
       "    }\n",
       "\n",
       "    .dataframe thead th {\n",
       "        text-align: right;\n",
       "    }\n",
       "</style>\n",
       "<table border=\"1\" class=\"dataframe\">\n",
       "  <thead>\n",
       "    <tr style=\"text-align: right;\">\n",
       "      <th></th>\n",
       "      <th>NumberOfSales</th>\n",
       "      <th>_NumberOfSales</th>\n",
       "      <th>R_NumberOfSales</th>\n",
       "      <th>avg_NumberOfSales</th>\n",
       "    </tr>\n",
       "  </thead>\n",
       "  <tbody>\n",
       "    <tr>\n",
       "      <th>0</th>\n",
       "      <td>7675.446488</td>\n",
       "      <td>7022.6045</td>\n",
       "      <td>7490.974451</td>\n",
       "      <td>7256.789475</td>\n",
       "    </tr>\n",
       "    <tr>\n",
       "      <th>1</th>\n",
       "      <td>7675.446488</td>\n",
       "      <td>7611.0340</td>\n",
       "      <td>7763.644744</td>\n",
       "      <td>7687.339372</td>\n",
       "    </tr>\n",
       "    <tr>\n",
       "      <th>2</th>\n",
       "      <td>22672.000000</td>\n",
       "      <td>9851.0480</td>\n",
       "      <td>10773.052019</td>\n",
       "      <td>10312.050010</td>\n",
       "    </tr>\n",
       "    <tr>\n",
       "      <th>3</th>\n",
       "      <td>14802.000000</td>\n",
       "      <td>10709.7090</td>\n",
       "      <td>14598.420000</td>\n",
       "      <td>12654.064500</td>\n",
       "    </tr>\n",
       "    <tr>\n",
       "      <th>4</th>\n",
       "      <td>12014.000000</td>\n",
       "      <td>7942.7950</td>\n",
       "      <td>11132.761865</td>\n",
       "      <td>9537.778433</td>\n",
       "    </tr>\n",
       "    <tr>\n",
       "      <th>5</th>\n",
       "      <td>10630.000000</td>\n",
       "      <td>9434.3700</td>\n",
       "      <td>9708.532051</td>\n",
       "      <td>9571.451025</td>\n",
       "    </tr>\n",
       "    <tr>\n",
       "      <th>6</th>\n",
       "      <td>11578.000000</td>\n",
       "      <td>7931.2427</td>\n",
       "      <td>8473.249013</td>\n",
       "      <td>8202.245857</td>\n",
       "    </tr>\n",
       "    <tr>\n",
       "      <th>7</th>\n",
       "      <td>8361.000000</td>\n",
       "      <td>8063.2915</td>\n",
       "      <td>8293.975392</td>\n",
       "      <td>8178.633446</td>\n",
       "    </tr>\n",
       "    <tr>\n",
       "      <th>8</th>\n",
       "      <td>7675.446488</td>\n",
       "      <td>7534.3716</td>\n",
       "      <td>7598.847197</td>\n",
       "      <td>7566.609398</td>\n",
       "    </tr>\n",
       "    <tr>\n",
       "      <th>9</th>\n",
       "      <td>7480.000000</td>\n",
       "      <td>8028.1753</td>\n",
       "      <td>8065.344586</td>\n",
       "      <td>8046.759943</td>\n",
       "    </tr>\n",
       "  </tbody>\n",
       "</table>\n",
       "</div>"
      ],
      "text/plain": [
       "   NumberOfSales  _NumberOfSales  R_NumberOfSales  avg_NumberOfSales\n",
       "0    7675.446488       7022.6045      7490.974451        7256.789475\n",
       "1    7675.446488       7611.0340      7763.644744        7687.339372\n",
       "2   22672.000000       9851.0480     10773.052019       10312.050010\n",
       "3   14802.000000      10709.7090     14598.420000       12654.064500\n",
       "4   12014.000000       7942.7950     11132.761865        9537.778433\n",
       "5   10630.000000       9434.3700      9708.532051        9571.451025\n",
       "6   11578.000000       7931.2427      8473.249013        8202.245857\n",
       "7    8361.000000       8063.2915      8293.975392        8178.633446\n",
       "8    7675.446488       7534.3716      7598.847197        7566.609398\n",
       "9    7480.000000       8028.1753      8065.344586        8046.759943"
      ]
     },
     "execution_count": 14,
     "metadata": {},
     "output_type": "execute_result"
    }
   ],
   "source": [
    "ens.head(10)"
   ]
  },
  {
   "cell_type": "code",
   "execution_count": 15,
   "metadata": {},
   "outputs": [],
   "source": [
    "XGB['_NumberOfSales']=ens['avg_NumberOfSales']"
   ]
  },
  {
   "cell_type": "code",
   "execution_count": 16,
   "metadata": {},
   "outputs": [
    {
     "name": "stdout",
     "output_type": "stream",
     "text": [
      "Number of regions identified: 11\n",
      "BIP total error: 0.02708040605347536\n"
     ]
    }
   ],
   "source": [
    "eXGB=get_BIP_error(XGB)"
   ]
  },
  {
   "cell_type": "code",
   "execution_count": 18,
   "metadata": {},
   "outputs": [],
   "source": [
    "diff=XGB['NumberOfSales']-XGB['_NumberOfSales']"
   ]
  },
  {
   "cell_type": "code",
   "execution_count": 19,
   "metadata": {},
   "outputs": [
    {
     "data": {
      "text/plain": [
       "0       418.657013\n",
       "1       -11.892884\n",
       "2     12359.949990\n",
       "3      2147.935500\n",
       "4      2476.221567\n",
       "5      1058.548975\n",
       "6      3375.754143\n",
       "7       182.366554\n",
       "8       108.837090\n",
       "9      -566.759943\n",
       "10     -866.582323\n",
       "11     -475.476550\n",
       "12      108.492085\n",
       "13      218.602716\n",
       "14     -448.875439\n",
       "dtype: float64"
      ]
     },
     "execution_count": 19,
     "metadata": {},
     "output_type": "execute_result"
    }
   ],
   "source": [
    "diff.head(15).T"
   ]
  },
  {
   "cell_type": "code",
   "execution_count": 20,
   "metadata": {},
   "outputs": [
    {
     "data": {
      "text/plain": [
       "72.93308477933729"
      ]
     },
     "execution_count": 20,
     "metadata": {},
     "output_type": "execute_result"
    }
   ],
   "source": [
    "diff.mean()"
   ]
  },
  {
   "cell_type": "code",
   "execution_count": 21,
   "metadata": {},
   "outputs": [],
   "source": [
    "XGB['_NumberOfSales']=XGB['_NumberOfSales']+diff.mean()"
   ]
  },
  {
   "cell_type": "code",
   "execution_count": 22,
   "metadata": {},
   "outputs": [
    {
     "name": "stdout",
     "output_type": "stream",
     "text": [
      "Number of regions identified: 11\n",
      "BIP total error: 0.02545195789816432\n"
     ]
    }
   ],
   "source": [
    "eXGB=get_BIP_error(XGB)"
   ]
  }
 ],
 "metadata": {
  "kernelspec": {
   "display_name": "Python 3",
   "language": "python",
   "name": "python3"
  },
  "language_info": {
   "codemirror_mode": {
    "name": "ipython",
    "version": 3
   },
   "file_extension": ".py",
   "mimetype": "text/x-python",
   "name": "python",
   "nbconvert_exporter": "python",
   "pygments_lexer": "ipython3",
   "version": "3.6.4"
  }
 },
 "nbformat": 4,
 "nbformat_minor": 2
}
