{
 "cells": [
  {
   "cell_type": "markdown",
   "metadata": {},
   "source": [
    "# Models"
   ]
  },
  {
   "cell_type": "markdown",
   "metadata": {},
   "source": [
    "---\n",
    "## Created models and performances\n",
    "\n",
    "> Insert model description\n",
    "\n",
    "| # | Model name | Type | Author | Notebook | Dataset | Description\n",
    "|---|--------------|--------|---------------------------------- | --------------------------------------------|\n",
    "| 1 | RFR_base1  | Random Forest Regression   |  Mirko   |  5.1  | ARIMA_prep_train.csv + additional features and feature selection in 5.1 | first model without StoreID identification metric, binary model of the forest was 260MB, too big to be uploaded, R2 = 0.939467, MAE = 370.99, MAPE = 8.003255 using a (randomly?) splitted 0.2 test 0.8 train\n",
    "| 2 | RFR_base2  | Random Forest Regression   |  Mirko   |  5.1.1  | same as 5.1.1, added OHE of events, MeanRegionSales, MeanStoreSales | R2 = 0.0.9385321, MAE = 368.60694, MAPE = 7.9594908 using a (randomly?) splitted 0.2 test 0.8 train\n",
    "| 3 | XGB  | XGBoost   |  Mirko   |  5.2  | enriched_dataset + small modifications | BIP_Error 1.8% on fake test 1, 3.4-3.7% on fake test 2,3,4\n",
    "| 3 | RFR  | XGBoost   |  Mirko   |  5.1.4 | enriched_dataset | BIP_Error 1.9% on fake test 2, 3.4-3.7% on fake test 2,3,4"
   ]
  },
  {
   "cell_type": "code",
   "execution_count": null,
   "metadata": {},
   "outputs": [],
   "source": []
  }
 ],
 "metadata": {
  "kernelspec": {
   "display_name": "Python 3",
   "language": "python",
   "name": "python3"
  },
  "language_info": {
   "codemirror_mode": {
    "name": "ipython",
    "version": 3
   },
   "file_extension": ".py",
   "mimetype": "text/x-python",
   "name": "python",
   "nbconvert_exporter": "python",
   "pygments_lexer": "ipython3",
   "version": "3.6.4"
  }
 },
 "nbformat": 4,
 "nbformat_minor": 2
}
