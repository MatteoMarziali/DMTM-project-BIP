{
 "cells": [
  {
   "cell_type": "markdown",
   "metadata": {},
   "source": [
    "# RFR-XGB Ensemble\n",
    "In general we saw that XGB overall is better (when sampling randomly train and test or in January and February tests), however, Random Forest error does not have a high variance and is better when predicting on March and April, thus we can do an average of the predicted number of sales of every Store in every day, leading to an overall result which is slightly better than the average of the 2 errors.\n",
    "\n",
    "The other possiblity that we will evaluate is to do an average of the two predictions at a higher level, when we have already grouped by StoreID and Month, this could be even better if one of the model for instance tends to overestimate the predicted value and the over one underestimates it."
   ]
  },
  {
   "cell_type": "code",
   "execution_count": 16,
   "metadata": {},
   "outputs": [],
   "source": [
    "from import_man import *\n",
    "from BIP import get_BIP_error"
   ]
  },
  {
   "cell_type": "markdown",
   "metadata": {},
   "source": [
    "### Loading XGB and RFR"
   ]
  },
  {
   "cell_type": "code",
   "execution_count": 17,
   "metadata": {},
   "outputs": [],
   "source": [
    "#RFR = pd.read_csv(\"dataset/test4_53_Model_RFR_on_prep.csv\")\n",
    "#XGB = pd.read_csv(\"dataset/test4_64_Model_XGBoost_final.csv\")"
   ]
  },
  {
   "cell_type": "code",
   "execution_count": 18,
   "metadata": {},
   "outputs": [],
   "source": [
    "#RFR = pd.read_csv(\"dataset/test2_53_Model_RFR_on_prep.csv\")\n",
    "#XGB = pd.read_csv(\"dataset/test2_63_Model_XGB.csv\")"
   ]
  },
  {
   "cell_type": "code",
   "execution_count": 19,
   "metadata": {},
   "outputs": [],
   "source": [
    "#RFR = pd.read_csv(\"dataset/test3416_53_RFR.csv\")\n",
    "#XGB = pd.read_csv(\"dataset/test3416_63_XGB.csv\")"
   ]
  },
  {
   "cell_type": "code",
   "execution_count": 20,
   "metadata": {},
   "outputs": [],
   "source": [
    "RFR = pd.read_csv(\"dataset/testsplit_53_Model_RFR_on_prep.csv\")  #it sucks with these\n",
    "XGB = pd.read_csv(\"dataset/testsplit_63_Model_XGB.csv\")"
   ]
  },
  {
   "cell_type": "markdown",
   "metadata": {},
   "source": [
    "#### XGB BIP error"
   ]
  },
  {
   "cell_type": "code",
   "execution_count": 21,
   "metadata": {},
   "outputs": [
    {
     "name": "stdout",
     "output_type": "stream",
     "text": [
      "BIP total error: 0.04017197179034863\n"
     ]
    }
   ],
   "source": [
    "eXGB=get_BIP_error(XGB)"
   ]
  },
  {
   "cell_type": "markdown",
   "metadata": {},
   "source": [
    "#### RFR BIP error"
   ]
  },
  {
   "cell_type": "code",
   "execution_count": 22,
   "metadata": {},
   "outputs": [
    {
     "name": "stdout",
     "output_type": "stream",
     "text": [
      "BIP total error: 0.04512461531703465\n"
     ]
    }
   ],
   "source": [
    "eRFR=get_BIP_error(RFR)"
   ]
  },
  {
   "cell_type": "code",
   "execution_count": 23,
   "metadata": {},
   "outputs": [],
   "source": [
    "ens = XGB[['NumberOfSales','_NumberOfSales']]"
   ]
  },
  {
   "cell_type": "code",
   "execution_count": 24,
   "metadata": {},
   "outputs": [],
   "source": [
    "ens['R_NumberOfSales']=RFR['_NumberOfSales']"
   ]
  },
  {
   "cell_type": "code",
   "execution_count": 25,
   "metadata": {},
   "outputs": [],
   "source": [
    "ens['avg_NumberOfSales']=(ens['_NumberOfSales']+ens['R_NumberOfSales'])/2"
   ]
  },
  {
   "cell_type": "code",
   "execution_count": 26,
   "metadata": {},
   "outputs": [
    {
     "data": {
      "text/html": [
       "<div>\n",
       "<style scoped>\n",
       "    .dataframe tbody tr th:only-of-type {\n",
       "        vertical-align: middle;\n",
       "    }\n",
       "\n",
       "    .dataframe tbody tr th {\n",
       "        vertical-align: top;\n",
       "    }\n",
       "\n",
       "    .dataframe thead th {\n",
       "        text-align: right;\n",
       "    }\n",
       "</style>\n",
       "<table border=\"1\" class=\"dataframe\">\n",
       "  <thead>\n",
       "    <tr style=\"text-align: right;\">\n",
       "      <th></th>\n",
       "      <th>NumberOfSales</th>\n",
       "      <th>_NumberOfSales</th>\n",
       "      <th>R_NumberOfSales</th>\n",
       "      <th>avg_NumberOfSales</th>\n",
       "    </tr>\n",
       "  </thead>\n",
       "  <tbody>\n",
       "    <tr>\n",
       "      <th>0</th>\n",
       "      <td>3332</td>\n",
       "      <td>3564.9060</td>\n",
       "      <td>4271.091907</td>\n",
       "      <td>3917.998953</td>\n",
       "    </tr>\n",
       "    <tr>\n",
       "      <th>1</th>\n",
       "      <td>4111</td>\n",
       "      <td>4564.4590</td>\n",
       "      <td>8930.242405</td>\n",
       "      <td>6747.350702</td>\n",
       "    </tr>\n",
       "    <tr>\n",
       "      <th>2</th>\n",
       "      <td>7028</td>\n",
       "      <td>7042.9630</td>\n",
       "      <td>10266.025000</td>\n",
       "      <td>8654.494000</td>\n",
       "    </tr>\n",
       "    <tr>\n",
       "      <th>3</th>\n",
       "      <td>8372</td>\n",
       "      <td>7938.5386</td>\n",
       "      <td>5287.969370</td>\n",
       "      <td>6613.253985</td>\n",
       "    </tr>\n",
       "    <tr>\n",
       "      <th>4</th>\n",
       "      <td>2827</td>\n",
       "      <td>2710.3071</td>\n",
       "      <td>6329.006882</td>\n",
       "      <td>4519.656991</td>\n",
       "    </tr>\n",
       "    <tr>\n",
       "      <th>5</th>\n",
       "      <td>5062</td>\n",
       "      <td>4462.6104</td>\n",
       "      <td>2673.744176</td>\n",
       "      <td>3568.177288</td>\n",
       "    </tr>\n",
       "    <tr>\n",
       "      <th>6</th>\n",
       "      <td>4616</td>\n",
       "      <td>4017.2017</td>\n",
       "      <td>3557.180563</td>\n",
       "      <td>3787.191132</td>\n",
       "    </tr>\n",
       "    <tr>\n",
       "      <th>7</th>\n",
       "      <td>3629</td>\n",
       "      <td>3657.6490</td>\n",
       "      <td>3579.316006</td>\n",
       "      <td>3618.482503</td>\n",
       "    </tr>\n",
       "    <tr>\n",
       "      <th>8</th>\n",
       "      <td>5038</td>\n",
       "      <td>5096.9090</td>\n",
       "      <td>4293.191547</td>\n",
       "      <td>4695.050273</td>\n",
       "    </tr>\n",
       "    <tr>\n",
       "      <th>9</th>\n",
       "      <td>4874</td>\n",
       "      <td>4649.6274</td>\n",
       "      <td>8055.555165</td>\n",
       "      <td>6352.591283</td>\n",
       "    </tr>\n",
       "  </tbody>\n",
       "</table>\n",
       "</div>"
      ],
      "text/plain": [
       "   NumberOfSales  _NumberOfSales  R_NumberOfSales  avg_NumberOfSales\n",
       "0           3332       3564.9060      4271.091907        3917.998953\n",
       "1           4111       4564.4590      8930.242405        6747.350702\n",
       "2           7028       7042.9630     10266.025000        8654.494000\n",
       "3           8372       7938.5386      5287.969370        6613.253985\n",
       "4           2827       2710.3071      6329.006882        4519.656991\n",
       "5           5062       4462.6104      2673.744176        3568.177288\n",
       "6           4616       4017.2017      3557.180563        3787.191132\n",
       "7           3629       3657.6490      3579.316006        3618.482503\n",
       "8           5038       5096.9090      4293.191547        4695.050273\n",
       "9           4874       4649.6274      8055.555165        6352.591283"
      ]
     },
     "execution_count": 26,
     "metadata": {},
     "output_type": "execute_result"
    }
   ],
   "source": [
    "ens.head(10)"
   ]
  },
  {
   "cell_type": "code",
   "execution_count": 27,
   "metadata": {},
   "outputs": [],
   "source": [
    "XGB['_NumberOfSales']=ens['avg_NumberOfSales']"
   ]
  },
  {
   "cell_type": "markdown",
   "metadata": {},
   "source": [
    "#### Ensemble BIP error"
   ]
  },
  {
   "cell_type": "code",
   "execution_count": 28,
   "metadata": {},
   "outputs": [
    {
     "name": "stdout",
     "output_type": "stream",
     "text": [
      "BIP total error: 0.1741728376674786\n"
     ]
    }
   ],
   "source": [
    "eEns=get_BIP_error(XGB)"
   ]
  },
  {
   "cell_type": "code",
   "execution_count": 14,
   "metadata": {},
   "outputs": [],
   "source": [
    "XGB.to_csv('./dataset/test4_81_AVG_RFR_XGB.csv', index=False)"
   ]
  },
  {
   "cell_type": "markdown",
   "metadata": {},
   "source": [
    "#### Average of the initial BIP errors"
   ]
  },
  {
   "cell_type": "code",
   "execution_count": 15,
   "metadata": {},
   "outputs": [
    {
     "data": {
      "text/plain": [
       "0.03301393725894004"
      ]
     },
     "execution_count": 15,
     "metadata": {},
     "output_type": "execute_result"
    }
   ],
   "source": [
    "(eXGB+eRFR)/2"
   ]
  },
  {
   "cell_type": "markdown",
   "metadata": {},
   "source": [
    "## From here on is not something we can really do, it's just out of curiosity and if there is a pattern"
   ]
  },
  {
   "cell_type": "code",
   "execution_count": 81,
   "metadata": {},
   "outputs": [],
   "source": [
    "diff=XGB['NumberOfSales']-XGB['_NumberOfSales']"
   ]
  },
  {
   "cell_type": "code",
   "execution_count": 82,
   "metadata": {},
   "outputs": [
    {
     "data": {
      "text/plain": [
       "0     -837.842519\n",
       "1    -1570.339031\n",
       "2      699.178456\n",
       "3      820.260534\n",
       "4      320.844437\n",
       "5      597.867096\n",
       "6     -123.892727\n",
       "7       -4.570879\n",
       "8       61.735041\n",
       "9       38.096284\n",
       "10    -524.260417\n",
       "11    -326.673305\n",
       "12    -425.901015\n",
       "13    -616.685587\n",
       "14    -201.202695\n",
       "dtype: float64"
      ]
     },
     "execution_count": 82,
     "metadata": {},
     "output_type": "execute_result"
    }
   ],
   "source": [
    "diff.head(15).T"
   ]
  },
  {
   "cell_type": "code",
   "execution_count": 83,
   "metadata": {},
   "outputs": [
    {
     "data": {
      "text/plain": [
       "57.87767735598596"
      ]
     },
     "execution_count": 83,
     "metadata": {},
     "output_type": "execute_result"
    }
   ],
   "source": [
    "diff.mean()"
   ]
  },
  {
   "cell_type": "code",
   "execution_count": 84,
   "metadata": {},
   "outputs": [],
   "source": [
    "XGB['_NumberOfSales']=XGB['_NumberOfSales']+diff.mean()"
   ]
  },
  {
   "cell_type": "code",
   "execution_count": 85,
   "metadata": {},
   "outputs": [
    {
     "name": "stdout",
     "output_type": "stream",
     "text": [
      "Number of regions identified: 11\n",
      "BIP total error: 0.045734710271940385\n"
     ]
    }
   ],
   "source": [
    "eXGB=get_BIP_error(XGB)"
   ]
  },
  {
   "cell_type": "code",
   "execution_count": null,
   "metadata": {},
   "outputs": [],
   "source": []
  }
 ],
 "metadata": {
  "kernelspec": {
   "display_name": "Python 3",
   "language": "python",
   "name": "python3"
  },
  "language_info": {
   "codemirror_mode": {
    "name": "ipython",
    "version": 3
   },
   "file_extension": ".py",
   "mimetype": "text/x-python",
   "name": "python",
   "nbconvert_exporter": "python",
   "pygments_lexer": "ipython3",
   "version": "3.6.4"
  }
 },
 "nbformat": 4,
 "nbformat_minor": 2
}
