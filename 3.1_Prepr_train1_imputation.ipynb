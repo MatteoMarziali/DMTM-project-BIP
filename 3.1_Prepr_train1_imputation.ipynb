{
 "cells": [
  {
   "cell_type": "markdown",
   "metadata": {},
   "source": [
    "# Data preprocessing: Imputation of missing values\n",
    "\n",
    "**NOTEBOOK GOAL**: Impute missing values\n",
    "\n",
    "**DATASET TRANSFORMATION**: `preprocessed0_date_(train|test).csv` >> `preprocessed1_imputed_(train|test).csv`\n",
    "\n",
    "**INDEX**\n",
    "- [Missing values](#Missing-values)\n",
    "- [Max_Gust_SpeedKm_h attribute processing](#Max_Gust_SpeedKm_h-attribute-processing)\n",
    "- [Events attribute processing](#Events-attribute-processing)\n",
    "- [NumberOfCustomers, NumberOfSales attributes processing](#NumberOfCustomers,-NumberOfSales-attributes-processing)\n",
    "- [NumberOfCustomers attribute processing](#NumberOfCustomers-attribute-processing)\n",
    "- [CloudCover attribute processing](#CloudCover-attribute-processing)\n",
    "- [Min_VisibilitykM, Mean_VisibilityKm and-Max_VisibilityKm attributes processing](#Min_VisibilitykM,-Mean_VisibilityKm-and-Max_VisibilityKm-attributes-processing)\n",
    "- [Final check](#Final-check)\n",
    "- [Write to file](#Write-to-file)"
   ]
  },
  {
   "cell_type": "code",
   "execution_count": 42,
   "metadata": {},
   "outputs": [],
   "source": [
    "# reoder variables to work on train or test dataset\n",
    "work_on = 'test'\n",
    "#work_on = 'train'"
   ]
  },
  {
   "cell_type": "code",
   "execution_count": 43,
   "metadata": {},
   "outputs": [],
   "source": [
    "from import_man import *\n",
    "\n",
    "sns.set(style=\"white\", color_codes=True)\n",
    "sns.set_context(rc={\"font.family\":'sans',\"font.size\":24,\"axes.titlesize\":24,\"axes.labelsize\":24})  \n",
    "\n",
    "%matplotlib inline"
   ]
  },
  {
   "cell_type": "code",
   "execution_count": 45,
   "metadata": {},
   "outputs": [
    {
     "data": {
      "text/html": [
       "<div>\n",
       "<style scoped>\n",
       "    .dataframe tbody tr th:only-of-type {\n",
       "        vertical-align: middle;\n",
       "    }\n",
       "\n",
       "    .dataframe tbody tr th {\n",
       "        vertical-align: top;\n",
       "    }\n",
       "\n",
       "    .dataframe thead th {\n",
       "        text-align: right;\n",
       "    }\n",
       "</style>\n",
       "<table border=\"1\" class=\"dataframe\">\n",
       "  <thead>\n",
       "    <tr style=\"text-align: right;\">\n",
       "      <th></th>\n",
       "      <th>StoreID</th>\n",
       "      <th>Date</th>\n",
       "      <th>IsHoliday</th>\n",
       "      <th>IsOpen</th>\n",
       "      <th>HasPromotions</th>\n",
       "      <th>StoreType</th>\n",
       "      <th>AssortmentType</th>\n",
       "      <th>NearestCompetitor</th>\n",
       "      <th>Region</th>\n",
       "      <th>Region_AreaKM2</th>\n",
       "      <th>...</th>\n",
       "      <th>Min_Sea_Level_PressurehPa</th>\n",
       "      <th>Min_TemperatureC</th>\n",
       "      <th>Min_VisibilitykM</th>\n",
       "      <th>Precipitationmm</th>\n",
       "      <th>WindDirDegrees</th>\n",
       "      <th>D_Day</th>\n",
       "      <th>D_DayOfYear</th>\n",
       "      <th>D_Month</th>\n",
       "      <th>D_Year</th>\n",
       "      <th>D_DayOfweek</th>\n",
       "    </tr>\n",
       "  </thead>\n",
       "  <tbody>\n",
       "    <tr>\n",
       "      <th>0</th>\n",
       "      <td>1000</td>\n",
       "      <td>01/03/2018</td>\n",
       "      <td>0</td>\n",
       "      <td>1</td>\n",
       "      <td>0</td>\n",
       "      <td>Hyper Market</td>\n",
       "      <td>General</td>\n",
       "      <td>326</td>\n",
       "      <td>7</td>\n",
       "      <td>9643</td>\n",
       "      <td>...</td>\n",
       "      <td>1011</td>\n",
       "      <td>2</td>\n",
       "      <td>10.0</td>\n",
       "      <td>0.00</td>\n",
       "      <td>180</td>\n",
       "      <td>1</td>\n",
       "      <td>60</td>\n",
       "      <td>3</td>\n",
       "      <td>2018</td>\n",
       "      <td>3</td>\n",
       "    </tr>\n",
       "    <tr>\n",
       "      <th>1</th>\n",
       "      <td>1000</td>\n",
       "      <td>02/03/2018</td>\n",
       "      <td>0</td>\n",
       "      <td>1</td>\n",
       "      <td>0</td>\n",
       "      <td>Hyper Market</td>\n",
       "      <td>General</td>\n",
       "      <td>326</td>\n",
       "      <td>7</td>\n",
       "      <td>9643</td>\n",
       "      <td>...</td>\n",
       "      <td>1009</td>\n",
       "      <td>3</td>\n",
       "      <td>10.0</td>\n",
       "      <td>5.08</td>\n",
       "      <td>315</td>\n",
       "      <td>2</td>\n",
       "      <td>61</td>\n",
       "      <td>3</td>\n",
       "      <td>2018</td>\n",
       "      <td>4</td>\n",
       "    </tr>\n",
       "    <tr>\n",
       "      <th>2</th>\n",
       "      <td>1000</td>\n",
       "      <td>03/03/2018</td>\n",
       "      <td>0</td>\n",
       "      <td>1</td>\n",
       "      <td>0</td>\n",
       "      <td>Hyper Market</td>\n",
       "      <td>General</td>\n",
       "      <td>326</td>\n",
       "      <td>7</td>\n",
       "      <td>9643</td>\n",
       "      <td>...</td>\n",
       "      <td>1013</td>\n",
       "      <td>-2</td>\n",
       "      <td>10.0</td>\n",
       "      <td>0.00</td>\n",
       "      <td>210</td>\n",
       "      <td>3</td>\n",
       "      <td>62</td>\n",
       "      <td>3</td>\n",
       "      <td>2018</td>\n",
       "      <td>5</td>\n",
       "    </tr>\n",
       "    <tr>\n",
       "      <th>3</th>\n",
       "      <td>1000</td>\n",
       "      <td>04/03/2018</td>\n",
       "      <td>0</td>\n",
       "      <td>0</td>\n",
       "      <td>0</td>\n",
       "      <td>Hyper Market</td>\n",
       "      <td>General</td>\n",
       "      <td>326</td>\n",
       "      <td>7</td>\n",
       "      <td>9643</td>\n",
       "      <td>...</td>\n",
       "      <td>1002</td>\n",
       "      <td>1</td>\n",
       "      <td>6.0</td>\n",
       "      <td>3.05</td>\n",
       "      <td>193</td>\n",
       "      <td>4</td>\n",
       "      <td>63</td>\n",
       "      <td>3</td>\n",
       "      <td>2018</td>\n",
       "      <td>6</td>\n",
       "    </tr>\n",
       "    <tr>\n",
       "      <th>4</th>\n",
       "      <td>1000</td>\n",
       "      <td>05/03/2018</td>\n",
       "      <td>0</td>\n",
       "      <td>1</td>\n",
       "      <td>1</td>\n",
       "      <td>Hyper Market</td>\n",
       "      <td>General</td>\n",
       "      <td>326</td>\n",
       "      <td>7</td>\n",
       "      <td>9643</td>\n",
       "      <td>...</td>\n",
       "      <td>1000</td>\n",
       "      <td>2</td>\n",
       "      <td>8.0</td>\n",
       "      <td>0.25</td>\n",
       "      <td>247</td>\n",
       "      <td>5</td>\n",
       "      <td>64</td>\n",
       "      <td>3</td>\n",
       "      <td>2018</td>\n",
       "      <td>0</td>\n",
       "    </tr>\n",
       "  </tbody>\n",
       "</table>\n",
       "<p>5 rows × 39 columns</p>\n",
       "</div>"
      ],
      "text/plain": [
       "   StoreID        Date  IsHoliday  IsOpen  HasPromotions     StoreType  \\\n",
       "0     1000  01/03/2018          0       1              0  Hyper Market   \n",
       "1     1000  02/03/2018          0       1              0  Hyper Market   \n",
       "2     1000  03/03/2018          0       1              0  Hyper Market   \n",
       "3     1000  04/03/2018          0       0              0  Hyper Market   \n",
       "4     1000  05/03/2018          0       1              1  Hyper Market   \n",
       "\n",
       "  AssortmentType  NearestCompetitor  Region  Region_AreaKM2     ...       \\\n",
       "0        General                326       7            9643     ...        \n",
       "1        General                326       7            9643     ...        \n",
       "2        General                326       7            9643     ...        \n",
       "3        General                326       7            9643     ...        \n",
       "4        General                326       7            9643     ...        \n",
       "\n",
       "   Min_Sea_Level_PressurehPa  Min_TemperatureC  Min_VisibilitykM  \\\n",
       "0                       1011                 2              10.0   \n",
       "1                       1009                 3              10.0   \n",
       "2                       1013                -2              10.0   \n",
       "3                       1002                 1               6.0   \n",
       "4                       1000                 2               8.0   \n",
       "\n",
       "  Precipitationmm  WindDirDegrees  D_Day  D_DayOfYear  D_Month  D_Year  \\\n",
       "0            0.00             180      1           60        3    2018   \n",
       "1            5.08             315      2           61        3    2018   \n",
       "2            0.00             210      3           62        3    2018   \n",
       "3            3.05             193      4           63        3    2018   \n",
       "4            0.25             247      5           64        3    2018   \n",
       "\n",
       "   D_DayOfweek  \n",
       "0            3  \n",
       "1            4  \n",
       "2            5  \n",
       "3            6  \n",
       "4            0  \n",
       "\n",
       "[5 rows x 39 columns]"
      ]
     },
     "execution_count": 45,
     "metadata": {},
     "output_type": "execute_result"
    }
   ],
   "source": [
    "# start form preprocessed0_date_train dataset\n",
    "df = pd.read_csv('./dataset/preprocessed0_date_' + work_on + '.csv')\n",
    "df.head()"
   ]
  },
  {
   "cell_type": "markdown",
   "metadata": {},
   "source": [
    "## Missing values\n",
    "\n",
    "Let's check how many missing values are in the data set and how can we deal with them. \n"
   ]
  },
  {
   "cell_type": "code",
   "execution_count": 46,
   "metadata": {},
   "outputs": [
    {
     "data": {
      "text/html": [
       "<div>\n",
       "<style scoped>\n",
       "    .dataframe tbody tr th:only-of-type {\n",
       "        vertical-align: middle;\n",
       "    }\n",
       "\n",
       "    .dataframe tbody tr th {\n",
       "        vertical-align: top;\n",
       "    }\n",
       "\n",
       "    .dataframe thead th {\n",
       "        text-align: right;\n",
       "    }\n",
       "</style>\n",
       "<table border=\"1\" class=\"dataframe\">\n",
       "  <thead>\n",
       "    <tr style=\"text-align: right;\">\n",
       "      <th></th>\n",
       "      <th>Missing Ratio</th>\n",
       "    </tr>\n",
       "  </thead>\n",
       "  <tbody>\n",
       "    <tr>\n",
       "      <th>Max_Gust_SpeedKm_h</th>\n",
       "      <td>75.374817</td>\n",
       "    </tr>\n",
       "    <tr>\n",
       "      <th>Events</th>\n",
       "      <td>35.984591</td>\n",
       "    </tr>\n",
       "    <tr>\n",
       "      <th>CloudCover</th>\n",
       "      <td>18.424566</td>\n",
       "    </tr>\n",
       "    <tr>\n",
       "      <th>Min_VisibilitykM</th>\n",
       "      <td>5.736611</td>\n",
       "    </tr>\n",
       "    <tr>\n",
       "      <th>Mean_VisibilityKm</th>\n",
       "      <td>5.736611</td>\n",
       "    </tr>\n",
       "    <tr>\n",
       "      <th>Max_VisibilityKm</th>\n",
       "      <td>5.736611</td>\n",
       "    </tr>\n",
       "  </tbody>\n",
       "</table>\n",
       "</div>"
      ],
      "text/plain": [
       "                    Missing Ratio\n",
       "Max_Gust_SpeedKm_h      75.374817\n",
       "Events                  35.984591\n",
       "CloudCover              18.424566\n",
       "Min_VisibilitykM         5.736611\n",
       "Mean_VisibilityKm        5.736611\n",
       "Max_VisibilityKm         5.736611"
      ]
     },
     "execution_count": 46,
     "metadata": {},
     "output_type": "execute_result"
    }
   ],
   "source": [
    "df_na = (df.isnull().sum() / len(df)) * 100\n",
    "df_na = df_na.drop(df_na[df_na == 0].index).sort_values(ascending=False)[:30]\n",
    "missing_data = pd.DataFrame({'Missing Ratio': df_na})\n",
    "missing_data.head(10)"
   ]
  },
  {
   "cell_type": "markdown",
   "metadata": {},
   "source": [
    "### Max_Gust_SpeedKm_h attribute processing"
   ]
  },
  {
   "cell_type": "markdown",
   "metadata": {},
   "source": [
    "The attribute Max_Gust_SpeedKm_h has too many missing values... We have 2 possibility:\n",
    "\n",
    "1. supposing that the missing values mean no Gust and replace them with 0\n",
    "2. drop the column and do not take it into account for training\n",
    "\n",
    "\n",
    "Let's consider the option n. 1 for the moment:\n",
    "\n",
    "Let's see in the training set if there is any correlation between the number of Sales wrt 'Max_Gust_SpeedKm_h' when we impute the missing value with '0'\n"
   ]
  },
  {
   "cell_type": "code",
   "execution_count": 47,
   "metadata": {},
   "outputs": [],
   "source": [
    "df_first = df\n",
    "df_first['Max_Gust_SpeedKm_h'] = df_first['Max_Gust_SpeedKm_h'].fillna(0)"
   ]
  },
  {
   "cell_type": "code",
   "execution_count": 48,
   "metadata": {},
   "outputs": [],
   "source": [
    "if work_on == 'train':\n",
    "    plt.rcParams['figure.figsize'] = [10.0,6.0]\n",
    "    plt.rcParams['figure.dpi']=80\n",
    "    covariance = df_first[['NumberOfSales','NumberOfCustomers','Max_Gust_SpeedKm_h']].corr(method='pearson')\n",
    "    sns.heatmap(covariance, square=True, annot=True, cmap=\"Blues\")"
   ]
  },
  {
   "cell_type": "markdown",
   "metadata": {},
   "source": [
    "'Max_Gust_SpeedKm_h seems to have no correlation with the targets.\n",
    "Considering the fact that the 80% of the values have been imputed following the first option, the best option seems to be not consider that attribute for training.\n",
    "Let's drop it."
   ]
  },
  {
   "cell_type": "code",
   "execution_count": 49,
   "metadata": {},
   "outputs": [
    {
     "name": "stdout",
     "output_type": "stream",
     "text": [
      "Columns before (39): Index(['StoreID', 'Date', 'IsHoliday', 'IsOpen', 'HasPromotions', 'StoreType',\n",
      "       'AssortmentType', 'NearestCompetitor', 'Region', 'Region_AreaKM2',\n",
      "       'Region_GDP', 'Region_PopulationK', 'CloudCover', 'Events',\n",
      "       'Max_Dew_PointC', 'Max_Gust_SpeedKm_h', 'Max_Humidity',\n",
      "       'Max_Sea_Level_PressurehPa', 'Max_TemperatureC', 'Max_VisibilityKm',\n",
      "       'Max_Wind_SpeedKm_h', 'Mean_Dew_PointC', 'Mean_Humidity',\n",
      "       'Mean_Sea_Level_PressurehPa', 'Mean_TemperatureC', 'Mean_VisibilityKm',\n",
      "       'Mean_Wind_SpeedKm_h', 'Min_Dew_PointC', 'Min_Humidity',\n",
      "       'Min_Sea_Level_PressurehPa', 'Min_TemperatureC', 'Min_VisibilitykM',\n",
      "       'Precipitationmm', 'WindDirDegrees', 'D_Day', 'D_DayOfYear', 'D_Month',\n",
      "       'D_Year', 'D_DayOfweek'],\n",
      "      dtype='object')\n",
      "Columns before (38): Index(['StoreID', 'Date', 'IsHoliday', 'IsOpen', 'HasPromotions', 'StoreType',\n",
      "       'AssortmentType', 'NearestCompetitor', 'Region', 'Region_AreaKM2',\n",
      "       'Region_GDP', 'Region_PopulationK', 'CloudCover', 'Events',\n",
      "       'Max_Dew_PointC', 'Max_Humidity', 'Max_Sea_Level_PressurehPa',\n",
      "       'Max_TemperatureC', 'Max_VisibilityKm', 'Max_Wind_SpeedKm_h',\n",
      "       'Mean_Dew_PointC', 'Mean_Humidity', 'Mean_Sea_Level_PressurehPa',\n",
      "       'Mean_TemperatureC', 'Mean_VisibilityKm', 'Mean_Wind_SpeedKm_h',\n",
      "       'Min_Dew_PointC', 'Min_Humidity', 'Min_Sea_Level_PressurehPa',\n",
      "       'Min_TemperatureC', 'Min_VisibilitykM', 'Precipitationmm',\n",
      "       'WindDirDegrees', 'D_Day', 'D_DayOfYear', 'D_Month', 'D_Year',\n",
      "       'D_DayOfweek'],\n",
      "      dtype='object')\n"
     ]
    },
    {
     "data": {
      "text/html": [
       "<div>\n",
       "<style scoped>\n",
       "    .dataframe tbody tr th:only-of-type {\n",
       "        vertical-align: middle;\n",
       "    }\n",
       "\n",
       "    .dataframe tbody tr th {\n",
       "        vertical-align: top;\n",
       "    }\n",
       "\n",
       "    .dataframe thead th {\n",
       "        text-align: right;\n",
       "    }\n",
       "</style>\n",
       "<table border=\"1\" class=\"dataframe\">\n",
       "  <thead>\n",
       "    <tr style=\"text-align: right;\">\n",
       "      <th></th>\n",
       "      <th>StoreID</th>\n",
       "      <th>Date</th>\n",
       "      <th>IsHoliday</th>\n",
       "      <th>IsOpen</th>\n",
       "      <th>HasPromotions</th>\n",
       "      <th>StoreType</th>\n",
       "      <th>AssortmentType</th>\n",
       "      <th>NearestCompetitor</th>\n",
       "      <th>Region</th>\n",
       "      <th>Region_AreaKM2</th>\n",
       "      <th>...</th>\n",
       "      <th>Min_Sea_Level_PressurehPa</th>\n",
       "      <th>Min_TemperatureC</th>\n",
       "      <th>Min_VisibilitykM</th>\n",
       "      <th>Precipitationmm</th>\n",
       "      <th>WindDirDegrees</th>\n",
       "      <th>D_Day</th>\n",
       "      <th>D_DayOfYear</th>\n",
       "      <th>D_Month</th>\n",
       "      <th>D_Year</th>\n",
       "      <th>D_DayOfweek</th>\n",
       "    </tr>\n",
       "  </thead>\n",
       "  <tbody>\n",
       "    <tr>\n",
       "      <th>0</th>\n",
       "      <td>1000</td>\n",
       "      <td>01/03/2018</td>\n",
       "      <td>0</td>\n",
       "      <td>1</td>\n",
       "      <td>0</td>\n",
       "      <td>Hyper Market</td>\n",
       "      <td>General</td>\n",
       "      <td>326</td>\n",
       "      <td>7</td>\n",
       "      <td>9643</td>\n",
       "      <td>...</td>\n",
       "      <td>1011</td>\n",
       "      <td>2</td>\n",
       "      <td>10.0</td>\n",
       "      <td>0.00</td>\n",
       "      <td>180</td>\n",
       "      <td>1</td>\n",
       "      <td>60</td>\n",
       "      <td>3</td>\n",
       "      <td>2018</td>\n",
       "      <td>3</td>\n",
       "    </tr>\n",
       "    <tr>\n",
       "      <th>1</th>\n",
       "      <td>1000</td>\n",
       "      <td>02/03/2018</td>\n",
       "      <td>0</td>\n",
       "      <td>1</td>\n",
       "      <td>0</td>\n",
       "      <td>Hyper Market</td>\n",
       "      <td>General</td>\n",
       "      <td>326</td>\n",
       "      <td>7</td>\n",
       "      <td>9643</td>\n",
       "      <td>...</td>\n",
       "      <td>1009</td>\n",
       "      <td>3</td>\n",
       "      <td>10.0</td>\n",
       "      <td>5.08</td>\n",
       "      <td>315</td>\n",
       "      <td>2</td>\n",
       "      <td>61</td>\n",
       "      <td>3</td>\n",
       "      <td>2018</td>\n",
       "      <td>4</td>\n",
       "    </tr>\n",
       "    <tr>\n",
       "      <th>2</th>\n",
       "      <td>1000</td>\n",
       "      <td>03/03/2018</td>\n",
       "      <td>0</td>\n",
       "      <td>1</td>\n",
       "      <td>0</td>\n",
       "      <td>Hyper Market</td>\n",
       "      <td>General</td>\n",
       "      <td>326</td>\n",
       "      <td>7</td>\n",
       "      <td>9643</td>\n",
       "      <td>...</td>\n",
       "      <td>1013</td>\n",
       "      <td>-2</td>\n",
       "      <td>10.0</td>\n",
       "      <td>0.00</td>\n",
       "      <td>210</td>\n",
       "      <td>3</td>\n",
       "      <td>62</td>\n",
       "      <td>3</td>\n",
       "      <td>2018</td>\n",
       "      <td>5</td>\n",
       "    </tr>\n",
       "    <tr>\n",
       "      <th>3</th>\n",
       "      <td>1000</td>\n",
       "      <td>04/03/2018</td>\n",
       "      <td>0</td>\n",
       "      <td>0</td>\n",
       "      <td>0</td>\n",
       "      <td>Hyper Market</td>\n",
       "      <td>General</td>\n",
       "      <td>326</td>\n",
       "      <td>7</td>\n",
       "      <td>9643</td>\n",
       "      <td>...</td>\n",
       "      <td>1002</td>\n",
       "      <td>1</td>\n",
       "      <td>6.0</td>\n",
       "      <td>3.05</td>\n",
       "      <td>193</td>\n",
       "      <td>4</td>\n",
       "      <td>63</td>\n",
       "      <td>3</td>\n",
       "      <td>2018</td>\n",
       "      <td>6</td>\n",
       "    </tr>\n",
       "    <tr>\n",
       "      <th>4</th>\n",
       "      <td>1000</td>\n",
       "      <td>05/03/2018</td>\n",
       "      <td>0</td>\n",
       "      <td>1</td>\n",
       "      <td>1</td>\n",
       "      <td>Hyper Market</td>\n",
       "      <td>General</td>\n",
       "      <td>326</td>\n",
       "      <td>7</td>\n",
       "      <td>9643</td>\n",
       "      <td>...</td>\n",
       "      <td>1000</td>\n",
       "      <td>2</td>\n",
       "      <td>8.0</td>\n",
       "      <td>0.25</td>\n",
       "      <td>247</td>\n",
       "      <td>5</td>\n",
       "      <td>64</td>\n",
       "      <td>3</td>\n",
       "      <td>2018</td>\n",
       "      <td>0</td>\n",
       "    </tr>\n",
       "  </tbody>\n",
       "</table>\n",
       "<p>5 rows × 38 columns</p>\n",
       "</div>"
      ],
      "text/plain": [
       "   StoreID        Date  IsHoliday  IsOpen  HasPromotions     StoreType  \\\n",
       "0     1000  01/03/2018          0       1              0  Hyper Market   \n",
       "1     1000  02/03/2018          0       1              0  Hyper Market   \n",
       "2     1000  03/03/2018          0       1              0  Hyper Market   \n",
       "3     1000  04/03/2018          0       0              0  Hyper Market   \n",
       "4     1000  05/03/2018          0       1              1  Hyper Market   \n",
       "\n",
       "  AssortmentType  NearestCompetitor  Region  Region_AreaKM2     ...       \\\n",
       "0        General                326       7            9643     ...        \n",
       "1        General                326       7            9643     ...        \n",
       "2        General                326       7            9643     ...        \n",
       "3        General                326       7            9643     ...        \n",
       "4        General                326       7            9643     ...        \n",
       "\n",
       "   Min_Sea_Level_PressurehPa  Min_TemperatureC  Min_VisibilitykM  \\\n",
       "0                       1011                 2              10.0   \n",
       "1                       1009                 3              10.0   \n",
       "2                       1013                -2              10.0   \n",
       "3                       1002                 1               6.0   \n",
       "4                       1000                 2               8.0   \n",
       "\n",
       "  Precipitationmm  WindDirDegrees  D_Day  D_DayOfYear  D_Month  D_Year  \\\n",
       "0            0.00             180      1           60        3    2018   \n",
       "1            5.08             315      2           61        3    2018   \n",
       "2            0.00             210      3           62        3    2018   \n",
       "3            3.05             193      4           63        3    2018   \n",
       "4            0.25             247      5           64        3    2018   \n",
       "\n",
       "   D_DayOfweek  \n",
       "0            3  \n",
       "1            4  \n",
       "2            5  \n",
       "3            6  \n",
       "4            0  \n",
       "\n",
       "[5 rows x 38 columns]"
      ]
     },
     "execution_count": 49,
     "metadata": {},
     "output_type": "execute_result"
    }
   ],
   "source": [
    "# drop column Max_Gust_SpeedKm_h\n",
    "print(\"Columns before ({}): {}\".format(len(list(df.columns)), df.columns))\n",
    "\n",
    "df = df.drop(['Max_Gust_SpeedKm_h'], axis=1)\n",
    "\n",
    "print(\"Columns before ({}): {}\".format(len(list(df.columns)), df.columns))\n",
    "\n",
    "df.head()"
   ]
  },
  {
   "cell_type": "markdown",
   "metadata": {},
   "source": [
    "As a final outcome: **attribute Max_Gust_SpeedKm_h dropped**"
   ]
  },
  {
   "cell_type": "markdown",
   "metadata": {},
   "source": [
    "### Events attribute processing"
   ]
  },
  {
   "cell_type": "markdown",
   "metadata": {},
   "source": [
    "Now that Max_Gust_SpeedKm_h is gone let's continue with the imputation.\n",
    "\n",
    "The next attribute is 'Events' with a missing ratio of 24%.\n",
    "If we analyze the Events we notice that values like 'sunny' never appear so the best option seems to assume that missing values mean no particulare forcasting events.\n",
    "Let's fill them with the value 'none'."
   ]
  },
  {
   "cell_type": "code",
   "execution_count": 51,
   "metadata": {},
   "outputs": [],
   "source": [
    "df[\"Events\"] = df[\"Events\"].fillna(\"None\")"
   ]
  },
  {
   "cell_type": "markdown",
   "metadata": {},
   "source": [
    "### NumberOfCustomers, NumberOfSales attributes processing\n"
   ]
  },
  {
   "cell_type": "markdown",
   "metadata": {},
   "source": [
    "Let's set the NumberOfCustomers and NumberOfSales to None when the store is closed."
   ]
  },
  {
   "cell_type": "code",
   "execution_count": 52,
   "metadata": {},
   "outputs": [],
   "source": [
    "if work_on == 'train':\n",
    "    df.loc[df['IsOpen'] == 0, ['NumberOfCustomers','NumberOfSales']] = 0\n",
    "    df.head(5)"
   ]
  },
  {
   "cell_type": "code",
   "execution_count": 53,
   "metadata": {},
   "outputs": [],
   "source": [
    "# Impute NumberOfSales\n",
    "#df[\"NumberOfSales\"] = df.groupby('StoreID')[\"NumberOfSales\"].transform(lambda x: x.fillna(x.mean()))"
   ]
  },
  {
   "cell_type": "code",
   "execution_count": 54,
   "metadata": {},
   "outputs": [],
   "source": [
    "# Impute NumberOfCustomers\n",
    "#df[\"NumberOfCustomers\"] = df.groupby('StoreID')[\"NumberOfCustomers\"].transform(lambda x: x.fillna(x.mean()))"
   ]
  },
  {
   "cell_type": "code",
   "execution_count": 55,
   "metadata": {},
   "outputs": [],
   "source": [
    "pd.options.mode.chained_assignment = None  # default='warn'\n",
    "\n",
    "def convert_to_date(sample):\n",
    "    sample['Date'] = pd.to_datetime(sample['Date'],format='%d/%m/%Y')\n",
    "    \n",
    "def get_store_data(store_id):\n",
    "    return df.loc[df['StoreID'] == store_id]"
   ]
  },
  {
   "cell_type": "code",
   "execution_count": 56,
   "metadata": {},
   "outputs": [],
   "source": [
    "import matplotlib.dates as mdates\n",
    "\n",
    "years = mdates.YearLocator()   # every year\n",
    "months = mdates.MonthLocator()  # every month\n",
    "monthsFmt = mdates.DateFormatter('%m')\n",
    "yearsFmt = mdates.DateFormatter('%Y')\n",
    "monthsYearFmt = mdates.DateFormatter('%m-%Y')\n",
    "\n",
    "#function that plots a store sales trend\n",
    "def plot_storeNo(store_id):\n",
    "    sampleStore = get_store_data(store_id)\n",
    "    convert_to_date(sampleStore)\n",
    "    \n",
    "    \n",
    "    \n",
    "    fig, ax = plt.subplots()\n",
    "    \n",
    "    # format the ticks\n",
    "    ax.xaxis.set_major_locator(months)\n",
    "    ax.xaxis.set_major_formatter(monthsYearFmt)\n",
    "    ax.xaxis.set_minor_locator(months)\n",
    "    \n",
    "    ax.plot(sampleStore.Date, sampleStore.NumberOfSales)\n",
    "    ax.xaxis.set_major_locator(months)\n",
    "    ax.xaxis.set_major_formatter(monthsYearFmt)\n",
    "    ax.xaxis.set_minor_locator(months)\n",
    "    ax.grid(True)\n",
    "    fig.autofmt_xdate()\n",
    "    plt.show()\n",
    "    \n",
    "#function that plots many store sales trends in the whole amount of time with legend\n",
    "def plot_stores(start_index,end_index):  \n",
    "    fig, ax = plt.subplots()\n",
    "\n",
    "    # format the ticks\n",
    "    ax.xaxis.set_major_locator(months)\n",
    "    ax.xaxis.set_major_formatter(monthsYearFmt)\n",
    "    ax.xaxis.set_minor_locator(months)\n",
    "    \n",
    "    stores_legend = []\n",
    "\n",
    "    for i in range(start_index,end_index):\n",
    "        sampleStore = get_store_data(i)\n",
    "        convert_to_date(sampleStore)\n",
    "    \n",
    "        ax.plot(sampleStore.Date, sampleStore.NumberOfSales)\n",
    "        stores_legend.append('Store '+str(i))\n",
    "        \n",
    "    ax.xaxis.set_major_locator(months)\n",
    "    ax.xaxis.set_major_formatter(monthsYearFmt)\n",
    "    ax.xaxis.set_minor_locator(months)\n",
    "    plt.legend(stores_legend, loc='upper left')\n",
    "\n",
    "    ax.grid(True)\n",
    "    fig.autofmt_xdate()\n",
    "    plt.show()"
   ]
  },
  {
   "cell_type": "code",
   "execution_count": 57,
   "metadata": {},
   "outputs": [],
   "source": [
    "sampleStore = df.loc[df['StoreID'] == 1000]"
   ]
  },
  {
   "cell_type": "code",
   "execution_count": 58,
   "metadata": {},
   "outputs": [
    {
     "data": {
      "text/html": [
       "<div>\n",
       "<style scoped>\n",
       "    .dataframe tbody tr th:only-of-type {\n",
       "        vertical-align: middle;\n",
       "    }\n",
       "\n",
       "    .dataframe tbody tr th {\n",
       "        vertical-align: top;\n",
       "    }\n",
       "\n",
       "    .dataframe thead th {\n",
       "        text-align: right;\n",
       "    }\n",
       "</style>\n",
       "<table border=\"1\" class=\"dataframe\">\n",
       "  <thead>\n",
       "    <tr style=\"text-align: right;\">\n",
       "      <th></th>\n",
       "      <th>StoreID</th>\n",
       "      <th>Date</th>\n",
       "      <th>IsHoliday</th>\n",
       "      <th>IsOpen</th>\n",
       "      <th>HasPromotions</th>\n",
       "      <th>StoreType</th>\n",
       "      <th>AssortmentType</th>\n",
       "      <th>NearestCompetitor</th>\n",
       "      <th>Region</th>\n",
       "      <th>Region_AreaKM2</th>\n",
       "      <th>...</th>\n",
       "      <th>Min_Sea_Level_PressurehPa</th>\n",
       "      <th>Min_TemperatureC</th>\n",
       "      <th>Min_VisibilitykM</th>\n",
       "      <th>Precipitationmm</th>\n",
       "      <th>WindDirDegrees</th>\n",
       "      <th>D_Day</th>\n",
       "      <th>D_DayOfYear</th>\n",
       "      <th>D_Month</th>\n",
       "      <th>D_Year</th>\n",
       "      <th>D_DayOfweek</th>\n",
       "    </tr>\n",
       "  </thead>\n",
       "  <tbody>\n",
       "    <tr>\n",
       "      <th>0</th>\n",
       "      <td>1000</td>\n",
       "      <td>01/03/2018</td>\n",
       "      <td>0</td>\n",
       "      <td>1</td>\n",
       "      <td>0</td>\n",
       "      <td>Hyper Market</td>\n",
       "      <td>General</td>\n",
       "      <td>326</td>\n",
       "      <td>7</td>\n",
       "      <td>9643</td>\n",
       "      <td>...</td>\n",
       "      <td>1011</td>\n",
       "      <td>2</td>\n",
       "      <td>10.0</td>\n",
       "      <td>0.00</td>\n",
       "      <td>180</td>\n",
       "      <td>1</td>\n",
       "      <td>60</td>\n",
       "      <td>3</td>\n",
       "      <td>2018</td>\n",
       "      <td>3</td>\n",
       "    </tr>\n",
       "    <tr>\n",
       "      <th>1</th>\n",
       "      <td>1000</td>\n",
       "      <td>02/03/2018</td>\n",
       "      <td>0</td>\n",
       "      <td>1</td>\n",
       "      <td>0</td>\n",
       "      <td>Hyper Market</td>\n",
       "      <td>General</td>\n",
       "      <td>326</td>\n",
       "      <td>7</td>\n",
       "      <td>9643</td>\n",
       "      <td>...</td>\n",
       "      <td>1009</td>\n",
       "      <td>3</td>\n",
       "      <td>10.0</td>\n",
       "      <td>5.08</td>\n",
       "      <td>315</td>\n",
       "      <td>2</td>\n",
       "      <td>61</td>\n",
       "      <td>3</td>\n",
       "      <td>2018</td>\n",
       "      <td>4</td>\n",
       "    </tr>\n",
       "    <tr>\n",
       "      <th>2</th>\n",
       "      <td>1000</td>\n",
       "      <td>03/03/2018</td>\n",
       "      <td>0</td>\n",
       "      <td>1</td>\n",
       "      <td>0</td>\n",
       "      <td>Hyper Market</td>\n",
       "      <td>General</td>\n",
       "      <td>326</td>\n",
       "      <td>7</td>\n",
       "      <td>9643</td>\n",
       "      <td>...</td>\n",
       "      <td>1013</td>\n",
       "      <td>-2</td>\n",
       "      <td>10.0</td>\n",
       "      <td>0.00</td>\n",
       "      <td>210</td>\n",
       "      <td>3</td>\n",
       "      <td>62</td>\n",
       "      <td>3</td>\n",
       "      <td>2018</td>\n",
       "      <td>5</td>\n",
       "    </tr>\n",
       "    <tr>\n",
       "      <th>3</th>\n",
       "      <td>1000</td>\n",
       "      <td>04/03/2018</td>\n",
       "      <td>0</td>\n",
       "      <td>0</td>\n",
       "      <td>0</td>\n",
       "      <td>Hyper Market</td>\n",
       "      <td>General</td>\n",
       "      <td>326</td>\n",
       "      <td>7</td>\n",
       "      <td>9643</td>\n",
       "      <td>...</td>\n",
       "      <td>1002</td>\n",
       "      <td>1</td>\n",
       "      <td>6.0</td>\n",
       "      <td>3.05</td>\n",
       "      <td>193</td>\n",
       "      <td>4</td>\n",
       "      <td>63</td>\n",
       "      <td>3</td>\n",
       "      <td>2018</td>\n",
       "      <td>6</td>\n",
       "    </tr>\n",
       "  </tbody>\n",
       "</table>\n",
       "<p>4 rows × 38 columns</p>\n",
       "</div>"
      ],
      "text/plain": [
       "   StoreID        Date  IsHoliday  IsOpen  HasPromotions     StoreType  \\\n",
       "0     1000  01/03/2018          0       1              0  Hyper Market   \n",
       "1     1000  02/03/2018          0       1              0  Hyper Market   \n",
       "2     1000  03/03/2018          0       1              0  Hyper Market   \n",
       "3     1000  04/03/2018          0       0              0  Hyper Market   \n",
       "\n",
       "  AssortmentType  NearestCompetitor  Region  Region_AreaKM2     ...       \\\n",
       "0        General                326       7            9643     ...        \n",
       "1        General                326       7            9643     ...        \n",
       "2        General                326       7            9643     ...        \n",
       "3        General                326       7            9643     ...        \n",
       "\n",
       "   Min_Sea_Level_PressurehPa  Min_TemperatureC  Min_VisibilitykM  \\\n",
       "0                       1011                 2              10.0   \n",
       "1                       1009                 3              10.0   \n",
       "2                       1013                -2              10.0   \n",
       "3                       1002                 1               6.0   \n",
       "\n",
       "  Precipitationmm  WindDirDegrees  D_Day  D_DayOfYear  D_Month  D_Year  \\\n",
       "0            0.00             180      1           60        3    2018   \n",
       "1            5.08             315      2           61        3    2018   \n",
       "2            0.00             210      3           62        3    2018   \n",
       "3            3.05             193      4           63        3    2018   \n",
       "\n",
       "   D_DayOfweek  \n",
       "0            3  \n",
       "1            4  \n",
       "2            5  \n",
       "3            6  \n",
       "\n",
       "[4 rows x 38 columns]"
      ]
     },
     "execution_count": 58,
     "metadata": {},
     "output_type": "execute_result"
    }
   ],
   "source": [
    "sampleStore[:4]"
   ]
  },
  {
   "cell_type": "code",
   "execution_count": 61,
   "metadata": {},
   "outputs": [],
   "source": [
    "if work_on == 'train':  \n",
    "    import datetime\n",
    "    import random\n",
    "    plt.rcParams['figure.figsize'] = [20.0,8.0]\n",
    "    plt.rcParams['figure.dpi']=80\n",
    "    \n",
    "    #x = sampleStore['Date'][:100]\n",
    "    #y = sampleStore['NumberOfSales'][:100]\n",
    "    x = sampleStore['Date']\n",
    "    y = sampleStore['NumberOfSales']\n",
    "    \n",
    "    plt.xlabel(\"Days\")\n",
    "    plt.ylabel(\"Sales\")\n",
    "    \n",
    "    colors = np.random.rand(*x.shape)\n",
    "    # plot\n",
    "    plt.scatter(x, y, c=colors, marker=r'$\\diamondsuit$', alpha=0.8)\n",
    "    # beautify the x-labels\n",
    "    plt.gcf().autofmt_xdate()\n",
    "    \n",
    "    plt.show()"
   ]
  },
  {
   "cell_type": "code",
   "execution_count": 62,
   "metadata": {},
   "outputs": [],
   "source": [
    "if work_on == 'train':\n",
    "    plot_storeNo(1023)\n",
    "    plot_storeNo(1001)"
   ]
  },
  {
   "cell_type": "markdown",
   "metadata": {},
   "source": [
    "#### Imputation results checks"
   ]
  },
  {
   "cell_type": "code",
   "execution_count": 63,
   "metadata": {},
   "outputs": [],
   "source": [
    "if work_on == 'train':\n",
    "    matplotlib.rcParams['figure.figsize'] = (8.0, 6.0)\n",
    "# fit the data with a normal distribution\n",
    "    sns.distplot(df['NumberOfCustomers'] , fit=norm)"
   ]
  },
  {
   "cell_type": "code",
   "execution_count": 20,
   "metadata": {},
   "outputs": [
    {
     "data": {
      "text/plain": [
       "<matplotlib.axes._subplots.AxesSubplot at 0x6832453be0>"
      ]
     },
     "execution_count": 20,
     "metadata": {},
     "output_type": "execute_result"
    },
    {
     "data": {
      "image/png": "[encoded data removed]",
      "text/plain": [
       "<matplotlib.figure.Figure at 0x68203acb70>"
      ]
     },
     "metadata": {},
     "output_type": "display_data"
    }
   ],
   "source": [
    "if work_on == 'train':    \n",
    "    matplotlib.rcParams['figure.figsize'] = (8.0, 6.0)\n",
    "    # fit the data with a normal distribution\n",
    "    sns.distplot(df['NumberOfCustomers'] , fit=norm)"
   ]
  },
  {
   "cell_type": "markdown",
   "metadata": {},
   "source": [
    "Now we don't have anymore instances where the Store is closed. We visualize again the distribution of 'NumberOfCustomers'\n",
    "\n",
    "We visualize also the distribution of 'NumberOfSales' considering that the instancies where the Store was closed are already been removed"
   ]
  },
  {
   "cell_type": "code",
   "execution_count": 64,
   "metadata": {},
   "outputs": [],
   "source": [
    "if work_on == 'train':   \n",
    "    matplotlib.rcParams['figure.figsize'] = (8.0, 6.0)\n",
    "    # fit the data with a normal distribution\n",
    "    sns.distplot(df['NumberOfSales'] , fit=norm)"
   ]
  },
  {
   "cell_type": "markdown",
   "metadata": {},
   "source": [
    "### CloudCover attribute processing"
   ]
  },
  {
   "cell_type": "markdown",
   "metadata": {},
   "source": [
    "Similarly, noticing that in CloudCover the values range from 1 to 9 but on the library is written that have a range 0-9 we assume that the missing values mean 0 level of covering"
   ]
  },
  {
   "cell_type": "code",
   "execution_count": 65,
   "metadata": {},
   "outputs": [],
   "source": [
    "df[\"CloudCover\"] = df[\"CloudCover\"].fillna(0)"
   ]
  },
  {
   "cell_type": "markdown",
   "metadata": {},
   "source": [
    "### Min_VisibilitykM, Mean_VisibilityKm and Max_VisibilityKm attributes processing"
   ]
  },
  {
   "cell_type": "markdown",
   "metadata": {},
   "source": [
    "Now let's analyse Min_VisibilitykM, Mean_VisibilityKm and Max_VisibilityKm"
   ]
  },
  {
   "cell_type": "code",
   "execution_count": 66,
   "metadata": {},
   "outputs": [
    {
     "name": "stdout",
     "output_type": "stream",
     "text": [
      "number of Min_VisibilitykM.isnull\n"
     ]
    },
    {
     "data": {
      "text/plain": [
       "2621"
      ]
     },
     "execution_count": 66,
     "metadata": {},
     "output_type": "execute_result"
    }
   ],
   "source": [
    "Min_Visibility_missing = df[df.Min_VisibilitykM.isnull()]\n",
    "print(\"number of Min_VisibilitykM.isnull\")\n",
    "Min_Visibility_missing.shape[0]"
   ]
  },
  {
   "cell_type": "code",
   "execution_count": 67,
   "metadata": {},
   "outputs": [
    {
     "name": "stdout",
     "output_type": "stream",
     "text": [
      "Min_VisibilitykM.isnull AND Max_VisibilityKm.isnull\n"
     ]
    },
    {
     "data": {
      "text/plain": [
       "2621"
      ]
     },
     "execution_count": 67,
     "metadata": {},
     "output_type": "execute_result"
    }
   ],
   "source": [
    "# we compute the intersection between instances where Min_Visibilityand and Max_Visibility are missing\n",
    "Max_Visibility_missing = df[df.Max_VisibilityKm.isnull()]\n",
    "vis = Min_Visibility_missing.merge(Max_Visibility_missing)\n",
    "print(\"Min_VisibilitykM.isnull AND Max_VisibilityKm.isnull\")\n",
    "vis.shape[0]"
   ]
  },
  {
   "cell_type": "code",
   "execution_count": 68,
   "metadata": {},
   "outputs": [
    {
     "name": "stdout",
     "output_type": "stream",
     "text": [
      "Min_VisibilitykM.isnull AND Max_VisibilityKm.isnull AND Mean_VisibilityKm.isnull\n"
     ]
    },
    {
     "data": {
      "text/plain": [
       "2621"
      ]
     },
     "execution_count": 68,
     "metadata": {},
     "output_type": "execute_result"
    }
   ],
   "source": [
    "# we intersect vis with the instances where Mean_Visibility is missing too\n",
    "Mean_Visibility_missing = df[df.Mean_VisibilityKm.isnull()]\n",
    "vis = vis.merge(Mean_Visibility_missing)\n",
    "\n",
    "print(\"Min_VisibilitykM.isnull AND Max_VisibilityKm.isnull AND Mean_VisibilityKm.isnull\")\n",
    "vis.shape[0]"
   ]
  },
  {
   "cell_type": "markdown",
   "metadata": {},
   "source": [
    "we notice that alla the dataframes have the same count. This means that when one of these 3 atributes is missing also the other ones are missing.\n",
    "We try to understand if the missing triples focus on a particoular region/period/Store because, if that, we have to deal with them carefully to not indroduce bias in the dataset."
   ]
  },
  {
   "cell_type": "code",
   "execution_count": 69,
   "metadata": {},
   "outputs": [
    {
     "name": "stdout",
     "output_type": "stream",
     "text": [
      "region 0, number of missing triples:\n",
      "55\n",
      "region 1, number of missing triples:\n",
      "48\n",
      "region 2, number of missing triples:\n",
      "1625\n",
      "region 3, number of missing triples:\n",
      "92\n",
      "region 4, number of missing triples:\n",
      "0\n",
      "region 5, number of missing triples:\n",
      "204\n",
      "region 6, number of missing triples:\n",
      "180\n"
     ]
    }
   ],
   "source": [
    "# plt.figure(figsize=(8, 6))\n",
    "# sns.set_context(\"poster\", font_scale=1.5, rc={\"lines.linewidth\": 2.5})\n",
    "a = iter(list(range(7)))\n",
    "for i in a:\n",
    "   # vis_gb=vis.groupby(['Region']).count()\n",
    "    vis_gb = vis[vis.Region == i]\n",
    "    print('region %d, number of missing triples:' % i )\n",
    "    print(vis_gb.shape[0])"
   ]
  },
  {
   "cell_type": "markdown",
   "metadata": {},
   "source": [
    "the missing triples do not focus on a single region, now we have to impute them.\n",
    "\n",
    "To do so, we use the **median of the region in that day**"
   ]
  },
  {
   "cell_type": "code",
   "execution_count": 70,
   "metadata": {},
   "outputs": [],
   "source": [
    "df[\"Mean_VisibilityKm\"] = df.groupby([\"Region\", \"Date\"])[\"Mean_VisibilityKm\"].transform(lambda x: x.fillna(x.median())).reset_index()"
   ]
  },
  {
   "cell_type": "code",
   "execution_count": 71,
   "metadata": {},
   "outputs": [],
   "source": [
    "df[\"Max_VisibilityKm\"] = df.groupby(\"Region\")[\"Max_VisibilityKm\"].transform(lambda x: x.fillna(x.median())).reset_index()"
   ]
  },
  {
   "cell_type": "code",
   "execution_count": 72,
   "metadata": {},
   "outputs": [],
   "source": [
    "df[\"Min_VisibilitykM\"] = df.groupby(\"Region\")[\"Min_VisibilitykM\"].transform(lambda x: x.fillna(x.median())).reset_index()"
   ]
  },
  {
   "cell_type": "code",
   "execution_count": 73,
   "metadata": {},
   "outputs": [
    {
     "data": {
      "text/html": [
       "<div>\n",
       "<style scoped>\n",
       "    .dataframe tbody tr th:only-of-type {\n",
       "        vertical-align: middle;\n",
       "    }\n",
       "\n",
       "    .dataframe tbody tr th {\n",
       "        vertical-align: top;\n",
       "    }\n",
       "\n",
       "    .dataframe thead th {\n",
       "        text-align: right;\n",
       "    }\n",
       "</style>\n",
       "<table border=\"1\" class=\"dataframe\">\n",
       "  <thead>\n",
       "    <tr style=\"text-align: right;\">\n",
       "      <th></th>\n",
       "      <th>StoreID</th>\n",
       "      <th>Date</th>\n",
       "      <th>IsHoliday</th>\n",
       "      <th>IsOpen</th>\n",
       "      <th>HasPromotions</th>\n",
       "      <th>StoreType</th>\n",
       "      <th>AssortmentType</th>\n",
       "      <th>NearestCompetitor</th>\n",
       "      <th>Region</th>\n",
       "      <th>Region_AreaKM2</th>\n",
       "      <th>...</th>\n",
       "      <th>Min_Sea_Level_PressurehPa</th>\n",
       "      <th>Min_TemperatureC</th>\n",
       "      <th>Min_VisibilitykM</th>\n",
       "      <th>Precipitationmm</th>\n",
       "      <th>WindDirDegrees</th>\n",
       "      <th>D_Day</th>\n",
       "      <th>D_DayOfYear</th>\n",
       "      <th>D_Month</th>\n",
       "      <th>D_Year</th>\n",
       "      <th>D_DayOfweek</th>\n",
       "    </tr>\n",
       "  </thead>\n",
       "  <tbody>\n",
       "    <tr>\n",
       "      <th>0</th>\n",
       "      <td>1000</td>\n",
       "      <td>01/03/2018</td>\n",
       "      <td>0</td>\n",
       "      <td>1</td>\n",
       "      <td>0</td>\n",
       "      <td>Hyper Market</td>\n",
       "      <td>General</td>\n",
       "      <td>326</td>\n",
       "      <td>7</td>\n",
       "      <td>9643</td>\n",
       "      <td>...</td>\n",
       "      <td>1011</td>\n",
       "      <td>2</td>\n",
       "      <td>0.0</td>\n",
       "      <td>0.00</td>\n",
       "      <td>180</td>\n",
       "      <td>1</td>\n",
       "      <td>60</td>\n",
       "      <td>3</td>\n",
       "      <td>2018</td>\n",
       "      <td>3</td>\n",
       "    </tr>\n",
       "    <tr>\n",
       "      <th>1</th>\n",
       "      <td>1000</td>\n",
       "      <td>02/03/2018</td>\n",
       "      <td>0</td>\n",
       "      <td>1</td>\n",
       "      <td>0</td>\n",
       "      <td>Hyper Market</td>\n",
       "      <td>General</td>\n",
       "      <td>326</td>\n",
       "      <td>7</td>\n",
       "      <td>9643</td>\n",
       "      <td>...</td>\n",
       "      <td>1009</td>\n",
       "      <td>3</td>\n",
       "      <td>1.0</td>\n",
       "      <td>5.08</td>\n",
       "      <td>315</td>\n",
       "      <td>2</td>\n",
       "      <td>61</td>\n",
       "      <td>3</td>\n",
       "      <td>2018</td>\n",
       "      <td>4</td>\n",
       "    </tr>\n",
       "    <tr>\n",
       "      <th>2</th>\n",
       "      <td>1000</td>\n",
       "      <td>03/03/2018</td>\n",
       "      <td>0</td>\n",
       "      <td>1</td>\n",
       "      <td>0</td>\n",
       "      <td>Hyper Market</td>\n",
       "      <td>General</td>\n",
       "      <td>326</td>\n",
       "      <td>7</td>\n",
       "      <td>9643</td>\n",
       "      <td>...</td>\n",
       "      <td>1013</td>\n",
       "      <td>-2</td>\n",
       "      <td>2.0</td>\n",
       "      <td>0.00</td>\n",
       "      <td>210</td>\n",
       "      <td>3</td>\n",
       "      <td>62</td>\n",
       "      <td>3</td>\n",
       "      <td>2018</td>\n",
       "      <td>5</td>\n",
       "    </tr>\n",
       "    <tr>\n",
       "      <th>3</th>\n",
       "      <td>1000</td>\n",
       "      <td>04/03/2018</td>\n",
       "      <td>0</td>\n",
       "      <td>0</td>\n",
       "      <td>0</td>\n",
       "      <td>Hyper Market</td>\n",
       "      <td>General</td>\n",
       "      <td>326</td>\n",
       "      <td>7</td>\n",
       "      <td>9643</td>\n",
       "      <td>...</td>\n",
       "      <td>1002</td>\n",
       "      <td>1</td>\n",
       "      <td>3.0</td>\n",
       "      <td>3.05</td>\n",
       "      <td>193</td>\n",
       "      <td>4</td>\n",
       "      <td>63</td>\n",
       "      <td>3</td>\n",
       "      <td>2018</td>\n",
       "      <td>6</td>\n",
       "    </tr>\n",
       "    <tr>\n",
       "      <th>4</th>\n",
       "      <td>1000</td>\n",
       "      <td>05/03/2018</td>\n",
       "      <td>0</td>\n",
       "      <td>1</td>\n",
       "      <td>1</td>\n",
       "      <td>Hyper Market</td>\n",
       "      <td>General</td>\n",
       "      <td>326</td>\n",
       "      <td>7</td>\n",
       "      <td>9643</td>\n",
       "      <td>...</td>\n",
       "      <td>1000</td>\n",
       "      <td>2</td>\n",
       "      <td>4.0</td>\n",
       "      <td>0.25</td>\n",
       "      <td>247</td>\n",
       "      <td>5</td>\n",
       "      <td>64</td>\n",
       "      <td>3</td>\n",
       "      <td>2018</td>\n",
       "      <td>0</td>\n",
       "    </tr>\n",
       "  </tbody>\n",
       "</table>\n",
       "<p>5 rows × 38 columns</p>\n",
       "</div>"
      ],
      "text/plain": [
       "   StoreID        Date  IsHoliday  IsOpen  HasPromotions     StoreType  \\\n",
       "0     1000  01/03/2018          0       1              0  Hyper Market   \n",
       "1     1000  02/03/2018          0       1              0  Hyper Market   \n",
       "2     1000  03/03/2018          0       1              0  Hyper Market   \n",
       "3     1000  04/03/2018          0       0              0  Hyper Market   \n",
       "4     1000  05/03/2018          0       1              1  Hyper Market   \n",
       "\n",
       "  AssortmentType  NearestCompetitor  Region  Region_AreaKM2     ...       \\\n",
       "0        General                326       7            9643     ...        \n",
       "1        General                326       7            9643     ...        \n",
       "2        General                326       7            9643     ...        \n",
       "3        General                326       7            9643     ...        \n",
       "4        General                326       7            9643     ...        \n",
       "\n",
       "   Min_Sea_Level_PressurehPa  Min_TemperatureC  Min_VisibilitykM  \\\n",
       "0                       1011                 2               0.0   \n",
       "1                       1009                 3               1.0   \n",
       "2                       1013                -2               2.0   \n",
       "3                       1002                 1               3.0   \n",
       "4                       1000                 2               4.0   \n",
       "\n",
       "  Precipitationmm  WindDirDegrees  D_Day  D_DayOfYear  D_Month  D_Year  \\\n",
       "0            0.00             180      1           60        3    2018   \n",
       "1            5.08             315      2           61        3    2018   \n",
       "2            0.00             210      3           62        3    2018   \n",
       "3            3.05             193      4           63        3    2018   \n",
       "4            0.25             247      5           64        3    2018   \n",
       "\n",
       "   D_DayOfweek  \n",
       "0            3  \n",
       "1            4  \n",
       "2            5  \n",
       "3            6  \n",
       "4            0  \n",
       "\n",
       "[5 rows x 38 columns]"
      ]
     },
     "execution_count": 73,
     "metadata": {},
     "output_type": "execute_result"
    }
   ],
   "source": [
    "df.head()"
   ]
  },
  {
   "cell_type": "markdown",
   "metadata": {},
   "source": [
    "## Final check\n",
    "\n",
    "Let's check again how much are the remaining missing ratios"
   ]
  },
  {
   "cell_type": "code",
   "execution_count": 74,
   "metadata": {},
   "outputs": [
    {
     "data": {
      "text/html": [
       "<div>\n",
       "<style scoped>\n",
       "    .dataframe tbody tr th:only-of-type {\n",
       "        vertical-align: middle;\n",
       "    }\n",
       "\n",
       "    .dataframe tbody tr th {\n",
       "        vertical-align: top;\n",
       "    }\n",
       "\n",
       "    .dataframe thead th {\n",
       "        text-align: right;\n",
       "    }\n",
       "</style>\n",
       "<table border=\"1\" class=\"dataframe\">\n",
       "  <thead>\n",
       "    <tr style=\"text-align: right;\">\n",
       "      <th></th>\n",
       "      <th>Missing Ratio</th>\n",
       "    </tr>\n",
       "  </thead>\n",
       "  <tbody>\n",
       "  </tbody>\n",
       "</table>\n",
       "</div>"
      ],
      "text/plain": [
       "Empty DataFrame\n",
       "Columns: [Missing Ratio]\n",
       "Index: []"
      ]
     },
     "execution_count": 74,
     "metadata": {},
     "output_type": "execute_result"
    }
   ],
   "source": [
    "df_na = (df.isnull().sum() / len(df)) * 100\n",
    "df_na = df_na.drop(df_na[df_na == 0].index).sort_values(ascending=False)[:30]\n",
    "missing_data = pd.DataFrame({'Missing Ratio': df_na})\n",
    "missing_data.head(10)"
   ]
  },
  {
   "cell_type": "markdown",
   "metadata": {},
   "source": [
    "### Write to file"
   ]
  },
  {
   "cell_type": "code",
   "execution_count": 75,
   "metadata": {},
   "outputs": [],
   "source": [
    "# save the imputed dataset\n",
    "df.to_csv('./dataset/preprocessed1_imputation_' + work_on + '.csv', index=False)"
   ]
  }
 ],
 "metadata": {
  "kernelspec": {
   "display_name": "Python 3",
   "language": "python",
   "name": "python3"
  },
  "language_info": {
   "codemirror_mode": {
    "name": "ipython",
    "version": 3
   },
   "file_extension": ".py",
   "mimetype": "text/x-python",
   "name": "python",
   "nbconvert_exporter": "python",
   "pygments_lexer": "ipython3",
   "version": "3.6.4"
  }
 },
 "nbformat": 4,
 "nbformat_minor": 2
}
