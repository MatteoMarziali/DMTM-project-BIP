{
 "cells": [
  {
   "cell_type": "markdown",
   "metadata": {},
   "source": [
    "# Data exploration - Measure of Spread\n",
    "\n",
    "Analysis of the data spread."
   ]
  },
  {
   "cell_type": "code",
   "execution_count": 68,
   "metadata": {},
   "outputs": [],
   "source": [
    "from dataset_features import numerical, categorical\n",
    "\n",
    "import pandas as pd"
   ]
  },
  {
   "cell_type": "code",
   "execution_count": 69,
   "metadata": {},
   "outputs": [
    {
     "data": {
      "text/html": [
       "<div>\n",
       "<style scoped>\n",
       "    .dataframe tbody tr th:only-of-type {\n",
       "        vertical-align: middle;\n",
       "    }\n",
       "\n",
       "    .dataframe tbody tr th {\n",
       "        vertical-align: top;\n",
       "    }\n",
       "\n",
       "    .dataframe thead th {\n",
       "        text-align: right;\n",
       "    }\n",
       "</style>\n",
       "<table border=\"1\" class=\"dataframe\">\n",
       "  <thead>\n",
       "    <tr style=\"text-align: right;\">\n",
       "      <th></th>\n",
       "      <th>NearestCompetitor</th>\n",
       "      <th>Max_Wind_SpeedKm_h</th>\n",
       "      <th>Min_Sea_Level_PressurehPa</th>\n",
       "      <th>Precipitationmm</th>\n",
       "      <th>Region_PopulationK</th>\n",
       "      <th>Min_Dew_PointC</th>\n",
       "      <th>Mean_Humidity</th>\n",
       "      <th>Mean_Wind_SpeedKm_h</th>\n",
       "      <th>Min_VisibilitykM</th>\n",
       "      <th>NumberOfSales</th>\n",
       "      <th>...</th>\n",
       "      <th>CloudCover</th>\n",
       "      <th>Mean_Dew_PointC</th>\n",
       "      <th>Mean_TemperatureC</th>\n",
       "      <th>Min_Humidity</th>\n",
       "      <th>NumberOfCustomers</th>\n",
       "      <th>Max_VisibilityKm</th>\n",
       "      <th>Max_Humidity</th>\n",
       "      <th>Max_Gust_SpeedKm_h</th>\n",
       "      <th>Region_GDP</th>\n",
       "      <th>Max_TemperatureC</th>\n",
       "    </tr>\n",
       "  </thead>\n",
       "  <tbody>\n",
       "    <tr>\n",
       "      <th>0</th>\n",
       "      <td>326</td>\n",
       "      <td>21</td>\n",
       "      <td>1029</td>\n",
       "      <td>0.0</td>\n",
       "      <td>2770</td>\n",
       "      <td>-2</td>\n",
       "      <td>82</td>\n",
       "      <td>16</td>\n",
       "      <td>6.0</td>\n",
       "      <td>5676</td>\n",
       "      <td>...</td>\n",
       "      <td>8.0</td>\n",
       "      <td>-1</td>\n",
       "      <td>1</td>\n",
       "      <td>70</td>\n",
       "      <td>495</td>\n",
       "      <td>19.0</td>\n",
       "      <td>100</td>\n",
       "      <td>NaN</td>\n",
       "      <td>17130</td>\n",
       "      <td>2</td>\n",
       "    </tr>\n",
       "    <tr>\n",
       "      <th>1</th>\n",
       "      <td>326</td>\n",
       "      <td>16</td>\n",
       "      <td>1025</td>\n",
       "      <td>0.0</td>\n",
       "      <td>2770</td>\n",
       "      <td>-2</td>\n",
       "      <td>73</td>\n",
       "      <td>10</td>\n",
       "      <td>10.0</td>\n",
       "      <td>8111</td>\n",
       "      <td>...</td>\n",
       "      <td>8.0</td>\n",
       "      <td>-1</td>\n",
       "      <td>3</td>\n",
       "      <td>58</td>\n",
       "      <td>608</td>\n",
       "      <td>23.0</td>\n",
       "      <td>87</td>\n",
       "      <td>NaN</td>\n",
       "      <td>17130</td>\n",
       "      <td>5</td>\n",
       "    </tr>\n",
       "    <tr>\n",
       "      <th>2</th>\n",
       "      <td>326</td>\n",
       "      <td>23</td>\n",
       "      <td>1023</td>\n",
       "      <td>0.0</td>\n",
       "      <td>2770</td>\n",
       "      <td>-3</td>\n",
       "      <td>71</td>\n",
       "      <td>10</td>\n",
       "      <td>8.0</td>\n",
       "      <td>8300</td>\n",
       "      <td>...</td>\n",
       "      <td>8.0</td>\n",
       "      <td>-1</td>\n",
       "      <td>3</td>\n",
       "      <td>55</td>\n",
       "      <td>665</td>\n",
       "      <td>31.0</td>\n",
       "      <td>81</td>\n",
       "      <td>NaN</td>\n",
       "      <td>17130</td>\n",
       "      <td>4</td>\n",
       "    </tr>\n",
       "    <tr>\n",
       "      <th>3</th>\n",
       "      <td>326</td>\n",
       "      <td>19</td>\n",
       "      <td>1022</td>\n",
       "      <td>0.0</td>\n",
       "      <td>2770</td>\n",
       "      <td>-6</td>\n",
       "      <td>56</td>\n",
       "      <td>10</td>\n",
       "      <td>10.0</td>\n",
       "      <td>7154</td>\n",
       "      <td>...</td>\n",
       "      <td>6.0</td>\n",
       "      <td>-4</td>\n",
       "      <td>3</td>\n",
       "      <td>25</td>\n",
       "      <td>630</td>\n",
       "      <td>31.0</td>\n",
       "      <td>80</td>\n",
       "      <td>NaN</td>\n",
       "      <td>17130</td>\n",
       "      <td>8</td>\n",
       "    </tr>\n",
       "    <tr>\n",
       "      <th>4</th>\n",
       "      <td>326</td>\n",
       "      <td>16</td>\n",
       "      <td>1022</td>\n",
       "      <td>0.0</td>\n",
       "      <td>2770</td>\n",
       "      <td>-6</td>\n",
       "      <td>75</td>\n",
       "      <td>5</td>\n",
       "      <td>5.0</td>\n",
       "      <td>0</td>\n",
       "      <td>...</td>\n",
       "      <td>6.0</td>\n",
       "      <td>-3</td>\n",
       "      <td>1</td>\n",
       "      <td>48</td>\n",
       "      <td>0</td>\n",
       "      <td>31.0</td>\n",
       "      <td>93</td>\n",
       "      <td>NaN</td>\n",
       "      <td>17130</td>\n",
       "      <td>7</td>\n",
       "    </tr>\n",
       "  </tbody>\n",
       "</table>\n",
       "<p>5 rows × 27 columns</p>\n",
       "</div>"
      ],
      "text/plain": [
       "   NearestCompetitor  Max_Wind_SpeedKm_h  Min_Sea_Level_PressurehPa  \\\n",
       "0                326                  21                       1029   \n",
       "1                326                  16                       1025   \n",
       "2                326                  23                       1023   \n",
       "3                326                  19                       1022   \n",
       "4                326                  16                       1022   \n",
       "\n",
       "   Precipitationmm  Region_PopulationK  Min_Dew_PointC  Mean_Humidity  \\\n",
       "0              0.0                2770              -2             82   \n",
       "1              0.0                2770              -2             73   \n",
       "2              0.0                2770              -3             71   \n",
       "3              0.0                2770              -6             56   \n",
       "4              0.0                2770              -6             75   \n",
       "\n",
       "   Mean_Wind_SpeedKm_h  Min_VisibilitykM  NumberOfSales        ...         \\\n",
       "0                   16               6.0           5676        ...          \n",
       "1                   10              10.0           8111        ...          \n",
       "2                   10               8.0           8300        ...          \n",
       "3                   10              10.0           7154        ...          \n",
       "4                    5               5.0              0        ...          \n",
       "\n",
       "   CloudCover  Mean_Dew_PointC  Mean_TemperatureC  Min_Humidity  \\\n",
       "0         8.0               -1                  1            70   \n",
       "1         8.0               -1                  3            58   \n",
       "2         8.0               -1                  3            55   \n",
       "3         6.0               -4                  3            25   \n",
       "4         6.0               -3                  1            48   \n",
       "\n",
       "   NumberOfCustomers  Max_VisibilityKm  Max_Humidity  Max_Gust_SpeedKm_h  \\\n",
       "0                495              19.0           100                 NaN   \n",
       "1                608              23.0            87                 NaN   \n",
       "2                665              31.0            81                 NaN   \n",
       "3                630              31.0            80                 NaN   \n",
       "4                  0              31.0            93                 NaN   \n",
       "\n",
       "   Region_GDP  Max_TemperatureC  \n",
       "0       17130                 2  \n",
       "1       17130                 5  \n",
       "2       17130                 4  \n",
       "3       17130                 8  \n",
       "4       17130                 7  \n",
       "\n",
       "[5 rows x 27 columns]"
      ]
     },
     "execution_count": 69,
     "metadata": {},
     "output_type": "execute_result"
    }
   ],
   "source": [
    "df = pd.read_csv('./dataset/train.csv')\n",
    "\n",
    "# Use only numerical attributes\n",
    "df = df[numerical]\n",
    "df.head()"
   ]
  },
  {
   "cell_type": "markdown",
   "metadata": {},
   "source": [
    "## Min, Range, Max"
   ]
  },
  {
   "cell_type": "code",
   "execution_count": 70,
   "metadata": {},
   "outputs": [
    {
     "data": {
      "text/html": [
       "<div>\n",
       "<style scoped>\n",
       "    .dataframe tbody tr th:only-of-type {\n",
       "        vertical-align: middle;\n",
       "    }\n",
       "\n",
       "    .dataframe tbody tr th {\n",
       "        vertical-align: top;\n",
       "    }\n",
       "\n",
       "    .dataframe thead th {\n",
       "        text-align: right;\n",
       "    }\n",
       "</style>\n",
       "<table border=\"1\" class=\"dataframe\">\n",
       "  <thead>\n",
       "    <tr style=\"text-align: right;\">\n",
       "      <th></th>\n",
       "      <th>min</th>\n",
       "      <th>range</th>\n",
       "      <th>max</th>\n",
       "    </tr>\n",
       "  </thead>\n",
       "  <tbody>\n",
       "    <tr>\n",
       "      <th>NearestCompetitor</th>\n",
       "      <td>47.0</td>\n",
       "      <td>85023.00</td>\n",
       "      <td>85070.00</td>\n",
       "    </tr>\n",
       "    <tr>\n",
       "      <th>Max_Wind_SpeedKm_h</th>\n",
       "      <td>3.0</td>\n",
       "      <td>98.00</td>\n",
       "      <td>101.00</td>\n",
       "    </tr>\n",
       "    <tr>\n",
       "      <th>Min_Sea_Level_PressurehPa</th>\n",
       "      <td>970.0</td>\n",
       "      <td>68.00</td>\n",
       "      <td>1038.00</td>\n",
       "    </tr>\n",
       "    <tr>\n",
       "      <th>Precipitationmm</th>\n",
       "      <td>0.0</td>\n",
       "      <td>58.93</td>\n",
       "      <td>58.93</td>\n",
       "    </tr>\n",
       "    <tr>\n",
       "      <th>Region_PopulationK</th>\n",
       "      <td>816.0</td>\n",
       "      <td>7330.00</td>\n",
       "      <td>8146.00</td>\n",
       "    </tr>\n",
       "    <tr>\n",
       "      <th>Min_Dew_PointC</th>\n",
       "      <td>-18.0</td>\n",
       "      <td>36.00</td>\n",
       "      <td>18.00</td>\n",
       "    </tr>\n",
       "    <tr>\n",
       "      <th>Mean_Humidity</th>\n",
       "      <td>30.0</td>\n",
       "      <td>70.00</td>\n",
       "      <td>100.00</td>\n",
       "    </tr>\n",
       "    <tr>\n",
       "      <th>Mean_Wind_SpeedKm_h</th>\n",
       "      <td>2.0</td>\n",
       "      <td>51.00</td>\n",
       "      <td>53.00</td>\n",
       "    </tr>\n",
       "    <tr>\n",
       "      <th>Min_VisibilitykM</th>\n",
       "      <td>0.0</td>\n",
       "      <td>31.00</td>\n",
       "      <td>31.00</td>\n",
       "    </tr>\n",
       "    <tr>\n",
       "      <th>NumberOfSales</th>\n",
       "      <td>0.0</td>\n",
       "      <td>26641.00</td>\n",
       "      <td>26641.00</td>\n",
       "    </tr>\n",
       "    <tr>\n",
       "      <th>Mean_VisibilityKm</th>\n",
       "      <td>0.0</td>\n",
       "      <td>31.00</td>\n",
       "      <td>31.00</td>\n",
       "    </tr>\n",
       "    <tr>\n",
       "      <th>Max_Sea_Level_PressurehPa</th>\n",
       "      <td>976.0</td>\n",
       "      <td>67.00</td>\n",
       "      <td>1043.00</td>\n",
       "    </tr>\n",
       "    <tr>\n",
       "      <th>WindDirDegrees</th>\n",
       "      <td>-1.0</td>\n",
       "      <td>361.00</td>\n",
       "      <td>360.00</td>\n",
       "    </tr>\n",
       "    <tr>\n",
       "      <th>Mean_Sea_Level_PressurehPa</th>\n",
       "      <td>974.0</td>\n",
       "      <td>66.00</td>\n",
       "      <td>1040.00</td>\n",
       "    </tr>\n",
       "    <tr>\n",
       "      <th>Min_TemperatureC</th>\n",
       "      <td>-15.0</td>\n",
       "      <td>39.00</td>\n",
       "      <td>24.00</td>\n",
       "    </tr>\n",
       "    <tr>\n",
       "      <th>Max_Dew_PointC</th>\n",
       "      <td>-14.0</td>\n",
       "      <td>37.00</td>\n",
       "      <td>23.00</td>\n",
       "    </tr>\n",
       "    <tr>\n",
       "      <th>Region_AreaKM2</th>\n",
       "      <td>344.0</td>\n",
       "      <td>31877.00</td>\n",
       "      <td>32221.00</td>\n",
       "    </tr>\n",
       "    <tr>\n",
       "      <th>CloudCover</th>\n",
       "      <td>0.0</td>\n",
       "      <td>8.00</td>\n",
       "      <td>8.00</td>\n",
       "    </tr>\n",
       "    <tr>\n",
       "      <th>Mean_Dew_PointC</th>\n",
       "      <td>-15.0</td>\n",
       "      <td>35.00</td>\n",
       "      <td>20.00</td>\n",
       "    </tr>\n",
       "    <tr>\n",
       "      <th>Mean_TemperatureC</th>\n",
       "      <td>-13.0</td>\n",
       "      <td>43.00</td>\n",
       "      <td>30.00</td>\n",
       "    </tr>\n",
       "    <tr>\n",
       "      <th>Min_Humidity</th>\n",
       "      <td>10.0</td>\n",
       "      <td>90.00</td>\n",
       "      <td>100.00</td>\n",
       "    </tr>\n",
       "    <tr>\n",
       "      <th>NumberOfCustomers</th>\n",
       "      <td>0.0</td>\n",
       "      <td>2206.00</td>\n",
       "      <td>2206.00</td>\n",
       "    </tr>\n",
       "    <tr>\n",
       "      <th>Max_VisibilityKm</th>\n",
       "      <td>0.0</td>\n",
       "      <td>31.00</td>\n",
       "      <td>31.00</td>\n",
       "    </tr>\n",
       "    <tr>\n",
       "      <th>Max_Humidity</th>\n",
       "      <td>44.0</td>\n",
       "      <td>56.00</td>\n",
       "      <td>100.00</td>\n",
       "    </tr>\n",
       "    <tr>\n",
       "      <th>Max_Gust_SpeedKm_h</th>\n",
       "      <td>21.0</td>\n",
       "      <td>85.00</td>\n",
       "      <td>106.00</td>\n",
       "    </tr>\n",
       "    <tr>\n",
       "      <th>Region_GDP</th>\n",
       "      <td>9893.0</td>\n",
       "      <td>14038.00</td>\n",
       "      <td>23931.00</td>\n",
       "    </tr>\n",
       "    <tr>\n",
       "      <th>Max_TemperatureC</th>\n",
       "      <td>-11.0</td>\n",
       "      <td>48.00</td>\n",
       "      <td>37.00</td>\n",
       "    </tr>\n",
       "  </tbody>\n",
       "</table>\n",
       "</div>"
      ],
      "text/plain": [
       "                               min     range       max\n",
       "NearestCompetitor             47.0  85023.00  85070.00\n",
       "Max_Wind_SpeedKm_h             3.0     98.00    101.00\n",
       "Min_Sea_Level_PressurehPa    970.0     68.00   1038.00\n",
       "Precipitationmm                0.0     58.93     58.93\n",
       "Region_PopulationK           816.0   7330.00   8146.00\n",
       "Min_Dew_PointC               -18.0     36.00     18.00\n",
       "Mean_Humidity                 30.0     70.00    100.00\n",
       "Mean_Wind_SpeedKm_h            2.0     51.00     53.00\n",
       "Min_VisibilitykM               0.0     31.00     31.00\n",
       "NumberOfSales                  0.0  26641.00  26641.00\n",
       "Mean_VisibilityKm              0.0     31.00     31.00\n",
       "Max_Sea_Level_PressurehPa    976.0     67.00   1043.00\n",
       "WindDirDegrees                -1.0    361.00    360.00\n",
       "Mean_Sea_Level_PressurehPa   974.0     66.00   1040.00\n",
       "Min_TemperatureC             -15.0     39.00     24.00\n",
       "Max_Dew_PointC               -14.0     37.00     23.00\n",
       "Region_AreaKM2               344.0  31877.00  32221.00\n",
       "CloudCover                     0.0      8.00      8.00\n",
       "Mean_Dew_PointC              -15.0     35.00     20.00\n",
       "Mean_TemperatureC            -13.0     43.00     30.00\n",
       "Min_Humidity                  10.0     90.00    100.00\n",
       "NumberOfCustomers              0.0   2206.00   2206.00\n",
       "Max_VisibilityKm               0.0     31.00     31.00\n",
       "Max_Humidity                  44.0     56.00    100.00\n",
       "Max_Gust_SpeedKm_h            21.0     85.00    106.00\n",
       "Region_GDP                  9893.0  14038.00  23931.00\n",
       "Max_TemperatureC             -11.0     48.00     37.00"
      ]
     },
     "execution_count": 70,
     "metadata": {},
     "output_type": "execute_result"
    }
   ],
   "source": [
    "min_range_max = pd.DataFrame({\n",
    "        'min': df.min(),\n",
    "        'range': df.max() - df.min(),\n",
    "        'max': df.max()\n",
    "    })\n",
    "\n",
    "min_range_max[['min', 'range', 'max']]"
   ]
  },
  {
   "cell_type": "markdown",
   "metadata": {},
   "source": [
    "## Numerical attributes variance"
   ]
  },
  {
   "cell_type": "code",
   "execution_count": 71,
   "metadata": {},
   "outputs": [
    {
     "data": {
      "text/plain": [
       "NearestCompetitor             1.331187e+08\n",
       "Max_Wind_SpeedKm_h            7.613053e+01\n",
       "Min_Sea_Level_PressurehPa     7.567671e+01\n",
       "Precipitationmm               6.924414e+00\n",
       "Region_PopulationK            7.933909e+06\n",
       "Min_Dew_PointC                3.491743e+01\n",
       "Mean_Humidity                 1.674368e+02\n",
       "Mean_Wind_SpeedKm_h           3.353604e+01\n",
       "Min_VisibilitykM              2.400584e+01\n",
       "NumberOfSales                 7.450882e+06\n",
       "Mean_VisibilityKm             2.478432e+01\n",
       "Max_Sea_Level_PressurehPa     6.377097e+01\n",
       "WindDirDegrees                1.034863e+04\n",
       "Mean_Sea_Level_PressurehPa    6.825276e+01\n",
       "Min_TemperatureC              3.985388e+01\n",
       "Max_Dew_PointC                3.585976e+01\n",
       "Region_AreaKM2                8.355226e+07\n",
       "CloudCover                    2.942175e+00\n",
       "Mean_Dew_PointC               3.459238e+01\n",
       "Mean_TemperatureC             4.957803e+01\n",
       "Min_Humidity                  3.718736e+02\n",
       "NumberOfCustomers             3.454286e+04\n",
       "Max_VisibilityKm              8.408347e+01\n",
       "Max_Humidity                  5.802462e+01\n",
       "Max_Gust_SpeedKm_h            1.631170e+02\n",
       "Region_GDP                    7.592369e+06\n",
       "Max_TemperatureC              6.717925e+01\n",
       "dtype: float64"
      ]
     },
     "execution_count": 71,
     "metadata": {},
     "output_type": "execute_result"
    }
   ],
   "source": [
    "df.var(axis=0)"
   ]
  },
  {
   "cell_type": "code",
   "execution_count": 72,
   "metadata": {},
   "outputs": [
    {
     "data": {
      "text/plain": [
       "('Min variance attribute', 'CloudCover', 2.9421751394678517)"
      ]
     },
     "execution_count": 72,
     "metadata": {},
     "output_type": "execute_result"
    }
   ],
   "source": [
    "'Min variance attribute', df.var().idxmin(), df.var().min()"
   ]
  },
  {
   "cell_type": "code",
   "execution_count": 73,
   "metadata": {},
   "outputs": [
    {
     "data": {
      "text/plain": [
       "('Max variance attribute', 'NearestCompetitor', 133118695.05287102)"
      ]
     },
     "execution_count": 73,
     "metadata": {},
     "output_type": "execute_result"
    }
   ],
   "source": [
    "'Max variance attribute', df.var().idxmax(), df.var().max()"
   ]
  },
  {
   "cell_type": "markdown",
   "metadata": {},
   "source": [
    "## Variance bar plots\n",
    "\n",
    "All the attributes"
   ]
  },
  {
   "cell_type": "code",
   "execution_count": 74,
   "metadata": {},
   "outputs": [
    {
     "data": {
      "text/plain": [
       "<matplotlib.axes._subplots.AxesSubplot at 0x7f0392fc4b70>"
      ]
     },
     "execution_count": 74,
     "metadata": {},
     "output_type": "execute_result"
    },
    {
     "data": {
      "image/png": "[encoded data removed]",
      "text/plain": [
       "<matplotlib.figure.Figure at 0x7f03a2c33780>"
      ]
     },
     "metadata": {},
     "output_type": "display_data"
    }
   ],
   "source": [
    "df.var(axis=0).plot(kind='bar')"
   ]
  },
  {
   "cell_type": "markdown",
   "metadata": {},
   "source": [
    "Excluding __NearestCompetitor, Region_AreaKM2__"
   ]
  },
  {
   "cell_type": "code",
   "execution_count": 75,
   "metadata": {},
   "outputs": [
    {
     "data": {
      "text/plain": [
       "<matplotlib.axes._subplots.AxesSubplot at 0x7f039c869cc0>"
      ]
     },
     "execution_count": 75,
     "metadata": {},
     "output_type": "execute_result"
    },
    {
     "data": {
      "image/png": "[encoded data removed]",
      "text/plain": [
       "<matplotlib.figure.Figure at 0x7f039c95ecf8>"
      ]
     },
     "metadata": {},
     "output_type": "display_data"
    }
   ],
   "source": [
    "df1 = df.var(axis=0).drop(['NearestCompetitor', 'Region_AreaKM2'])\n",
    "df1.plot(kind='bar')"
   ]
  },
  {
   "cell_type": "markdown",
   "metadata": {},
   "source": [
    "Excluding *NearestCompetitor*, __Region_PopulationK, NumberOfSales, Region_GDP,__ *Region_AreaKM2*"
   ]
  },
  {
   "cell_type": "code",
   "execution_count": 76,
   "metadata": {},
   "outputs": [
    {
     "data": {
      "text/plain": [
       "<matplotlib.axes._subplots.AxesSubplot at 0x7f039cbf0668>"
      ]
     },
     "execution_count": 76,
     "metadata": {},
     "output_type": "execute_result"
    },
    {
     "data": {
      "image/png": "[encoded data removed]",
      "text/plain": [
       "<matplotlib.figure.Figure at 0x7f039c8d00b8>"
      ]
     },
     "metadata": {},
     "output_type": "display_data"
    }
   ],
   "source": [
    "df2 = df.var(axis=0).drop(['NearestCompetitor', 'Region_PopulationK', 'NumberOfSales', 'Region_GDP', 'Region_AreaKM2'])\n",
    "df2.plot(kind='bar')"
   ]
  },
  {
   "cell_type": "markdown",
   "metadata": {},
   "source": [
    "Excluding *NearestCompetitor, Region_PopulationK, NumberOfSales, __WindDirDegrees, NumberOfCustomers__, Region_GDP, Region_AreaKM2*"
   ]
  },
  {
   "cell_type": "code",
   "execution_count": 77,
   "metadata": {},
   "outputs": [
    {
     "data": {
      "text/plain": [
       "<matplotlib.axes._subplots.AxesSubplot at 0x7f039ca9ad30>"
      ]
     },
     "execution_count": 77,
     "metadata": {},
     "output_type": "execute_result"
    },
    {
     "data": {
      "image/png": "[encoded data removed]",
      "text/plain": [
       "<matplotlib.figure.Figure at 0x7f039ca87550>"
      ]
     },
     "metadata": {},
     "output_type": "display_data"
    }
   ],
   "source": [
    "df2 = df.var(axis=0).drop(['NearestCompetitor', 'Region_PopulationK', 'NumberOfSales', 'WindDirDegrees', 'NumberOfCustomers', 'Region_GDP', 'Region_AreaKM2'])\n",
    "df2.plot(kind='bar')"
   ]
  },
  {
   "cell_type": "markdown",
   "metadata": {},
   "source": [
    "The above vertical bar plot excludes the 7 highest variance attributes and shows the variances of the remaining attributes."
   ]
  }
 ],
 "metadata": {
  "kernelspec": {
   "display_name": "Python 3",
   "language": "python",
   "name": "python3"
  },
  "language_info": {
   "codemirror_mode": {
    "name": "ipython",
    "version": 3
   },
   "file_extension": ".py",
   "mimetype": "text/x-python",
   "name": "python",
   "nbconvert_exporter": "python",
   "pygments_lexer": "ipython3",
   "version": "3.6.4"
  }
 },
 "nbformat": 4,
 "nbformat_minor": 2
}
