{
 "cells": [
  {
   "cell_type": "markdown",
   "metadata": {},
   "source": [
    "# Create submission test\n",
    "\n",
    "**NOTEBOOK GOAL**: Create the dataset with predictions to be submitted.\n",
    "\n",
    "\n",
    "Used model for the submission:\n",
    "\n",
    "> **4_ENS_AVG** - Notebook 8.2 Ensamble by averaging all the previous models"
   ]
  },
  {
   "cell_type": "code",
   "execution_count": 2,
   "metadata": {},
   "outputs": [],
   "source": [
    "from import_man import *\n",
    "import collections\n",
    "\n",
    "from BIP import apply_BIP_submission_format"
   ]
  },
  {
   "cell_type": "markdown",
   "metadata": {},
   "source": [
    "### Load test dataset with predictions\n",
    "\n",
    "**NOTE** To load the followig dataset, please go to the corresponding notebook and run it (test mode) to generate the related dataset file. "
   ]
  }
 ],
 "metadata": {
  "kernelspec": {
   "display_name": "Python 3",
   "language": "python",
   "name": "python3"
  },
  "language_info": {
   "codemirror_mode": {
    "name": "ipython",
    "version": 3
   },
   "file_extension": ".py",
   "mimetype": "text/x-python",
   "name": "python",
   "nbconvert_exporter": "python",
   "pygments_lexer": "ipython3",
   "version": "3.6.4"
  }
 },
 "nbformat": 4,
 "nbformat_minor": 2
}
