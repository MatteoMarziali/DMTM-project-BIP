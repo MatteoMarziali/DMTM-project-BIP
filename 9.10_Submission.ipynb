{
 "cells": [
  {
   "cell_type": "markdown",
   "metadata": {},
   "source": [
    "# Create submission test\n",
    "\n",
    "**NOTEBOOK GOAL**: Create the dataset with predictions to be submitted.\n",
    "\n",
    "\n",
    "Used model for the submission:\n",
    "\n",
    "> **3_ENS_AVG** - Notebook 8.2 Ensemble by averaging all the previous models"
   ]
  },
  {
   "cell_type": "code",
   "execution_count": 1,
   "metadata": {},
   "outputs": [],
   "source": [
    "from import_man import *\n",
    "import collections\n",
    "\n",
    "from BIP import apply_BIP_submission_format"
   ]
  },
  {
   "cell_type": "markdown",
   "metadata": {},
   "source": [
    "### Load test dataset with predictions\n",
    "\n",
    "**NOTE** To load the followig dataset, please go to the corresponding notebook and run it (test mode) to generate the related dataset file. "
   ]
  },
  {
   "cell_type": "code",
   "execution_count": 2,
   "metadata": {},
   "outputs": [],
   "source": [
    "# dataset to use to create the one for the submission\n",
    "df = pd.read_csv('./dataset/submission_82_Ensemble_average.csv')"
   ]
  },
  {
   "cell_type": "code",
   "execution_count": 3,
   "metadata": {},
   "outputs": [
    {
     "data": {
      "text/html": [
       "<div>\n",
       "<style scoped>\n",
       "    .dataframe tbody tr th:only-of-type {\n",
       "        vertical-align: middle;\n",
       "    }\n",
       "\n",
       "    .dataframe tbody tr th {\n",
       "        vertical-align: top;\n",
       "    }\n",
       "\n",
       "    .dataframe thead th {\n",
       "        text-align: right;\n",
       "    }\n",
       "</style>\n",
       "<table border=\"1\" class=\"dataframe\">\n",
       "  <thead>\n",
       "    <tr style=\"text-align: right;\">\n",
       "      <th></th>\n",
       "      <th>StoreID</th>\n",
       "      <th>Month</th>\n",
       "      <th>NumberOfSales</th>\n",
       "    </tr>\n",
       "  </thead>\n",
       "  <tbody>\n",
       "    <tr>\n",
       "      <th>0</th>\n",
       "      <td>1000</td>\n",
       "      <td>01/03/2018</td>\n",
       "      <td>0</td>\n",
       "      <td>0</td>\n",
       "      <td>326</td>\n",
       "      <td>7</td>\n",
       "      <td>9643</td>\n",
       "      <td>17130</td>\n",
       "      <td>2770</td>\n",
       "      <td>6.0</td>\n",
       "      <td>...</td>\n",
       "      <td>-0.000325</td>\n",
       "      <td>0.007562</td>\n",
       "      <td>0.000579</td>\n",
       "      <td>-0.000524</td>\n",
       "      <td>-0.003730</td>\n",
       "      <td>-0.002314</td>\n",
       "      <td>-0.003077</td>\n",
       "      <td>0.000965</td>\n",
       "      <td>-0.000302</td>\n",
       "      <td>6779.759111</td>\n",
       "    </tr>\n",
       "    <tr>\n",
       "      <th>1</th>\n",
       "      <td>1000</td>\n",
       "      <td>02/03/2018</td>\n",
       "      <td>0</td>\n",
       "      <td>0</td>\n",
       "      <td>326</td>\n",
       "      <td>7</td>\n",
       "      <td>9643</td>\n",
       "      <td>17130</td>\n",
       "      <td>2770</td>\n",
       "      <td>7.0</td>\n",
       "      <td>...</td>\n",
       "      <td>-0.007794</td>\n",
       "      <td>0.006873</td>\n",
       "      <td>0.009264</td>\n",
       "      <td>-0.011899</td>\n",
       "      <td>0.002262</td>\n",
       "      <td>-0.000431</td>\n",
       "      <td>-0.003722</td>\n",
       "      <td>-0.001108</td>\n",
       "      <td>0.000717</td>\n",
       "      <td>8133.786672</td>\n",
       "    </tr>\n",
       "    <tr>\n",
       "      <th>2</th>\n",
       "      <td>1000</td>\n",
       "      <td>03/03/2018</td>\n",
       "      <td>0</td>\n",
       "      <td>0</td>\n",
       "      <td>326</td>\n",
       "      <td>7</td>\n",
       "      <td>9643</td>\n",
       "      <td>17130</td>\n",
       "      <td>2770</td>\n",
       "      <td>2.0</td>\n",
       "      <td>...</td>\n",
       "      <td>-0.003377</td>\n",
       "      <td>0.007932</td>\n",
       "      <td>0.001550</td>\n",
       "      <td>-0.000773</td>\n",
       "      <td>-0.006173</td>\n",
       "      <td>0.002887</td>\n",
       "      <td>-0.001144</td>\n",
       "      <td>-0.000484</td>\n",
       "      <td>-0.002648</td>\n",
       "      <td>7419.151292</td>\n",
       "    </tr>\n",
       "    <tr>\n",
       "      <th>3</th>\n",
       "      <td>1000</td>\n",
       "      <td>05/03/2018</td>\n",
       "      <td>0</td>\n",
       "      <td>1</td>\n",
       "      <td>326</td>\n",
       "      <td>7</td>\n",
       "      <td>9643</td>\n",
       "      <td>17130</td>\n",
       "      <td>2770</td>\n",
       "      <td>4.0</td>\n",
       "      <td>...</td>\n",
       "      <td>-0.007388</td>\n",
       "      <td>0.006974</td>\n",
       "      <td>-0.002662</td>\n",
       "      <td>0.011022</td>\n",
       "      <td>0.001034</td>\n",
       "      <td>0.005044</td>\n",
       "      <td>0.000446</td>\n",
       "      <td>0.003806</td>\n",
       "      <td>0.001605</td>\n",
       "      <td>11797.140114</td>\n",
       "    </tr>\n",
       "    <tr>\n",
       "      <th>4</th>\n",
       "      <td>1000</td>\n",
       "      <td>06/03/2018</td>\n",
       "      <td>0</td>\n",
       "      <td>1</td>\n",
       "      <td>326</td>\n",
       "      <td>7</td>\n",
       "      <td>9643</td>\n",
       "      <td>17130</td>\n",
       "      <td>2770</td>\n",
       "      <td>4.0</td>\n",
       "      <td>...</td>\n",
       "      <td>0.000262</td>\n",
       "      <td>0.007314</td>\n",
       "      <td>0.001936</td>\n",
       "      <td>-0.001315</td>\n",
       "      <td>-0.003427</td>\n",
       "      <td>0.001078</td>\n",
       "      <td>0.001618</td>\n",
       "      <td>0.000030</td>\n",
       "      <td>-0.003867</td>\n",
       "      <td>9066.789917</td>\n",
       "    </tr>\n",
       "  </tbody>\n",
       "</table>\n",
       "</div>"
      ],
      "text/plain": [
       "   StoreID        Date  IsHoliday  HasPromotions  NearestCompetitor  Region  \\\n",
       "0     1000  01/03/2018          0              0                326       7   \n",
       "1     1000  02/03/2018          0              0                326       7   \n",
       "2     1000  03/03/2018          0              0                326       7   \n",
       "3     1000  05/03/2018          0              1                326       7   \n",
       "4     1000  06/03/2018          0              1                326       7   \n",
       "\n",
       "   Region_AreaKM2  Region_GDP  Region_PopulationK  CloudCover       ...        \\\n",
       "0            9643       17130                2770         6.0       ...         \n",
       "1            9643       17130                2770         7.0       ...         \n",
       "2            9643       17130                2770         2.0       ...         \n",
       "3            9643       17130                2770         4.0       ...         \n",
       "4            9643       17130                2770         4.0       ...         \n",
       "\n",
       "         p4        p5        p6        p7        p8        p9       p10  \\\n",
       "0 -0.000325  0.007562  0.000579 -0.000524 -0.003730 -0.002314 -0.003077   \n",
       "1 -0.007794  0.006873  0.009264 -0.011899  0.002262 -0.000431 -0.003722   \n",
       "2 -0.003377  0.007932  0.001550 -0.000773 -0.006173  0.002887 -0.001144   \n",
       "3 -0.007388  0.006974 -0.002662  0.011022  0.001034  0.005044  0.000446   \n",
       "4  0.000262  0.007314  0.001936 -0.001315 -0.003427  0.001078  0.001618   \n",
       "\n",
       "        p11       p12  _NumberOfSales  \n",
       "0  0.000965 -0.000302     6779.759111  \n",
       "1 -0.001108  0.000717     8133.786672  \n",
       "2 -0.000484 -0.002648     7419.151292  \n",
       "3  0.003806  0.001605    11797.140114  \n",
       "4  0.000030 -0.003867     9066.789917  \n",
       "\n",
       "[5 rows x 40 columns]"
      ]
     },
     "execution_count": 3,
     "metadata": {},
     "output_type": "execute_result"
    }
   ],
   "source": [
    "df.head()"
   ]
  },
  {
   "cell_type": "code",
   "execution_count": 4,
   "metadata": {},
   "outputs": [
    {
     "data": {
      "text/plain": [
       "(1498, 3)"
      ]
     },
     "execution_count": 4,
     "metadata": {},
     "output_type": "execute_result"
    }
   ],
   "source": [
    "df.shape"
   ]
  },
  {
   "cell_type": "markdown",
   "metadata": {},
   "source": [
    "### Year check"
   ]
  },
  {
   "cell_type": "code",
   "execution_count": 5,
   "metadata": {},
   "outputs": [],
   "source": [
    "#years = df.D_Year.unique()"
   ]
  },
  {
   "cell_type": "code",
   "execution_count": 6,
   "metadata": {},
   "outputs": [],
   "source": [
    "# let's be sure that the year is only one\n",
    "#assert(len(years) == 1)"
   ]
  },
  {
   "cell_type": "code",
   "execution_count": 7,
   "metadata": {},
   "outputs": [],
   "source": [
    "# let's be sure that the year is 2018\n",
    "#assert(years[0] == 2018)"
   ]
  },
  {
   "cell_type": "markdown",
   "metadata": {},
   "source": [
    "### Months check"
   ]
  },
  {
   "cell_type": "code",
   "execution_count": 8,
   "metadata": {},
   "outputs": [],
   "source": [
    "months = df.Month.unique()"
   ]
  },
  {
   "cell_type": "code",
   "execution_count": 9,
   "metadata": {},
   "outputs": [],
   "source": [
    "# let's be sure that the month are exactly 2\n",
    "assert(len(months) == 2)"
   ]
  },
  {
   "cell_type": "code",
   "execution_count": 10,
   "metadata": {},
   "outputs": [],
   "source": [
    "# let's be sure that the year is 2018\n",
    "assert(sorted(months) == [3, 4])"
   ]
  },
  {
   "cell_type": "markdown",
   "metadata": {},
   "source": [
    "### Apply submission format"
   ]
  },
  {
   "cell_type": "code",
   "execution_count": 11,
   "metadata": {},
   "outputs": [],
   "source": [
    "df['NumberOfSales'] = pd.to_numeric(df['NumberOfSales'].round(), downcast='integer')"
   ]
  },
  {
   "cell_type": "code",
   "execution_count": 12,
   "metadata": {},
   "outputs": [],
   "source": [
    "# apply the submission format\n",
    "#df = apply_BIP_submission_format(df, real_submit=True)"
   ]
  },
  {
   "cell_type": "code",
   "execution_count": 13,
   "metadata": {},
   "outputs": [
    {
     "data": {
      "text/html": [
       "<div>\n",
       "<style scoped>\n",
       "    .dataframe tbody tr th:only-of-type {\n",
       "        vertical-align: middle;\n",
       "    }\n",
       "\n",
       "    .dataframe tbody tr th {\n",
       "        vertical-align: top;\n",
       "    }\n",
       "\n",
       "    .dataframe thead th {\n",
       "        text-align: right;\n",
       "    }\n",
       "</style>\n",
       "<table border=\"1\" class=\"dataframe\">\n",
       "  <thead>\n",
       "    <tr style=\"text-align: right;\">\n",
       "      <th></th>\n",
       "      <th>StoreID</th>\n",
       "      <th>Month</th>\n",
       "      <th>NumberOfSales</th>\n",
       "    </tr>\n",
       "  </thead>\n",
       "  <tbody>\n",
       "    <tr>\n",
       "      <th>0</th>\n",
       "      <td>1000</td>\n",
       "      <td>3</td>\n",
       "      <td>192529</td>\n",
       "    </tr>\n",
       "    <tr>\n",
       "      <th>1</th>\n",
       "      <td>1000</td>\n",
       "      <td>4</td>\n",
       "      <td>178910</td>\n",
       "    </tr>\n",
       "    <tr>\n",
       "      <th>2</th>\n",
       "      <td>1001</td>\n",
       "      <td>3</td>\n",
       "      <td>80387</td>\n",
       "    </tr>\n",
       "    <tr>\n",
       "      <th>3</th>\n",
       "      <td>1001</td>\n",
       "      <td>4</td>\n",
       "      <td>71954</td>\n",
       "    </tr>\n",
       "    <tr>\n",
       "      <th>4</th>\n",
       "      <td>1002</td>\n",
       "      <td>3</td>\n",
       "      <td>126958</td>\n",
       "    </tr>\n",
       "    <tr>\n",
       "      <th>5</th>\n",
       "      <td>1002</td>\n",
       "      <td>4</td>\n",
       "      <td>116969</td>\n",
       "    </tr>\n",
       "    <tr>\n",
       "      <th>6</th>\n",
       "      <td>1003</td>\n",
       "      <td>3</td>\n",
       "      <td>135863</td>\n",
       "    </tr>\n",
       "    <tr>\n",
       "      <th>7</th>\n",
       "      <td>1003</td>\n",
       "      <td>4</td>\n",
       "      <td>127633</td>\n",
       "    </tr>\n",
       "    <tr>\n",
       "      <th>8</th>\n",
       "      <td>1004</td>\n",
       "      <td>3</td>\n",
       "      <td>100760</td>\n",
       "    </tr>\n",
       "    <tr>\n",
       "      <th>9</th>\n",
       "      <td>1004</td>\n",
       "      <td>4</td>\n",
       "      <td>94216</td>\n",
       "    </tr>\n",
       "  </tbody>\n",
       "</table>\n",
       "</div>"
      ],
      "text/plain": [
       "   StoreID  Month  NumberOfSales\n",
       "0     1000      3         192529\n",
       "1     1000      4         178910\n",
       "2     1001      3          80387\n",
       "3     1001      4          71954\n",
       "4     1002      3         126958\n",
       "5     1002      4         116969\n",
       "6     1003      3         135863\n",
       "7     1003      4         127633\n",
       "8     1004      3         100760\n",
       "9     1004      4          94216"
      ]
     },
     "execution_count": 13,
     "metadata": {},
     "output_type": "execute_result"
    }
   ],
   "source": [
    "df.head(10)"
   ]
  },
  {
   "cell_type": "code",
   "execution_count": 14,
   "metadata": {},
   "outputs": [
    {
     "data": {
      "text/plain": [
       "175849540"
      ]
     },
     "execution_count": 14,
     "metadata": {},
     "output_type": "execute_result"
    }
   ],
   "source": [
    "df.NumberOfSales.sum()"
   ]
  },
  {
   "cell_type": "markdown",
   "metadata": {},
   "source": [
    "### Write to file"
   ]
  },
  {
   "cell_type": "code",
   "execution_count": 15,
   "metadata": {},
   "outputs": [],
   "source": [
    "df.to_csv('./dataset/submission_893784.csv', index=False)"
   ]
  },
  {
   "cell_type": "code",
   "execution_count": null,
   "metadata": {},
   "outputs": [],
   "source": []
  }
 ],
 "metadata": {
  "kernelspec": {
   "display_name": "Python 3",
   "language": "python",
   "name": "python3"
  },
  "language_info": {
   "codemirror_mode": {
    "name": "ipython",
    "version": 3
   },
   "file_extension": ".py",
   "mimetype": "text/x-python",
   "name": "python",
   "nbconvert_exporter": "python",
   "pygments_lexer": "ipython3",
   "version": "3.6.4"
  }
 },
 "nbformat": 4,
 "nbformat_minor": 2
}
