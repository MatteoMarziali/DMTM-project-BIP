{
 "cells": [
  {
   "cell_type": "code",
   "execution_count": null,
   "metadata": {},
   "outputs": [],
   "source": []
  },
  {
   "cell_type": "code",
   "execution_count": 2,
   "metadata": {
    "_cell_guid": "b9000568-0a4d-8bbc-0f59-12b581bfb150"
   },
   "outputs": [],
   "source": [
    "import numpy as np \n",
    "import pandas as pd\n",
    "import matplotlib.pyplot as plt\n",
    "import seaborn as sns\n",
    "\n",
    "%matplotlib inline\n",
    "plt.style.use('ggplot')\n",
    "plt.rcParams['figure.figsize'] = (15, 6)"
   ]
  },
  {
   "cell_type": "code",
   "execution_count": 3,
   "metadata": {
    "_cell_guid": "da09e07b-fdfc-30b1-dfff-ad7dc625d15a"
   },
   "outputs": [],
   "source": [
    "df = pd.read_csv(\"dataset/ARIMA_prep_train.csv\")"
   ]
  },
  {
   "cell_type": "code",
   "execution_count": 4,
   "metadata": {
    "_cell_guid": "6872b7e5-8b37-6aa9-033c-a03dd5647974"
   },
   "outputs": [
    {
     "data": {
      "text/html": [
       "<div>\n",
       "<style scoped>\n",
       "    .dataframe tbody tr th:only-of-type {\n",
       "        vertical-align: middle;\n",
       "    }\n",
       "\n",
       "    .dataframe tbody tr th {\n",
       "        vertical-align: top;\n",
       "    }\n",
       "\n",
       "    .dataframe thead th {\n",
       "        text-align: right;\n",
       "    }\n",
       "</style>\n",
       "<table border=\"1\" class=\"dataframe\">\n",
       "  <thead>\n",
       "    <tr style=\"text-align: right;\">\n",
       "      <th></th>\n",
       "      <th>0</th>\n",
       "      <th>1</th>\n",
       "      <th>2</th>\n",
       "      <th>3</th>\n",
       "      <th>4</th>\n",
       "    </tr>\n",
       "  </thead>\n",
       "  <tbody>\n",
       "    <tr>\n",
       "      <th>StoreID</th>\n",
       "      <td>1000</td>\n",
       "      <td>1000</td>\n",
       "      <td>1000</td>\n",
       "      <td>1000</td>\n",
       "      <td>1000</td>\n",
       "    </tr>\n",
       "    <tr>\n",
       "      <th>Date</th>\n",
       "      <td>2016-03-23</td>\n",
       "      <td>2016-03-24</td>\n",
       "      <td>2016-03-25</td>\n",
       "      <td>2016-03-26</td>\n",
       "      <td>2016-03-28</td>\n",
       "    </tr>\n",
       "    <tr>\n",
       "      <th>IsHoliday</th>\n",
       "      <td>0</td>\n",
       "      <td>0</td>\n",
       "      <td>0</td>\n",
       "      <td>0</td>\n",
       "      <td>0</td>\n",
       "    </tr>\n",
       "    <tr>\n",
       "      <th>IsOpen</th>\n",
       "      <td>1</td>\n",
       "      <td>1</td>\n",
       "      <td>1</td>\n",
       "      <td>1</td>\n",
       "      <td>1</td>\n",
       "    </tr>\n",
       "    <tr>\n",
       "      <th>HasPromotions</th>\n",
       "      <td>1</td>\n",
       "      <td>1</td>\n",
       "      <td>1</td>\n",
       "      <td>0</td>\n",
       "      <td>1</td>\n",
       "    </tr>\n",
       "    <tr>\n",
       "      <th>NearestCompetitor</th>\n",
       "      <td>326</td>\n",
       "      <td>326</td>\n",
       "      <td>326</td>\n",
       "      <td>326</td>\n",
       "      <td>326</td>\n",
       "    </tr>\n",
       "    <tr>\n",
       "      <th>Region</th>\n",
       "      <td>7</td>\n",
       "      <td>7</td>\n",
       "      <td>7</td>\n",
       "      <td>7</td>\n",
       "      <td>7</td>\n",
       "    </tr>\n",
       "    <tr>\n",
       "      <th>NumberOfCustomers</th>\n",
       "      <td>541</td>\n",
       "      <td>626</td>\n",
       "      <td>625</td>\n",
       "      <td>511</td>\n",
       "      <td>637</td>\n",
       "    </tr>\n",
       "    <tr>\n",
       "      <th>NumberOfSales</th>\n",
       "      <td>7109</td>\n",
       "      <td>8041</td>\n",
       "      <td>7890</td>\n",
       "      <td>6005</td>\n",
       "      <td>8550</td>\n",
       "    </tr>\n",
       "    <tr>\n",
       "      <th>Region_AreaKM2</th>\n",
       "      <td>9643</td>\n",
       "      <td>9643</td>\n",
       "      <td>9643</td>\n",
       "      <td>9643</td>\n",
       "      <td>9643</td>\n",
       "    </tr>\n",
       "    <tr>\n",
       "      <th>Region_GDP</th>\n",
       "      <td>17130</td>\n",
       "      <td>17130</td>\n",
       "      <td>17130</td>\n",
       "      <td>17130</td>\n",
       "      <td>17130</td>\n",
       "    </tr>\n",
       "    <tr>\n",
       "      <th>Region_PopulationK</th>\n",
       "      <td>2770</td>\n",
       "      <td>2770</td>\n",
       "      <td>2770</td>\n",
       "      <td>2770</td>\n",
       "      <td>2770</td>\n",
       "    </tr>\n",
       "    <tr>\n",
       "      <th>CloudCover</th>\n",
       "      <td>6</td>\n",
       "      <td>6</td>\n",
       "      <td>5</td>\n",
       "      <td>7</td>\n",
       "      <td>6</td>\n",
       "    </tr>\n",
       "    <tr>\n",
       "      <th>Events</th>\n",
       "      <td>Rain</td>\n",
       "      <td>Rain-Snow</td>\n",
       "      <td>None</td>\n",
       "      <td>None</td>\n",
       "      <td>None</td>\n",
       "    </tr>\n",
       "    <tr>\n",
       "      <th>Max_Humidity</th>\n",
       "      <td>100</td>\n",
       "      <td>87</td>\n",
       "      <td>93</td>\n",
       "      <td>64</td>\n",
       "      <td>59</td>\n",
       "    </tr>\n",
       "    <tr>\n",
       "      <th>Max_TemperatureC</th>\n",
       "      <td>9</td>\n",
       "      <td>5</td>\n",
       "      <td>7</td>\n",
       "      <td>3</td>\n",
       "      <td>3</td>\n",
       "    </tr>\n",
       "    <tr>\n",
       "      <th>Max_Wind_SpeedKm_h</th>\n",
       "      <td>32</td>\n",
       "      <td>21</td>\n",
       "      <td>34</td>\n",
       "      <td>34</td>\n",
       "      <td>32</td>\n",
       "    </tr>\n",
       "    <tr>\n",
       "      <th>Mean_Humidity</th>\n",
       "      <td>89</td>\n",
       "      <td>71</td>\n",
       "      <td>61</td>\n",
       "      <td>52</td>\n",
       "      <td>42</td>\n",
       "    </tr>\n",
       "    <tr>\n",
       "      <th>Mean_TemperatureC</th>\n",
       "      <td>5</td>\n",
       "      <td>3</td>\n",
       "      <td>3</td>\n",
       "      <td>1</td>\n",
       "      <td>0</td>\n",
       "    </tr>\n",
       "    <tr>\n",
       "      <th>Mean_VisibilityKm</th>\n",
       "      <td>21</td>\n",
       "      <td>22</td>\n",
       "      <td>23</td>\n",
       "      <td>24</td>\n",
       "      <td>26</td>\n",
       "    </tr>\n",
       "    <tr>\n",
       "      <th>Mean_Wind_SpeedKm_h</th>\n",
       "      <td>10</td>\n",
       "      <td>11</td>\n",
       "      <td>14</td>\n",
       "      <td>23</td>\n",
       "      <td>24</td>\n",
       "    </tr>\n",
       "    <tr>\n",
       "      <th>Min_Dew_PointC</th>\n",
       "      <td>-1</td>\n",
       "      <td>-4</td>\n",
       "      <td>-6</td>\n",
       "      <td>-10</td>\n",
       "      <td>-12</td>\n",
       "    </tr>\n",
       "    <tr>\n",
       "      <th>Min_TemperatureC</th>\n",
       "      <td>1</td>\n",
       "      <td>1</td>\n",
       "      <td>-1</td>\n",
       "      <td>-1</td>\n",
       "      <td>-3</td>\n",
       "    </tr>\n",
       "    <tr>\n",
       "      <th>Precipitationmm</th>\n",
       "      <td>5.08</td>\n",
       "      <td>0</td>\n",
       "      <td>0</td>\n",
       "      <td>0</td>\n",
       "      <td>0</td>\n",
       "    </tr>\n",
       "    <tr>\n",
       "      <th>Day_of_week</th>\n",
       "      <td>Wednesday</td>\n",
       "      <td>Thursday</td>\n",
       "      <td>Friday</td>\n",
       "      <td>Saturday</td>\n",
       "      <td>Monday</td>\n",
       "    </tr>\n",
       "    <tr>\n",
       "      <th>Is_Friday</th>\n",
       "      <td>0</td>\n",
       "      <td>0</td>\n",
       "      <td>1</td>\n",
       "      <td>0</td>\n",
       "      <td>0</td>\n",
       "    </tr>\n",
       "    <tr>\n",
       "      <th>Is_Monday</th>\n",
       "      <td>0</td>\n",
       "      <td>0</td>\n",
       "      <td>0</td>\n",
       "      <td>0</td>\n",
       "      <td>1</td>\n",
       "    </tr>\n",
       "    <tr>\n",
       "      <th>Is_Saturday</th>\n",
       "      <td>0</td>\n",
       "      <td>0</td>\n",
       "      <td>0</td>\n",
       "      <td>1</td>\n",
       "      <td>0</td>\n",
       "    </tr>\n",
       "    <tr>\n",
       "      <th>Is_Sunday</th>\n",
       "      <td>0</td>\n",
       "      <td>0</td>\n",
       "      <td>0</td>\n",
       "      <td>0</td>\n",
       "      <td>0</td>\n",
       "    </tr>\n",
       "    <tr>\n",
       "      <th>Is_Thursday</th>\n",
       "      <td>0</td>\n",
       "      <td>1</td>\n",
       "      <td>0</td>\n",
       "      <td>0</td>\n",
       "      <td>0</td>\n",
       "    </tr>\n",
       "    <tr>\n",
       "      <th>Is_Tuesday</th>\n",
       "      <td>0</td>\n",
       "      <td>0</td>\n",
       "      <td>0</td>\n",
       "      <td>0</td>\n",
       "      <td>0</td>\n",
       "    </tr>\n",
       "    <tr>\n",
       "      <th>Is_Wednesday</th>\n",
       "      <td>1</td>\n",
       "      <td>0</td>\n",
       "      <td>0</td>\n",
       "      <td>0</td>\n",
       "      <td>0</td>\n",
       "    </tr>\n",
       "    <tr>\n",
       "      <th>StoreType_SuperMarket</th>\n",
       "      <td>0</td>\n",
       "      <td>0</td>\n",
       "      <td>0</td>\n",
       "      <td>0</td>\n",
       "      <td>0</td>\n",
       "    </tr>\n",
       "    <tr>\n",
       "      <th>StoreType_HyperMarket</th>\n",
       "      <td>1</td>\n",
       "      <td>1</td>\n",
       "      <td>1</td>\n",
       "      <td>1</td>\n",
       "      <td>1</td>\n",
       "    </tr>\n",
       "    <tr>\n",
       "      <th>StoreType_StandardMarket</th>\n",
       "      <td>0</td>\n",
       "      <td>0</td>\n",
       "      <td>0</td>\n",
       "      <td>0</td>\n",
       "      <td>0</td>\n",
       "    </tr>\n",
       "    <tr>\n",
       "      <th>StoreType_ShoppingCenter</th>\n",
       "      <td>0</td>\n",
       "      <td>0</td>\n",
       "      <td>0</td>\n",
       "      <td>0</td>\n",
       "      <td>0</td>\n",
       "    </tr>\n",
       "    <tr>\n",
       "      <th>AssortmentType_General</th>\n",
       "      <td>1</td>\n",
       "      <td>1</td>\n",
       "      <td>1</td>\n",
       "      <td>1</td>\n",
       "      <td>1</td>\n",
       "    </tr>\n",
       "    <tr>\n",
       "      <th>AssortmentType_WithNFDept</th>\n",
       "      <td>0</td>\n",
       "      <td>0</td>\n",
       "      <td>0</td>\n",
       "      <td>0</td>\n",
       "      <td>0</td>\n",
       "    </tr>\n",
       "    <tr>\n",
       "      <th>AssortmentType_WithFishDept</th>\n",
       "      <td>0</td>\n",
       "      <td>0</td>\n",
       "      <td>0</td>\n",
       "      <td>0</td>\n",
       "      <td>0</td>\n",
       "    </tr>\n",
       "    <tr>\n",
       "      <th>t-14</th>\n",
       "      <td>8804</td>\n",
       "      <td>7823</td>\n",
       "      <td>7989</td>\n",
       "      <td>5895</td>\n",
       "      <td>6348</td>\n",
       "    </tr>\n",
       "    <tr>\n",
       "      <th>t-7</th>\n",
       "      <td>6014</td>\n",
       "      <td>6087</td>\n",
       "      <td>6962</td>\n",
       "      <td>6618</td>\n",
       "      <td>9183</td>\n",
       "    </tr>\n",
       "    <tr>\n",
       "      <th>t-1</th>\n",
       "      <td>8155</td>\n",
       "      <td>7109</td>\n",
       "      <td>8041</td>\n",
       "      <td>7890</td>\n",
       "      <td>7675.45</td>\n",
       "    </tr>\n",
       "    <tr>\n",
       "      <th>t-2</th>\n",
       "      <td>9183</td>\n",
       "      <td>8155</td>\n",
       "      <td>7109</td>\n",
       "      <td>8041</td>\n",
       "      <td>6005</td>\n",
       "    </tr>\n",
       "    <tr>\n",
       "      <th>t-9</th>\n",
       "      <td>6348</td>\n",
       "      <td>4738</td>\n",
       "      <td>6014</td>\n",
       "      <td>6087</td>\n",
       "      <td>6618</td>\n",
       "    </tr>\n",
       "    <tr>\n",
       "      <th>t-8</th>\n",
       "      <td>4738</td>\n",
       "      <td>6014</td>\n",
       "      <td>6087</td>\n",
       "      <td>6962</td>\n",
       "      <td>7675.45</td>\n",
       "    </tr>\n",
       "    <tr>\n",
       "      <th>t-6</th>\n",
       "      <td>6087</td>\n",
       "      <td>6962</td>\n",
       "      <td>6618</td>\n",
       "      <td>7675.45</td>\n",
       "      <td>8155</td>\n",
       "    </tr>\n",
       "    <tr>\n",
       "      <th>t-15</th>\n",
       "      <td>9019</td>\n",
       "      <td>8804</td>\n",
       "      <td>7823</td>\n",
       "      <td>7989</td>\n",
       "      <td>7675.45</td>\n",
       "    </tr>\n",
       "    <tr>\n",
       "      <th>t-21</th>\n",
       "      <td>5676</td>\n",
       "      <td>8111</td>\n",
       "      <td>8300</td>\n",
       "      <td>7154</td>\n",
       "      <td>10110</td>\n",
       "    </tr>\n",
       "    <tr>\n",
       "      <th>t-13</th>\n",
       "      <td>7823</td>\n",
       "      <td>7989</td>\n",
       "      <td>5895</td>\n",
       "      <td>7675.45</td>\n",
       "      <td>4738</td>\n",
       "    </tr>\n",
       "    <tr>\n",
       "      <th>t-20</th>\n",
       "      <td>8111</td>\n",
       "      <td>8300</td>\n",
       "      <td>7154</td>\n",
       "      <td>7675.45</td>\n",
       "      <td>9019</td>\n",
       "    </tr>\n",
       "  </tbody>\n",
       "</table>\n",
       "</div>"
      ],
      "text/plain": [
       "                                      0           1           2           3  \\\n",
       "StoreID                            1000        1000        1000        1000   \n",
       "Date                         2016-03-23  2016-03-24  2016-03-25  2016-03-26   \n",
       "IsHoliday                             0           0           0           0   \n",
       "IsOpen                                1           1           1           1   \n",
       "HasPromotions                         1           1           1           0   \n",
       "NearestCompetitor                   326         326         326         326   \n",
       "Region                                7           7           7           7   \n",
       "NumberOfCustomers                   541         626         625         511   \n",
       "NumberOfSales                      7109        8041        7890        6005   \n",
       "Region_AreaKM2                     9643        9643        9643        9643   \n",
       "Region_GDP                        17130       17130       17130       17130   \n",
       "Region_PopulationK                 2770        2770        2770        2770   \n",
       "CloudCover                            6           6           5           7   \n",
       "Events                             Rain   Rain-Snow        None        None   \n",
       "Max_Humidity                        100          87          93          64   \n",
       "Max_TemperatureC                      9           5           7           3   \n",
       "Max_Wind_SpeedKm_h                   32          21          34          34   \n",
       "Mean_Humidity                        89          71          61          52   \n",
       "Mean_TemperatureC                     5           3           3           1   \n",
       "Mean_VisibilityKm                    21          22          23          24   \n",
       "Mean_Wind_SpeedKm_h                  10          11          14          23   \n",
       "Min_Dew_PointC                       -1          -4          -6         -10   \n",
       "Min_TemperatureC                      1           1          -1          -1   \n",
       "Precipitationmm                    5.08           0           0           0   \n",
       "Day_of_week                   Wednesday    Thursday      Friday    Saturday   \n",
       "Is_Friday                             0           0           1           0   \n",
       "Is_Monday                             0           0           0           0   \n",
       "Is_Saturday                           0           0           0           1   \n",
       "Is_Sunday                             0           0           0           0   \n",
       "Is_Thursday                           0           1           0           0   \n",
       "Is_Tuesday                            0           0           0           0   \n",
       "Is_Wednesday                          1           0           0           0   \n",
       "StoreType_SuperMarket                 0           0           0           0   \n",
       "StoreType_HyperMarket                 1           1           1           1   \n",
       "StoreType_StandardMarket              0           0           0           0   \n",
       "StoreType_ShoppingCenter              0           0           0           0   \n",
       "AssortmentType_General                1           1           1           1   \n",
       "AssortmentType_WithNFDept             0           0           0           0   \n",
       "AssortmentType_WithFishDept           0           0           0           0   \n",
       "t-14                               8804        7823        7989        5895   \n",
       "t-7                                6014        6087        6962        6618   \n",
       "t-1                                8155        7109        8041        7890   \n",
       "t-2                                9183        8155        7109        8041   \n",
       "t-9                                6348        4738        6014        6087   \n",
       "t-8                                4738        6014        6087        6962   \n",
       "t-6                                6087        6962        6618     7675.45   \n",
       "t-15                               9019        8804        7823        7989   \n",
       "t-21                               5676        8111        8300        7154   \n",
       "t-13                               7823        7989        5895     7675.45   \n",
       "t-20                               8111        8300        7154     7675.45   \n",
       "\n",
       "                                      4  \n",
       "StoreID                            1000  \n",
       "Date                         2016-03-28  \n",
       "IsHoliday                             0  \n",
       "IsOpen                                1  \n",
       "HasPromotions                         1  \n",
       "NearestCompetitor                   326  \n",
       "Region                                7  \n",
       "NumberOfCustomers                   637  \n",
       "NumberOfSales                      8550  \n",
       "Region_AreaKM2                     9643  \n",
       "Region_GDP                        17130  \n",
       "Region_PopulationK                 2770  \n",
       "CloudCover                            6  \n",
       "Events                             None  \n",
       "Max_Humidity                         59  \n",
       "Max_TemperatureC                      3  \n",
       "Max_Wind_SpeedKm_h                   32  \n",
       "Mean_Humidity                        42  \n",
       "Mean_TemperatureC                     0  \n",
       "Mean_VisibilityKm                    26  \n",
       "Mean_Wind_SpeedKm_h                  24  \n",
       "Min_Dew_PointC                      -12  \n",
       "Min_TemperatureC                     -3  \n",
       "Precipitationmm                       0  \n",
       "Day_of_week                      Monday  \n",
       "Is_Friday                             0  \n",
       "Is_Monday                             1  \n",
       "Is_Saturday                           0  \n",
       "Is_Sunday                             0  \n",
       "Is_Thursday                           0  \n",
       "Is_Tuesday                            0  \n",
       "Is_Wednesday                          0  \n",
       "StoreType_SuperMarket                 0  \n",
       "StoreType_HyperMarket                 1  \n",
       "StoreType_StandardMarket              0  \n",
       "StoreType_ShoppingCenter              0  \n",
       "AssortmentType_General                1  \n",
       "AssortmentType_WithNFDept             0  \n",
       "AssortmentType_WithFishDept           0  \n",
       "t-14                               6348  \n",
       "t-7                                9183  \n",
       "t-1                             7675.45  \n",
       "t-2                                6005  \n",
       "t-9                                6618  \n",
       "t-8                             7675.45  \n",
       "t-6                                8155  \n",
       "t-15                            7675.45  \n",
       "t-21                              10110  \n",
       "t-13                               4738  \n",
       "t-20                               9019  "
      ]
     },
     "execution_count": 4,
     "metadata": {},
     "output_type": "execute_result"
    }
   ],
   "source": [
    "df.head().T"
   ]
  },
  {
   "cell_type": "code",
   "execution_count": 5,
   "metadata": {
    "_cell_guid": "b1271be5-3af0-dcdc-0676-07112abbd81d"
   },
   "outputs": [
    {
     "data": {
      "text/plain": [
       "(409237, 50)"
      ]
     },
     "execution_count": 5,
     "metadata": {},
     "output_type": "execute_result"
    }
   ],
   "source": [
    "df.shape"
   ]
  },
  {
   "cell_type": "code",
   "execution_count": 12,
   "metadata": {
    "_cell_guid": "d0893706-a159-4ff4-9652-54f973836f19"
   },
   "outputs": [
    {
     "data": {
      "text/html": [
       "<div>\n",
       "<style scoped>\n",
       "    .dataframe tbody tr th:only-of-type {\n",
       "        vertical-align: middle;\n",
       "    }\n",
       "\n",
       "    .dataframe tbody tr th {\n",
       "        vertical-align: top;\n",
       "    }\n",
       "\n",
       "    .dataframe thead th {\n",
       "        text-align: right;\n",
       "    }\n",
       "</style>\n",
       "<table border=\"1\" class=\"dataframe\">\n",
       "  <thead>\n",
       "    <tr style=\"text-align: right;\">\n",
       "      <th></th>\n",
       "      <th>NumberOfSales</th>\n",
       "      <th>NumberOfCustomers</th>\n",
       "    </tr>\n",
       "  </thead>\n",
       "  <tbody>\n",
       "    <tr>\n",
       "      <th>NumberOfSales</th>\n",
       "      <td>1.000000</td>\n",
       "      <td>0.909194</td>\n",
       "    </tr>\n",
       "    <tr>\n",
       "      <th>NumberOfCustomers</th>\n",
       "      <td>0.909194</td>\n",
       "      <td>1.000000</td>\n",
       "    </tr>\n",
       "  </tbody>\n",
       "</table>\n",
       "</div>"
      ],
      "text/plain": [
       "                   NumberOfSales  NumberOfCustomers\n",
       "NumberOfSales           1.000000           0.909194\n",
       "NumberOfCustomers       0.909194           1.000000"
      ]
     },
     "execution_count": 12,
     "metadata": {},
     "output_type": "execute_result"
    }
   ],
   "source": [
    "df[['NumberOfSales', 'NumberOfCustomers']].corr()"
   ]
  },
  {
   "cell_type": "code",
   "execution_count": 7,
   "metadata": {
    "_cell_guid": "aa49d2ef-6316-465f-59be-aca897379944"
   },
   "outputs": [
    {
     "data": {
      "text/plain": [
       "<matplotlib.axes._subplots.AxesSubplot at 0x4c14ef05c0>"
      ]
     },
     "execution_count": 7,
     "metadata": {},
     "output_type": "execute_result"
    },
    {
     "data": {
      "image/png": "[encoded data removed]",
      "text/plain": [
       "<matplotlib.figure.Figure at 0x4c14ecc358>"
      ]
     },
     "metadata": {},
     "output_type": "display_data"
    }
   ],
   "source": [
    "plt.rcParams['figure.figsize'] = [20.0,8.0]\n",
    "plt.rcParams['figure.dpi']=80\n",
    "plt.subplot('121')\n",
    "df['NumberOfSales'].hist(bins=100)\n",
    "plt.subplot('122')\n",
    "df['NumberOfCustomers'].hist(bins=100)"
   ]
  },
  {
   "cell_type": "code",
   "execution_count": 9,
   "metadata": {
    "_cell_guid": "e6ff056a-c279-9de2-0951-8ee3299437f0"
   },
   "outputs": [],
   "source": [
    "y = df.groupby('Day_of_week')['NumberOfSales'].sum()"
   ]
  },
  {
   "cell_type": "code",
   "execution_count": 10,
   "metadata": {
    "_cell_guid": "f7d45775-5c53-d46f-f778-238b81c8eb0b"
   },
   "outputs": [
    {
     "data": {
      "text/plain": [
       "Day_of_week\n",
       "Friday       335734069.0\n",
       "Monday       393102876.0\n",
       "Saturday     284235771.0\n",
       "Sunday         9006738.0\n",
       "Thursday     306282480.0\n",
       "Tuesday      356000352.0\n",
       "Wednesday    323902522.0\n",
       "Name: NumberOfSales, dtype: float64"
      ]
     },
     "execution_count": 10,
     "metadata": {},
     "output_type": "execute_result"
    }
   ],
   "source": [
    "y"
   ]
  },
  {
   "cell_type": "code",
   "execution_count": 11,
   "metadata": {
    "_cell_guid": "ceb5b091-3758-3701-73bc-6189635cca50"
   },
   "outputs": [
    {
     "data": {
      "text/plain": [
       "<matplotlib.axes._subplots.AxesSubplot at 0x4c159a6208>"
      ]
     },
     "execution_count": 11,
     "metadata": {},
     "output_type": "execute_result"
    },
    {
     "data": {
      "image/png": "[encoded data removed]",
      "text/plain": [
       "<matplotlib.figure.Figure at 0x4c15973ac8>"
      ]
     },
     "metadata": {},
     "output_type": "display_data"
    }
   ],
   "source": [
    "sns.barplot(x=np.arange(7)+1, y=y)"
   ]
  },
  {
   "cell_type": "markdown",
   "metadata": {},
   "source": [
    "### Creating additional attributes"
   ]
  },
  {
   "cell_type": "code",
   "execution_count": 13,
   "metadata": {},
   "outputs": [],
   "source": [
    "df['Year'] = df['Date'].apply(lambda x: int(x[:4]))\n",
    "df['Month'] = df['Date'].apply(lambda x: int(x[5:7]))\n",
    "df['Day'] = df['Date'].apply(lambda x: int(x[8:10]))"
   ]
  },
  {
   "cell_type": "code",
   "execution_count": 16,
   "metadata": {
    "_cell_guid": "8540afae-9934-370c-539b-448330a4ab42"
   },
   "outputs": [],
   "source": [
    "yms = df.groupby(['Year', 'Month'])['NumberOfSales'].sum()"
   ]
  },
  {
   "cell_type": "code",
   "execution_count": 19,
   "metadata": {
    "_cell_guid": "f6eb7fe4-e887-5594-9b09-dbfcb28ed403"
   },
   "outputs": [
    {
     "data": {
      "text/plain": [
       "<matplotlib.axes._subplots.AxesSubplot at 0x4c16165588>"
      ]
     },
     "execution_count": 19,
     "metadata": {},
     "output_type": "execute_result"
    },
    {
     "data": {
      "image/png": "[encoded data removed]",
      "text/plain": [
       "<matplotlib.figure.Figure at 0x4c15a3ccc0>"
      ]
     },
     "metadata": {},
     "output_type": "display_data"
    }
   ],
   "source": [
    "sns.barplot(x=np.arange(12)+1, y=yms[2017].sort_index())"
   ]
  },
  {
   "cell_type": "raw",
   "metadata": {
    "_cell_guid": "2276ffd1-59f1-2181-abcf-9cc1baee53fa"
   },
   "source": [
    "#sns.barplot(x=np.arange(12)+1, y=yms[2018].sort_index())"
   ]
  },
  {
   "cell_type": "markdown",
   "metadata": {},
   "source": [
    "# RANDOM FOREST REGRESSION"
   ]
  },
  {
   "cell_type": "code",
   "execution_count": 26,
   "metadata": {},
   "outputs": [
    {
     "data": {
      "text/html": [
       "<div>\n",
       "<style scoped>\n",
       "    .dataframe tbody tr th:only-of-type {\n",
       "        vertical-align: middle;\n",
       "    }\n",
       "\n",
       "    .dataframe tbody tr th {\n",
       "        vertical-align: top;\n",
       "    }\n",
       "\n",
       "    .dataframe thead th {\n",
       "        text-align: right;\n",
       "    }\n",
       "</style>\n",
       "<table border=\"1\" class=\"dataframe\">\n",
       "  <thead>\n",
       "    <tr style=\"text-align: right;\">\n",
       "      <th></th>\n",
       "      <th>0</th>\n",
       "      <th>1</th>\n",
       "      <th>2</th>\n",
       "      <th>3</th>\n",
       "      <th>4</th>\n",
       "    </tr>\n",
       "  </thead>\n",
       "  <tbody>\n",
       "    <tr>\n",
       "      <th>IsHoliday</th>\n",
       "      <td>0.00</td>\n",
       "      <td>0.0</td>\n",
       "      <td>0.0</td>\n",
       "      <td>0.000000</td>\n",
       "      <td>0.000000</td>\n",
       "    </tr>\n",
       "    <tr>\n",
       "      <th>IsOpen</th>\n",
       "      <td>1.00</td>\n",
       "      <td>1.0</td>\n",
       "      <td>1.0</td>\n",
       "      <td>1.000000</td>\n",
       "      <td>1.000000</td>\n",
       "    </tr>\n",
       "    <tr>\n",
       "      <th>HasPromotions</th>\n",
       "      <td>1.00</td>\n",
       "      <td>1.0</td>\n",
       "      <td>1.0</td>\n",
       "      <td>0.000000</td>\n",
       "      <td>1.000000</td>\n",
       "    </tr>\n",
       "    <tr>\n",
       "      <th>NearestCompetitor</th>\n",
       "      <td>326.00</td>\n",
       "      <td>326.0</td>\n",
       "      <td>326.0</td>\n",
       "      <td>326.000000</td>\n",
       "      <td>326.000000</td>\n",
       "    </tr>\n",
       "    <tr>\n",
       "      <th>NumberOfCustomers</th>\n",
       "      <td>541.00</td>\n",
       "      <td>626.0</td>\n",
       "      <td>625.0</td>\n",
       "      <td>511.000000</td>\n",
       "      <td>637.000000</td>\n",
       "    </tr>\n",
       "    <tr>\n",
       "      <th>NumberOfSales</th>\n",
       "      <td>7109.00</td>\n",
       "      <td>8041.0</td>\n",
       "      <td>7890.0</td>\n",
       "      <td>6005.000000</td>\n",
       "      <td>8550.000000</td>\n",
       "    </tr>\n",
       "    <tr>\n",
       "      <th>Region_AreaKM2</th>\n",
       "      <td>9643.00</td>\n",
       "      <td>9643.0</td>\n",
       "      <td>9643.0</td>\n",
       "      <td>9643.000000</td>\n",
       "      <td>9643.000000</td>\n",
       "    </tr>\n",
       "    <tr>\n",
       "      <th>Region_GDP</th>\n",
       "      <td>17130.00</td>\n",
       "      <td>17130.0</td>\n",
       "      <td>17130.0</td>\n",
       "      <td>17130.000000</td>\n",
       "      <td>17130.000000</td>\n",
       "    </tr>\n",
       "    <tr>\n",
       "      <th>Region_PopulationK</th>\n",
       "      <td>2770.00</td>\n",
       "      <td>2770.0</td>\n",
       "      <td>2770.0</td>\n",
       "      <td>2770.000000</td>\n",
       "      <td>2770.000000</td>\n",
       "    </tr>\n",
       "    <tr>\n",
       "      <th>CloudCover</th>\n",
       "      <td>6.00</td>\n",
       "      <td>6.0</td>\n",
       "      <td>5.0</td>\n",
       "      <td>7.000000</td>\n",
       "      <td>6.000000</td>\n",
       "    </tr>\n",
       "    <tr>\n",
       "      <th>Max_Humidity</th>\n",
       "      <td>100.00</td>\n",
       "      <td>87.0</td>\n",
       "      <td>93.0</td>\n",
       "      <td>64.000000</td>\n",
       "      <td>59.000000</td>\n",
       "    </tr>\n",
       "    <tr>\n",
       "      <th>Max_TemperatureC</th>\n",
       "      <td>9.00</td>\n",
       "      <td>5.0</td>\n",
       "      <td>7.0</td>\n",
       "      <td>3.000000</td>\n",
       "      <td>3.000000</td>\n",
       "    </tr>\n",
       "    <tr>\n",
       "      <th>Max_Wind_SpeedKm_h</th>\n",
       "      <td>32.00</td>\n",
       "      <td>21.0</td>\n",
       "      <td>34.0</td>\n",
       "      <td>34.000000</td>\n",
       "      <td>32.000000</td>\n",
       "    </tr>\n",
       "    <tr>\n",
       "      <th>Mean_Humidity</th>\n",
       "      <td>89.00</td>\n",
       "      <td>71.0</td>\n",
       "      <td>61.0</td>\n",
       "      <td>52.000000</td>\n",
       "      <td>42.000000</td>\n",
       "    </tr>\n",
       "    <tr>\n",
       "      <th>Mean_TemperatureC</th>\n",
       "      <td>5.00</td>\n",
       "      <td>3.0</td>\n",
       "      <td>3.0</td>\n",
       "      <td>1.000000</td>\n",
       "      <td>0.000000</td>\n",
       "    </tr>\n",
       "    <tr>\n",
       "      <th>Mean_VisibilityKm</th>\n",
       "      <td>21.00</td>\n",
       "      <td>22.0</td>\n",
       "      <td>23.0</td>\n",
       "      <td>24.000000</td>\n",
       "      <td>26.000000</td>\n",
       "    </tr>\n",
       "    <tr>\n",
       "      <th>Mean_Wind_SpeedKm_h</th>\n",
       "      <td>10.00</td>\n",
       "      <td>11.0</td>\n",
       "      <td>14.0</td>\n",
       "      <td>23.000000</td>\n",
       "      <td>24.000000</td>\n",
       "    </tr>\n",
       "    <tr>\n",
       "      <th>Min_Dew_PointC</th>\n",
       "      <td>-1.00</td>\n",
       "      <td>-4.0</td>\n",
       "      <td>-6.0</td>\n",
       "      <td>-10.000000</td>\n",
       "      <td>-12.000000</td>\n",
       "    </tr>\n",
       "    <tr>\n",
       "      <th>Min_TemperatureC</th>\n",
       "      <td>1.00</td>\n",
       "      <td>1.0</td>\n",
       "      <td>-1.0</td>\n",
       "      <td>-1.000000</td>\n",
       "      <td>-3.000000</td>\n",
       "    </tr>\n",
       "    <tr>\n",
       "      <th>Precipitationmm</th>\n",
       "      <td>5.08</td>\n",
       "      <td>0.0</td>\n",
       "      <td>0.0</td>\n",
       "      <td>0.000000</td>\n",
       "      <td>0.000000</td>\n",
       "    </tr>\n",
       "    <tr>\n",
       "      <th>Is_Friday</th>\n",
       "      <td>0.00</td>\n",
       "      <td>0.0</td>\n",
       "      <td>1.0</td>\n",
       "      <td>0.000000</td>\n",
       "      <td>0.000000</td>\n",
       "    </tr>\n",
       "    <tr>\n",
       "      <th>Is_Monday</th>\n",
       "      <td>0.00</td>\n",
       "      <td>0.0</td>\n",
       "      <td>0.0</td>\n",
       "      <td>0.000000</td>\n",
       "      <td>1.000000</td>\n",
       "    </tr>\n",
       "    <tr>\n",
       "      <th>Is_Saturday</th>\n",
       "      <td>0.00</td>\n",
       "      <td>0.0</td>\n",
       "      <td>0.0</td>\n",
       "      <td>1.000000</td>\n",
       "      <td>0.000000</td>\n",
       "    </tr>\n",
       "    <tr>\n",
       "      <th>Is_Sunday</th>\n",
       "      <td>0.00</td>\n",
       "      <td>0.0</td>\n",
       "      <td>0.0</td>\n",
       "      <td>0.000000</td>\n",
       "      <td>0.000000</td>\n",
       "    </tr>\n",
       "    <tr>\n",
       "      <th>Is_Thursday</th>\n",
       "      <td>0.00</td>\n",
       "      <td>1.0</td>\n",
       "      <td>0.0</td>\n",
       "      <td>0.000000</td>\n",
       "      <td>0.000000</td>\n",
       "    </tr>\n",
       "    <tr>\n",
       "      <th>Is_Tuesday</th>\n",
       "      <td>0.00</td>\n",
       "      <td>0.0</td>\n",
       "      <td>0.0</td>\n",
       "      <td>0.000000</td>\n",
       "      <td>0.000000</td>\n",
       "    </tr>\n",
       "    <tr>\n",
       "      <th>Is_Wednesday</th>\n",
       "      <td>1.00</td>\n",
       "      <td>0.0</td>\n",
       "      <td>0.0</td>\n",
       "      <td>0.000000</td>\n",
       "      <td>0.000000</td>\n",
       "    </tr>\n",
       "    <tr>\n",
       "      <th>StoreType_SuperMarket</th>\n",
       "      <td>0.00</td>\n",
       "      <td>0.0</td>\n",
       "      <td>0.0</td>\n",
       "      <td>0.000000</td>\n",
       "      <td>0.000000</td>\n",
       "    </tr>\n",
       "    <tr>\n",
       "      <th>StoreType_HyperMarket</th>\n",
       "      <td>1.00</td>\n",
       "      <td>1.0</td>\n",
       "      <td>1.0</td>\n",
       "      <td>1.000000</td>\n",
       "      <td>1.000000</td>\n",
       "    </tr>\n",
       "    <tr>\n",
       "      <th>StoreType_StandardMarket</th>\n",
       "      <td>0.00</td>\n",
       "      <td>0.0</td>\n",
       "      <td>0.0</td>\n",
       "      <td>0.000000</td>\n",
       "      <td>0.000000</td>\n",
       "    </tr>\n",
       "    <tr>\n",
       "      <th>StoreType_ShoppingCenter</th>\n",
       "      <td>0.00</td>\n",
       "      <td>0.0</td>\n",
       "      <td>0.0</td>\n",
       "      <td>0.000000</td>\n",
       "      <td>0.000000</td>\n",
       "    </tr>\n",
       "    <tr>\n",
       "      <th>AssortmentType_General</th>\n",
       "      <td>1.00</td>\n",
       "      <td>1.0</td>\n",
       "      <td>1.0</td>\n",
       "      <td>1.000000</td>\n",
       "      <td>1.000000</td>\n",
       "    </tr>\n",
       "    <tr>\n",
       "      <th>AssortmentType_WithNFDept</th>\n",
       "      <td>0.00</td>\n",
       "      <td>0.0</td>\n",
       "      <td>0.0</td>\n",
       "      <td>0.000000</td>\n",
       "      <td>0.000000</td>\n",
       "    </tr>\n",
       "    <tr>\n",
       "      <th>AssortmentType_WithFishDept</th>\n",
       "      <td>0.00</td>\n",
       "      <td>0.0</td>\n",
       "      <td>0.0</td>\n",
       "      <td>0.000000</td>\n",
       "      <td>0.000000</td>\n",
       "    </tr>\n",
       "    <tr>\n",
       "      <th>t-14</th>\n",
       "      <td>8804.00</td>\n",
       "      <td>7823.0</td>\n",
       "      <td>7989.0</td>\n",
       "      <td>5895.000000</td>\n",
       "      <td>6348.000000</td>\n",
       "    </tr>\n",
       "    <tr>\n",
       "      <th>t-7</th>\n",
       "      <td>6014.00</td>\n",
       "      <td>6087.0</td>\n",
       "      <td>6962.0</td>\n",
       "      <td>6618.000000</td>\n",
       "      <td>9183.000000</td>\n",
       "    </tr>\n",
       "    <tr>\n",
       "      <th>t-1</th>\n",
       "      <td>8155.00</td>\n",
       "      <td>7109.0</td>\n",
       "      <td>8041.0</td>\n",
       "      <td>7890.000000</td>\n",
       "      <td>7675.446488</td>\n",
       "    </tr>\n",
       "    <tr>\n",
       "      <th>t-2</th>\n",
       "      <td>9183.00</td>\n",
       "      <td>8155.0</td>\n",
       "      <td>7109.0</td>\n",
       "      <td>8041.000000</td>\n",
       "      <td>6005.000000</td>\n",
       "    </tr>\n",
       "    <tr>\n",
       "      <th>t-9</th>\n",
       "      <td>6348.00</td>\n",
       "      <td>4738.0</td>\n",
       "      <td>6014.0</td>\n",
       "      <td>6087.000000</td>\n",
       "      <td>6618.000000</td>\n",
       "    </tr>\n",
       "    <tr>\n",
       "      <th>t-8</th>\n",
       "      <td>4738.00</td>\n",
       "      <td>6014.0</td>\n",
       "      <td>6087.0</td>\n",
       "      <td>6962.000000</td>\n",
       "      <td>7675.446488</td>\n",
       "    </tr>\n",
       "    <tr>\n",
       "      <th>t-6</th>\n",
       "      <td>6087.00</td>\n",
       "      <td>6962.0</td>\n",
       "      <td>6618.0</td>\n",
       "      <td>7675.446488</td>\n",
       "      <td>8155.000000</td>\n",
       "    </tr>\n",
       "    <tr>\n",
       "      <th>t-15</th>\n",
       "      <td>9019.00</td>\n",
       "      <td>8804.0</td>\n",
       "      <td>7823.0</td>\n",
       "      <td>7989.000000</td>\n",
       "      <td>7675.446488</td>\n",
       "    </tr>\n",
       "    <tr>\n",
       "      <th>t-21</th>\n",
       "      <td>5676.00</td>\n",
       "      <td>8111.0</td>\n",
       "      <td>8300.0</td>\n",
       "      <td>7154.000000</td>\n",
       "      <td>10110.000000</td>\n",
       "    </tr>\n",
       "    <tr>\n",
       "      <th>t-13</th>\n",
       "      <td>7823.00</td>\n",
       "      <td>7989.0</td>\n",
       "      <td>5895.0</td>\n",
       "      <td>7675.446488</td>\n",
       "      <td>4738.000000</td>\n",
       "    </tr>\n",
       "    <tr>\n",
       "      <th>t-20</th>\n",
       "      <td>8111.00</td>\n",
       "      <td>8300.0</td>\n",
       "      <td>7154.0</td>\n",
       "      <td>7675.446488</td>\n",
       "      <td>9019.000000</td>\n",
       "    </tr>\n",
       "    <tr>\n",
       "      <th>Year</th>\n",
       "      <td>2016.00</td>\n",
       "      <td>2016.0</td>\n",
       "      <td>2016.0</td>\n",
       "      <td>2016.000000</td>\n",
       "      <td>2016.000000</td>\n",
       "    </tr>\n",
       "    <tr>\n",
       "      <th>Month</th>\n",
       "      <td>3.00</td>\n",
       "      <td>3.0</td>\n",
       "      <td>3.0</td>\n",
       "      <td>3.000000</td>\n",
       "      <td>3.000000</td>\n",
       "    </tr>\n",
       "    <tr>\n",
       "      <th>Day</th>\n",
       "      <td>23.00</td>\n",
       "      <td>24.0</td>\n",
       "      <td>25.0</td>\n",
       "      <td>26.000000</td>\n",
       "      <td>28.000000</td>\n",
       "    </tr>\n",
       "  </tbody>\n",
       "</table>\n",
       "</div>"
      ],
      "text/plain": [
       "                                    0        1        2             3  \\\n",
       "IsHoliday                        0.00      0.0      0.0      0.000000   \n",
       "IsOpen                           1.00      1.0      1.0      1.000000   \n",
       "HasPromotions                    1.00      1.0      1.0      0.000000   \n",
       "NearestCompetitor              326.00    326.0    326.0    326.000000   \n",
       "NumberOfCustomers              541.00    626.0    625.0    511.000000   \n",
       "NumberOfSales                 7109.00   8041.0   7890.0   6005.000000   \n",
       "Region_AreaKM2                9643.00   9643.0   9643.0   9643.000000   \n",
       "Region_GDP                   17130.00  17130.0  17130.0  17130.000000   \n",
       "Region_PopulationK            2770.00   2770.0   2770.0   2770.000000   \n",
       "CloudCover                       6.00      6.0      5.0      7.000000   \n",
       "Max_Humidity                   100.00     87.0     93.0     64.000000   \n",
       "Max_TemperatureC                 9.00      5.0      7.0      3.000000   \n",
       "Max_Wind_SpeedKm_h              32.00     21.0     34.0     34.000000   \n",
       "Mean_Humidity                   89.00     71.0     61.0     52.000000   \n",
       "Mean_TemperatureC                5.00      3.0      3.0      1.000000   \n",
       "Mean_VisibilityKm               21.00     22.0     23.0     24.000000   \n",
       "Mean_Wind_SpeedKm_h             10.00     11.0     14.0     23.000000   \n",
       "Min_Dew_PointC                  -1.00     -4.0     -6.0    -10.000000   \n",
       "Min_TemperatureC                 1.00      1.0     -1.0     -1.000000   \n",
       "Precipitationmm                  5.08      0.0      0.0      0.000000   \n",
       "Is_Friday                        0.00      0.0      1.0      0.000000   \n",
       "Is_Monday                        0.00      0.0      0.0      0.000000   \n",
       "Is_Saturday                      0.00      0.0      0.0      1.000000   \n",
       "Is_Sunday                        0.00      0.0      0.0      0.000000   \n",
       "Is_Thursday                      0.00      1.0      0.0      0.000000   \n",
       "Is_Tuesday                       0.00      0.0      0.0      0.000000   \n",
       "Is_Wednesday                     1.00      0.0      0.0      0.000000   \n",
       "StoreType_SuperMarket            0.00      0.0      0.0      0.000000   \n",
       "StoreType_HyperMarket            1.00      1.0      1.0      1.000000   \n",
       "StoreType_StandardMarket         0.00      0.0      0.0      0.000000   \n",
       "StoreType_ShoppingCenter         0.00      0.0      0.0      0.000000   \n",
       "AssortmentType_General           1.00      1.0      1.0      1.000000   \n",
       "AssortmentType_WithNFDept        0.00      0.0      0.0      0.000000   \n",
       "AssortmentType_WithFishDept      0.00      0.0      0.0      0.000000   \n",
       "t-14                          8804.00   7823.0   7989.0   5895.000000   \n",
       "t-7                           6014.00   6087.0   6962.0   6618.000000   \n",
       "t-1                           8155.00   7109.0   8041.0   7890.000000   \n",
       "t-2                           9183.00   8155.0   7109.0   8041.000000   \n",
       "t-9                           6348.00   4738.0   6014.0   6087.000000   \n",
       "t-8                           4738.00   6014.0   6087.0   6962.000000   \n",
       "t-6                           6087.00   6962.0   6618.0   7675.446488   \n",
       "t-15                          9019.00   8804.0   7823.0   7989.000000   \n",
       "t-21                          5676.00   8111.0   8300.0   7154.000000   \n",
       "t-13                          7823.00   7989.0   5895.0   7675.446488   \n",
       "t-20                          8111.00   8300.0   7154.0   7675.446488   \n",
       "Year                          2016.00   2016.0   2016.0   2016.000000   \n",
       "Month                            3.00      3.0      3.0      3.000000   \n",
       "Day                             23.00     24.0     25.0     26.000000   \n",
       "\n",
       "                                        4  \n",
       "IsHoliday                        0.000000  \n",
       "IsOpen                           1.000000  \n",
       "HasPromotions                    1.000000  \n",
       "NearestCompetitor              326.000000  \n",
       "NumberOfCustomers              637.000000  \n",
       "NumberOfSales                 8550.000000  \n",
       "Region_AreaKM2                9643.000000  \n",
       "Region_GDP                   17130.000000  \n",
       "Region_PopulationK            2770.000000  \n",
       "CloudCover                       6.000000  \n",
       "Max_Humidity                    59.000000  \n",
       "Max_TemperatureC                 3.000000  \n",
       "Max_Wind_SpeedKm_h              32.000000  \n",
       "Mean_Humidity                   42.000000  \n",
       "Mean_TemperatureC                0.000000  \n",
       "Mean_VisibilityKm               26.000000  \n",
       "Mean_Wind_SpeedKm_h             24.000000  \n",
       "Min_Dew_PointC                 -12.000000  \n",
       "Min_TemperatureC                -3.000000  \n",
       "Precipitationmm                  0.000000  \n",
       "Is_Friday                        0.000000  \n",
       "Is_Monday                        1.000000  \n",
       "Is_Saturday                      0.000000  \n",
       "Is_Sunday                        0.000000  \n",
       "Is_Thursday                      0.000000  \n",
       "Is_Tuesday                       0.000000  \n",
       "Is_Wednesday                     0.000000  \n",
       "StoreType_SuperMarket            0.000000  \n",
       "StoreType_HyperMarket            1.000000  \n",
       "StoreType_StandardMarket         0.000000  \n",
       "StoreType_ShoppingCenter         0.000000  \n",
       "AssortmentType_General           1.000000  \n",
       "AssortmentType_WithNFDept        0.000000  \n",
       "AssortmentType_WithFishDept      0.000000  \n",
       "t-14                          6348.000000  \n",
       "t-7                           9183.000000  \n",
       "t-1                           7675.446488  \n",
       "t-2                           6005.000000  \n",
       "t-9                           6618.000000  \n",
       "t-8                           7675.446488  \n",
       "t-6                           8155.000000  \n",
       "t-15                          7675.446488  \n",
       "t-21                         10110.000000  \n",
       "t-13                          4738.000000  \n",
       "t-20                          9019.000000  \n",
       "Year                          2016.000000  \n",
       "Month                            3.000000  \n",
       "Day                             28.000000  "
      ]
     },
     "execution_count": 26,
     "metadata": {},
     "output_type": "execute_result"
    }
   ],
   "source": [
    "df = df.drop(['Date','StoreID','Region','Events','Day_of_week'], axis=1)\n",
    "df.head().T"
   ]
  },
  {
   "cell_type": "code",
   "execution_count": 27,
   "metadata": {
    "_cell_guid": "c419d49f-961e-6b70-b7a9-2e1cf1298b9e"
   },
   "outputs": [],
   "source": [
    "from sklearn.model_selection import train_test_split\n",
    "from sklearn.model_selection import cross_val_score\n",
    "from sklearn.model_selection import GridSearchCV\n",
    "from sklearn.model_selection import validation_curve"
   ]
  },
  {
   "cell_type": "code",
   "execution_count": 28,
   "metadata": {
    "_cell_guid": "cf6d4c8b-9383-eabb-c023-21780d4bd98d"
   },
   "outputs": [],
   "source": [
    "X_train, X_test, y_train, y_test = train_test_split(df.drop('NumberOfSales', axis=1).values, df.NumberOfSales.values,\\\n",
    "                                                    test_size = 0.2)"
   ]
  },
  {
   "cell_type": "code",
   "execution_count": 29,
   "metadata": {
    "_cell_guid": "018cf318-6e90-ff0a-5df8-af606ae38f21"
   },
   "outputs": [],
   "source": [
    "from sklearn.ensemble import RandomForestRegressor"
   ]
  },
  {
   "cell_type": "code",
   "execution_count": 41,
   "metadata": {
    "_cell_guid": "acde2395-2cb5-fd85-1d27-0116f20069bf"
   },
   "outputs": [],
   "source": [
    "params = range(30, 81, 10)  #50,201,50"
   ]
  },
  {
   "cell_type": "code",
   "execution_count": 42,
   "metadata": {
    "_cell_guid": "f61adc33-97d5-3166-1ee0-34b985e8f689"
   },
   "outputs": [
    {
     "name": "stdout",
     "output_type": "stream",
     "text": [
      "[CV] n_estimators=30 .................................................\n",
      "[CV] .................................. n_estimators=30, total=   9.0s\n",
      "[CV] n_estimators=40 .................................................\n"
     ]
    },
    {
     "name": "stderr",
     "output_type": "stream",
     "text": [
      "[Parallel(n_jobs=1)]: Done   1 out of   1 | elapsed:    9.1s remaining:    0.0s\n"
     ]
    },
    {
     "name": "stdout",
     "output_type": "stream",
     "text": [
      "[CV] .................................. n_estimators=40, total=  12.1s\n",
      "[CV] n_estimators=50 .................................................\n",
      "[CV] .................................. n_estimators=50, total=  15.0s\n",
      "[CV] n_estimators=60 .................................................\n",
      "[CV] .................................. n_estimators=60, total=  18.2s\n",
      "[CV] n_estimators=70 .................................................\n",
      "[CV] .................................. n_estimators=70, total=  22.9s\n",
      "[CV] n_estimators=80 .................................................\n",
      "[CV] .................................. n_estimators=80, total=  24.5s\n",
      "[CV] n_estimators=30 .................................................\n",
      "[CV] .................................. n_estimators=30, total=   9.5s\n",
      "[CV] n_estimators=40 .................................................\n",
      "[CV] .................................. n_estimators=40, total=  12.9s\n",
      "[CV] n_estimators=50 .................................................\n",
      "[CV] .................................. n_estimators=50, total=  16.5s\n",
      "[CV] n_estimators=60 .................................................\n",
      "[CV] .................................. n_estimators=60, total=  20.3s\n",
      "[CV] n_estimators=70 .................................................\n",
      "[CV] .................................. n_estimators=70, total=  29.5s\n",
      "[CV] n_estimators=80 .................................................\n",
      "[CV] .................................. n_estimators=80, total=  29.9s\n",
      "[CV] n_estimators=30 .................................................\n",
      "[CV] .................................. n_estimators=30, total=  11.5s\n",
      "[CV] n_estimators=40 .................................................\n",
      "[CV] .................................. n_estimators=40, total=  15.8s\n",
      "[CV] n_estimators=50 .................................................\n",
      "[CV] .................................. n_estimators=50, total=  21.3s\n",
      "[CV] n_estimators=60 .................................................\n",
      "[CV] .................................. n_estimators=60, total=  29.4s\n",
      "[CV] n_estimators=70 .................................................\n",
      "[CV] .................................. n_estimators=70, total=  33.5s\n",
      "[CV] n_estimators=80 .................................................\n",
      "[CV] .................................. n_estimators=80, total=  36.1s\n",
      "[CV] n_estimators=30 .................................................\n",
      "[CV] .................................. n_estimators=30, total=  12.5s\n",
      "[CV] n_estimators=40 .................................................\n",
      "[CV] .................................. n_estimators=40, total=  18.3s\n",
      "[CV] n_estimators=50 .................................................\n",
      "[CV] .................................. n_estimators=50, total=  31.3s\n",
      "[CV] n_estimators=60 .................................................\n",
      "[CV] .................................. n_estimators=60, total=  31.5s\n",
      "[CV] n_estimators=70 .................................................\n",
      "[CV] .................................. n_estimators=70, total=  37.5s\n",
      "[CV] n_estimators=80 .................................................\n",
      "[CV] .................................. n_estimators=80, total=  41.6s\n",
      "[CV] n_estimators=30 .................................................\n",
      "[CV] .................................. n_estimators=30, total=  13.5s\n",
      "[CV] n_estimators=40 .................................................\n",
      "[CV] .................................. n_estimators=40, total=  15.8s\n",
      "[CV] n_estimators=50 .................................................\n",
      "[CV] .................................. n_estimators=50, total=  19.5s\n",
      "[CV] n_estimators=60 .................................................\n",
      "[CV] .................................. n_estimators=60, total=  23.1s\n",
      "[CV] n_estimators=70 .................................................\n",
      "[CV] .................................. n_estimators=70, total=  25.7s\n",
      "[CV] n_estimators=80 .................................................\n",
      "[CV] .................................. n_estimators=80, total=  34.6s\n"
     ]
    },
    {
     "name": "stderr",
     "output_type": "stream",
     "text": [
      "[Parallel(n_jobs=1)]: Done  30 out of  30 | elapsed: 11.4min finished\n"
     ]
    }
   ],
   "source": [
    "scores, tst_scr = validation_curve(RandomForestRegressor(), X_train[:20000],\\\n",
    "                                   y_train[:20000], 'n_estimators', params, \\\n",
    "                                   cv=5, scoring='r2', verbose=2)"
   ]
  },
  {
   "cell_type": "code",
   "execution_count": 43,
   "metadata": {
    "_cell_guid": "c2464b2d-1459-2950-49b4-8b29843e4b19"
   },
   "outputs": [
    {
     "data": {
      "text/plain": [
       "<matplotlib.collections.PolyCollection at 0x4c17218710>"
      ]
     },
     "execution_count": 43,
     "metadata": {},
     "output_type": "execute_result"
    },
    {
     "data": {
      "image/png": "[encoded data removed]",
      "text/plain": [
       "<matplotlib.figure.Figure at 0x4c171e7e48>"
      ]
     },
     "metadata": {},
     "output_type": "display_data"
    }
   ],
   "source": [
    "scores_mean = scores.mean(axis=1)\n",
    "scores_std = scores.std(axis=1)\n",
    "tst_scr_mean = tst_scr.mean(axis=1)\n",
    "tst_scr_std = tst_scr.std(axis=1)\n",
    "plt.plot(params, tst_scr_mean)\n",
    "plt.fill_between(params, tst_scr_mean + tst_scr_std, tst_scr_mean - tst_scr_std, alpha=0.3)\n",
    "plt.plot(params, scores_mean)\n",
    "plt.fill_between(params, scores_mean + scores_std, scores_mean - scores_std, alpha=0.3)"
   ]
  },
  {
   "cell_type": "code",
   "execution_count": 44,
   "metadata": {
    "_cell_guid": "5c0c505e-bf77-267b-37b6-e679d95b40c7"
   },
   "outputs": [
    {
     "data": {
      "text/plain": [
       "47"
      ]
     },
     "execution_count": 44,
     "metadata": {},
     "output_type": "execute_result"
    }
   ],
   "source": [
    "X_train.shape[1]"
   ]
  },
  {
   "cell_type": "code",
   "execution_count": 45,
   "metadata": {
    "_cell_guid": "201017a4-a43d-2d31-427a-c510740912b1"
   },
   "outputs": [],
   "source": [
    "params = range(3, 9)"
   ]
  },
  {
   "cell_type": "code",
   "execution_count": 46,
   "metadata": {
    "_cell_guid": "33d6ebbb-3e61-6f12-8cd2-772f851dc97c"
   },
   "outputs": [
    {
     "name": "stdout",
     "output_type": "stream",
     "text": [
      "[CV] max_features=3 ..................................................\n",
      "[CV] ................................... max_features=3, total=   0.2s\n",
      "[CV] max_features=4 ..................................................\n"
     ]
    },
    {
     "name": "stderr",
     "output_type": "stream",
     "text": [
      "[Parallel(n_jobs=1)]: Done   1 out of   1 | elapsed:    0.3s remaining:    0.0s\n"
     ]
    },
    {
     "name": "stdout",
     "output_type": "stream",
     "text": [
      "[CV] ................................... max_features=4, total=   0.3s\n",
      "[CV] max_features=5 ..................................................\n",
      "[CV] ................................... max_features=5, total=   0.3s\n",
      "[CV] max_features=6 ..................................................\n",
      "[CV] ................................... max_features=6, total=   0.4s\n",
      "[CV] max_features=7 ..................................................\n",
      "[CV] ................................... max_features=7, total=   0.4s\n",
      "[CV] max_features=8 ..................................................\n",
      "[CV] ................................... max_features=8, total=   0.5s\n",
      "[CV] max_features=3 ..................................................\n",
      "[CV] ................................... max_features=3, total=   0.2s\n",
      "[CV] max_features=4 ..................................................\n",
      "[CV] ................................... max_features=4, total=   0.3s\n",
      "[CV] max_features=5 ..................................................\n",
      "[CV] ................................... max_features=5, total=   0.4s\n",
      "[CV] max_features=6 ..................................................\n",
      "[CV] ................................... max_features=6, total=   0.4s\n",
      "[CV] max_features=7 ..................................................\n",
      "[CV] ................................... max_features=7, total=   0.4s\n",
      "[CV] max_features=8 ..................................................\n",
      "[CV] ................................... max_features=8, total=   0.6s\n",
      "[CV] max_features=3 ..................................................\n",
      "[CV] ................................... max_features=3, total=   0.3s\n",
      "[CV] max_features=4 ..................................................\n",
      "[CV] ................................... max_features=4, total=   0.2s\n",
      "[CV] max_features=5 ..................................................\n",
      "[CV] ................................... max_features=5, total=   0.3s\n",
      "[CV] max_features=6 ..................................................\n",
      "[CV] ................................... max_features=6, total=   0.4s\n",
      "[CV] max_features=7 ..................................................\n",
      "[CV] ................................... max_features=7, total=   0.5s\n",
      "[CV] max_features=8 ..................................................\n",
      "[CV] ................................... max_features=8, total=   0.5s\n"
     ]
    },
    {
     "name": "stderr",
     "output_type": "stream",
     "text": [
      "[Parallel(n_jobs=1)]: Done  18 out of  18 | elapsed:    9.0s finished\n"
     ]
    }
   ],
   "source": [
    "scores, tst_scr = validation_curve(RandomForestRegressor(n_estimators=10), X_train[:20000], \\\n",
    "                                   y_train[:20000], 'max_features', params, \\\n",
    "                                   cv=3, scoring='r2', verbose=2)"
   ]
  },
  {
   "cell_type": "code",
   "execution_count": 47,
   "metadata": {
    "_cell_guid": "eee0f85b-9bec-7b3f-3fd6-377d8e67257f"
   },
   "outputs": [
    {
     "data": {
      "text/plain": [
       "<matplotlib.collections.PolyCollection at 0x4c176d5828>"
      ]
     },
     "execution_count": 47,
     "metadata": {},
     "output_type": "execute_result"
    },
    {
     "data": {
      "image/png": "[encoded data removed]",
      "text/plain": [
       "<matplotlib.figure.Figure at 0x4c172429e8>"
      ]
     },
     "metadata": {},
     "output_type": "display_data"
    }
   ],
   "source": [
    "scores_mean = scores.mean(axis=1)\n",
    "scores_std = scores.std(axis=1)\n",
    "tst_scr_mean = tst_scr.mean(axis=1)\n",
    "tst_scr_std = tst_scr.std(axis=1)\n",
    "plt.plot(params, tst_scr_mean)\n",
    "plt.fill_between(params, tst_scr_mean + tst_scr_std, tst_scr_mean - tst_scr_std, alpha=0.3)\n",
    "plt.plot(params, scores_mean)\n",
    "plt.fill_between(params, scores_mean + scores_std, scores_mean - scores_std, alpha=0.3)"
   ]
  },
  {
   "cell_type": "code",
   "execution_count": null,
   "metadata": {
    "_cell_guid": "554fc0ba-868c-a7fb-329d-fc024fb73124"
   },
   "outputs": [],
   "source": [
    "params = range(5, 51, 5)"
   ]
  },
  {
   "cell_type": "code",
   "execution_count": null,
   "metadata": {
    "_cell_guid": "1ae2b8c8-6e5f-002d-e0e4-c63cf037156b"
   },
   "outputs": [],
   "source": [
    "scores, tst_scr = validation_curve(RandomForestRegressor(n_estimators=100), X_train[:20000], \\\n",
    "                                   y_train[:20000], 'max_depth', params, \\\n",
    "                                   cv=3, scoring='r2', verbose=2)"
   ]
  },
  {
   "cell_type": "code",
   "execution_count": null,
   "metadata": {
    "_cell_guid": "6b005bb6-a85f-feaf-2f0d-182b101bf9a9"
   },
   "outputs": [],
   "source": [
    "scores_mean = scores.mean(axis=1)\n",
    "scores_std = scores.std(axis=1)\n",
    "tst_scr_mean = tst_scr.mean(axis=1)\n",
    "tst_scr_std = tst_scr.std(axis=1)\n",
    "plt.plot(params, tst_scr_mean)\n",
    "plt.fill_between(params, tst_scr_mean + tst_scr_std, tst_scr_mean - tst_scr_std, alpha=0.3)\n",
    "plt.plot(params, scores_mean)\n",
    "plt.fill_between(params, scores_mean + scores_std, scores_mean - scores_std, alpha=0.3)"
   ]
  },
  {
   "cell_type": "code",
   "execution_count": 50,
   "metadata": {
    "_cell_guid": "b3e3ba0d-11e8-fcc9-e570-c115bcfd95af"
   },
   "outputs": [],
   "source": [
    "model1 = RandomForestRegressor(n_estimators=100, max_depth=20, n_jobs=-1, verbose=2)"
   ]
  },
  {
   "cell_type": "code",
   "execution_count": 51,
   "metadata": {
    "_cell_guid": "4ca7054e-92a6-6ab3-c758-8503d9b53c29"
   },
   "outputs": [
    {
     "name": "stdout",
     "output_type": "stream",
     "text": [
      "building tree 1 of 100building tree 2 of 100\n",
      "building tree 3 of 100\n",
      "\n",
      "building tree 4 of 100\n",
      "building tree 5 of 100\n",
      "building tree 6 of 100\n",
      "building tree 7 of 100\n",
      "building tree 8 of 100\n",
      "building tree 9 of 100\n",
      "building tree 10 of 100\n",
      "building tree 11 of 100\n",
      "building tree 12 of 100\n",
      "building tree 13 of 100\n",
      "building tree 14 of 100\n",
      "building tree 15 of 100\n",
      "building tree 16 of 100\n",
      "building tree 17 of 100\n",
      "building tree 18 of 100\n",
      "building tree 19 of 100\n",
      "building tree 20 of 100\n",
      "building tree 21 of 100\n",
      "building tree 22 of 100\n",
      "building tree 23 of 100\n",
      "building tree 24 of 100\n",
      "building tree 25 of 100\n",
      "building tree 26 of 100\n",
      "building tree 27 of 100\n",
      "building tree 28 of 100\n",
      "building tree 29 of 100\n",
      "building tree 30 of 100\n",
      "building tree 31 of 100\n",
      "building tree 32 of 100\n",
      "building tree 33 of 100\n",
      "building tree 34 of 100\n",
      "building tree 35 of 100\n",
      "building tree 36 of 100\n"
     ]
    },
    {
     "name": "stderr",
     "output_type": "stream",
     "text": [
      "[Parallel(n_jobs=-1)]: Done  33 tasks      | elapsed:  2.6min\n"
     ]
    },
    {
     "name": "stdout",
     "output_type": "stream",
     "text": [
      "building tree 37 of 100\n",
      "building tree 38 of 100\n",
      "building tree 39 of 100\n",
      "building tree 40 of 100\n",
      "building tree 41 of 100\n",
      "building tree 42 of 100\n",
      "building tree 43 of 100\n",
      "building tree 44 of 100\n",
      "building tree 45 of 100\n",
      "building tree 46 of 100\n",
      "building tree 47 of 100\n",
      "building tree 48 of 100\n",
      "building tree 49 of 100\n",
      "building tree 50 of 100\n",
      "building tree 51 of 100\n",
      "building tree 52 of 100\n",
      "building tree 53 of 100\n",
      "building tree 54 of 100\n",
      "building tree 55 of 100\n",
      "building tree 56 of 100\n",
      "building tree 57 of 100\n",
      "building tree 58 of 100\n",
      "building tree 59 of 100\n",
      "building tree 60 of 100\n",
      "building tree 61 of 100\n",
      "building tree 62 of 100\n",
      "building tree 63 of 100\n",
      "building tree 64 of 100\n",
      "building tree 65 of 100\n",
      "building tree 66 of 100\n",
      "building tree 67 of 100\n",
      "building tree 68 of 100\n",
      "building tree 69 of 100\n",
      "building tree 70 of 100\n",
      "building tree 71 of 100\n",
      "building tree 72 of 100\n",
      "building tree 73 of 100\n",
      "building tree 74 of 100\n",
      "building tree 75 of 100\n",
      "building tree 76 of 100\n",
      "building tree 77 of 100\n",
      "building tree 78 of 100\n",
      "building tree 79 of 100\n",
      "building tree 80 of 100\n",
      "building tree 81 of 100\n",
      "building tree 82 of 100\n",
      "building tree 83 of 100\n",
      "building tree 84 of 100\n",
      "building tree 85 of 100\n",
      "building tree 86 of 100\n",
      "building tree 87 of 100\n",
      "building tree 88 of 100\n",
      "building tree 89 of 100\n",
      "building tree 90 of 100\n",
      "building tree 91 of 100\n",
      "building tree 92 of 100\n",
      "building tree 93 of 100\n",
      "building tree 94 of 100\n",
      "building tree 95 of 100\n",
      "building tree 96 of 100\n",
      "building tree 97 of 100\n",
      "building tree 98 of 100\n",
      "building tree 99 of 100\n",
      "building tree 100 of 100\n"
     ]
    },
    {
     "name": "stderr",
     "output_type": "stream",
     "text": [
      "[Parallel(n_jobs=-1)]: Done 100 out of 100 | elapsed:  9.6min finished\n"
     ]
    },
    {
     "data": {
      "text/plain": [
       "RandomForestRegressor(bootstrap=True, criterion='mse', max_depth=20,\n",
       "           max_features='auto', max_leaf_nodes=None,\n",
       "           min_impurity_decrease=0.0, min_impurity_split=None,\n",
       "           min_samples_leaf=1, min_samples_split=2,\n",
       "           min_weight_fraction_leaf=0.0, n_estimators=100, n_jobs=-1,\n",
       "           oob_score=False, random_state=None, verbose=2, warm_start=False)"
      ]
     },
     "execution_count": 51,
     "metadata": {},
     "output_type": "execute_result"
    }
   ],
   "source": [
    "model1.fit(X_train, y_train)"
   ]
  },
  {
   "cell_type": "code",
   "execution_count": 52,
   "metadata": {
    "_cell_guid": "b237139b-3eaa-a348-2717-1f2536b84ede"
   },
   "outputs": [],
   "source": [
    "idx = model1.feature_importances_.argsort()[::-1]"
   ]
  },
  {
   "cell_type": "code",
   "execution_count": 55,
   "metadata": {
    "_cell_guid": "0b7a9919-c9d3-adb9-4fb4-e4cd94b72c99"
   },
   "outputs": [
    {
     "data": {
      "image/png": "[encoded data removed]",
      "text/plain": [
       "<matplotlib.figure.Figure at 0x4c17145438>"
      ]
     },
     "metadata": {},
     "output_type": "display_data"
    }
   ],
   "source": [
    "ax = sns.barplot(x=df.drop('NumberOfSales', axis=1).columns[idx], y=model1.feature_importances_[idx])\n",
    "_ = plt.setp(ax.get_xticklabels(), rotation=-90)"
   ]
  },
  {
   "cell_type": "markdown",
   "metadata": {},
   "source": [
    "### I forgot to drop NumberOfCustomers..."
   ]
  },
  {
   "cell_type": "code",
   "execution_count": 56,
   "metadata": {
    "_cell_guid": "51526a84-98a0-ceeb-b957-c65e98052ad0"
   },
   "outputs": [
    {
     "name": "stderr",
     "output_type": "stream",
     "text": [
      "[Parallel(n_jobs=4)]: Done  33 tasks      | elapsed:    0.7s\n",
      "[Parallel(n_jobs=4)]: Done 100 out of 100 | elapsed:    1.9s finished\n"
     ]
    }
   ],
   "source": [
    "y_pred = model1.predict(X_test)"
   ]
  },
  {
   "cell_type": "code",
   "execution_count": 57,
   "metadata": {
    "_cell_guid": "d57a9738-6c92-94bc-ee7f-8c61c8621a5e"
   },
   "outputs": [],
   "source": [
    "from sklearn.metrics import mean_absolute_error\n",
    "from sklearn.metrics import r2_score"
   ]
  },
  {
   "cell_type": "code",
   "execution_count": 58,
   "metadata": {
    "_cell_guid": "ce96d86c-504a-6f79-daa9-6c41619afc65"
   },
   "outputs": [
    {
     "data": {
      "text/plain": [
       "301.1941956839615"
      ]
     },
     "execution_count": 58,
     "metadata": {},
     "output_type": "execute_result"
    }
   ],
   "source": [
    "mean_absolute_error(y_test, y_pred)"
   ]
  },
  {
   "cell_type": "code",
   "execution_count": 59,
   "metadata": {
    "_cell_guid": "e14263ca-4a3b-562a-0a1e-59eafafccb84"
   },
   "outputs": [
    {
     "data": {
      "text/plain": [
       "0.9602671551484901"
      ]
     },
     "execution_count": 59,
     "metadata": {},
     "output_type": "execute_result"
    }
   ],
   "source": [
    "r2_score(y_test, y_pred)"
   ]
  },
  {
   "cell_type": "markdown",
   "metadata": {},
   "source": [
    "## For the submission"
   ]
  },
  {
   "cell_type": "code",
   "execution_count": null,
   "metadata": {
    "_cell_guid": "8acd1d98-90e0-0777-6c35-a98e4beecd59"
   },
   "outputs": [],
   "source": [
    "df_test = pd.read_csv"
   ]
  },
  {
   "cell_type": "code",
   "execution_count": null,
   "metadata": {
    "_cell_guid": "fc3dcee5-8c3c-33a7-1f13-3ec403f10f4e"
   },
   "outputs": [],
   "source": [
    "df_test.IsOpen.unique()"
   ]
  },
  {
   "cell_type": "code",
   "execution_count": null,
   "metadata": {
    "_cell_guid": "7d7f563e-ec23-5219-6aa6-aef74c3c1a3d"
   },
   "outputs": [],
   "source": [
    "ind_open = df_test.IsOpen == 1\n",
    "ind_closed = df_test.IsOpen == 0\n",
    "df_test2 = df_test[ind_open]"
   ]
  },
  {
   "cell_type": "code",
   "execution_count": null,
   "metadata": {
    "_cell_guid": "9dc254e8-751a-edbe-c9eb-04e2cc3b7628"
   },
   "outputs": [],
   "source": [
    "df_test2.drop('IsOpen', axis=1, inplace=True)"
   ]
  },
  {
   "cell_type": "code",
   "execution_count": null,
   "metadata": {
    "_cell_guid": "ad5d9746-cf85-5965-f532-084d8be0d43c"
   },
   "outputs": [],
   "source": [
    "df_test2.head().T"
   ]
  },
  {
   "cell_type": "code",
   "execution_count": null,
   "metadata": {
    "_cell_guid": "30bea4a1-1d25-9028-ca83-b7495b0f57e1"
   },
   "outputs": [],
   "source": [
    "X_out = df_test2.values"
   ]
  },
  {
   "cell_type": "code",
   "execution_count": null,
   "metadata": {
    "_cell_guid": "2cb69607-840e-a809-d2e5-254f2a562ea3"
   },
   "outputs": [],
   "source": [
    "y_out = model1.predict(X_out)"
   ]
  },
  {
   "cell_type": "code",
   "execution_count": null,
   "metadata": {
    "_cell_guid": "30af42f2-36f7-310c-249a-d80c13d8b551"
   },
   "outputs": [],
   "source": [
    "df_out = pd.DataFrame(np.zeros(len(df_test)), columns=['NumberOfSales'])"
   ]
  },
  {
   "cell_type": "code",
   "execution_count": null,
   "metadata": {
    "_cell_guid": "5dd715ff-9be3-8e99-7c1a-a5e876263691"
   },
   "outputs": [],
   "source": [
    "df_out[ind_open] = y_out.reshape(-1,1)"
   ]
  },
  {
   "cell_type": "code",
   "execution_count": null,
   "metadata": {
    "_cell_guid": "5a3a7e94-d39a-1f4f-a19c-3e674bb37044"
   },
   "outputs": [],
   "source": [
    "df_out.set_index(np.arange(len(df_out))+1, inplace=True)"
   ]
  },
  {
   "cell_type": "code",
   "execution_count": null,
   "metadata": {
    "_cell_guid": "f52efdec-188a-3f95-baff-b3179a213b2b"
   },
   "outputs": [],
   "source": [
    "df_out.index.name = 'Id'"
   ]
  },
  {
   "cell_type": "code",
   "execution_count": null,
   "metadata": {
    "_cell_guid": "da55dfd8-8f60-19e1-e7e1-4bc65df0e905"
   },
   "outputs": [],
   "source": [
    "df_out.head()"
   ]
  }
 ],
 "metadata": {
  "_change_revision": 0,
  "_is_fork": false,
  "kernelspec": {
   "display_name": "Python 3",
   "language": "python",
   "name": "python3"
  },
  "language_info": {
   "codemirror_mode": {
    "name": "ipython",
    "version": 3
   },
   "file_extension": ".py",
   "mimetype": "text/x-python",
   "name": "python",
   "nbconvert_exporter": "python",
   "pygments_lexer": "ipython3",
   "version": "3.6.4"
  }
 },
 "nbformat": 4,
 "nbformat_minor": 2
}
