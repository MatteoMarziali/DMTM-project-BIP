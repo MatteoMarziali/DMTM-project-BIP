{
 "cells": [
  {
   "cell_type": "markdown",
   "metadata": {},
   "source": [
    "# Models' predictions evaluation\n",
    "\n",
    "**NOTEBOOK GOAL**: Evaluate the predicted NumberOfSales values.\n",
    "\n",
    "\n",
    "Compared predictions:\n",
    "\n",
    "- **1_RFR** - Notebook 5.3 Random forest\n",
    "- **2_XGB** - Notebook 6.4 XGBoost\n",
    "- **3_AVG** - Notebook 7.0 AVG Monthly average\n",
    "- **4_ENS_AVG** - Notebook 8.2 Ensamble by averaging all the previous models"
   ]
  },
  {
   "cell_type": "code",
   "execution_count": 44,
   "metadata": {},
   "outputs": [],
   "source": [
    "from import_man import *\n",
    "import collections\n",
    "\n",
    "from BIP import get_BIP_error, apply_BIP_submission_format"
   ]
  },
  {
   "cell_type": "markdown",
   "metadata": {},
   "source": [
    "### Load predicted tests\n",
    "\n",
    "**NOTE** If you cannot load the followig datasets, please go to the corresponding notebook and run it to generate the related dataset file. "
   ]
  },
  {
   "cell_type": "code",
   "execution_count": 45,
   "metadata": {},
   "outputs": [],
   "source": [
    "dfs_dict = collections.OrderedDict()\n",
    "# the following dataset will be evaluated"
   ]
  },
  {
   "cell_type": "code",
   "execution_count": 46,
   "metadata": {},
   "outputs": [],
   "source": [
    "#dfs_dict['RFR'] = pd.read_csv('./dataset/test_m12_53_RFR_on_prep.csv')"
   ]
  },
  {
   "cell_type": "code",
   "execution_count": 47,
   "metadata": {},
   "outputs": [],
   "source": [
    "dfs_dict['RFR'] = pd.read_csv('./dataset/testsplit_53_Model_RFR_on_prep.csv')"
   ]
  },
  {
   "cell_type": "code",
   "execution_count": 48,
   "metadata": {},
   "outputs": [],
   "source": [
    "#dfs_dict['XGB'] = pd.read_csv('./dataset/test_m12_64_Model_XGBoost_final.csv')"
   ]
  },
  {
   "cell_type": "code",
   "execution_count": 49,
   "metadata": {},
   "outputs": [],
   "source": [
    "dfs_dict['XGB'] = pd.read_csv('./dataset/testsplit_63_Model_XGB.csv')"
   ]
  },
  {
   "cell_type": "code",
   "execution_count": 50,
   "metadata": {},
   "outputs": [],
   "source": [
    "#dfs_dict['AVG'] = pd.read_csv('./dataset/test_m12_70_Model_monthly_average.csv')"
   ]
  },
  {
   "cell_type": "code",
   "execution_count": 51,
   "metadata": {},
   "outputs": [],
   "source": [
    "#dfs_dict['AVG'] = pd.read_csv('./dataset/test4_81_AVG_RFR_XGB.csv')"
   ]
  },
  {
   "cell_type": "code",
   "execution_count": 52,
   "metadata": {},
   "outputs": [],
   "source": [
    "# apply the apply_BIP_submission_format to all the dataframes\n",
    "for mdl_lbl, df in dfs_dict.items():\n",
    "    dfs_dict[mdl_lbl] = apply_BIP_submission_format(df)"
   ]
  },
  {
   "cell_type": "code",
   "execution_count": 53,
   "metadata": {},
   "outputs": [],
   "source": [
    "# The following dataset is already in the BIP submission format\n",
    "#dfs_dict['ENS_AVG'] = pd.read_csv('./dataset/test_m12_82_Ensemble_average.csv')"
   ]
  },
  {
   "cell_type": "markdown",
   "metadata": {},
   "source": [
    "## Evaluation metrics"
   ]
  },
  {
   "cell_type": "markdown",
   "metadata": {},
   "source": [
    "1. **[EVS] Explained Variance Score**  [(reference)](http://scikit-learn.org/stable/modules/model_evaluation.html#explained-variance-score)\n",
    "\n",
    "    The mean_absolute_error function computes mean absolute error, a risk metric corresponding to the expected value of the absolute error loss or l1-norm loss.\n",
    "    \n",
    "    $$ \\texttt{explained__variance}(y, \\hat{y}) = 1 - \\frac{Var\\{ y - \\hat{y}\\}}{Var\\{y\\}} $$\n",
    "    \n",
    "    The best possible score is 1.0, lower values are worse.\n",
    "    \n",
    "2. **[MAE] Mean absolute error**  [(reference)](http://scikit-learn.org/stable/modules/model_evaluation.html#mean-absolute-error)\n",
    "\n",
    "    The mean_squared_error function computes mean square error, a risk metric corresponding to the expected value of the squared (quadratic) error or loss.\n",
    "   \n",
    "    $$ \\text{MAE}(y, \\hat{y}) = \\frac{1}{n_{\\text{samples}}} \\sum_{i=0}^{n_{\\text{samples}}-1} \\left| y_i - \\hat{y}_i \\right| $$\n",
    "    \n",
    "3. **[MSE] Mean squared error**  [(reference)](http://scikit-learn.org/stable/modules/model_evaluation.html#mean-squared-error)\n",
    "\n",
    "    The mean_squared_error function computes mean square error, a risk metric corresponding to the expected value of the squared (quadratic) error or loss.\n",
    "    \n",
    "    $$ \\text{MSE}(y, \\hat{y}) = \\frac{1}{n_\\text{samples}} \\sum_{i=0}^{n_\\text{samples} - 1} (y_i - \\hat{y}_i)^2 $$\n",
    "    \n",
    "4. **[RMSE] Root mean squared error**\n",
    "\n",
    "    $$ \\text{RMSE}(y, \\hat{y}) = \\sqrt{\\frac{1}{n_\\text{samples}} \\sum_{i=0}^{n_\\text{samples} - 1} (y_i - \\hat{y}_i)^2} $$\n",
    "    \n",
    "5. **[MSLE] Mean squared logarithmic error**  [(reference)](http://scikit-learn.org/stable/modules/model_evaluation.html#mean-squared-logarithmic-error)\n",
    "    \n",
    "    The mean_squared_log_error function computes a risk metric corresponding to the expected value of the squared logarithmic (quadratic) error or loss.\n",
    "    \n",
    "    $$ \\text{MSLE}(y, \\hat{y}) = \\frac{1}{n_\\text{samples}} \\sum_{i=0}^{n_\\text{samples} - 1} (\\log_e (1 + y_i) - \\log_e (1 + \\hat{y}_i) )^2 $$\n",
    "    \n",
    "    Where log_e (x) means the natural logarithm of x. This metric is best to use when targets having exponential growth, such as population counts, average sales of a commodity over a span of years etc. Note that this metric penalizes an under-predicted estimate greater than an over-predicted estimate.\n",
    "\n",
    "6. **[MedAE] Median absolute error**  [(reference)](http://scikit-learn.org/stable/modules/model_evaluation.html#median-absolute-error)\n",
    "\n",
    "    The median_absolute_error is particularly interesting because it is robust to outliers. The loss is calculated by taking the median of all absolute differences between the target and the prediction.\n",
    "    \n",
    "    $$ \\text{MedAE}(y, \\hat{y}) = \\text{median}(\\mid y_1 - \\hat{y}_1 \\mid, \\ldots, \\mid y_n - \\hat{y}_n \\mid)$$\n",
    "    \n",
    "7. **[R²] R²score, the coefficient of determination**  [(reference)](http://scikit-learn.org/stable/modules/model_evaluation.html#r2-score-the-coefficient-of-determination)\n",
    "\n",
    "    The r2_score function computes R², the coefficient of determination. It provides a measure of how well future samples are likely to be predicted by the model. Best possible score is 1.0 and it can be negative (because the model can be arbitrarily worse). A constant model that always predicts the expected value of y, disregarding the input features, would get a R^2 score of 0.0.\n",
    "    \n",
    "    $$ R^2(y, \\hat{y}) = 1 - \\frac{\\sum_{i=0}^{n_{\\text{samples}} - 1} (y_i - \\hat{y}_i)^2}{\\sum_{i=0}^{n_\\text{samples} - 1} (y_i - \\bar{y})^2}$$\n",
    "    \n",
    "    where\n",
    "    \n",
    "    $$ \\bar{y} =  \\frac{1}{n_{\\text{samples}}} \\sum_{i=0}^{n_{\\text{samples}} - 1} y_i $$"
   ]
  },
  {
   "cell_type": "code",
   "execution_count": 54,
   "metadata": {},
   "outputs": [
    {
     "data": {
      "text/html": [
       "<div>\n",
       "<style scoped>\n",
       "    .dataframe tbody tr th:only-of-type {\n",
       "        vertical-align: middle;\n",
       "    }\n",
       "\n",
       "    .dataframe tbody tr th {\n",
       "        vertical-align: top;\n",
       "    }\n",
       "\n",
       "    .dataframe thead th {\n",
       "        text-align: right;\n",
       "    }\n",
       "</style>\n",
       "<table border=\"1\" class=\"dataframe\">\n",
       "  <thead>\n",
       "    <tr style=\"text-align: right;\">\n",
       "      <th></th>\n",
       "      <th>StoreID</th>\n",
       "      <th>Month</th>\n",
       "      <th>Target</th>\n",
       "      <th>NumberOfSales</th>\n",
       "    </tr>\n",
       "  </thead>\n",
       "  <tbody>\n",
       "    <tr>\n",
       "      <th>0</th>\n",
       "      <td>1000</td>\n",
       "      <td>1</td>\n",
       "      <td>15264</td>\n",
       "      <td>15520.579617</td>\n",
       "    </tr>\n",
       "    <tr>\n",
       "      <th>1</th>\n",
       "      <td>1000</td>\n",
       "      <td>2</td>\n",
       "      <td>8981</td>\n",
       "      <td>9840.734749</td>\n",
       "    </tr>\n",
       "    <tr>\n",
       "      <th>2</th>\n",
       "      <td>1000</td>\n",
       "      <td>3</td>\n",
       "      <td>21904</td>\n",
       "      <td>23323.335985</td>\n",
       "    </tr>\n",
       "    <tr>\n",
       "      <th>3</th>\n",
       "      <td>1000</td>\n",
       "      <td>4</td>\n",
       "      <td>24757</td>\n",
       "      <td>22331.130159</td>\n",
       "    </tr>\n",
       "    <tr>\n",
       "      <th>4</th>\n",
       "      <td>1000</td>\n",
       "      <td>6</td>\n",
       "      <td>51534</td>\n",
       "      <td>49906.908483</td>\n",
       "    </tr>\n",
       "  </tbody>\n",
       "</table>\n",
       "</div>"
      ],
      "text/plain": [
       "   StoreID  Month  Target  NumberOfSales\n",
       "0     1000      1   15264   15520.579617\n",
       "1     1000      2    8981    9840.734749\n",
       "2     1000      3   21904   23323.335985\n",
       "3     1000      4   24757   22331.130159\n",
       "4     1000      6   51534   49906.908483"
      ]
     },
     "execution_count": 54,
     "metadata": {},
     "output_type": "execute_result"
    }
   ],
   "source": [
    "list(dfs_dict.values())[0].head()"
   ]
  },
  {
   "cell_type": "code",
   "execution_count": 55,
   "metadata": {},
   "outputs": [],
   "source": [
    "from sklearn import metrics\n",
    "\n",
    "from math import sqrt\n",
    "\n",
    "def print_regr_stats(df):\n",
    "    y_true = df['Target']\n",
    "    y_pred = df['NumberOfSales']\n",
    "    \n",
    "    stats = collections.OrderedDict()\n",
    "    stats['EVS']   = metrics.explained_variance_score(y_true, y_pred)\n",
    "    stats['MAE']   = metrics.mean_absolute_error(y_true, y_pred)\n",
    "    stats['MSE']   = metrics.mean_squared_error(y_true, y_pred)\n",
    "    stats['RMSE']  = sqrt(stats['MSE'])\n",
    "    stats['MSLE']  = metrics.mean_squared_log_error(y_true, y_pred)\n",
    "    stats['MedAE'] = metrics.median_absolute_error(y_true, y_pred)\n",
    "    stats['R2']    = metrics.r2_score(y_true, y_pred)\n",
    "    \n",
    "    print(\"Explained Variance Score               [EVS] \", stats['EVS'])\n",
    "    print(\"Mean absolute error                    [MAE] \", stats['MAE'])\n",
    "    print(\"Mean squared error                     [MSE] \", stats['MSE'])\n",
    "    print(\"Root mean squared error               [RMSE] \", stats['RMSE'])\n",
    "    print(\"Mean squared logarithmic error        [MSLE] \", stats['MSLE'])\n",
    "    print(\"Median absolute error (reference)    [MedAE] \", stats['MedAE'])\n",
    "    print(\"R²score, coefficient of determination   [R²] \", stats['R2'])\n",
    "    \n",
    "    return stats\n"
   ]
  },
  {
   "cell_type": "code",
   "execution_count": 56,
   "metadata": {},
   "outputs": [
    {
     "name": "stdout",
     "output_type": "stream",
     "text": [
      "................................ RFR................................\n",
      "Explained Variance Score               [EVS]  0.9888127734320802\n",
      "Mean absolute error                    [MAE]  887.6448282329818\n",
      "Mean squared error                     [MSE]  1726837.3417475056\n",
      "Root mean squared error               [RMSE]  1314.091831550408\n",
      "Mean squared logarithmic error        [MSLE]  0.0052798159302647266\n",
      "Median absolute error (reference)    [MedAE]  609.215261678939\n",
      "R²score, coefficient of determination   [R²]  0.9887989003436097\n",
      "\n",
      "\n",
      "................................ XGB................................\n",
      "Explained Variance Score               [EVS]  0.9911733013681217\n",
      "Mean absolute error                    [MAE]  778.7089587980824\n",
      "Mean squared error                     [MSE]  1367360.1670107795\n",
      "Root mean squared error               [RMSE]  1169.341766555347\n",
      "Mean squared logarithmic error        [MSLE]  0.0041367042961507755\n",
      "Median absolute error (reference)    [MedAE]  525.9935000000005\n",
      "R²score, coefficient of determination   [R²]  0.9910492782368341\n",
      "\n",
      "\n",
      "\n",
      "\n",
      "STATISTICS COMPARISON\n",
      "\n",
      "EVS\n",
      "[(0, ('RFR', 0.9888127734320802)), (1, ('XGB', 0.9911733013681217))]\n",
      "MAE\n",
      "[(0, ('XGB', 778.7089587980824)), (1, ('RFR', 887.6448282329818))]\n",
      "MSE\n",
      "[(0, ('XGB', 1367360.1670107795)), (1, ('RFR', 1726837.3417475056))]\n",
      "RMSE\n",
      "[(0, ('XGB', 1169.341766555347)), (1, ('RFR', 1314.091831550408))]\n",
      "MSLE\n",
      "[(0, ('XGB', 0.0041367042961507755)), (1, ('RFR', 0.0052798159302647266))]\n",
      "MedAE\n",
      "[(0, ('XGB', 525.9935000000005)), (1, ('RFR', 609.215261678939))]\n",
      "R2\n",
      "[(0, ('RFR', 0.9887989003436097)), (1, ('XGB', 0.9910492782368341))]\n"
     ]
    }
   ],
   "source": [
    "models_stats = collections.OrderedDict([(k, []) for k in ['EVS','MAE', 'MSE', 'RMSE', 'MSLE', 'MedAE', 'R2']])\n",
    "\n",
    "\n",
    "for mdl_lbl, df in dfs_dict.items():\n",
    "    print('................................ ' + mdl_lbl + '................................')\n",
    "    stats = print_regr_stats(df)\n",
    "    \n",
    "    # add the model statistics to the main index\n",
    "    for name, val in stats.items():\n",
    "        models_stats[name].append((mdl_lbl, val))\n",
    "        \n",
    "    print('\\n')\n",
    "    \n",
    "    \n",
    "print(\"\\n\\nSTATISTICS COMPARISON\\n\")\n",
    "\n",
    "for name, l in models_stats.items():\n",
    "    print(name)\n",
    "    pprint(list(enumerate(sorted(l, key=lambda tup: tup[1]))))\n"
   ]
  },
  {
   "cell_type": "markdown",
   "metadata": {},
   "source": [
    "## BIP error"
   ]
  },
  {
   "cell_type": "code",
   "execution_count": 57,
   "metadata": {},
   "outputs": [
    {
     "name": "stdout",
     "output_type": "stream",
     "text": [
      "................................ RFR................................\n",
      "BIP total error: 0.04512461531703465\n",
      "\n",
      "\n",
      "................................ XGB................................\n",
      "BIP total error: 0.04017197179034863\n",
      "\n",
      "\n"
     ]
    }
   ],
   "source": [
    "for mdl_lbl, df in dfs_dict.items():\n",
    "    print('................................ ' + mdl_lbl + '................................')\n",
    "    get_BIP_error(df, already_BIP_format=True)\n",
    "    print('\\n')"
   ]
  },
  {
   "cell_type": "markdown",
   "metadata": {},
   "source": [
    "| # | Model name                 | Test-set months |         BIP error     |\n",
    "|--------------------------------------------------------------------------|\n",
    "| 1 | Random Forest Regression   |  3,4 2016       | 0.056858865469469826  |\n",
    "| 2 | Random Forest Regression   |  1,2 2017       | 0.03313866910756147   |\n",
    "| 3 | Random Forest Regression   |  1,2 2018       | 0.03885510345652681   | \n",
    "| 4 | Random Forest Regression   |  60 random days | 0.04512461531703465   | \n",
    "| 5 |  XGBoost                   |  3,4 2016       | 0.0632513068571206    |\n",
    "| 6 |  XGBoost                   |  1,2 2017       | 0.03288920541031862   |\n",
    "| 7 |  XGBoost                   |  1,2 2018       | 0.05569450465576987   |\n",
    "| 8 |  XGBoost                   |  60 random days | 0.04017197179034863   |\n",
    "| 9 |  Ensemble                  |  3,4 2016       | 0.057574756858398995  |\n",
    "| 10|  Ensemble                  |  1,2 2017       | 0.03133979718107204   |\n",
    "| 11|  Ensemble                  |  1,2 2018       | 0.0460454830406279    |\n"
   ]
  },
  {
   "cell_type": "markdown",
   "metadata": {},
   "source": [
    "Errors of months 3,4 2016\n",
    "\n",
    "................................ RFR................................\n",
    "BIP total error: 0.056858865469469826\n",
    "\n",
    "\n",
    "................................ XGB................................\n",
    "BIP total error: 0.0632513068571206\n",
    "\n",
    "\n",
    "................................ AVG................................\n",
    "BIP total error: 0.057574756858398995"
   ]
  },
  {
   "cell_type": "markdown",
   "metadata": {},
   "source": [
    "Errors of months 1,2 2018\n",
    "\n",
    "................................ RFR................................\n",
    "BIP total error: 0.03885510345652681\n",
    "\n",
    "\n",
    "................................ XGB................................\n",
    "BIP total error: 0.05569450465576987\n",
    "\n",
    "\n",
    "................................ AVG................................\n",
    "BIP total error: 0.0460454830406279"
   ]
  },
  {
   "cell_type": "markdown",
   "metadata": {},
   "source": [
    "Errors of months 1,2 2017\n",
    "\n",
    "................................ RFR................................\n",
    "BIP total error: 0.03313866910756147\n",
    "\n",
    "\n",
    "................................ XGB................................\n",
    "BIP total error: 0.03288920541031862\n",
    "\n",
    "\n",
    "................................ AVG................................\n",
    "BIP total error: 0.03133979718107204"
   ]
  },
  {
   "cell_type": "markdown",
   "metadata": {},
   "source": [
    "Errors of 60 random sampled days\n",
    "\n",
    "................................ RFR................................\n",
    "BIP total error: 0.04512461531703465\n",
    "R²score, coefficient of determination   [R²]  0.9887989003436097\n",
    "\n",
    "\n",
    "................................ XGB................................\n",
    "BIP total error: 0.04017197179034863\n",
    "R²score, coefficient of determination   [R²]  0.9910492782368341"
   ]
  }
 ],
 "metadata": {
  "kernelspec": {
   "display_name": "Python 3",
   "language": "python",
   "name": "python3"
  },
  "language_info": {
   "codemirror_mode": {
    "name": "ipython",
    "version": 3
   },
   "file_extension": ".py",
   "mimetype": "text/x-python",
   "name": "python",
   "nbconvert_exporter": "python",
   "pygments_lexer": "ipython3",
   "version": "3.6.4"
  }
 },
 "nbformat": 4,
 "nbformat_minor": 2
}
