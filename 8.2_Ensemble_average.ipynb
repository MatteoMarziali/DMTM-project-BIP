{
 "cells": [
  {
   "cell_type": "markdown",
   "metadata": {},
   "source": [
    "# Models ensemble by averaging\n",
    "\n",
    "In general we saw that XGB overall is better (when sampling randomly train and test or in January and February tests), however, Random Forest error does not have a high variance and is better when predicting on March and April, thus we can do an average of the predicted number of sales of every Store in every day, leading to an overall result which is slightly better than the average of the 2 errors.\n",
    "\n",
    "The other possiblity that we will evaluate is to do an average of the two predictions at a higher level, when we have already grouped by StoreID and Month, this could be even better if one of the model for instance tends to overestimate the predicted value and the over one underestimates it.\n",
    "\n",
    "**NOTEBOOK GOAL**: Ensemble of models created by averaging the preditions\n",
    "\n",
    "Averaged predictions:\n",
    "\n",
    "- **1_RFR** - Notebook 5.3 Random forrest\n",
    "- **2_XGB** - Notebook 6.4 XGBoost\n",
    "- **3_AVG** - Notebook 7.0 AVG Monthly average\n"
   ]
  },
  {
   "cell_type": "code",
   "execution_count": 1,
   "metadata": {},
   "outputs": [],
   "source": [
    "from import_man import *\n",
    "import collections\n",
    "\n",
    "from BIP import get_BIP_error, apply_BIP_submission_format"
   ]
  },
  {
   "cell_type": "markdown",
   "metadata": {},
   "source": [
    "### Load predicted tests\n",
    "\n",
    "**NOTE** If you cannot load the followig datasets, please go to the corresponding notebook and run it to generate the related dataset file. "
   ]
  },
  {
   "cell_type": "code",
   "execution_count": 2,
   "metadata": {},
   "outputs": [],
   "source": [
    "dfs_dict = collections.OrderedDict()\n",
    "# the following dataset will be evaluated"
   ]
  },
  {
   "cell_type": "code",
   "execution_count": 3,
   "metadata": {},
   "outputs": [],
   "source": [
    "dfs_dict['RFR'] = pd.read_csv('./dataset/test_m12_53_RFR_on_prep.csv')"
   ]
  },
  {
   "cell_type": "code",
   "execution_count": 4,
   "metadata": {},
   "outputs": [],
   "source": [
    "dfs_dict['XGB'] = pd.read_csv('./dataset/test_m12_64_Model_XGBoost_final.csv')"
   ]
  },
  {
   "cell_type": "code",
   "execution_count": 5,
   "metadata": {},
   "outputs": [],
   "source": [
    "dfs_dict['AVG'] = pd.read_csv('./dataset/test_m12_70_Model_monthly_average.csv')"
   ]
  },
  {
   "cell_type": "code",
   "execution_count": 6,
   "metadata": {},
   "outputs": [],
   "source": [
    "# let's apply the apply_BIP_submission_format to all the dataframes\n",
    "for mdl_lbl, df in dfs_dict.items():\n",
    "    dfs_dict[mdl_lbl] = apply_BIP_submission_format(df)"
   ]
  },
  {
   "cell_type": "markdown",
   "metadata": {},
   "source": [
    "We decided to work with the average of the already summed up value because it reduces more the error"
   ]
  },
  {
   "cell_type": "code",
   "execution_count": 7,
   "metadata": {},
   "outputs": [],
   "source": [
    "# make a copy of the first dataframe in order to use it as data structure\n",
    "df_ens = list(dfs_dict.values())[0].copy()\n",
    "df_ens['NumberOfSales'] = 0"
   ]
  },
  {
   "cell_type": "code",
   "execution_count": 8,
   "metadata": {},
   "outputs": [
    {
     "name": "stdout",
     "output_type": "stream",
     "text": [
      "................................ RFR................................\n",
      "     StoreID  Target  NumberOfSales\n",
      "0       1000  182917  201451.830901\n",
      "1       1000  166161  184721.490504\n",
      "490     1245  153770  161312.650848\n",
      "491     1245  140180  148843.978536\n",
      "600     1300  124236  124438.879364\n",
      "601     1300  123832  117763.683670\n",
      "602     1301  121875  118973.208250\n",
      "603     1301  131267  124117.584620\n",
      "................................ XGB................................\n",
      "     StoreID  Target  NumberOfSales\n",
      "0       1000  182917    195912.7838\n",
      "1       1000  166161    172333.8114\n",
      "490     1245  153770    150167.7479\n",
      "491     1245  140180    138342.4841\n",
      "600     1300  124236    116731.8826\n",
      "601     1300  123832    112076.3303\n",
      "602     1301  121875    114183.0000\n",
      "603     1301  131267    120041.3171\n",
      "................................ AVG................................\n",
      "     StoreID  Target  NumberOfSales\n",
      "0       1000  182917  192640.240000\n",
      "1       1000  166161  175253.000000\n",
      "490     1245  153770  143432.640000\n",
      "491     1245  140180  135155.000000\n",
      "600     1300  124236  115930.208333\n",
      "601     1300  123832  114591.000000\n",
      "602     1301  121875  106975.000000\n",
      "603     1301  131267  117830.000000\n"
     ]
    }
   ],
   "source": [
    "stores_to_spot = [1000, 1245, 1300, 1301] \n",
    "\n",
    "# Let's spot some random rows in order to prove that the average works correctly\n",
    "for mdl_lbl, df in dfs_dict.items():\n",
    "    print('................................ ' + mdl_lbl + '................................')\n",
    "    print(df.loc[df.StoreID.isin(stores_to_spot)][['StoreID', 'Target', 'NumberOfSales']].head(40))\n"
   ]
  },
  {
   "cell_type": "code",
   "execution_count": 9,
   "metadata": {},
   "outputs": [
    {
     "data": {
      "text/html": [
       "<div>\n",
       "<style scoped>\n",
       "    .dataframe tbody tr th:only-of-type {\n",
       "        vertical-align: middle;\n",
       "    }\n",
       "\n",
       "    .dataframe tbody tr th {\n",
       "        vertical-align: top;\n",
       "    }\n",
       "\n",
       "    .dataframe thead th {\n",
       "        text-align: right;\n",
       "    }\n",
       "</style>\n",
       "<table border=\"1\" class=\"dataframe\">\n",
       "  <thead>\n",
       "    <tr style=\"text-align: right;\">\n",
       "      <th></th>\n",
       "      <th>StoreID</th>\n",
       "      <th>Target</th>\n",
       "      <th>NumberOfSales</th>\n",
       "    </tr>\n",
       "  </thead>\n",
       "  <tbody>\n",
       "    <tr>\n",
       "      <th>0</th>\n",
       "      <td>1000</td>\n",
       "      <td>182917</td>\n",
       "      <td>0</td>\n",
       "    </tr>\n",
       "    <tr>\n",
       "      <th>1</th>\n",
       "      <td>1000</td>\n",
       "      <td>166161</td>\n",
       "      <td>0</td>\n",
       "    </tr>\n",
       "    <tr>\n",
       "      <th>2</th>\n",
       "      <td>1001</td>\n",
       "      <td>95745</td>\n",
       "      <td>0</td>\n",
       "    </tr>\n",
       "    <tr>\n",
       "      <th>3</th>\n",
       "      <td>1001</td>\n",
       "      <td>88423</td>\n",
       "      <td>0</td>\n",
       "    </tr>\n",
       "    <tr>\n",
       "      <th>4</th>\n",
       "      <td>1002</td>\n",
       "      <td>121995</td>\n",
       "      <td>0</td>\n",
       "    </tr>\n",
       "  </tbody>\n",
       "</table>\n",
       "</div>"
      ],
      "text/plain": [
       "   StoreID  Target  NumberOfSales\n",
       "0     1000  182917              0\n",
       "1     1000  166161              0\n",
       "2     1001   95745              0\n",
       "3     1001   88423              0\n",
       "4     1002  121995              0"
      ]
     },
     "execution_count": 9,
     "metadata": {},
     "output_type": "execute_result"
    }
   ],
   "source": [
    "df_ens[['StoreID', 'Target', 'NumberOfSales']].head()"
   ]
  },
  {
   "cell_type": "code",
   "execution_count": 10,
   "metadata": {},
   "outputs": [
    {
     "data": {
      "text/html": [
       "<div>\n",
       "<style scoped>\n",
       "    .dataframe tbody tr th:only-of-type {\n",
       "        vertical-align: middle;\n",
       "    }\n",
       "\n",
       "    .dataframe tbody tr th {\n",
       "        vertical-align: top;\n",
       "    }\n",
       "\n",
       "    .dataframe thead th {\n",
       "        text-align: right;\n",
       "    }\n",
       "</style>\n",
       "<table border=\"1\" class=\"dataframe\">\n",
       "  <thead>\n",
       "    <tr style=\"text-align: right;\">\n",
       "      <th></th>\n",
       "      <th>StoreID</th>\n",
       "      <th>Target</th>\n",
       "      <th>NumberOfSales</th>\n",
       "    </tr>\n",
       "  </thead>\n",
       "  <tbody>\n",
       "    <tr>\n",
       "      <th>0</th>\n",
       "      <td>1000</td>\n",
       "      <td>182917</td>\n",
       "      <td>192640.240000</td>\n",
       "    </tr>\n",
       "    <tr>\n",
       "      <th>1</th>\n",
       "      <td>1000</td>\n",
       "      <td>166161</td>\n",
       "      <td>175253.000000</td>\n",
       "    </tr>\n",
       "    <tr>\n",
       "      <th>490</th>\n",
       "      <td>1245</td>\n",
       "      <td>153770</td>\n",
       "      <td>143432.640000</td>\n",
       "    </tr>\n",
       "    <tr>\n",
       "      <th>491</th>\n",
       "      <td>1245</td>\n",
       "      <td>140180</td>\n",
       "      <td>135155.000000</td>\n",
       "    </tr>\n",
       "    <tr>\n",
       "      <th>600</th>\n",
       "      <td>1300</td>\n",
       "      <td>124236</td>\n",
       "      <td>115930.208333</td>\n",
       "    </tr>\n",
       "    <tr>\n",
       "      <th>601</th>\n",
       "      <td>1300</td>\n",
       "      <td>123832</td>\n",
       "      <td>114591.000000</td>\n",
       "    </tr>\n",
       "    <tr>\n",
       "      <th>602</th>\n",
       "      <td>1301</td>\n",
       "      <td>121875</td>\n",
       "      <td>106975.000000</td>\n",
       "    </tr>\n",
       "    <tr>\n",
       "      <th>603</th>\n",
       "      <td>1301</td>\n",
       "      <td>131267</td>\n",
       "      <td>117830.000000</td>\n",
       "    </tr>\n",
       "  </tbody>\n",
       "</table>\n",
       "</div>"
      ],
      "text/plain": [
       "     StoreID  Target  NumberOfSales\n",
       "0       1000  182917  192640.240000\n",
       "1       1000  166161  175253.000000\n",
       "490     1245  153770  143432.640000\n",
       "491     1245  140180  135155.000000\n",
       "600     1300  124236  115930.208333\n",
       "601     1300  123832  114591.000000\n",
       "602     1301  121875  106975.000000\n",
       "603     1301  131267  117830.000000"
      ]
     },
     "execution_count": 10,
     "metadata": {},
     "output_type": "execute_result"
    }
   ],
   "source": [
    "# sum up all\n",
    "for mdl_lbl, df in dfs_dict.items():\n",
    "    df_ens['NumberOfSales'] += df['NumberOfSales']\n",
    "\n",
    "# divide by their number\n",
    "df_ens['NumberOfSales'] /= len(dfs_dict)\n",
    "\n",
    "df.loc[df.StoreID.isin(stores_to_spot)][['StoreID', 'Target', 'NumberOfSales']].head(40)"
   ]
  },
  {
   "cell_type": "markdown",
   "metadata": {},
   "source": [
    "## Write to file"
   ]
  },
  {
   "cell_type": "code",
   "execution_count": 11,
   "metadata": {},
   "outputs": [],
   "source": [
    "df_ens.to_csv('./dataset/test_m12_82_Ensemble_average.csv', index=False)"
   ]
  },
  {
   "cell_type": "code",
   "execution_count": null,
   "metadata": {},
   "outputs": [],
   "source": []
  }
 ],
 "metadata": {
  "kernelspec": {
   "display_name": "Python 3",
   "language": "python",
   "name": "python3"
  },
  "language_info": {
   "codemirror_mode": {
    "name": "ipython",
    "version": 3
   },
   "file_extension": ".py",
   "mimetype": "text/x-python",
   "name": "python",
   "nbconvert_exporter": "python",
   "pygments_lexer": "ipython3",
   "version": "3.6.5"
  }
 },
 "nbformat": 4,
 "nbformat_minor": 2
}
