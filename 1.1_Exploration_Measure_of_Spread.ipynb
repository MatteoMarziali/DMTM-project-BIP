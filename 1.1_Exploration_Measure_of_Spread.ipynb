{
 "cells": [
  {
   "cell_type": "markdown",
   "metadata": {},
   "source": [
    "# Data exploration - Measure of Spread\n",
    "\n",
    "Analysis of the data spread."
   ]
  },
  {
   "cell_type": "code",
   "execution_count": 2,
   "metadata": {},
   "outputs": [],
   "source": [
    "from dataset_features import numerical, categorical\n",
    "\n",
    "import pandas as pd\n",
    "import matplotlib.pyplot as plt\n",
    "import seaborn as sns\n",
    "sns.set(style=\"white\", color_codes=True)\n",
    "sns.set_context(rc={\"font.family\":'sans',\"font.size\":20,\"axes.titlesize\":30,\"axes.labelsize\":30})  \n",
    "\n",
    "import warnings\n",
    "warnings.filterwarnings(\"ignore\")"
   ]
  },
  {
   "cell_type": "code",
   "execution_count": 3,
   "metadata": {},
   "outputs": [
    {
     "data": {
      "text/html": [
       "<div>\n",
       "<style scoped>\n",
       "    .dataframe tbody tr th:only-of-type {\n",
       "        vertical-align: middle;\n",
       "    }\n",
       "\n",
       "    .dataframe tbody tr th {\n",
       "        vertical-align: top;\n",
       "    }\n",
       "\n",
       "    .dataframe thead th {\n",
       "        text-align: right;\n",
       "    }\n",
       "</style>\n",
       "<table border=\"1\" class=\"dataframe\">\n",
       "  <thead>\n",
       "    <tr style=\"text-align: right;\">\n",
       "      <th></th>\n",
       "      <th>Mean_Sea_Level_PressurehPa</th>\n",
       "      <th>Min_Dew_PointC</th>\n",
       "      <th>Max_Wind_SpeedKm_h</th>\n",
       "      <th>Precipitationmm</th>\n",
       "      <th>Max_Gust_SpeedKm_h</th>\n",
       "      <th>Mean_Humidity</th>\n",
       "      <th>Max_Dew_PointC</th>\n",
       "      <th>NumberOfCustomers</th>\n",
       "      <th>WindDirDegrees</th>\n",
       "      <th>Region_GDP</th>\n",
       "      <th>...</th>\n",
       "      <th>Mean_Dew_PointC</th>\n",
       "      <th>Min_Humidity</th>\n",
       "      <th>Region_PopulationK</th>\n",
       "      <th>Mean_VisibilityKm</th>\n",
       "      <th>Min_TemperatureC</th>\n",
       "      <th>Max_Sea_Level_PressurehPa</th>\n",
       "      <th>Max_TemperatureC</th>\n",
       "      <th>Mean_TemperatureC</th>\n",
       "      <th>Min_Sea_Level_PressurehPa</th>\n",
       "      <th>NumberOfSales</th>\n",
       "    </tr>\n",
       "  </thead>\n",
       "  <tbody>\n",
       "    <tr>\n",
       "      <th>0</th>\n",
       "      <td>1030</td>\n",
       "      <td>-2</td>\n",
       "      <td>21</td>\n",
       "      <td>0.0</td>\n",
       "      <td>NaN</td>\n",
       "      <td>82</td>\n",
       "      <td>1</td>\n",
       "      <td>495</td>\n",
       "      <td>23</td>\n",
       "      <td>17130</td>\n",
       "      <td>...</td>\n",
       "      <td>-1</td>\n",
       "      <td>70</td>\n",
       "      <td>2770</td>\n",
       "      <td>11.0</td>\n",
       "      <td>1</td>\n",
       "      <td>1032</td>\n",
       "      <td>2</td>\n",
       "      <td>1</td>\n",
       "      <td>1029</td>\n",
       "      <td>5676</td>\n",
       "    </tr>\n",
       "    <tr>\n",
       "      <th>1</th>\n",
       "      <td>1027</td>\n",
       "      <td>-2</td>\n",
       "      <td>16</td>\n",
       "      <td>0.0</td>\n",
       "      <td>NaN</td>\n",
       "      <td>73</td>\n",
       "      <td>0</td>\n",
       "      <td>608</td>\n",
       "      <td>56</td>\n",
       "      <td>17130</td>\n",
       "      <td>...</td>\n",
       "      <td>-1</td>\n",
       "      <td>58</td>\n",
       "      <td>2770</td>\n",
       "      <td>13.0</td>\n",
       "      <td>1</td>\n",
       "      <td>1030</td>\n",
       "      <td>5</td>\n",
       "      <td>3</td>\n",
       "      <td>1025</td>\n",
       "      <td>8111</td>\n",
       "    </tr>\n",
       "    <tr>\n",
       "      <th>2</th>\n",
       "      <td>1024</td>\n",
       "      <td>-3</td>\n",
       "      <td>23</td>\n",
       "      <td>0.0</td>\n",
       "      <td>NaN</td>\n",
       "      <td>71</td>\n",
       "      <td>0</td>\n",
       "      <td>665</td>\n",
       "      <td>22</td>\n",
       "      <td>17130</td>\n",
       "      <td>...</td>\n",
       "      <td>-1</td>\n",
       "      <td>55</td>\n",
       "      <td>2770</td>\n",
       "      <td>11.0</td>\n",
       "      <td>2</td>\n",
       "      <td>1026</td>\n",
       "      <td>4</td>\n",
       "      <td>3</td>\n",
       "      <td>1023</td>\n",
       "      <td>8300</td>\n",
       "    </tr>\n",
       "    <tr>\n",
       "      <th>3</th>\n",
       "      <td>1024</td>\n",
       "      <td>-6</td>\n",
       "      <td>19</td>\n",
       "      <td>0.0</td>\n",
       "      <td>NaN</td>\n",
       "      <td>56</td>\n",
       "      <td>-3</td>\n",
       "      <td>630</td>\n",
       "      <td>108</td>\n",
       "      <td>17130</td>\n",
       "      <td>...</td>\n",
       "      <td>-4</td>\n",
       "      <td>25</td>\n",
       "      <td>2770</td>\n",
       "      <td>15.0</td>\n",
       "      <td>-1</td>\n",
       "      <td>1027</td>\n",
       "      <td>8</td>\n",
       "      <td>3</td>\n",
       "      <td>1022</td>\n",
       "      <td>7154</td>\n",
       "    </tr>\n",
       "    <tr>\n",
       "      <th>4</th>\n",
       "      <td>1023</td>\n",
       "      <td>-6</td>\n",
       "      <td>16</td>\n",
       "      <td>0.0</td>\n",
       "      <td>NaN</td>\n",
       "      <td>75</td>\n",
       "      <td>0</td>\n",
       "      <td>0</td>\n",
       "      <td>46</td>\n",
       "      <td>17130</td>\n",
       "      <td>...</td>\n",
       "      <td>-3</td>\n",
       "      <td>48</td>\n",
       "      <td>2770</td>\n",
       "      <td>12.0</td>\n",
       "      <td>-5</td>\n",
       "      <td>1025</td>\n",
       "      <td>7</td>\n",
       "      <td>1</td>\n",
       "      <td>1022</td>\n",
       "      <td>0</td>\n",
       "    </tr>\n",
       "  </tbody>\n",
       "</table>\n",
       "<p>5 rows × 27 columns</p>\n",
       "</div>"
      ],
      "text/plain": [
       "   Mean_Sea_Level_PressurehPa  Min_Dew_PointC  Max_Wind_SpeedKm_h  \\\n",
       "0                        1030              -2                  21   \n",
       "1                        1027              -2                  16   \n",
       "2                        1024              -3                  23   \n",
       "3                        1024              -6                  19   \n",
       "4                        1023              -6                  16   \n",
       "\n",
       "   Precipitationmm  Max_Gust_SpeedKm_h  Mean_Humidity  Max_Dew_PointC  \\\n",
       "0              0.0                 NaN             82               1   \n",
       "1              0.0                 NaN             73               0   \n",
       "2              0.0                 NaN             71               0   \n",
       "3              0.0                 NaN             56              -3   \n",
       "4              0.0                 NaN             75               0   \n",
       "\n",
       "   NumberOfCustomers  WindDirDegrees  Region_GDP      ...        \\\n",
       "0                495              23       17130      ...         \n",
       "1                608              56       17130      ...         \n",
       "2                665              22       17130      ...         \n",
       "3                630             108       17130      ...         \n",
       "4                  0              46       17130      ...         \n",
       "\n",
       "   Mean_Dew_PointC  Min_Humidity  Region_PopulationK  Mean_VisibilityKm  \\\n",
       "0               -1            70                2770               11.0   \n",
       "1               -1            58                2770               13.0   \n",
       "2               -1            55                2770               11.0   \n",
       "3               -4            25                2770               15.0   \n",
       "4               -3            48                2770               12.0   \n",
       "\n",
       "   Min_TemperatureC  Max_Sea_Level_PressurehPa  Max_TemperatureC  \\\n",
       "0                 1                       1032                 2   \n",
       "1                 1                       1030                 5   \n",
       "2                 2                       1026                 4   \n",
       "3                -1                       1027                 8   \n",
       "4                -5                       1025                 7   \n",
       "\n",
       "   Mean_TemperatureC  Min_Sea_Level_PressurehPa  NumberOfSales  \n",
       "0                  1                       1029           5676  \n",
       "1                  3                       1025           8111  \n",
       "2                  3                       1023           8300  \n",
       "3                  3                       1022           7154  \n",
       "4                  1                       1022              0  \n",
       "\n",
       "[5 rows x 27 columns]"
      ]
     },
     "execution_count": 3,
     "metadata": {},
     "output_type": "execute_result"
    }
   ],
   "source": [
    "df = pd.read_csv('./dataset/train.csv')\n",
    "\n",
    "# Use only numerical attributes\n",
    "df = df[numerical]\n",
    "df.head()"
   ]
  },
  {
   "cell_type": "markdown",
   "metadata": {},
   "source": [
    "### Min, Range, Max"
   ]
  },
  {
   "cell_type": "code",
   "execution_count": 4,
   "metadata": {},
   "outputs": [
    {
     "data": {
      "text/html": [
       "<div>\n",
       "<style scoped>\n",
       "    .dataframe tbody tr th:only-of-type {\n",
       "        vertical-align: middle;\n",
       "    }\n",
       "\n",
       "    .dataframe tbody tr th {\n",
       "        vertical-align: top;\n",
       "    }\n",
       "\n",
       "    .dataframe thead th {\n",
       "        text-align: right;\n",
       "    }\n",
       "</style>\n",
       "<table border=\"1\" class=\"dataframe\">\n",
       "  <thead>\n",
       "    <tr style=\"text-align: right;\">\n",
       "      <th></th>\n",
       "      <th>min</th>\n",
       "      <th>range</th>\n",
       "      <th>max</th>\n",
       "    </tr>\n",
       "  </thead>\n",
       "  <tbody>\n",
       "    <tr>\n",
       "      <th>Mean_Sea_Level_PressurehPa</th>\n",
       "      <td>974.0</td>\n",
       "      <td>66.00</td>\n",
       "      <td>1040.00</td>\n",
       "    </tr>\n",
       "    <tr>\n",
       "      <th>Min_Dew_PointC</th>\n",
       "      <td>-18.0</td>\n",
       "      <td>36.00</td>\n",
       "      <td>18.00</td>\n",
       "    </tr>\n",
       "    <tr>\n",
       "      <th>Max_Wind_SpeedKm_h</th>\n",
       "      <td>3.0</td>\n",
       "      <td>98.00</td>\n",
       "      <td>101.00</td>\n",
       "    </tr>\n",
       "    <tr>\n",
       "      <th>Precipitationmm</th>\n",
       "      <td>0.0</td>\n",
       "      <td>58.93</td>\n",
       "      <td>58.93</td>\n",
       "    </tr>\n",
       "    <tr>\n",
       "      <th>Max_Gust_SpeedKm_h</th>\n",
       "      <td>21.0</td>\n",
       "      <td>85.00</td>\n",
       "      <td>106.00</td>\n",
       "    </tr>\n",
       "    <tr>\n",
       "      <th>Mean_Humidity</th>\n",
       "      <td>30.0</td>\n",
       "      <td>70.00</td>\n",
       "      <td>100.00</td>\n",
       "    </tr>\n",
       "    <tr>\n",
       "      <th>Max_Dew_PointC</th>\n",
       "      <td>-14.0</td>\n",
       "      <td>37.00</td>\n",
       "      <td>23.00</td>\n",
       "    </tr>\n",
       "    <tr>\n",
       "      <th>NumberOfCustomers</th>\n",
       "      <td>0.0</td>\n",
       "      <td>2206.00</td>\n",
       "      <td>2206.00</td>\n",
       "    </tr>\n",
       "    <tr>\n",
       "      <th>WindDirDegrees</th>\n",
       "      <td>-1.0</td>\n",
       "      <td>361.00</td>\n",
       "      <td>360.00</td>\n",
       "    </tr>\n",
       "    <tr>\n",
       "      <th>Region_GDP</th>\n",
       "      <td>9893.0</td>\n",
       "      <td>14038.00</td>\n",
       "      <td>23931.00</td>\n",
       "    </tr>\n",
       "    <tr>\n",
       "      <th>Max_Humidity</th>\n",
       "      <td>44.0</td>\n",
       "      <td>56.00</td>\n",
       "      <td>100.00</td>\n",
       "    </tr>\n",
       "    <tr>\n",
       "      <th>Mean_Wind_SpeedKm_h</th>\n",
       "      <td>2.0</td>\n",
       "      <td>51.00</td>\n",
       "      <td>53.00</td>\n",
       "    </tr>\n",
       "    <tr>\n",
       "      <th>Min_VisibilitykM</th>\n",
       "      <td>0.0</td>\n",
       "      <td>31.00</td>\n",
       "      <td>31.00</td>\n",
       "    </tr>\n",
       "    <tr>\n",
       "      <th>NearestCompetitor</th>\n",
       "      <td>47.0</td>\n",
       "      <td>85023.00</td>\n",
       "      <td>85070.00</td>\n",
       "    </tr>\n",
       "    <tr>\n",
       "      <th>Max_VisibilityKm</th>\n",
       "      <td>0.0</td>\n",
       "      <td>31.00</td>\n",
       "      <td>31.00</td>\n",
       "    </tr>\n",
       "    <tr>\n",
       "      <th>CloudCover</th>\n",
       "      <td>0.0</td>\n",
       "      <td>8.00</td>\n",
       "      <td>8.00</td>\n",
       "    </tr>\n",
       "    <tr>\n",
       "      <th>Region_AreaKM2</th>\n",
       "      <td>344.0</td>\n",
       "      <td>31877.00</td>\n",
       "      <td>32221.00</td>\n",
       "    </tr>\n",
       "    <tr>\n",
       "      <th>Mean_Dew_PointC</th>\n",
       "      <td>-15.0</td>\n",
       "      <td>35.00</td>\n",
       "      <td>20.00</td>\n",
       "    </tr>\n",
       "    <tr>\n",
       "      <th>Min_Humidity</th>\n",
       "      <td>10.0</td>\n",
       "      <td>90.00</td>\n",
       "      <td>100.00</td>\n",
       "    </tr>\n",
       "    <tr>\n",
       "      <th>Region_PopulationK</th>\n",
       "      <td>816.0</td>\n",
       "      <td>7330.00</td>\n",
       "      <td>8146.00</td>\n",
       "    </tr>\n",
       "    <tr>\n",
       "      <th>Mean_VisibilityKm</th>\n",
       "      <td>0.0</td>\n",
       "      <td>31.00</td>\n",
       "      <td>31.00</td>\n",
       "    </tr>\n",
       "    <tr>\n",
       "      <th>Min_TemperatureC</th>\n",
       "      <td>-15.0</td>\n",
       "      <td>39.00</td>\n",
       "      <td>24.00</td>\n",
       "    </tr>\n",
       "    <tr>\n",
       "      <th>Max_Sea_Level_PressurehPa</th>\n",
       "      <td>976.0</td>\n",
       "      <td>67.00</td>\n",
       "      <td>1043.00</td>\n",
       "    </tr>\n",
       "    <tr>\n",
       "      <th>Max_TemperatureC</th>\n",
       "      <td>-11.0</td>\n",
       "      <td>48.00</td>\n",
       "      <td>37.00</td>\n",
       "    </tr>\n",
       "    <tr>\n",
       "      <th>Mean_TemperatureC</th>\n",
       "      <td>-13.0</td>\n",
       "      <td>43.00</td>\n",
       "      <td>30.00</td>\n",
       "    </tr>\n",
       "    <tr>\n",
       "      <th>Min_Sea_Level_PressurehPa</th>\n",
       "      <td>970.0</td>\n",
       "      <td>68.00</td>\n",
       "      <td>1038.00</td>\n",
       "    </tr>\n",
       "    <tr>\n",
       "      <th>NumberOfSales</th>\n",
       "      <td>0.0</td>\n",
       "      <td>26641.00</td>\n",
       "      <td>26641.00</td>\n",
       "    </tr>\n",
       "  </tbody>\n",
       "</table>\n",
       "</div>"
      ],
      "text/plain": [
       "                               min     range       max\n",
       "Mean_Sea_Level_PressurehPa   974.0     66.00   1040.00\n",
       "Min_Dew_PointC               -18.0     36.00     18.00\n",
       "Max_Wind_SpeedKm_h             3.0     98.00    101.00\n",
       "Precipitationmm                0.0     58.93     58.93\n",
       "Max_Gust_SpeedKm_h            21.0     85.00    106.00\n",
       "Mean_Humidity                 30.0     70.00    100.00\n",
       "Max_Dew_PointC               -14.0     37.00     23.00\n",
       "NumberOfCustomers              0.0   2206.00   2206.00\n",
       "WindDirDegrees                -1.0    361.00    360.00\n",
       "Region_GDP                  9893.0  14038.00  23931.00\n",
       "Max_Humidity                  44.0     56.00    100.00\n",
       "Mean_Wind_SpeedKm_h            2.0     51.00     53.00\n",
       "Min_VisibilitykM               0.0     31.00     31.00\n",
       "NearestCompetitor             47.0  85023.00  85070.00\n",
       "Max_VisibilityKm               0.0     31.00     31.00\n",
       "CloudCover                     0.0      8.00      8.00\n",
       "Region_AreaKM2               344.0  31877.00  32221.00\n",
       "Mean_Dew_PointC              -15.0     35.00     20.00\n",
       "Min_Humidity                  10.0     90.00    100.00\n",
       "Region_PopulationK           816.0   7330.00   8146.00\n",
       "Mean_VisibilityKm              0.0     31.00     31.00\n",
       "Min_TemperatureC             -15.0     39.00     24.00\n",
       "Max_Sea_Level_PressurehPa    976.0     67.00   1043.00\n",
       "Max_TemperatureC             -11.0     48.00     37.00\n",
       "Mean_TemperatureC            -13.0     43.00     30.00\n",
       "Min_Sea_Level_PressurehPa    970.0     68.00   1038.00\n",
       "NumberOfSales                  0.0  26641.00  26641.00"
      ]
     },
     "execution_count": 4,
     "metadata": {},
     "output_type": "execute_result"
    }
   ],
   "source": [
    "min_range_max = pd.DataFrame({\n",
    "        'min': df.min(),\n",
    "        'range': df.max() - df.min(),\n",
    "        'max': df.max()\n",
    "    })\n",
    "\n",
    "min_range_max[['min', 'range', 'max']]"
   ]
  },
  {
   "cell_type": "markdown",
   "metadata": {},
   "source": [
    "### Numerical attributes variance"
   ]
  },
  {
   "cell_type": "code",
   "execution_count": 5,
   "metadata": {},
   "outputs": [
    {
     "data": {
      "text/plain": [
       "Mean_Sea_Level_PressurehPa    6.825276e+01\n",
       "Min_Dew_PointC                3.491743e+01\n",
       "Max_Wind_SpeedKm_h            7.613053e+01\n",
       "Precipitationmm               6.924414e+00\n",
       "Max_Gust_SpeedKm_h            1.631170e+02\n",
       "Mean_Humidity                 1.674368e+02\n",
       "Max_Dew_PointC                3.585976e+01\n",
       "NumberOfCustomers             3.454286e+04\n",
       "WindDirDegrees                1.034863e+04\n",
       "Region_GDP                    7.592369e+06\n",
       "Max_Humidity                  5.802462e+01\n",
       "Mean_Wind_SpeedKm_h           3.353604e+01\n",
       "Min_VisibilitykM              2.400584e+01\n",
       "NearestCompetitor             1.331187e+08\n",
       "Max_VisibilityKm              8.408347e+01\n",
       "CloudCover                    2.942175e+00\n",
       "Region_AreaKM2                8.355226e+07\n",
       "Mean_Dew_PointC               3.459238e+01\n",
       "Min_Humidity                  3.718736e+02\n",
       "Region_PopulationK            7.933909e+06\n",
       "Mean_VisibilityKm             2.478432e+01\n",
       "Min_TemperatureC              3.985388e+01\n",
       "Max_Sea_Level_PressurehPa     6.377097e+01\n",
       "Max_TemperatureC              6.717925e+01\n",
       "Mean_TemperatureC             4.957803e+01\n",
       "Min_Sea_Level_PressurehPa     7.567671e+01\n",
       "NumberOfSales                 7.450882e+06\n",
       "dtype: float64"
      ]
     },
     "execution_count": 5,
     "metadata": {},
     "output_type": "execute_result"
    }
   ],
   "source": [
    "df.var(axis=0)"
   ]
  },
  {
   "cell_type": "code",
   "execution_count": 6,
   "metadata": {},
   "outputs": [
    {
     "data": {
      "text/plain": [
       "('Min variance attribute', 'CloudCover', 2.9421751394678517)"
      ]
     },
     "execution_count": 6,
     "metadata": {},
     "output_type": "execute_result"
    }
   ],
   "source": [
    "'Min variance attribute', df.var().idxmin(), df.var().min()"
   ]
  },
  {
   "cell_type": "code",
   "execution_count": 7,
   "metadata": {},
   "outputs": [
    {
     "data": {
      "text/plain": [
       "('Max variance attribute', 'NearestCompetitor', 133118695.05287102)"
      ]
     },
     "execution_count": 7,
     "metadata": {},
     "output_type": "execute_result"
    }
   ],
   "source": [
    "'Max variance attribute', df.var().idxmax(), df.var().max()"
   ]
  },
  {
   "cell_type": "markdown",
   "metadata": {},
   "source": [
    "### Variance bar plots\n",
    "\n",
    "All the attributes"
   ]
  },
  {
   "cell_type": "code",
   "execution_count": 8,
   "metadata": {},
   "outputs": [
    {
     "data": {
      "text/plain": [
       "<matplotlib.axes._subplots.AxesSubplot at 0x7f27ff663fd0>"
      ]
     },
     "execution_count": 8,
     "metadata": {},
     "output_type": "execute_result"
    },
    {
     "data": {
      "image/png": "[encoded data removed]",
      "text/plain": [
       "<Figure size 432x288 with 1 Axes>"
      ]
     },
     "metadata": {},
     "output_type": "display_data"
    }
   ],
   "source": [
    "df.var(axis=0).plot(kind='bar')"
   ]
  },
  {
   "cell_type": "markdown",
   "metadata": {},
   "source": [
    "Excluding __NearestCompetitor, Region_AreaKM2__"
   ]
  },
  {
   "cell_type": "code",
   "execution_count": 9,
   "metadata": {},
   "outputs": [
    {
     "data": {
      "text/plain": [
       "<matplotlib.axes._subplots.AxesSubplot at 0x7f27ffed6518>"
      ]
     },
     "execution_count": 9,
     "metadata": {},
     "output_type": "execute_result"
    },
    {
     "data": {
      "image/png": "[encoded data removed]",
      "text/plain": [
       "<Figure size 432x288 with 1 Axes>"
      ]
     },
     "metadata": {},
     "output_type": "display_data"
    }
   ],
   "source": [
    "df1 = df.var(axis=0).drop(['NearestCompetitor', 'Region_AreaKM2'])\n",
    "df1.plot(kind='bar')"
   ]
  },
  {
   "cell_type": "markdown",
   "metadata": {},
   "source": [
    "Excluding *NearestCompetitor*, __Region_PopulationK, NumberOfSales, Region_GDP,__ *Region_AreaKM2*"
   ]
  },
  {
   "cell_type": "code",
   "execution_count": 10,
   "metadata": {},
   "outputs": [
    {
     "data": {
      "text/plain": [
       "<matplotlib.axes._subplots.AxesSubplot at 0x7f27ffb9f470>"
      ]
     },
     "execution_count": 10,
     "metadata": {},
     "output_type": "execute_result"
    },
    {
     "data": {
      "image/png": "[encoded data removed]",
      "text/plain": [
       "<Figure size 432x288 with 1 Axes>"
      ]
     },
     "metadata": {},
     "output_type": "display_data"
    }
   ],
   "source": [
    "df2 = df.var(axis=0).drop(['NearestCompetitor', 'Region_PopulationK', 'NumberOfSales', 'Region_GDP', 'Region_AreaKM2'])\n",
    "df2.plot(kind='bar')"
   ]
  },
  {
   "cell_type": "markdown",
   "metadata": {},
   "source": [
    "Excluding *NearestCompetitor, Region_PopulationK, NumberOfSales, __WindDirDegrees, NumberOfCustomers__, Region_GDP, Region_AreaKM2*"
   ]
  },
  {
   "cell_type": "code",
   "execution_count": 11,
   "metadata": {},
   "outputs": [
    {
     "data": {
      "text/plain": [
       "<matplotlib.axes._subplots.AxesSubplot at 0x7f27ffb01860>"
      ]
     },
     "execution_count": 11,
     "metadata": {},
     "output_type": "execute_result"
    },
    {
     "data": {
      "image/png": "[encoded data removed]",
      "text/plain": [
       "<Figure size 432x288 with 1 Axes>"
      ]
     },
     "metadata": {},
     "output_type": "display_data"
    }
   ],
   "source": [
    "df2 = df.var(axis=0).drop(['NearestCompetitor', 'Region_PopulationK', 'NumberOfSales', 'WindDirDegrees', 'NumberOfCustomers', 'Region_GDP', 'Region_AreaKM2'])\n",
    "df2.plot(kind='bar')"
   ]
  },
  {
   "cell_type": "markdown",
   "metadata": {},
   "source": [
    "The above vertical bar plot excludes the 7 highest variance attributes and shows the variances of the remaining attributes."
   ]
  },
  {
   "cell_type": "markdown",
   "metadata": {},
   "source": [
    "## Variance bar plot after normalization"
   ]
  },
  {
   "cell_type": "code",
   "execution_count": 12,
   "metadata": {},
   "outputs": [
    {
     "data": {
      "text/plain": [
       "(523021, 27)"
      ]
     },
     "execution_count": 12,
     "metadata": {},
     "output_type": "execute_result"
    }
   ],
   "source": [
    "df.shape"
   ]
  },
  {
   "cell_type": "code",
   "execution_count": 13,
   "metadata": {},
   "outputs": [
    {
     "data": {
      "text/html": [
       "<div>\n",
       "<style scoped>\n",
       "    .dataframe tbody tr th:only-of-type {\n",
       "        vertical-align: middle;\n",
       "    }\n",
       "\n",
       "    .dataframe tbody tr th {\n",
       "        vertical-align: top;\n",
       "    }\n",
       "\n",
       "    .dataframe thead th {\n",
       "        text-align: right;\n",
       "    }\n",
       "</style>\n",
       "<table border=\"1\" class=\"dataframe\">\n",
       "  <thead>\n",
       "    <tr style=\"text-align: right;\">\n",
       "      <th></th>\n",
       "      <th>Mean_Sea_Level_PressurehPa</th>\n",
       "      <th>Min_Dew_PointC</th>\n",
       "      <th>Max_Wind_SpeedKm_h</th>\n",
       "      <th>Precipitationmm</th>\n",
       "      <th>Max_Gust_SpeedKm_h</th>\n",
       "      <th>Mean_Humidity</th>\n",
       "      <th>Max_Dew_PointC</th>\n",
       "      <th>NumberOfCustomers</th>\n",
       "      <th>WindDirDegrees</th>\n",
       "      <th>Region_GDP</th>\n",
       "      <th>...</th>\n",
       "      <th>Mean_Dew_PointC</th>\n",
       "      <th>Min_Humidity</th>\n",
       "      <th>Region_PopulationK</th>\n",
       "      <th>Mean_VisibilityKm</th>\n",
       "      <th>Min_TemperatureC</th>\n",
       "      <th>Max_Sea_Level_PressurehPa</th>\n",
       "      <th>Max_TemperatureC</th>\n",
       "      <th>Mean_TemperatureC</th>\n",
       "      <th>Min_Sea_Level_PressurehPa</th>\n",
       "      <th>NumberOfSales</th>\n",
       "    </tr>\n",
       "  </thead>\n",
       "  <tbody>\n",
       "    <tr>\n",
       "      <th>count</th>\n",
       "      <td>523021.000000</td>\n",
       "      <td>523021.000000</td>\n",
       "      <td>523021.000000</td>\n",
       "      <td>523021.000000</td>\n",
       "      <td>113074.000000</td>\n",
       "      <td>523021.000000</td>\n",
       "      <td>523021.000000</td>\n",
       "      <td>523021.000000</td>\n",
       "      <td>523021.000000</td>\n",
       "      <td>523021.000000</td>\n",
       "      <td>...</td>\n",
       "      <td>523021.000000</td>\n",
       "      <td>523021.000000</td>\n",
       "      <td>523021.000000</td>\n",
       "      <td>511683.000000</td>\n",
       "      <td>523021.000000</td>\n",
       "      <td>523021.000000</td>\n",
       "      <td>523021.000000</td>\n",
       "      <td>523021.000000</td>\n",
       "      <td>523021.000000</td>\n",
       "      <td>523021.000000</td>\n",
       "    </tr>\n",
       "    <tr>\n",
       "      <th>mean</th>\n",
       "      <td>1015.002422</td>\n",
       "      <td>3.737584</td>\n",
       "      <td>22.223437</td>\n",
       "      <td>0.808278</td>\n",
       "      <td>47.980782</td>\n",
       "      <td>74.862845</td>\n",
       "      <td>8.512014</td>\n",
       "      <td>259.325073</td>\n",
       "      <td>170.458096</td>\n",
       "      <td>14050.547848</td>\n",
       "      <td>...</td>\n",
       "      <td>6.229677</td>\n",
       "      <td>51.375624</td>\n",
       "      <td>3861.519300</td>\n",
       "      <td>12.151025</td>\n",
       "      <td>6.202315</td>\n",
       "      <td>1018.133184</td>\n",
       "      <td>14.424012</td>\n",
       "      <td>10.273205</td>\n",
       "      <td>1012.078435</td>\n",
       "      <td>4057.377536</td>\n",
       "    </tr>\n",
       "    <tr>\n",
       "      <th>std</th>\n",
       "      <td>8.261523</td>\n",
       "      <td>5.909098</td>\n",
       "      <td>8.725281</td>\n",
       "      <td>2.631428</td>\n",
       "      <td>12.771727</td>\n",
       "      <td>12.939739</td>\n",
       "      <td>5.988302</td>\n",
       "      <td>185.857102</td>\n",
       "      <td>101.728193</td>\n",
       "      <td>2755.425404</td>\n",
       "      <td>...</td>\n",
       "      <td>5.881529</td>\n",
       "      <td>19.284023</td>\n",
       "      <td>2816.719484</td>\n",
       "      <td>4.978385</td>\n",
       "      <td>6.312993</td>\n",
       "      <td>7.985673</td>\n",
       "      <td>8.196295</td>\n",
       "      <td>7.041167</td>\n",
       "      <td>8.699236</td>\n",
       "      <td>2729.630381</td>\n",
       "    </tr>\n",
       "    <tr>\n",
       "      <th>min</th>\n",
       "      <td>974.000000</td>\n",
       "      <td>-18.000000</td>\n",
       "      <td>3.000000</td>\n",
       "      <td>0.000000</td>\n",
       "      <td>21.000000</td>\n",
       "      <td>30.000000</td>\n",
       "      <td>-14.000000</td>\n",
       "      <td>0.000000</td>\n",
       "      <td>-1.000000</td>\n",
       "      <td>9893.000000</td>\n",
       "      <td>...</td>\n",
       "      <td>-15.000000</td>\n",
       "      <td>10.000000</td>\n",
       "      <td>816.000000</td>\n",
       "      <td>0.000000</td>\n",
       "      <td>-15.000000</td>\n",
       "      <td>976.000000</td>\n",
       "      <td>-11.000000</td>\n",
       "      <td>-13.000000</td>\n",
       "      <td>970.000000</td>\n",
       "      <td>0.000000</td>\n",
       "    </tr>\n",
       "    <tr>\n",
       "      <th>25%</th>\n",
       "      <td>1010.000000</td>\n",
       "      <td>-1.000000</td>\n",
       "      <td>14.000000</td>\n",
       "      <td>0.000000</td>\n",
       "      <td>39.000000</td>\n",
       "      <td>66.000000</td>\n",
       "      <td>4.000000</td>\n",
       "      <td>166.000000</td>\n",
       "      <td>75.000000</td>\n",
       "      <td>11849.000000</td>\n",
       "      <td>...</td>\n",
       "      <td>2.000000</td>\n",
       "      <td>36.000000</td>\n",
       "      <td>1293.000000</td>\n",
       "      <td>10.000000</td>\n",
       "      <td>1.000000</td>\n",
       "      <td>1013.000000</td>\n",
       "      <td>8.000000</td>\n",
       "      <td>4.000000</td>\n",
       "      <td>1007.000000</td>\n",
       "      <td>2573.000000</td>\n",
       "    </tr>\n",
       "    <tr>\n",
       "      <th>50%</th>\n",
       "      <td>1015.000000</td>\n",
       "      <td>4.000000</td>\n",
       "      <td>21.000000</td>\n",
       "      <td>0.000000</td>\n",
       "      <td>47.000000</td>\n",
       "      <td>76.000000</td>\n",
       "      <td>9.000000</td>\n",
       "      <td>251.000000</td>\n",
       "      <td>191.000000</td>\n",
       "      <td>15017.000000</td>\n",
       "      <td>...</td>\n",
       "      <td>7.000000</td>\n",
       "      <td>51.000000</td>\n",
       "      <td>2770.000000</td>\n",
       "      <td>11.000000</td>\n",
       "      <td>7.000000</td>\n",
       "      <td>1018.000000</td>\n",
       "      <td>15.000000</td>\n",
       "      <td>11.000000</td>\n",
       "      <td>1013.000000</td>\n",
       "      <td>4020.000000</td>\n",
       "    </tr>\n",
       "    <tr>\n",
       "      <th>75%</th>\n",
       "      <td>1020.000000</td>\n",
       "      <td>8.000000</td>\n",
       "      <td>26.000000</td>\n",
       "      <td>0.250000</td>\n",
       "      <td>55.000000</td>\n",
       "      <td>85.000000</td>\n",
       "      <td>13.000000</td>\n",
       "      <td>345.000000</td>\n",
       "      <td>250.000000</td>\n",
       "      <td>15931.000000</td>\n",
       "      <td>...</td>\n",
       "      <td>11.000000</td>\n",
       "      <td>66.000000</td>\n",
       "      <td>5727.000000</td>\n",
       "      <td>14.000000</td>\n",
       "      <td>11.000000</td>\n",
       "      <td>1023.000000</td>\n",
       "      <td>21.000000</td>\n",
       "      <td>16.000000</td>\n",
       "      <td>1018.000000</td>\n",
       "      <td>5538.000000</td>\n",
       "    </tr>\n",
       "    <tr>\n",
       "      <th>max</th>\n",
       "      <td>1040.000000</td>\n",
       "      <td>18.000000</td>\n",
       "      <td>101.000000</td>\n",
       "      <td>58.930000</td>\n",
       "      <td>106.000000</td>\n",
       "      <td>100.000000</td>\n",
       "      <td>23.000000</td>\n",
       "      <td>2206.000000</td>\n",
       "      <td>360.000000</td>\n",
       "      <td>23931.000000</td>\n",
       "      <td>...</td>\n",
       "      <td>20.000000</td>\n",
       "      <td>100.000000</td>\n",
       "      <td>8146.000000</td>\n",
       "      <td>31.000000</td>\n",
       "      <td>24.000000</td>\n",
       "      <td>1043.000000</td>\n",
       "      <td>37.000000</td>\n",
       "      <td>30.000000</td>\n",
       "      <td>1038.000000</td>\n",
       "      <td>26641.000000</td>\n",
       "    </tr>\n",
       "  </tbody>\n",
       "</table>\n",
       "<p>8 rows × 27 columns</p>\n",
       "</div>"
      ],
      "text/plain": [
       "       Mean_Sea_Level_PressurehPa  Min_Dew_PointC  Max_Wind_SpeedKm_h  \\\n",
       "count               523021.000000   523021.000000       523021.000000   \n",
       "mean                  1015.002422        3.737584           22.223437   \n",
       "std                      8.261523        5.909098            8.725281   \n",
       "min                    974.000000      -18.000000            3.000000   \n",
       "25%                   1010.000000       -1.000000           14.000000   \n",
       "50%                   1015.000000        4.000000           21.000000   \n",
       "75%                   1020.000000        8.000000           26.000000   \n",
       "max                   1040.000000       18.000000          101.000000   \n",
       "\n",
       "       Precipitationmm  Max_Gust_SpeedKm_h  Mean_Humidity  Max_Dew_PointC  \\\n",
       "count    523021.000000       113074.000000  523021.000000   523021.000000   \n",
       "mean          0.808278           47.980782      74.862845        8.512014   \n",
       "std           2.631428           12.771727      12.939739        5.988302   \n",
       "min           0.000000           21.000000      30.000000      -14.000000   \n",
       "25%           0.000000           39.000000      66.000000        4.000000   \n",
       "50%           0.000000           47.000000      76.000000        9.000000   \n",
       "75%           0.250000           55.000000      85.000000       13.000000   \n",
       "max          58.930000          106.000000     100.000000       23.000000   \n",
       "\n",
       "       NumberOfCustomers  WindDirDegrees     Region_GDP      ...        \\\n",
       "count      523021.000000   523021.000000  523021.000000      ...         \n",
       "mean          259.325073      170.458096   14050.547848      ...         \n",
       "std           185.857102      101.728193    2755.425404      ...         \n",
       "min             0.000000       -1.000000    9893.000000      ...         \n",
       "25%           166.000000       75.000000   11849.000000      ...         \n",
       "50%           251.000000      191.000000   15017.000000      ...         \n",
       "75%           345.000000      250.000000   15931.000000      ...         \n",
       "max          2206.000000      360.000000   23931.000000      ...         \n",
       "\n",
       "       Mean_Dew_PointC   Min_Humidity  Region_PopulationK  Mean_VisibilityKm  \\\n",
       "count    523021.000000  523021.000000       523021.000000      511683.000000   \n",
       "mean          6.229677      51.375624         3861.519300          12.151025   \n",
       "std           5.881529      19.284023         2816.719484           4.978385   \n",
       "min         -15.000000      10.000000          816.000000           0.000000   \n",
       "25%           2.000000      36.000000         1293.000000          10.000000   \n",
       "50%           7.000000      51.000000         2770.000000          11.000000   \n",
       "75%          11.000000      66.000000         5727.000000          14.000000   \n",
       "max          20.000000     100.000000         8146.000000          31.000000   \n",
       "\n",
       "       Min_TemperatureC  Max_Sea_Level_PressurehPa  Max_TemperatureC  \\\n",
       "count     523021.000000              523021.000000     523021.000000   \n",
       "mean           6.202315                1018.133184         14.424012   \n",
       "std            6.312993                   7.985673          8.196295   \n",
       "min          -15.000000                 976.000000        -11.000000   \n",
       "25%            1.000000                1013.000000          8.000000   \n",
       "50%            7.000000                1018.000000         15.000000   \n",
       "75%           11.000000                1023.000000         21.000000   \n",
       "max           24.000000                1043.000000         37.000000   \n",
       "\n",
       "       Mean_TemperatureC  Min_Sea_Level_PressurehPa  NumberOfSales  \n",
       "count      523021.000000              523021.000000  523021.000000  \n",
       "mean           10.273205                1012.078435    4057.377536  \n",
       "std             7.041167                   8.699236    2729.630381  \n",
       "min           -13.000000                 970.000000       0.000000  \n",
       "25%             4.000000                1007.000000    2573.000000  \n",
       "50%            11.000000                1013.000000    4020.000000  \n",
       "75%            16.000000                1018.000000    5538.000000  \n",
       "max            30.000000                1038.000000   26641.000000  \n",
       "\n",
       "[8 rows x 27 columns]"
      ]
     },
     "execution_count": 13,
     "metadata": {},
     "output_type": "execute_result"
    }
   ],
   "source": [
    "df.describe()"
   ]
  },
  {
   "cell_type": "code",
   "execution_count": 14,
   "metadata": {},
   "outputs": [
    {
     "data": {
      "text/html": [
       "<div>\n",
       "<style scoped>\n",
       "    .dataframe tbody tr th:only-of-type {\n",
       "        vertical-align: middle;\n",
       "    }\n",
       "\n",
       "    .dataframe tbody tr th {\n",
       "        vertical-align: top;\n",
       "    }\n",
       "\n",
       "    .dataframe thead th {\n",
       "        text-align: right;\n",
       "    }\n",
       "</style>\n",
       "<table border=\"1\" class=\"dataframe\">\n",
       "  <thead>\n",
       "    <tr style=\"text-align: right;\">\n",
       "      <th></th>\n",
       "      <th>Mean_Sea_Level_PressurehPa</th>\n",
       "      <th>Min_Dew_PointC</th>\n",
       "      <th>Max_Wind_SpeedKm_h</th>\n",
       "      <th>Precipitationmm</th>\n",
       "      <th>Max_Gust_SpeedKm_h</th>\n",
       "      <th>Mean_Humidity</th>\n",
       "      <th>Max_Dew_PointC</th>\n",
       "      <th>NumberOfCustomers</th>\n",
       "      <th>WindDirDegrees</th>\n",
       "      <th>Region_GDP</th>\n",
       "      <th>...</th>\n",
       "      <th>Mean_Dew_PointC</th>\n",
       "      <th>Min_Humidity</th>\n",
       "      <th>Region_PopulationK</th>\n",
       "      <th>Mean_VisibilityKm</th>\n",
       "      <th>Min_TemperatureC</th>\n",
       "      <th>Max_Sea_Level_PressurehPa</th>\n",
       "      <th>Max_TemperatureC</th>\n",
       "      <th>Mean_TemperatureC</th>\n",
       "      <th>Min_Sea_Level_PressurehPa</th>\n",
       "      <th>NumberOfSales</th>\n",
       "    </tr>\n",
       "  </thead>\n",
       "  <tbody>\n",
       "    <tr>\n",
       "      <th>0</th>\n",
       "      <td>0.227236</td>\n",
       "      <td>-0.159377</td>\n",
       "      <td>-0.012484</td>\n",
       "      <td>-0.013716</td>\n",
       "      <td>NaN</td>\n",
       "      <td>0.101959</td>\n",
       "      <td>-0.203027</td>\n",
       "      <td>0.106834</td>\n",
       "      <td>-0.408471</td>\n",
       "      <td>0.219365</td>\n",
       "      <td>...</td>\n",
       "      <td>-0.206562</td>\n",
       "      <td>0.206938</td>\n",
       "      <td>-0.148911</td>\n",
       "      <td>-0.037130</td>\n",
       "      <td>-0.133393</td>\n",
       "      <td>0.206967</td>\n",
       "      <td>-0.258834</td>\n",
       "      <td>-0.215656</td>\n",
       "      <td>0.248847</td>\n",
       "      <td>0.060757</td>\n",
       "    </tr>\n",
       "    <tr>\n",
       "      <th>1</th>\n",
       "      <td>0.181781</td>\n",
       "      <td>-0.159377</td>\n",
       "      <td>-0.063504</td>\n",
       "      <td>-0.013716</td>\n",
       "      <td>NaN</td>\n",
       "      <td>-0.026612</td>\n",
       "      <td>-0.230054</td>\n",
       "      <td>0.158058</td>\n",
       "      <td>-0.317058</td>\n",
       "      <td>0.219365</td>\n",
       "      <td>...</td>\n",
       "      <td>-0.206562</td>\n",
       "      <td>0.073604</td>\n",
       "      <td>-0.148911</td>\n",
       "      <td>0.027386</td>\n",
       "      <td>-0.133393</td>\n",
       "      <td>0.177117</td>\n",
       "      <td>-0.196334</td>\n",
       "      <td>-0.169144</td>\n",
       "      <td>0.190023</td>\n",
       "      <td>0.152157</td>\n",
       "    </tr>\n",
       "    <tr>\n",
       "      <th>2</th>\n",
       "      <td>0.136327</td>\n",
       "      <td>-0.187155</td>\n",
       "      <td>0.007924</td>\n",
       "      <td>-0.013716</td>\n",
       "      <td>NaN</td>\n",
       "      <td>-0.055183</td>\n",
       "      <td>-0.230054</td>\n",
       "      <td>0.183896</td>\n",
       "      <td>-0.411241</td>\n",
       "      <td>0.219365</td>\n",
       "      <td>...</td>\n",
       "      <td>-0.206562</td>\n",
       "      <td>0.040271</td>\n",
       "      <td>-0.148911</td>\n",
       "      <td>-0.037130</td>\n",
       "      <td>-0.107752</td>\n",
       "      <td>0.117415</td>\n",
       "      <td>-0.217167</td>\n",
       "      <td>-0.169144</td>\n",
       "      <td>0.160611</td>\n",
       "      <td>0.159252</td>\n",
       "    </tr>\n",
       "    <tr>\n",
       "      <th>3</th>\n",
       "      <td>0.136327</td>\n",
       "      <td>-0.270488</td>\n",
       "      <td>-0.032892</td>\n",
       "      <td>-0.013716</td>\n",
       "      <td>NaN</td>\n",
       "      <td>-0.269469</td>\n",
       "      <td>-0.311136</td>\n",
       "      <td>0.168030</td>\n",
       "      <td>-0.173014</td>\n",
       "      <td>0.219365</td>\n",
       "      <td>...</td>\n",
       "      <td>-0.292276</td>\n",
       "      <td>-0.293062</td>\n",
       "      <td>-0.148911</td>\n",
       "      <td>0.091902</td>\n",
       "      <td>-0.184675</td>\n",
       "      <td>0.132341</td>\n",
       "      <td>-0.133834</td>\n",
       "      <td>-0.169144</td>\n",
       "      <td>0.145905</td>\n",
       "      <td>0.116235</td>\n",
       "    </tr>\n",
       "    <tr>\n",
       "      <th>4</th>\n",
       "      <td>0.121175</td>\n",
       "      <td>-0.270488</td>\n",
       "      <td>-0.063504</td>\n",
       "      <td>-0.013716</td>\n",
       "      <td>NaN</td>\n",
       "      <td>0.001959</td>\n",
       "      <td>-0.230054</td>\n",
       "      <td>-0.117554</td>\n",
       "      <td>-0.344759</td>\n",
       "      <td>0.219365</td>\n",
       "      <td>...</td>\n",
       "      <td>-0.263705</td>\n",
       "      <td>-0.037507</td>\n",
       "      <td>-0.148911</td>\n",
       "      <td>-0.004872</td>\n",
       "      <td>-0.287239</td>\n",
       "      <td>0.102490</td>\n",
       "      <td>-0.154667</td>\n",
       "      <td>-0.215656</td>\n",
       "      <td>0.145905</td>\n",
       "      <td>-0.152298</td>\n",
       "    </tr>\n",
       "  </tbody>\n",
       "</table>\n",
       "<p>5 rows × 27 columns</p>\n",
       "</div>"
      ],
      "text/plain": [
       "   Mean_Sea_Level_PressurehPa  Min_Dew_PointC  Max_Wind_SpeedKm_h  \\\n",
       "0                    0.227236       -0.159377           -0.012484   \n",
       "1                    0.181781       -0.159377           -0.063504   \n",
       "2                    0.136327       -0.187155            0.007924   \n",
       "3                    0.136327       -0.270488           -0.032892   \n",
       "4                    0.121175       -0.270488           -0.063504   \n",
       "\n",
       "   Precipitationmm  Max_Gust_SpeedKm_h  Mean_Humidity  Max_Dew_PointC  \\\n",
       "0        -0.013716                 NaN       0.101959       -0.203027   \n",
       "1        -0.013716                 NaN      -0.026612       -0.230054   \n",
       "2        -0.013716                 NaN      -0.055183       -0.230054   \n",
       "3        -0.013716                 NaN      -0.269469       -0.311136   \n",
       "4        -0.013716                 NaN       0.001959       -0.230054   \n",
       "\n",
       "   NumberOfCustomers  WindDirDegrees  Region_GDP      ...        \\\n",
       "0           0.106834       -0.408471    0.219365      ...         \n",
       "1           0.158058       -0.317058    0.219365      ...         \n",
       "2           0.183896       -0.411241    0.219365      ...         \n",
       "3           0.168030       -0.173014    0.219365      ...         \n",
       "4          -0.117554       -0.344759    0.219365      ...         \n",
       "\n",
       "   Mean_Dew_PointC  Min_Humidity  Region_PopulationK  Mean_VisibilityKm  \\\n",
       "0        -0.206562      0.206938           -0.148911          -0.037130   \n",
       "1        -0.206562      0.073604           -0.148911           0.027386   \n",
       "2        -0.206562      0.040271           -0.148911          -0.037130   \n",
       "3        -0.292276     -0.293062           -0.148911           0.091902   \n",
       "4        -0.263705     -0.037507           -0.148911          -0.004872   \n",
       "\n",
       "   Min_TemperatureC  Max_Sea_Level_PressurehPa  Max_TemperatureC  \\\n",
       "0         -0.133393                   0.206967         -0.258834   \n",
       "1         -0.133393                   0.177117         -0.196334   \n",
       "2         -0.107752                   0.117415         -0.217167   \n",
       "3         -0.184675                   0.132341         -0.133834   \n",
       "4         -0.287239                   0.102490         -0.154667   \n",
       "\n",
       "   Mean_TemperatureC  Min_Sea_Level_PressurehPa  NumberOfSales  \n",
       "0          -0.215656                   0.248847       0.060757  \n",
       "1          -0.169144                   0.190023       0.152157  \n",
       "2          -0.169144                   0.160611       0.159252  \n",
       "3          -0.169144                   0.145905       0.116235  \n",
       "4          -0.215656                   0.145905      -0.152298  \n",
       "\n",
       "[5 rows x 27 columns]"
      ]
     },
     "execution_count": 14,
     "metadata": {},
     "output_type": "execute_result"
    }
   ],
   "source": [
    "df_norm = pd.DataFrame()\n",
    "\n",
    "for column in numerical:\n",
    "    df_norm[column] = (df[column] - df[column].mean()) / (df[column].max() - df[column].min())\n",
    "\n",
    "df_norm.head()"
   ]
  },
  {
   "cell_type": "code",
   "execution_count": 15,
   "metadata": {},
   "outputs": [
    {
     "data": {
      "text/plain": [
       "<matplotlib.axes._subplots.AxesSubplot at 0x7f27ffa59630>"
      ]
     },
     "execution_count": 15,
     "metadata": {},
     "output_type": "execute_result"
    },
    {
     "data": {
      "image/png": "[encoded data removed]",
      "text/plain": [
       "<Figure size 432x288 with 1 Axes>"
      ]
     },
     "metadata": {},
     "output_type": "display_data"
    }
   ],
   "source": [
    "df_norm.var(axis=0).plot(kind='bar')"
   ]
  },
  {
   "cell_type": "markdown",
   "metadata": {},
   "source": [
    "# Box plots"
   ]
  },
  {
   "cell_type": "code",
   "execution_count": 30,
   "metadata": {},
   "outputs": [
    {
     "data": {
      "text/plain": [
       "['CloudCover',\n",
       " 'Max_Dew_PointC',\n",
       " 'Max_Gust_SpeedKm_h',\n",
       " 'Max_Humidity',\n",
       " 'Max_Sea_Level_PressurehPa',\n",
       " 'Max_TemperatureC',\n",
       " 'Max_VisibilityKm',\n",
       " 'Max_Wind_SpeedKm_h',\n",
       " 'Mean_Dew_PointC',\n",
       " 'Mean_Humidity',\n",
       " 'Mean_Sea_Level_PressurehPa',\n",
       " 'Mean_TemperatureC',\n",
       " 'Mean_VisibilityKm',\n",
       " 'Mean_Wind_SpeedKm_h',\n",
       " 'Min_Dew_PointC',\n",
       " 'Min_Humidity',\n",
       " 'Min_Sea_Level_PressurehPa',\n",
       " 'Min_TemperatureC',\n",
       " 'Min_VisibilitykM',\n",
       " 'NearestCompetitor',\n",
       " 'NumberOfCustomers',\n",
       " 'NumberOfSales',\n",
       " 'Precipitationmm',\n",
       " 'Region_AreaKM2',\n",
       " 'Region_GDP',\n",
       " 'Region_PopulationK',\n",
       " 'WindDirDegrees']"
      ]
     },
     "execution_count": 30,
     "metadata": {},
     "output_type": "execute_result"
    }
   ],
   "source": [
    "sorted(numerical)"
   ]
  },
  {
   "cell_type": "code",
   "execution_count": 31,
   "metadata": {},
   "outputs": [
    {
     "data": {
      "text/plain": [
       "['StoreID',\n",
       " 'Date',\n",
       " 'IsHoliday',\n",
       " 'IsOpen',\n",
       " 'HasPromotions',\n",
       " 'StoreType',\n",
       " 'AssortmentType',\n",
       " 'Region',\n",
       " 'Events']"
      ]
     },
     "execution_count": 31,
     "metadata": {},
     "output_type": "execute_result"
    }
   ],
   "source": [
    "categorical"
   ]
  },
  {
   "cell_type": "code",
   "execution_count": 33,
   "metadata": {},
   "outputs": [
    {
     "data": {
      "text/plain": [
       "<matplotlib.axes._subplots.AxesSubplot at 0x7f27e829e9e8>"
      ]
     },
     "execution_count": 33,
     "metadata": {},
     "output_type": "execute_result"
    },
    {
     "data": {
      "image/png": "[encoded data removed]",
      "text/plain": [
       "<Figure size 432x288 with 1 Axes>"
      ]
     },
     "metadata": {},
     "output_type": "display_data"
    }
   ],
   "source": [
    "max_num = [x for x in numerical if x.startswith('Max')]\n",
    "mean_num = [x for x in numerical if x.startswith('Mean')]\n",
    "min_num = [x for x in numerical if x.startswith('Min')]\n",
    "\n",
    "\n",
    "df_norm[max_num].plot.box(vert=False)"
   ]
  },
  {
   "cell_type": "code",
   "execution_count": 35,
   "metadata": {},
   "outputs": [
    {
     "data": {
      "text/plain": [
       "<matplotlib.axes._subplots.AxesSubplot at 0x7f27e8174390>"
      ]
     },
     "execution_count": 35,
     "metadata": {},
     "output_type": "execute_result"
    },
    {
     "data": {
      "image/png": "[encoded data removed]",
      "text/plain": [
       "<Figure size 432x288 with 1 Axes>"
      ]
     },
     "metadata": {},
     "output_type": "display_data"
    }
   ],
   "source": [
    "df_norm[mean_num].plot.box(vert=False)"
   ]
  },
  {
   "cell_type": "code",
   "execution_count": 34,
   "metadata": {},
   "outputs": [
    {
     "data": {
      "text/plain": [
       "<matplotlib.axes._subplots.AxesSubplot at 0x7f27e81e0f28>"
      ]
     },
     "execution_count": 34,
     "metadata": {},
     "output_type": "execute_result"
    },
    {
     "data": {
      "image/png": "[encoded data removed]",
      "text/plain": [
       "<Figure size 432x288 with 1 Axes>"
      ]
     },
     "metadata": {},
     "output_type": "display_data"
    }
   ],
   "source": [
    "df_norm[min_num].plot.box(vert=False)"
   ]
  },
  {
   "cell_type": "markdown",
   "metadata": {},
   "source": [
    "### NumberOfSales"
   ]
  },
  {
   "cell_type": "code",
   "execution_count": 36,
   "metadata": {},
   "outputs": [
    {
     "data": {
      "text/plain": [
       "<matplotlib.axes._subplots.AxesSubplot at 0x7f27e83a74a8>"
      ]
     },
     "execution_count": 36,
     "metadata": {},
     "output_type": "execute_result"
    },
    {
     "data": {
      "image/png": "[encoded data removed]",
      "text/plain": [
       "<Figure size 432x288 with 1 Axes>"
      ]
     },
     "metadata": {},
     "output_type": "display_data"
    }
   ],
   "source": [
    "df_norm['NumberOfSales'].plot.box(vert=False)"
   ]
  },
  {
   "cell_type": "code",
   "execution_count": 37,
   "metadata": {},
   "outputs": [
    {
     "data": {
      "text/plain": [
       "<matplotlib.axes._subplots.AxesSubplot at 0x7f27cb19ab38>"
      ]
     },
     "execution_count": 37,
     "metadata": {},
     "output_type": "execute_result"
    },
    {
     "data": {
      "image/png": "[encoded data removed]",
      "text/plain": [
       "<Figure size 432x288 with 1 Axes>"
      ]
     },
     "metadata": {},
     "output_type": "display_data"
    }
   ],
   "source": [
    "df['NumberOfSales'].plot.box(vert=False)"
   ]
  },
  {
   "cell_type": "code",
   "execution_count": null,
   "metadata": {},
   "outputs": [],
   "source": []
  }
 ],
 "metadata": {
  "kernelspec": {
   "display_name": "Python 3",
   "language": "python",
   "name": "python3"
  },
  "language_info": {
   "codemirror_mode": {
    "name": "ipython",
    "version": 3
   },
   "file_extension": ".py",
   "mimetype": "text/x-python",
   "name": "python",
   "nbconvert_exporter": "python",
   "pygments_lexer": "ipython3",
   "version": "3.6.5"
  }
 },
 "nbformat": 4,
 "nbformat_minor": 2
}
